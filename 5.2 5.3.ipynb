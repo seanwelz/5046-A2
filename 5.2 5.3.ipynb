{
  "nbformat": 4,
  "nbformat_minor": 0,
  "metadata": {
    "kernelspec": {
      "display_name": "Python 3",
      "language": "python",
      "name": "python3"
    },
    "language_info": {
      "codemirror_mode": {
        "name": "ipython",
        "version": 3
      },
      "file_extension": ".py",
      "mimetype": "text/x-python",
      "name": "python",
      "nbconvert_exporter": "python",
      "pygments_lexer": "ipython3",
      "version": "3.7.3"
    },
    "colab": {
      "name": "Assignment2_xzho7240_xwan8513.ipynb",
      "provenance": [],
      "collapsed_sections": [],
      "toc_visible": true
    },
    "accelerator": "GPU",
    "widgets": {
      "application/vnd.jupyter.widget-state+json": {
        "f16e1ea980824719a64ad746e9bec16b": {
          "model_module": "@jupyter-widgets/controls",
          "model_name": "HBoxModel",
          "state": {
            "_view_name": "HBoxView",
            "_dom_classes": [],
            "_model_name": "HBoxModel",
            "_view_module": "@jupyter-widgets/controls",
            "_model_module_version": "1.5.0",
            "_view_count": null,
            "_view_module_version": "1.5.0",
            "box_style": "",
            "layout": "IPY_MODEL_19b3c702dec644c68faf24f5b0d210ab",
            "_model_module": "@jupyter-widgets/controls",
            "children": [
              "IPY_MODEL_b23711aa8bdf4b269cc2e9f251f08e75",
              "IPY_MODEL_800877fbedb54b2cbb4ea7a0ba9730f4"
            ]
          }
        },
        "19b3c702dec644c68faf24f5b0d210ab": {
          "model_module": "@jupyter-widgets/base",
          "model_name": "LayoutModel",
          "state": {
            "_view_name": "LayoutView",
            "grid_template_rows": null,
            "right": null,
            "justify_content": null,
            "_view_module": "@jupyter-widgets/base",
            "overflow": null,
            "_model_module_version": "1.2.0",
            "_view_count": null,
            "flex_flow": null,
            "width": null,
            "min_width": null,
            "border": null,
            "align_items": null,
            "bottom": null,
            "_model_module": "@jupyter-widgets/base",
            "top": null,
            "grid_column": null,
            "overflow_y": null,
            "overflow_x": null,
            "grid_auto_flow": null,
            "grid_area": null,
            "grid_template_columns": null,
            "flex": null,
            "_model_name": "LayoutModel",
            "justify_items": null,
            "grid_row": null,
            "max_height": null,
            "align_content": null,
            "visibility": null,
            "align_self": null,
            "height": null,
            "min_height": null,
            "padding": null,
            "grid_auto_rows": null,
            "grid_gap": null,
            "max_width": null,
            "order": null,
            "_view_module_version": "1.2.0",
            "grid_template_areas": null,
            "object_position": null,
            "object_fit": null,
            "grid_auto_columns": null,
            "margin": null,
            "display": null,
            "left": null
          }
        },
        "b23711aa8bdf4b269cc2e9f251f08e75": {
          "model_module": "@jupyter-widgets/controls",
          "model_name": "FloatProgressModel",
          "state": {
            "_view_name": "ProgressView",
            "style": "IPY_MODEL_c961fee0261041ebbb8867064e3c1d5c",
            "_dom_classes": [],
            "description": "100%",
            "_model_name": "FloatProgressModel",
            "bar_style": "success",
            "max": 13972,
            "_view_module": "@jupyter-widgets/controls",
            "_model_module_version": "1.5.0",
            "value": 13972,
            "_view_count": null,
            "_view_module_version": "1.5.0",
            "orientation": "horizontal",
            "min": 0,
            "description_tooltip": null,
            "_model_module": "@jupyter-widgets/controls",
            "layout": "IPY_MODEL_51f784fd4c804556a88a23c98052995a"
          }
        },
        "800877fbedb54b2cbb4ea7a0ba9730f4": {
          "model_module": "@jupyter-widgets/controls",
          "model_name": "HTMLModel",
          "state": {
            "_view_name": "HTMLView",
            "style": "IPY_MODEL_533d43867cd34f3db703b486bd8185e9",
            "_dom_classes": [],
            "description": "",
            "_model_name": "HTMLModel",
            "placeholder": "​",
            "_view_module": "@jupyter-widgets/controls",
            "_model_module_version": "1.5.0",
            "value": " 13972/13972 [01:54&lt;00:00, 122.21it/s]",
            "_view_count": null,
            "_view_module_version": "1.5.0",
            "description_tooltip": null,
            "_model_module": "@jupyter-widgets/controls",
            "layout": "IPY_MODEL_eda8354a99164bab81b87ffba28e67fe"
          }
        },
        "c961fee0261041ebbb8867064e3c1d5c": {
          "model_module": "@jupyter-widgets/controls",
          "model_name": "ProgressStyleModel",
          "state": {
            "_view_name": "StyleView",
            "_model_name": "ProgressStyleModel",
            "description_width": "initial",
            "_view_module": "@jupyter-widgets/base",
            "_model_module_version": "1.5.0",
            "_view_count": null,
            "_view_module_version": "1.2.0",
            "bar_color": null,
            "_model_module": "@jupyter-widgets/controls"
          }
        },
        "51f784fd4c804556a88a23c98052995a": {
          "model_module": "@jupyter-widgets/base",
          "model_name": "LayoutModel",
          "state": {
            "_view_name": "LayoutView",
            "grid_template_rows": null,
            "right": null,
            "justify_content": null,
            "_view_module": "@jupyter-widgets/base",
            "overflow": null,
            "_model_module_version": "1.2.0",
            "_view_count": null,
            "flex_flow": null,
            "width": null,
            "min_width": null,
            "border": null,
            "align_items": null,
            "bottom": null,
            "_model_module": "@jupyter-widgets/base",
            "top": null,
            "grid_column": null,
            "overflow_y": null,
            "overflow_x": null,
            "grid_auto_flow": null,
            "grid_area": null,
            "grid_template_columns": null,
            "flex": null,
            "_model_name": "LayoutModel",
            "justify_items": null,
            "grid_row": null,
            "max_height": null,
            "align_content": null,
            "visibility": null,
            "align_self": null,
            "height": null,
            "min_height": null,
            "padding": null,
            "grid_auto_rows": null,
            "grid_gap": null,
            "max_width": null,
            "order": null,
            "_view_module_version": "1.2.0",
            "grid_template_areas": null,
            "object_position": null,
            "object_fit": null,
            "grid_auto_columns": null,
            "margin": null,
            "display": null,
            "left": null
          }
        },
        "533d43867cd34f3db703b486bd8185e9": {
          "model_module": "@jupyter-widgets/controls",
          "model_name": "DescriptionStyleModel",
          "state": {
            "_view_name": "StyleView",
            "_model_name": "DescriptionStyleModel",
            "description_width": "",
            "_view_module": "@jupyter-widgets/base",
            "_model_module_version": "1.5.0",
            "_view_count": null,
            "_view_module_version": "1.2.0",
            "_model_module": "@jupyter-widgets/controls"
          }
        },
        "eda8354a99164bab81b87ffba28e67fe": {
          "model_module": "@jupyter-widgets/base",
          "model_name": "LayoutModel",
          "state": {
            "_view_name": "LayoutView",
            "grid_template_rows": null,
            "right": null,
            "justify_content": null,
            "_view_module": "@jupyter-widgets/base",
            "overflow": null,
            "_model_module_version": "1.2.0",
            "_view_count": null,
            "flex_flow": null,
            "width": null,
            "min_width": null,
            "border": null,
            "align_items": null,
            "bottom": null,
            "_model_module": "@jupyter-widgets/base",
            "top": null,
            "grid_column": null,
            "overflow_y": null,
            "overflow_x": null,
            "grid_auto_flow": null,
            "grid_area": null,
            "grid_template_columns": null,
            "flex": null,
            "_model_name": "LayoutModel",
            "justify_items": null,
            "grid_row": null,
            "max_height": null,
            "align_content": null,
            "visibility": null,
            "align_self": null,
            "height": null,
            "min_height": null,
            "padding": null,
            "grid_auto_rows": null,
            "grid_gap": null,
            "max_width": null,
            "order": null,
            "_view_module_version": "1.2.0",
            "grid_template_areas": null,
            "object_position": null,
            "object_fit": null,
            "grid_auto_columns": null,
            "margin": null,
            "display": null,
            "left": null
          }
        },
        "87a8468a56b04b5aa0cc9b684066b75a": {
          "model_module": "@jupyter-widgets/controls",
          "model_name": "HBoxModel",
          "state": {
            "_view_name": "HBoxView",
            "_dom_classes": [],
            "_model_name": "HBoxModel",
            "_view_module": "@jupyter-widgets/controls",
            "_model_module_version": "1.5.0",
            "_view_count": null,
            "_view_module_version": "1.5.0",
            "box_style": "",
            "layout": "IPY_MODEL_e8a68185ea764863b41bd9f28ff457cc",
            "_model_module": "@jupyter-widgets/controls",
            "children": [
              "IPY_MODEL_58fc18e1009446baa83e1eac1a0e7fbd",
              "IPY_MODEL_011b5dd9b00843d3a8551e6f75d3f02b"
            ]
          }
        },
        "e8a68185ea764863b41bd9f28ff457cc": {
          "model_module": "@jupyter-widgets/base",
          "model_name": "LayoutModel",
          "state": {
            "_view_name": "LayoutView",
            "grid_template_rows": null,
            "right": null,
            "justify_content": null,
            "_view_module": "@jupyter-widgets/base",
            "overflow": null,
            "_model_module_version": "1.2.0",
            "_view_count": null,
            "flex_flow": null,
            "width": null,
            "min_width": null,
            "border": null,
            "align_items": null,
            "bottom": null,
            "_model_module": "@jupyter-widgets/base",
            "top": null,
            "grid_column": null,
            "overflow_y": null,
            "overflow_x": null,
            "grid_auto_flow": null,
            "grid_area": null,
            "grid_template_columns": null,
            "flex": null,
            "_model_name": "LayoutModel",
            "justify_items": null,
            "grid_row": null,
            "max_height": null,
            "align_content": null,
            "visibility": null,
            "align_self": null,
            "height": null,
            "min_height": null,
            "padding": null,
            "grid_auto_rows": null,
            "grid_gap": null,
            "max_width": null,
            "order": null,
            "_view_module_version": "1.2.0",
            "grid_template_areas": null,
            "object_position": null,
            "object_fit": null,
            "grid_auto_columns": null,
            "margin": null,
            "display": null,
            "left": null
          }
        },
        "58fc18e1009446baa83e1eac1a0e7fbd": {
          "model_module": "@jupyter-widgets/controls",
          "model_name": "FloatProgressModel",
          "state": {
            "_view_name": "ProgressView",
            "style": "IPY_MODEL_980e36979eae408abd3458a9b119ee4c",
            "_dom_classes": [],
            "description": "100%",
            "_model_name": "FloatProgressModel",
            "bar_style": "success",
            "max": 13972,
            "_view_module": "@jupyter-widgets/controls",
            "_model_module_version": "1.5.0",
            "value": 13972,
            "_view_count": null,
            "_view_module_version": "1.5.0",
            "orientation": "horizontal",
            "min": 0,
            "description_tooltip": null,
            "_model_module": "@jupyter-widgets/controls",
            "layout": "IPY_MODEL_664183d47a3546098dce00c77faf9dc1"
          }
        },
        "011b5dd9b00843d3a8551e6f75d3f02b": {
          "model_module": "@jupyter-widgets/controls",
          "model_name": "HTMLModel",
          "state": {
            "_view_name": "HTMLView",
            "style": "IPY_MODEL_745d6ae4f10449c3a331471482365bee",
            "_dom_classes": [],
            "description": "",
            "_model_name": "HTMLModel",
            "placeholder": "​",
            "_view_module": "@jupyter-widgets/controls",
            "_model_module_version": "1.5.0",
            "value": " 13972/13972 [01:53&lt;00:00, 123.08it/s]",
            "_view_count": null,
            "_view_module_version": "1.5.0",
            "description_tooltip": null,
            "_model_module": "@jupyter-widgets/controls",
            "layout": "IPY_MODEL_f5442230516d4022a606266652a2c10c"
          }
        },
        "980e36979eae408abd3458a9b119ee4c": {
          "model_module": "@jupyter-widgets/controls",
          "model_name": "ProgressStyleModel",
          "state": {
            "_view_name": "StyleView",
            "_model_name": "ProgressStyleModel",
            "description_width": "initial",
            "_view_module": "@jupyter-widgets/base",
            "_model_module_version": "1.5.0",
            "_view_count": null,
            "_view_module_version": "1.2.0",
            "bar_color": null,
            "_model_module": "@jupyter-widgets/controls"
          }
        },
        "664183d47a3546098dce00c77faf9dc1": {
          "model_module": "@jupyter-widgets/base",
          "model_name": "LayoutModel",
          "state": {
            "_view_name": "LayoutView",
            "grid_template_rows": null,
            "right": null,
            "justify_content": null,
            "_view_module": "@jupyter-widgets/base",
            "overflow": null,
            "_model_module_version": "1.2.0",
            "_view_count": null,
            "flex_flow": null,
            "width": null,
            "min_width": null,
            "border": null,
            "align_items": null,
            "bottom": null,
            "_model_module": "@jupyter-widgets/base",
            "top": null,
            "grid_column": null,
            "overflow_y": null,
            "overflow_x": null,
            "grid_auto_flow": null,
            "grid_area": null,
            "grid_template_columns": null,
            "flex": null,
            "_model_name": "LayoutModel",
            "justify_items": null,
            "grid_row": null,
            "max_height": null,
            "align_content": null,
            "visibility": null,
            "align_self": null,
            "height": null,
            "min_height": null,
            "padding": null,
            "grid_auto_rows": null,
            "grid_gap": null,
            "max_width": null,
            "order": null,
            "_view_module_version": "1.2.0",
            "grid_template_areas": null,
            "object_position": null,
            "object_fit": null,
            "grid_auto_columns": null,
            "margin": null,
            "display": null,
            "left": null
          }
        },
        "745d6ae4f10449c3a331471482365bee": {
          "model_module": "@jupyter-widgets/controls",
          "model_name": "DescriptionStyleModel",
          "state": {
            "_view_name": "StyleView",
            "_model_name": "DescriptionStyleModel",
            "description_width": "",
            "_view_module": "@jupyter-widgets/base",
            "_model_module_version": "1.5.0",
            "_view_count": null,
            "_view_module_version": "1.2.0",
            "_model_module": "@jupyter-widgets/controls"
          }
        },
        "f5442230516d4022a606266652a2c10c": {
          "model_module": "@jupyter-widgets/base",
          "model_name": "LayoutModel",
          "state": {
            "_view_name": "LayoutView",
            "grid_template_rows": null,
            "right": null,
            "justify_content": null,
            "_view_module": "@jupyter-widgets/base",
            "overflow": null,
            "_model_module_version": "1.2.0",
            "_view_count": null,
            "flex_flow": null,
            "width": null,
            "min_width": null,
            "border": null,
            "align_items": null,
            "bottom": null,
            "_model_module": "@jupyter-widgets/base",
            "top": null,
            "grid_column": null,
            "overflow_y": null,
            "overflow_x": null,
            "grid_auto_flow": null,
            "grid_area": null,
            "grid_template_columns": null,
            "flex": null,
            "_model_name": "LayoutModel",
            "justify_items": null,
            "grid_row": null,
            "max_height": null,
            "align_content": null,
            "visibility": null,
            "align_self": null,
            "height": null,
            "min_height": null,
            "padding": null,
            "grid_auto_rows": null,
            "grid_gap": null,
            "max_width": null,
            "order": null,
            "_view_module_version": "1.2.0",
            "grid_template_areas": null,
            "object_position": null,
            "object_fit": null,
            "grid_auto_columns": null,
            "margin": null,
            "display": null,
            "left": null
          }
        },
        "addc1480606c4a5790f4b96c148881bf": {
          "model_module": "@jupyter-widgets/controls",
          "model_name": "HBoxModel",
          "state": {
            "_view_name": "HBoxView",
            "_dom_classes": [],
            "_model_name": "HBoxModel",
            "_view_module": "@jupyter-widgets/controls",
            "_model_module_version": "1.5.0",
            "_view_count": null,
            "_view_module_version": "1.5.0",
            "box_style": "",
            "layout": "IPY_MODEL_59cccfd576234338854e2895c7323c5b",
            "_model_module": "@jupyter-widgets/controls",
            "children": [
              "IPY_MODEL_7d19a4b7d6de4048aa9e11ed1aaa1e7c",
              "IPY_MODEL_e083bcf755c540f7b8d563cc44822814"
            ]
          }
        },
        "59cccfd576234338854e2895c7323c5b": {
          "model_module": "@jupyter-widgets/base",
          "model_name": "LayoutModel",
          "state": {
            "_view_name": "LayoutView",
            "grid_template_rows": null,
            "right": null,
            "justify_content": null,
            "_view_module": "@jupyter-widgets/base",
            "overflow": null,
            "_model_module_version": "1.2.0",
            "_view_count": null,
            "flex_flow": null,
            "width": null,
            "min_width": null,
            "border": null,
            "align_items": null,
            "bottom": null,
            "_model_module": "@jupyter-widgets/base",
            "top": null,
            "grid_column": null,
            "overflow_y": null,
            "overflow_x": null,
            "grid_auto_flow": null,
            "grid_area": null,
            "grid_template_columns": null,
            "flex": null,
            "_model_name": "LayoutModel",
            "justify_items": null,
            "grid_row": null,
            "max_height": null,
            "align_content": null,
            "visibility": null,
            "align_self": null,
            "height": null,
            "min_height": null,
            "padding": null,
            "grid_auto_rows": null,
            "grid_gap": null,
            "max_width": null,
            "order": null,
            "_view_module_version": "1.2.0",
            "grid_template_areas": null,
            "object_position": null,
            "object_fit": null,
            "grid_auto_columns": null,
            "margin": null,
            "display": null,
            "left": null
          }
        },
        "7d19a4b7d6de4048aa9e11ed1aaa1e7c": {
          "model_module": "@jupyter-widgets/controls",
          "model_name": "FloatProgressModel",
          "state": {
            "_view_name": "ProgressView",
            "style": "IPY_MODEL_ed6bd7a2cf924cfb83017ba880fa7740",
            "_dom_classes": [],
            "description": "100%",
            "_model_name": "FloatProgressModel",
            "bar_style": "success",
            "max": 13972,
            "_view_module": "@jupyter-widgets/controls",
            "_model_module_version": "1.5.0",
            "value": 13972,
            "_view_count": null,
            "_view_module_version": "1.5.0",
            "orientation": "horizontal",
            "min": 0,
            "description_tooltip": null,
            "_model_module": "@jupyter-widgets/controls",
            "layout": "IPY_MODEL_705df3ff540f4e52897cab37d7c66dec"
          }
        },
        "e083bcf755c540f7b8d563cc44822814": {
          "model_module": "@jupyter-widgets/controls",
          "model_name": "HTMLModel",
          "state": {
            "_view_name": "HTMLView",
            "style": "IPY_MODEL_95fce619852c42d5bfe7d0d7ac0122a9",
            "_dom_classes": [],
            "description": "",
            "_model_name": "HTMLModel",
            "placeholder": "​",
            "_view_module": "@jupyter-widgets/controls",
            "_model_module_version": "1.5.0",
            "value": " 13972/13972 [00:07&lt;00:00, 1856.13it/s]",
            "_view_count": null,
            "_view_module_version": "1.5.0",
            "description_tooltip": null,
            "_model_module": "@jupyter-widgets/controls",
            "layout": "IPY_MODEL_efc4545db0274395ac3e7a1d8ef727d6"
          }
        },
        "ed6bd7a2cf924cfb83017ba880fa7740": {
          "model_module": "@jupyter-widgets/controls",
          "model_name": "ProgressStyleModel",
          "state": {
            "_view_name": "StyleView",
            "_model_name": "ProgressStyleModel",
            "description_width": "initial",
            "_view_module": "@jupyter-widgets/base",
            "_model_module_version": "1.5.0",
            "_view_count": null,
            "_view_module_version": "1.2.0",
            "bar_color": null,
            "_model_module": "@jupyter-widgets/controls"
          }
        },
        "705df3ff540f4e52897cab37d7c66dec": {
          "model_module": "@jupyter-widgets/base",
          "model_name": "LayoutModel",
          "state": {
            "_view_name": "LayoutView",
            "grid_template_rows": null,
            "right": null,
            "justify_content": null,
            "_view_module": "@jupyter-widgets/base",
            "overflow": null,
            "_model_module_version": "1.2.0",
            "_view_count": null,
            "flex_flow": null,
            "width": null,
            "min_width": null,
            "border": null,
            "align_items": null,
            "bottom": null,
            "_model_module": "@jupyter-widgets/base",
            "top": null,
            "grid_column": null,
            "overflow_y": null,
            "overflow_x": null,
            "grid_auto_flow": null,
            "grid_area": null,
            "grid_template_columns": null,
            "flex": null,
            "_model_name": "LayoutModel",
            "justify_items": null,
            "grid_row": null,
            "max_height": null,
            "align_content": null,
            "visibility": null,
            "align_self": null,
            "height": null,
            "min_height": null,
            "padding": null,
            "grid_auto_rows": null,
            "grid_gap": null,
            "max_width": null,
            "order": null,
            "_view_module_version": "1.2.0",
            "grid_template_areas": null,
            "object_position": null,
            "object_fit": null,
            "grid_auto_columns": null,
            "margin": null,
            "display": null,
            "left": null
          }
        },
        "95fce619852c42d5bfe7d0d7ac0122a9": {
          "model_module": "@jupyter-widgets/controls",
          "model_name": "DescriptionStyleModel",
          "state": {
            "_view_name": "StyleView",
            "_model_name": "DescriptionStyleModel",
            "description_width": "",
            "_view_module": "@jupyter-widgets/base",
            "_model_module_version": "1.5.0",
            "_view_count": null,
            "_view_module_version": "1.2.0",
            "_model_module": "@jupyter-widgets/controls"
          }
        },
        "efc4545db0274395ac3e7a1d8ef727d6": {
          "model_module": "@jupyter-widgets/base",
          "model_name": "LayoutModel",
          "state": {
            "_view_name": "LayoutView",
            "grid_template_rows": null,
            "right": null,
            "justify_content": null,
            "_view_module": "@jupyter-widgets/base",
            "overflow": null,
            "_model_module_version": "1.2.0",
            "_view_count": null,
            "flex_flow": null,
            "width": null,
            "min_width": null,
            "border": null,
            "align_items": null,
            "bottom": null,
            "_model_module": "@jupyter-widgets/base",
            "top": null,
            "grid_column": null,
            "overflow_y": null,
            "overflow_x": null,
            "grid_auto_flow": null,
            "grid_area": null,
            "grid_template_columns": null,
            "flex": null,
            "_model_name": "LayoutModel",
            "justify_items": null,
            "grid_row": null,
            "max_height": null,
            "align_content": null,
            "visibility": null,
            "align_self": null,
            "height": null,
            "min_height": null,
            "padding": null,
            "grid_auto_rows": null,
            "grid_gap": null,
            "max_width": null,
            "order": null,
            "_view_module_version": "1.2.0",
            "grid_template_areas": null,
            "object_position": null,
            "object_fit": null,
            "grid_auto_columns": null,
            "margin": null,
            "display": null,
            "left": null
          }
        },
        "615c0953e2d848cfb22cc1661a160f9a": {
          "model_module": "@jupyter-widgets/controls",
          "model_name": "HBoxModel",
          "state": {
            "_view_name": "HBoxView",
            "_dom_classes": [],
            "_model_name": "HBoxModel",
            "_view_module": "@jupyter-widgets/controls",
            "_model_module_version": "1.5.0",
            "_view_count": null,
            "_view_module_version": "1.5.0",
            "box_style": "",
            "layout": "IPY_MODEL_cdd995b42a654ac5b42ea8e4127df713",
            "_model_module": "@jupyter-widgets/controls",
            "children": [
              "IPY_MODEL_e11f861d78f3428996ddcf88fe7f37a2",
              "IPY_MODEL_066f03a5c21e41afbf82299928b594b9"
            ]
          }
        },
        "cdd995b42a654ac5b42ea8e4127df713": {
          "model_module": "@jupyter-widgets/base",
          "model_name": "LayoutModel",
          "state": {
            "_view_name": "LayoutView",
            "grid_template_rows": null,
            "right": null,
            "justify_content": null,
            "_view_module": "@jupyter-widgets/base",
            "overflow": null,
            "_model_module_version": "1.2.0",
            "_view_count": null,
            "flex_flow": null,
            "width": null,
            "min_width": null,
            "border": null,
            "align_items": null,
            "bottom": null,
            "_model_module": "@jupyter-widgets/base",
            "top": null,
            "grid_column": null,
            "overflow_y": null,
            "overflow_x": null,
            "grid_auto_flow": null,
            "grid_area": null,
            "grid_template_columns": null,
            "flex": null,
            "_model_name": "LayoutModel",
            "justify_items": null,
            "grid_row": null,
            "max_height": null,
            "align_content": null,
            "visibility": null,
            "align_self": null,
            "height": null,
            "min_height": null,
            "padding": null,
            "grid_auto_rows": null,
            "grid_gap": null,
            "max_width": null,
            "order": null,
            "_view_module_version": "1.2.0",
            "grid_template_areas": null,
            "object_position": null,
            "object_fit": null,
            "grid_auto_columns": null,
            "margin": null,
            "display": null,
            "left": null
          }
        },
        "e11f861d78f3428996ddcf88fe7f37a2": {
          "model_module": "@jupyter-widgets/controls",
          "model_name": "FloatProgressModel",
          "state": {
            "_view_name": "ProgressView",
            "style": "IPY_MODEL_21ce361fa9dd452fbf0ed54384422adf",
            "_dom_classes": [],
            "description": "100%",
            "_model_name": "FloatProgressModel",
            "bar_style": "success",
            "max": 13972,
            "_view_module": "@jupyter-widgets/controls",
            "_model_module_version": "1.5.0",
            "value": 13972,
            "_view_count": null,
            "_view_module_version": "1.5.0",
            "orientation": "horizontal",
            "min": 0,
            "description_tooltip": null,
            "_model_module": "@jupyter-widgets/controls",
            "layout": "IPY_MODEL_2d13984e03d1495f8876763f2f36b7d2"
          }
        },
        "066f03a5c21e41afbf82299928b594b9": {
          "model_module": "@jupyter-widgets/controls",
          "model_name": "HTMLModel",
          "state": {
            "_view_name": "HTMLView",
            "style": "IPY_MODEL_a479763d41fc4fbf81ebf090c334c88e",
            "_dom_classes": [],
            "description": "",
            "_model_name": "HTMLModel",
            "placeholder": "​",
            "_view_module": "@jupyter-widgets/controls",
            "_model_module_version": "1.5.0",
            "value": " 13972/13972 [01:37&lt;00:00, 143.07it/s]",
            "_view_count": null,
            "_view_module_version": "1.5.0",
            "description_tooltip": null,
            "_model_module": "@jupyter-widgets/controls",
            "layout": "IPY_MODEL_b64ab6516afe4213a2be7f0492c7e227"
          }
        },
        "21ce361fa9dd452fbf0ed54384422adf": {
          "model_module": "@jupyter-widgets/controls",
          "model_name": "ProgressStyleModel",
          "state": {
            "_view_name": "StyleView",
            "_model_name": "ProgressStyleModel",
            "description_width": "initial",
            "_view_module": "@jupyter-widgets/base",
            "_model_module_version": "1.5.0",
            "_view_count": null,
            "_view_module_version": "1.2.0",
            "bar_color": null,
            "_model_module": "@jupyter-widgets/controls"
          }
        },
        "2d13984e03d1495f8876763f2f36b7d2": {
          "model_module": "@jupyter-widgets/base",
          "model_name": "LayoutModel",
          "state": {
            "_view_name": "LayoutView",
            "grid_template_rows": null,
            "right": null,
            "justify_content": null,
            "_view_module": "@jupyter-widgets/base",
            "overflow": null,
            "_model_module_version": "1.2.0",
            "_view_count": null,
            "flex_flow": null,
            "width": null,
            "min_width": null,
            "border": null,
            "align_items": null,
            "bottom": null,
            "_model_module": "@jupyter-widgets/base",
            "top": null,
            "grid_column": null,
            "overflow_y": null,
            "overflow_x": null,
            "grid_auto_flow": null,
            "grid_area": null,
            "grid_template_columns": null,
            "flex": null,
            "_model_name": "LayoutModel",
            "justify_items": null,
            "grid_row": null,
            "max_height": null,
            "align_content": null,
            "visibility": null,
            "align_self": null,
            "height": null,
            "min_height": null,
            "padding": null,
            "grid_auto_rows": null,
            "grid_gap": null,
            "max_width": null,
            "order": null,
            "_view_module_version": "1.2.0",
            "grid_template_areas": null,
            "object_position": null,
            "object_fit": null,
            "grid_auto_columns": null,
            "margin": null,
            "display": null,
            "left": null
          }
        },
        "a479763d41fc4fbf81ebf090c334c88e": {
          "model_module": "@jupyter-widgets/controls",
          "model_name": "DescriptionStyleModel",
          "state": {
            "_view_name": "StyleView",
            "_model_name": "DescriptionStyleModel",
            "description_width": "",
            "_view_module": "@jupyter-widgets/base",
            "_model_module_version": "1.5.0",
            "_view_count": null,
            "_view_module_version": "1.2.0",
            "_model_module": "@jupyter-widgets/controls"
          }
        },
        "b64ab6516afe4213a2be7f0492c7e227": {
          "model_module": "@jupyter-widgets/base",
          "model_name": "LayoutModel",
          "state": {
            "_view_name": "LayoutView",
            "grid_template_rows": null,
            "right": null,
            "justify_content": null,
            "_view_module": "@jupyter-widgets/base",
            "overflow": null,
            "_model_module_version": "1.2.0",
            "_view_count": null,
            "flex_flow": null,
            "width": null,
            "min_width": null,
            "border": null,
            "align_items": null,
            "bottom": null,
            "_model_module": "@jupyter-widgets/base",
            "top": null,
            "grid_column": null,
            "overflow_y": null,
            "overflow_x": null,
            "grid_auto_flow": null,
            "grid_area": null,
            "grid_template_columns": null,
            "flex": null,
            "_model_name": "LayoutModel",
            "justify_items": null,
            "grid_row": null,
            "max_height": null,
            "align_content": null,
            "visibility": null,
            "align_self": null,
            "height": null,
            "min_height": null,
            "padding": null,
            "grid_auto_rows": null,
            "grid_gap": null,
            "max_width": null,
            "order": null,
            "_view_module_version": "1.2.0",
            "grid_template_areas": null,
            "object_position": null,
            "object_fit": null,
            "grid_auto_columns": null,
            "margin": null,
            "display": null,
            "left": null
          }
        },
        "590788f017c94e04b6fe76cbca4916c6": {
          "model_module": "@jupyter-widgets/controls",
          "model_name": "HBoxModel",
          "state": {
            "_view_name": "HBoxView",
            "_dom_classes": [],
            "_model_name": "HBoxModel",
            "_view_module": "@jupyter-widgets/controls",
            "_model_module_version": "1.5.0",
            "_view_count": null,
            "_view_module_version": "1.5.0",
            "box_style": "",
            "layout": "IPY_MODEL_0e3bfbb485d14522b42c0f777811bd13",
            "_model_module": "@jupyter-widgets/controls",
            "children": [
              "IPY_MODEL_8a52ec0a0fb442beb14a03ecc0d91009",
              "IPY_MODEL_ab4c7af07a704bbc942ad527e979aa90"
            ]
          }
        },
        "0e3bfbb485d14522b42c0f777811bd13": {
          "model_module": "@jupyter-widgets/base",
          "model_name": "LayoutModel",
          "state": {
            "_view_name": "LayoutView",
            "grid_template_rows": null,
            "right": null,
            "justify_content": null,
            "_view_module": "@jupyter-widgets/base",
            "overflow": null,
            "_model_module_version": "1.2.0",
            "_view_count": null,
            "flex_flow": null,
            "width": null,
            "min_width": null,
            "border": null,
            "align_items": null,
            "bottom": null,
            "_model_module": "@jupyter-widgets/base",
            "top": null,
            "grid_column": null,
            "overflow_y": null,
            "overflow_x": null,
            "grid_auto_flow": null,
            "grid_area": null,
            "grid_template_columns": null,
            "flex": null,
            "_model_name": "LayoutModel",
            "justify_items": null,
            "grid_row": null,
            "max_height": null,
            "align_content": null,
            "visibility": null,
            "align_self": null,
            "height": null,
            "min_height": null,
            "padding": null,
            "grid_auto_rows": null,
            "grid_gap": null,
            "max_width": null,
            "order": null,
            "_view_module_version": "1.2.0",
            "grid_template_areas": null,
            "object_position": null,
            "object_fit": null,
            "grid_auto_columns": null,
            "margin": null,
            "display": null,
            "left": null
          }
        },
        "8a52ec0a0fb442beb14a03ecc0d91009": {
          "model_module": "@jupyter-widgets/controls",
          "model_name": "FloatProgressModel",
          "state": {
            "_view_name": "ProgressView",
            "style": "IPY_MODEL_5968bbf3745f49a2a08a02596d4b875b",
            "_dom_classes": [],
            "description": "100%",
            "_model_name": "FloatProgressModel",
            "bar_style": "success",
            "max": 35,
            "_view_module": "@jupyter-widgets/controls",
            "_model_module_version": "1.5.0",
            "value": 35,
            "_view_count": null,
            "_view_module_version": "1.5.0",
            "orientation": "horizontal",
            "min": 0,
            "description_tooltip": null,
            "_model_module": "@jupyter-widgets/controls",
            "layout": "IPY_MODEL_a221a1d7622844a1a4c1664a1ba76a2f"
          }
        },
        "ab4c7af07a704bbc942ad527e979aa90": {
          "model_module": "@jupyter-widgets/controls",
          "model_name": "HTMLModel",
          "state": {
            "_view_name": "HTMLView",
            "style": "IPY_MODEL_edb8e2bc3c9c4d7699ad865391b97354",
            "_dom_classes": [],
            "description": "",
            "_model_name": "HTMLModel",
            "placeholder": "​",
            "_view_module": "@jupyter-widgets/controls",
            "_model_module_version": "1.5.0",
            "value": " 35/35 [05:18&lt;00:00,  9.09s/it]",
            "_view_count": null,
            "_view_module_version": "1.5.0",
            "description_tooltip": null,
            "_model_module": "@jupyter-widgets/controls",
            "layout": "IPY_MODEL_be158077ebdb4a7e86a49107c3b5a8c2"
          }
        },
        "5968bbf3745f49a2a08a02596d4b875b": {
          "model_module": "@jupyter-widgets/controls",
          "model_name": "ProgressStyleModel",
          "state": {
            "_view_name": "StyleView",
            "_model_name": "ProgressStyleModel",
            "description_width": "initial",
            "_view_module": "@jupyter-widgets/base",
            "_model_module_version": "1.5.0",
            "_view_count": null,
            "_view_module_version": "1.2.0",
            "bar_color": null,
            "_model_module": "@jupyter-widgets/controls"
          }
        },
        "a221a1d7622844a1a4c1664a1ba76a2f": {
          "model_module": "@jupyter-widgets/base",
          "model_name": "LayoutModel",
          "state": {
            "_view_name": "LayoutView",
            "grid_template_rows": null,
            "right": null,
            "justify_content": null,
            "_view_module": "@jupyter-widgets/base",
            "overflow": null,
            "_model_module_version": "1.2.0",
            "_view_count": null,
            "flex_flow": null,
            "width": null,
            "min_width": null,
            "border": null,
            "align_items": null,
            "bottom": null,
            "_model_module": "@jupyter-widgets/base",
            "top": null,
            "grid_column": null,
            "overflow_y": null,
            "overflow_x": null,
            "grid_auto_flow": null,
            "grid_area": null,
            "grid_template_columns": null,
            "flex": null,
            "_model_name": "LayoutModel",
            "justify_items": null,
            "grid_row": null,
            "max_height": null,
            "align_content": null,
            "visibility": null,
            "align_self": null,
            "height": null,
            "min_height": null,
            "padding": null,
            "grid_auto_rows": null,
            "grid_gap": null,
            "max_width": null,
            "order": null,
            "_view_module_version": "1.2.0",
            "grid_template_areas": null,
            "object_position": null,
            "object_fit": null,
            "grid_auto_columns": null,
            "margin": null,
            "display": null,
            "left": null
          }
        },
        "edb8e2bc3c9c4d7699ad865391b97354": {
          "model_module": "@jupyter-widgets/controls",
          "model_name": "DescriptionStyleModel",
          "state": {
            "_view_name": "StyleView",
            "_model_name": "DescriptionStyleModel",
            "description_width": "",
            "_view_module": "@jupyter-widgets/base",
            "_model_module_version": "1.5.0",
            "_view_count": null,
            "_view_module_version": "1.2.0",
            "_model_module": "@jupyter-widgets/controls"
          }
        },
        "be158077ebdb4a7e86a49107c3b5a8c2": {
          "model_module": "@jupyter-widgets/base",
          "model_name": "LayoutModel",
          "state": {
            "_view_name": "LayoutView",
            "grid_template_rows": null,
            "right": null,
            "justify_content": null,
            "_view_module": "@jupyter-widgets/base",
            "overflow": null,
            "_model_module_version": "1.2.0",
            "_view_count": null,
            "flex_flow": null,
            "width": null,
            "min_width": null,
            "border": null,
            "align_items": null,
            "bottom": null,
            "_model_module": "@jupyter-widgets/base",
            "top": null,
            "grid_column": null,
            "overflow_y": null,
            "overflow_x": null,
            "grid_auto_flow": null,
            "grid_area": null,
            "grid_template_columns": null,
            "flex": null,
            "_model_name": "LayoutModel",
            "justify_items": null,
            "grid_row": null,
            "max_height": null,
            "align_content": null,
            "visibility": null,
            "align_self": null,
            "height": null,
            "min_height": null,
            "padding": null,
            "grid_auto_rows": null,
            "grid_gap": null,
            "max_width": null,
            "order": null,
            "_view_module_version": "1.2.0",
            "grid_template_areas": null,
            "object_position": null,
            "object_fit": null,
            "grid_auto_columns": null,
            "margin": null,
            "display": null,
            "left": null
          }
        },
        "1f01695a806240b7abe2e2c67447f066": {
          "model_module": "@jupyter-widgets/controls",
          "model_name": "HBoxModel",
          "state": {
            "_view_name": "HBoxView",
            "_dom_classes": [],
            "_model_name": "HBoxModel",
            "_view_module": "@jupyter-widgets/controls",
            "_model_module_version": "1.5.0",
            "_view_count": null,
            "_view_module_version": "1.5.0",
            "box_style": "",
            "layout": "IPY_MODEL_4055125dd4a040e98c2b625c700b99a3",
            "_model_module": "@jupyter-widgets/controls",
            "children": [
              "IPY_MODEL_09f52ce63681456ea20e43743c588bb2",
              "IPY_MODEL_21224a717bba487c89829608663ead87"
            ]
          }
        },
        "4055125dd4a040e98c2b625c700b99a3": {
          "model_module": "@jupyter-widgets/base",
          "model_name": "LayoutModel",
          "state": {
            "_view_name": "LayoutView",
            "grid_template_rows": null,
            "right": null,
            "justify_content": null,
            "_view_module": "@jupyter-widgets/base",
            "overflow": null,
            "_model_module_version": "1.2.0",
            "_view_count": null,
            "flex_flow": null,
            "width": null,
            "min_width": null,
            "border": null,
            "align_items": null,
            "bottom": null,
            "_model_module": "@jupyter-widgets/base",
            "top": null,
            "grid_column": null,
            "overflow_y": null,
            "overflow_x": null,
            "grid_auto_flow": null,
            "grid_area": null,
            "grid_template_columns": null,
            "flex": null,
            "_model_name": "LayoutModel",
            "justify_items": null,
            "grid_row": null,
            "max_height": null,
            "align_content": null,
            "visibility": null,
            "align_self": null,
            "height": null,
            "min_height": null,
            "padding": null,
            "grid_auto_rows": null,
            "grid_gap": null,
            "max_width": null,
            "order": null,
            "_view_module_version": "1.2.0",
            "grid_template_areas": null,
            "object_position": null,
            "object_fit": null,
            "grid_auto_columns": null,
            "margin": null,
            "display": null,
            "left": null
          }
        },
        "09f52ce63681456ea20e43743c588bb2": {
          "model_module": "@jupyter-widgets/controls",
          "model_name": "FloatProgressModel",
          "state": {
            "_view_name": "ProgressView",
            "style": "IPY_MODEL_eec679202e8e451a934e8d6952e511da",
            "_dom_classes": [],
            "description": "100%",
            "_model_name": "FloatProgressModel",
            "bar_style": "success",
            "max": 185,
            "_view_module": "@jupyter-widgets/controls",
            "_model_module_version": "1.5.0",
            "value": 185,
            "_view_count": null,
            "_view_module_version": "1.5.0",
            "orientation": "horizontal",
            "min": 0,
            "description_tooltip": null,
            "_model_module": "@jupyter-widgets/controls",
            "layout": "IPY_MODEL_385286ff5a5046879af0487bb3f76cfd"
          }
        },
        "21224a717bba487c89829608663ead87": {
          "model_module": "@jupyter-widgets/controls",
          "model_name": "HTMLModel",
          "state": {
            "_view_name": "HTMLView",
            "style": "IPY_MODEL_6a59e61d3cb943adbff903fa4bdc6c9a",
            "_dom_classes": [],
            "description": "",
            "_model_name": "HTMLModel",
            "placeholder": "​",
            "_view_module": "@jupyter-widgets/controls",
            "_model_module_version": "1.5.0",
            "value": " 185/185 [12:31&lt;00:00,  4.06s/it]",
            "_view_count": null,
            "_view_module_version": "1.5.0",
            "description_tooltip": null,
            "_model_module": "@jupyter-widgets/controls",
            "layout": "IPY_MODEL_0ba8fd1f8ab64cfcbd362873fdf37922"
          }
        },
        "eec679202e8e451a934e8d6952e511da": {
          "model_module": "@jupyter-widgets/controls",
          "model_name": "ProgressStyleModel",
          "state": {
            "_view_name": "StyleView",
            "_model_name": "ProgressStyleModel",
            "description_width": "initial",
            "_view_module": "@jupyter-widgets/base",
            "_model_module_version": "1.5.0",
            "_view_count": null,
            "_view_module_version": "1.2.0",
            "bar_color": null,
            "_model_module": "@jupyter-widgets/controls"
          }
        },
        "385286ff5a5046879af0487bb3f76cfd": {
          "model_module": "@jupyter-widgets/base",
          "model_name": "LayoutModel",
          "state": {
            "_view_name": "LayoutView",
            "grid_template_rows": null,
            "right": null,
            "justify_content": null,
            "_view_module": "@jupyter-widgets/base",
            "overflow": null,
            "_model_module_version": "1.2.0",
            "_view_count": null,
            "flex_flow": null,
            "width": null,
            "min_width": null,
            "border": null,
            "align_items": null,
            "bottom": null,
            "_model_module": "@jupyter-widgets/base",
            "top": null,
            "grid_column": null,
            "overflow_y": null,
            "overflow_x": null,
            "grid_auto_flow": null,
            "grid_area": null,
            "grid_template_columns": null,
            "flex": null,
            "_model_name": "LayoutModel",
            "justify_items": null,
            "grid_row": null,
            "max_height": null,
            "align_content": null,
            "visibility": null,
            "align_self": null,
            "height": null,
            "min_height": null,
            "padding": null,
            "grid_auto_rows": null,
            "grid_gap": null,
            "max_width": null,
            "order": null,
            "_view_module_version": "1.2.0",
            "grid_template_areas": null,
            "object_position": null,
            "object_fit": null,
            "grid_auto_columns": null,
            "margin": null,
            "display": null,
            "left": null
          }
        },
        "6a59e61d3cb943adbff903fa4bdc6c9a": {
          "model_module": "@jupyter-widgets/controls",
          "model_name": "DescriptionStyleModel",
          "state": {
            "_view_name": "StyleView",
            "_model_name": "DescriptionStyleModel",
            "description_width": "",
            "_view_module": "@jupyter-widgets/base",
            "_model_module_version": "1.5.0",
            "_view_count": null,
            "_view_module_version": "1.2.0",
            "_model_module": "@jupyter-widgets/controls"
          }
        },
        "0ba8fd1f8ab64cfcbd362873fdf37922": {
          "model_module": "@jupyter-widgets/base",
          "model_name": "LayoutModel",
          "state": {
            "_view_name": "LayoutView",
            "grid_template_rows": null,
            "right": null,
            "justify_content": null,
            "_view_module": "@jupyter-widgets/base",
            "overflow": null,
            "_model_module_version": "1.2.0",
            "_view_count": null,
            "flex_flow": null,
            "width": null,
            "min_width": null,
            "border": null,
            "align_items": null,
            "bottom": null,
            "_model_module": "@jupyter-widgets/base",
            "top": null,
            "grid_column": null,
            "overflow_y": null,
            "overflow_x": null,
            "grid_auto_flow": null,
            "grid_area": null,
            "grid_template_columns": null,
            "flex": null,
            "_model_name": "LayoutModel",
            "justify_items": null,
            "grid_row": null,
            "max_height": null,
            "align_content": null,
            "visibility": null,
            "align_self": null,
            "height": null,
            "min_height": null,
            "padding": null,
            "grid_auto_rows": null,
            "grid_gap": null,
            "max_width": null,
            "order": null,
            "_view_module_version": "1.2.0",
            "grid_template_areas": null,
            "object_position": null,
            "object_fit": null,
            "grid_auto_columns": null,
            "margin": null,
            "display": null,
            "left": null
          }
        },
        "72e0167a038f453380788025eec2aefb": {
          "model_module": "@jupyter-widgets/controls",
          "model_name": "HBoxModel",
          "state": {
            "_view_name": "HBoxView",
            "_dom_classes": [],
            "_model_name": "HBoxModel",
            "_view_module": "@jupyter-widgets/controls",
            "_model_module_version": "1.5.0",
            "_view_count": null,
            "_view_module_version": "1.5.0",
            "box_style": "",
            "layout": "IPY_MODEL_7f151afad057428ea8f584b1dd28be36",
            "_model_module": "@jupyter-widgets/controls",
            "children": [
              "IPY_MODEL_b0fa9573fc4246c0a3d8c86bab364821",
              "IPY_MODEL_cb61d62bfa6e4d38af3ed28e5b2d1720"
            ]
          }
        },
        "7f151afad057428ea8f584b1dd28be36": {
          "model_module": "@jupyter-widgets/base",
          "model_name": "LayoutModel",
          "state": {
            "_view_name": "LayoutView",
            "grid_template_rows": null,
            "right": null,
            "justify_content": null,
            "_view_module": "@jupyter-widgets/base",
            "overflow": null,
            "_model_module_version": "1.2.0",
            "_view_count": null,
            "flex_flow": null,
            "width": null,
            "min_width": null,
            "border": null,
            "align_items": null,
            "bottom": null,
            "_model_module": "@jupyter-widgets/base",
            "top": null,
            "grid_column": null,
            "overflow_y": null,
            "overflow_x": null,
            "grid_auto_flow": null,
            "grid_area": null,
            "grid_template_columns": null,
            "flex": null,
            "_model_name": "LayoutModel",
            "justify_items": null,
            "grid_row": null,
            "max_height": null,
            "align_content": null,
            "visibility": null,
            "align_self": null,
            "height": null,
            "min_height": null,
            "padding": null,
            "grid_auto_rows": null,
            "grid_gap": null,
            "max_width": null,
            "order": null,
            "_view_module_version": "1.2.0",
            "grid_template_areas": null,
            "object_position": null,
            "object_fit": null,
            "grid_auto_columns": null,
            "margin": null,
            "display": null,
            "left": null
          }
        },
        "b0fa9573fc4246c0a3d8c86bab364821": {
          "model_module": "@jupyter-widgets/controls",
          "model_name": "FloatProgressModel",
          "state": {
            "_view_name": "ProgressView",
            "style": "IPY_MODEL_91135b957cff41249ba2f4aa777c692f",
            "_dom_classes": [],
            "description": "100%",
            "_model_name": "FloatProgressModel",
            "bar_style": "success",
            "max": 50,
            "_view_module": "@jupyter-widgets/controls",
            "_model_module_version": "1.5.0",
            "value": 50,
            "_view_count": null,
            "_view_module_version": "1.5.0",
            "orientation": "horizontal",
            "min": 0,
            "description_tooltip": null,
            "_model_module": "@jupyter-widgets/controls",
            "layout": "IPY_MODEL_c8e52d05c3f9444296229275ff6a9026"
          }
        },
        "cb61d62bfa6e4d38af3ed28e5b2d1720": {
          "model_module": "@jupyter-widgets/controls",
          "model_name": "HTMLModel",
          "state": {
            "_view_name": "HTMLView",
            "style": "IPY_MODEL_1fe2fc0e4c5d4ddea085e994893419f4",
            "_dom_classes": [],
            "description": "",
            "_model_name": "HTMLModel",
            "placeholder": "​",
            "_view_module": "@jupyter-widgets/controls",
            "_model_module_version": "1.5.0",
            "value": " 50/50 [1:38:38&lt;00:00, 118.36s/it]",
            "_view_count": null,
            "_view_module_version": "1.5.0",
            "description_tooltip": null,
            "_model_module": "@jupyter-widgets/controls",
            "layout": "IPY_MODEL_e741a855decc40bfbe272702251e859b"
          }
        },
        "91135b957cff41249ba2f4aa777c692f": {
          "model_module": "@jupyter-widgets/controls",
          "model_name": "ProgressStyleModel",
          "state": {
            "_view_name": "StyleView",
            "_model_name": "ProgressStyleModel",
            "description_width": "initial",
            "_view_module": "@jupyter-widgets/base",
            "_model_module_version": "1.5.0",
            "_view_count": null,
            "_view_module_version": "1.2.0",
            "bar_color": null,
            "_model_module": "@jupyter-widgets/controls"
          }
        },
        "c8e52d05c3f9444296229275ff6a9026": {
          "model_module": "@jupyter-widgets/base",
          "model_name": "LayoutModel",
          "state": {
            "_view_name": "LayoutView",
            "grid_template_rows": null,
            "right": null,
            "justify_content": null,
            "_view_module": "@jupyter-widgets/base",
            "overflow": null,
            "_model_module_version": "1.2.0",
            "_view_count": null,
            "flex_flow": null,
            "width": null,
            "min_width": null,
            "border": null,
            "align_items": null,
            "bottom": null,
            "_model_module": "@jupyter-widgets/base",
            "top": null,
            "grid_column": null,
            "overflow_y": null,
            "overflow_x": null,
            "grid_auto_flow": null,
            "grid_area": null,
            "grid_template_columns": null,
            "flex": null,
            "_model_name": "LayoutModel",
            "justify_items": null,
            "grid_row": null,
            "max_height": null,
            "align_content": null,
            "visibility": null,
            "align_self": null,
            "height": null,
            "min_height": null,
            "padding": null,
            "grid_auto_rows": null,
            "grid_gap": null,
            "max_width": null,
            "order": null,
            "_view_module_version": "1.2.0",
            "grid_template_areas": null,
            "object_position": null,
            "object_fit": null,
            "grid_auto_columns": null,
            "margin": null,
            "display": null,
            "left": null
          }
        },
        "1fe2fc0e4c5d4ddea085e994893419f4": {
          "model_module": "@jupyter-widgets/controls",
          "model_name": "DescriptionStyleModel",
          "state": {
            "_view_name": "StyleView",
            "_model_name": "DescriptionStyleModel",
            "description_width": "",
            "_view_module": "@jupyter-widgets/base",
            "_model_module_version": "1.5.0",
            "_view_count": null,
            "_view_module_version": "1.2.0",
            "_model_module": "@jupyter-widgets/controls"
          }
        },
        "e741a855decc40bfbe272702251e859b": {
          "model_module": "@jupyter-widgets/base",
          "model_name": "LayoutModel",
          "state": {
            "_view_name": "LayoutView",
            "grid_template_rows": null,
            "right": null,
            "justify_content": null,
            "_view_module": "@jupyter-widgets/base",
            "overflow": null,
            "_model_module_version": "1.2.0",
            "_view_count": null,
            "flex_flow": null,
            "width": null,
            "min_width": null,
            "border": null,
            "align_items": null,
            "bottom": null,
            "_model_module": "@jupyter-widgets/base",
            "top": null,
            "grid_column": null,
            "overflow_y": null,
            "overflow_x": null,
            "grid_auto_flow": null,
            "grid_area": null,
            "grid_template_columns": null,
            "flex": null,
            "_model_name": "LayoutModel",
            "justify_items": null,
            "grid_row": null,
            "max_height": null,
            "align_content": null,
            "visibility": null,
            "align_self": null,
            "height": null,
            "min_height": null,
            "padding": null,
            "grid_auto_rows": null,
            "grid_gap": null,
            "max_width": null,
            "order": null,
            "_view_module_version": "1.2.0",
            "grid_template_areas": null,
            "object_position": null,
            "object_fit": null,
            "grid_auto_columns": null,
            "margin": null,
            "display": null,
            "left": null
          }
        },
        "657894a47a1e4641873323c2d97e1376": {
          "model_module": "@jupyter-widgets/controls",
          "model_name": "HBoxModel",
          "state": {
            "_view_name": "HBoxView",
            "_dom_classes": [],
            "_model_name": "HBoxModel",
            "_view_module": "@jupyter-widgets/controls",
            "_model_module_version": "1.5.0",
            "_view_count": null,
            "_view_module_version": "1.5.0",
            "box_style": "",
            "layout": "IPY_MODEL_745caed0eb7b4c5ab7af0fab1ceec132",
            "_model_module": "@jupyter-widgets/controls",
            "children": [
              "IPY_MODEL_fbeed76599ad463b86b3af50f3c36ac8",
              "IPY_MODEL_fa63b99db865476a8157b7a39d64dd3e"
            ]
          }
        },
        "745caed0eb7b4c5ab7af0fab1ceec132": {
          "model_module": "@jupyter-widgets/base",
          "model_name": "LayoutModel",
          "state": {
            "_view_name": "LayoutView",
            "grid_template_rows": null,
            "right": null,
            "justify_content": null,
            "_view_module": "@jupyter-widgets/base",
            "overflow": null,
            "_model_module_version": "1.2.0",
            "_view_count": null,
            "flex_flow": null,
            "width": null,
            "min_width": null,
            "border": null,
            "align_items": null,
            "bottom": null,
            "_model_module": "@jupyter-widgets/base",
            "top": null,
            "grid_column": null,
            "overflow_y": null,
            "overflow_x": null,
            "grid_auto_flow": null,
            "grid_area": null,
            "grid_template_columns": null,
            "flex": null,
            "_model_name": "LayoutModel",
            "justify_items": null,
            "grid_row": null,
            "max_height": null,
            "align_content": null,
            "visibility": null,
            "align_self": null,
            "height": null,
            "min_height": null,
            "padding": null,
            "grid_auto_rows": null,
            "grid_gap": null,
            "max_width": null,
            "order": null,
            "_view_module_version": "1.2.0",
            "grid_template_areas": null,
            "object_position": null,
            "object_fit": null,
            "grid_auto_columns": null,
            "margin": null,
            "display": null,
            "left": null
          }
        },
        "fbeed76599ad463b86b3af50f3c36ac8": {
          "model_module": "@jupyter-widgets/controls",
          "model_name": "FloatProgressModel",
          "state": {
            "_view_name": "ProgressView",
            "style": "IPY_MODEL_30bda7f4d4c54ac4a0bbe0a2271efdc5",
            "_dom_classes": [],
            "description": "100%",
            "_model_name": "FloatProgressModel",
            "bar_style": "success",
            "max": 4,
            "_view_module": "@jupyter-widgets/controls",
            "_model_module_version": "1.5.0",
            "value": 4,
            "_view_count": null,
            "_view_module_version": "1.5.0",
            "orientation": "horizontal",
            "min": 0,
            "description_tooltip": null,
            "_model_module": "@jupyter-widgets/controls",
            "layout": "IPY_MODEL_ec3adfb2818d49839e96d270bb485a6a"
          }
        },
        "fa63b99db865476a8157b7a39d64dd3e": {
          "model_module": "@jupyter-widgets/controls",
          "model_name": "HTMLModel",
          "state": {
            "_view_name": "HTMLView",
            "style": "IPY_MODEL_6b5c04e4ec264574be7d68fc5f282e0c",
            "_dom_classes": [],
            "description": "",
            "_model_name": "HTMLModel",
            "placeholder": "​",
            "_view_module": "@jupyter-widgets/controls",
            "_model_module_version": "1.5.0",
            "value": " 4/4 [5:50:39&lt;00:00, 5259.78s/it]",
            "_view_count": null,
            "_view_module_version": "1.5.0",
            "description_tooltip": null,
            "_model_module": "@jupyter-widgets/controls",
            "layout": "IPY_MODEL_73bb8c3db9f04cd58d0f0d2aea217136"
          }
        },
        "30bda7f4d4c54ac4a0bbe0a2271efdc5": {
          "model_module": "@jupyter-widgets/controls",
          "model_name": "ProgressStyleModel",
          "state": {
            "_view_name": "StyleView",
            "_model_name": "ProgressStyleModel",
            "description_width": "initial",
            "_view_module": "@jupyter-widgets/base",
            "_model_module_version": "1.5.0",
            "_view_count": null,
            "_view_module_version": "1.2.0",
            "bar_color": null,
            "_model_module": "@jupyter-widgets/controls"
          }
        },
        "ec3adfb2818d49839e96d270bb485a6a": {
          "model_module": "@jupyter-widgets/base",
          "model_name": "LayoutModel",
          "state": {
            "_view_name": "LayoutView",
            "grid_template_rows": null,
            "right": null,
            "justify_content": null,
            "_view_module": "@jupyter-widgets/base",
            "overflow": null,
            "_model_module_version": "1.2.0",
            "_view_count": null,
            "flex_flow": null,
            "width": null,
            "min_width": null,
            "border": null,
            "align_items": null,
            "bottom": null,
            "_model_module": "@jupyter-widgets/base",
            "top": null,
            "grid_column": null,
            "overflow_y": null,
            "overflow_x": null,
            "grid_auto_flow": null,
            "grid_area": null,
            "grid_template_columns": null,
            "flex": null,
            "_model_name": "LayoutModel",
            "justify_items": null,
            "grid_row": null,
            "max_height": null,
            "align_content": null,
            "visibility": null,
            "align_self": null,
            "height": null,
            "min_height": null,
            "padding": null,
            "grid_auto_rows": null,
            "grid_gap": null,
            "max_width": null,
            "order": null,
            "_view_module_version": "1.2.0",
            "grid_template_areas": null,
            "object_position": null,
            "object_fit": null,
            "grid_auto_columns": null,
            "margin": null,
            "display": null,
            "left": null
          }
        },
        "6b5c04e4ec264574be7d68fc5f282e0c": {
          "model_module": "@jupyter-widgets/controls",
          "model_name": "DescriptionStyleModel",
          "state": {
            "_view_name": "StyleView",
            "_model_name": "DescriptionStyleModel",
            "description_width": "",
            "_view_module": "@jupyter-widgets/base",
            "_model_module_version": "1.5.0",
            "_view_count": null,
            "_view_module_version": "1.2.0",
            "_model_module": "@jupyter-widgets/controls"
          }
        },
        "73bb8c3db9f04cd58d0f0d2aea217136": {
          "model_module": "@jupyter-widgets/base",
          "model_name": "LayoutModel",
          "state": {
            "_view_name": "LayoutView",
            "grid_template_rows": null,
            "right": null,
            "justify_content": null,
            "_view_module": "@jupyter-widgets/base",
            "overflow": null,
            "_model_module_version": "1.2.0",
            "_view_count": null,
            "flex_flow": null,
            "width": null,
            "min_width": null,
            "border": null,
            "align_items": null,
            "bottom": null,
            "_model_module": "@jupyter-widgets/base",
            "top": null,
            "grid_column": null,
            "overflow_y": null,
            "overflow_x": null,
            "grid_auto_flow": null,
            "grid_area": null,
            "grid_template_columns": null,
            "flex": null,
            "_model_name": "LayoutModel",
            "justify_items": null,
            "grid_row": null,
            "max_height": null,
            "align_content": null,
            "visibility": null,
            "align_self": null,
            "height": null,
            "min_height": null,
            "padding": null,
            "grid_auto_rows": null,
            "grid_gap": null,
            "max_width": null,
            "order": null,
            "_view_module_version": "1.2.0",
            "grid_template_areas": null,
            "object_position": null,
            "object_fit": null,
            "grid_auto_columns": null,
            "margin": null,
            "display": null,
            "left": null
          }
        },
        "91ec92053e8b4c168ccabb9a315daeba": {
          "model_module": "@jupyter-widgets/controls",
          "model_name": "HBoxModel",
          "state": {
            "_view_name": "HBoxView",
            "_dom_classes": [],
            "_model_name": "HBoxModel",
            "_view_module": "@jupyter-widgets/controls",
            "_model_module_version": "1.5.0",
            "_view_count": null,
            "_view_module_version": "1.5.0",
            "box_style": "",
            "layout": "IPY_MODEL_d4a8ad3b630e488caacb088484b4eb9f",
            "_model_module": "@jupyter-widgets/controls",
            "children": [
              "IPY_MODEL_94a5c83d5d584e1e8520f57775446d72",
              "IPY_MODEL_913df2102dfe438681aa9363fad24669"
            ]
          }
        },
        "d4a8ad3b630e488caacb088484b4eb9f": {
          "model_module": "@jupyter-widgets/base",
          "model_name": "LayoutModel",
          "state": {
            "_view_name": "LayoutView",
            "grid_template_rows": null,
            "right": null,
            "justify_content": null,
            "_view_module": "@jupyter-widgets/base",
            "overflow": null,
            "_model_module_version": "1.2.0",
            "_view_count": null,
            "flex_flow": null,
            "width": null,
            "min_width": null,
            "border": null,
            "align_items": null,
            "bottom": null,
            "_model_module": "@jupyter-widgets/base",
            "top": null,
            "grid_column": null,
            "overflow_y": null,
            "overflow_x": null,
            "grid_auto_flow": null,
            "grid_area": null,
            "grid_template_columns": null,
            "flex": null,
            "_model_name": "LayoutModel",
            "justify_items": null,
            "grid_row": null,
            "max_height": null,
            "align_content": null,
            "visibility": null,
            "align_self": null,
            "height": null,
            "min_height": null,
            "padding": null,
            "grid_auto_rows": null,
            "grid_gap": null,
            "max_width": null,
            "order": null,
            "_view_module_version": "1.2.0",
            "grid_template_areas": null,
            "object_position": null,
            "object_fit": null,
            "grid_auto_columns": null,
            "margin": null,
            "display": null,
            "left": null
          }
        },
        "94a5c83d5d584e1e8520f57775446d72": {
          "model_module": "@jupyter-widgets/controls",
          "model_name": "FloatProgressModel",
          "state": {
            "_view_name": "ProgressView",
            "style": "IPY_MODEL_1bbccb32a86e42518b2b7e6a7dde9502",
            "_dom_classes": [],
            "description": "100%",
            "_model_name": "FloatProgressModel",
            "bar_style": "success",
            "max": 20,
            "_view_module": "@jupyter-widgets/controls",
            "_model_module_version": "1.5.0",
            "value": 20,
            "_view_count": null,
            "_view_module_version": "1.5.0",
            "orientation": "horizontal",
            "min": 0,
            "description_tooltip": null,
            "_model_module": "@jupyter-widgets/controls",
            "layout": "IPY_MODEL_157616684cd44942892cc5b1b3499090"
          }
        },
        "913df2102dfe438681aa9363fad24669": {
          "model_module": "@jupyter-widgets/controls",
          "model_name": "HTMLModel",
          "state": {
            "_view_name": "HTMLView",
            "style": "IPY_MODEL_8ab8b8399e15448994f787405054121e",
            "_dom_classes": [],
            "description": "",
            "_model_name": "HTMLModel",
            "placeholder": "​",
            "_view_module": "@jupyter-widgets/controls",
            "_model_module_version": "1.5.0",
            "value": " 20/20 [1:01:32&lt;00:00, 184.63s/it]",
            "_view_count": null,
            "_view_module_version": "1.5.0",
            "description_tooltip": null,
            "_model_module": "@jupyter-widgets/controls",
            "layout": "IPY_MODEL_b974d2dac9f04289b7dabb0c92c22e2c"
          }
        },
        "1bbccb32a86e42518b2b7e6a7dde9502": {
          "model_module": "@jupyter-widgets/controls",
          "model_name": "ProgressStyleModel",
          "state": {
            "_view_name": "StyleView",
            "_model_name": "ProgressStyleModel",
            "description_width": "initial",
            "_view_module": "@jupyter-widgets/base",
            "_model_module_version": "1.5.0",
            "_view_count": null,
            "_view_module_version": "1.2.0",
            "bar_color": null,
            "_model_module": "@jupyter-widgets/controls"
          }
        },
        "157616684cd44942892cc5b1b3499090": {
          "model_module": "@jupyter-widgets/base",
          "model_name": "LayoutModel",
          "state": {
            "_view_name": "LayoutView",
            "grid_template_rows": null,
            "right": null,
            "justify_content": null,
            "_view_module": "@jupyter-widgets/base",
            "overflow": null,
            "_model_module_version": "1.2.0",
            "_view_count": null,
            "flex_flow": null,
            "width": null,
            "min_width": null,
            "border": null,
            "align_items": null,
            "bottom": null,
            "_model_module": "@jupyter-widgets/base",
            "top": null,
            "grid_column": null,
            "overflow_y": null,
            "overflow_x": null,
            "grid_auto_flow": null,
            "grid_area": null,
            "grid_template_columns": null,
            "flex": null,
            "_model_name": "LayoutModel",
            "justify_items": null,
            "grid_row": null,
            "max_height": null,
            "align_content": null,
            "visibility": null,
            "align_self": null,
            "height": null,
            "min_height": null,
            "padding": null,
            "grid_auto_rows": null,
            "grid_gap": null,
            "max_width": null,
            "order": null,
            "_view_module_version": "1.2.0",
            "grid_template_areas": null,
            "object_position": null,
            "object_fit": null,
            "grid_auto_columns": null,
            "margin": null,
            "display": null,
            "left": null
          }
        },
        "8ab8b8399e15448994f787405054121e": {
          "model_module": "@jupyter-widgets/controls",
          "model_name": "DescriptionStyleModel",
          "state": {
            "_view_name": "StyleView",
            "_model_name": "DescriptionStyleModel",
            "description_width": "",
            "_view_module": "@jupyter-widgets/base",
            "_model_module_version": "1.5.0",
            "_view_count": null,
            "_view_module_version": "1.2.0",
            "_model_module": "@jupyter-widgets/controls"
          }
        },
        "b974d2dac9f04289b7dabb0c92c22e2c": {
          "model_module": "@jupyter-widgets/base",
          "model_name": "LayoutModel",
          "state": {
            "_view_name": "LayoutView",
            "grid_template_rows": null,
            "right": null,
            "justify_content": null,
            "_view_module": "@jupyter-widgets/base",
            "overflow": null,
            "_model_module_version": "1.2.0",
            "_view_count": null,
            "flex_flow": null,
            "width": null,
            "min_width": null,
            "border": null,
            "align_items": null,
            "bottom": null,
            "_model_module": "@jupyter-widgets/base",
            "top": null,
            "grid_column": null,
            "overflow_y": null,
            "overflow_x": null,
            "grid_auto_flow": null,
            "grid_area": null,
            "grid_template_columns": null,
            "flex": null,
            "_model_name": "LayoutModel",
            "justify_items": null,
            "grid_row": null,
            "max_height": null,
            "align_content": null,
            "visibility": null,
            "align_self": null,
            "height": null,
            "min_height": null,
            "padding": null,
            "grid_auto_rows": null,
            "grid_gap": null,
            "max_width": null,
            "order": null,
            "_view_module_version": "1.2.0",
            "grid_template_areas": null,
            "object_position": null,
            "object_fit": null,
            "grid_auto_columns": null,
            "margin": null,
            "display": null,
            "left": null
          }
        },
        "acd3fbb87cfb44a5b976e059b2da0a77": {
          "model_module": "@jupyter-widgets/controls",
          "model_name": "HBoxModel",
          "state": {
            "_view_name": "HBoxView",
            "_dom_classes": [],
            "_model_name": "HBoxModel",
            "_view_module": "@jupyter-widgets/controls",
            "_model_module_version": "1.5.0",
            "_view_count": null,
            "_view_module_version": "1.5.0",
            "box_style": "",
            "layout": "IPY_MODEL_1a2bea399fef49a6a10f78a071d8c243",
            "_model_module": "@jupyter-widgets/controls",
            "children": [
              "IPY_MODEL_084f75d5f10b4284997bc02af287eedc",
              "IPY_MODEL_59be291b12c8459a828d88eee68c78fd"
            ]
          }
        },
        "1a2bea399fef49a6a10f78a071d8c243": {
          "model_module": "@jupyter-widgets/base",
          "model_name": "LayoutModel",
          "state": {
            "_view_name": "LayoutView",
            "grid_template_rows": null,
            "right": null,
            "justify_content": null,
            "_view_module": "@jupyter-widgets/base",
            "overflow": null,
            "_model_module_version": "1.2.0",
            "_view_count": null,
            "flex_flow": null,
            "width": null,
            "min_width": null,
            "border": null,
            "align_items": null,
            "bottom": null,
            "_model_module": "@jupyter-widgets/base",
            "top": null,
            "grid_column": null,
            "overflow_y": null,
            "overflow_x": null,
            "grid_auto_flow": null,
            "grid_area": null,
            "grid_template_columns": null,
            "flex": null,
            "_model_name": "LayoutModel",
            "justify_items": null,
            "grid_row": null,
            "max_height": null,
            "align_content": null,
            "visibility": null,
            "align_self": null,
            "height": null,
            "min_height": null,
            "padding": null,
            "grid_auto_rows": null,
            "grid_gap": null,
            "max_width": null,
            "order": null,
            "_view_module_version": "1.2.0",
            "grid_template_areas": null,
            "object_position": null,
            "object_fit": null,
            "grid_auto_columns": null,
            "margin": null,
            "display": null,
            "left": null
          }
        },
        "084f75d5f10b4284997bc02af287eedc": {
          "model_module": "@jupyter-widgets/controls",
          "model_name": "FloatProgressModel",
          "state": {
            "_view_name": "ProgressView",
            "style": "IPY_MODEL_da031009402a4291a4ac0192826aab6c",
            "_dom_classes": [],
            "description": "100%",
            "_model_name": "FloatProgressModel",
            "bar_style": "success",
            "max": 20,
            "_view_module": "@jupyter-widgets/controls",
            "_model_module_version": "1.5.0",
            "value": 20,
            "_view_count": null,
            "_view_module_version": "1.5.0",
            "orientation": "horizontal",
            "min": 0,
            "description_tooltip": null,
            "_model_module": "@jupyter-widgets/controls",
            "layout": "IPY_MODEL_9a381d9608d44945b500601f744f9964"
          }
        },
        "59be291b12c8459a828d88eee68c78fd": {
          "model_module": "@jupyter-widgets/controls",
          "model_name": "HTMLModel",
          "state": {
            "_view_name": "HTMLView",
            "style": "IPY_MODEL_74e3f74cc1b44a54bb93eac069c4713f",
            "_dom_classes": [],
            "description": "",
            "_model_name": "HTMLModel",
            "placeholder": "​",
            "_view_module": "@jupyter-widgets/controls",
            "_model_module_version": "1.5.0",
            "value": " 20/20 [1:02:01&lt;00:00, 186.08s/it]",
            "_view_count": null,
            "_view_module_version": "1.5.0",
            "description_tooltip": null,
            "_model_module": "@jupyter-widgets/controls",
            "layout": "IPY_MODEL_9a35e3735b664cec96e47813c87755c8"
          }
        },
        "da031009402a4291a4ac0192826aab6c": {
          "model_module": "@jupyter-widgets/controls",
          "model_name": "ProgressStyleModel",
          "state": {
            "_view_name": "StyleView",
            "_model_name": "ProgressStyleModel",
            "description_width": "initial",
            "_view_module": "@jupyter-widgets/base",
            "_model_module_version": "1.5.0",
            "_view_count": null,
            "_view_module_version": "1.2.0",
            "bar_color": null,
            "_model_module": "@jupyter-widgets/controls"
          }
        },
        "9a381d9608d44945b500601f744f9964": {
          "model_module": "@jupyter-widgets/base",
          "model_name": "LayoutModel",
          "state": {
            "_view_name": "LayoutView",
            "grid_template_rows": null,
            "right": null,
            "justify_content": null,
            "_view_module": "@jupyter-widgets/base",
            "overflow": null,
            "_model_module_version": "1.2.0",
            "_view_count": null,
            "flex_flow": null,
            "width": null,
            "min_width": null,
            "border": null,
            "align_items": null,
            "bottom": null,
            "_model_module": "@jupyter-widgets/base",
            "top": null,
            "grid_column": null,
            "overflow_y": null,
            "overflow_x": null,
            "grid_auto_flow": null,
            "grid_area": null,
            "grid_template_columns": null,
            "flex": null,
            "_model_name": "LayoutModel",
            "justify_items": null,
            "grid_row": null,
            "max_height": null,
            "align_content": null,
            "visibility": null,
            "align_self": null,
            "height": null,
            "min_height": null,
            "padding": null,
            "grid_auto_rows": null,
            "grid_gap": null,
            "max_width": null,
            "order": null,
            "_view_module_version": "1.2.0",
            "grid_template_areas": null,
            "object_position": null,
            "object_fit": null,
            "grid_auto_columns": null,
            "margin": null,
            "display": null,
            "left": null
          }
        },
        "74e3f74cc1b44a54bb93eac069c4713f": {
          "model_module": "@jupyter-widgets/controls",
          "model_name": "DescriptionStyleModel",
          "state": {
            "_view_name": "StyleView",
            "_model_name": "DescriptionStyleModel",
            "description_width": "",
            "_view_module": "@jupyter-widgets/base",
            "_model_module_version": "1.5.0",
            "_view_count": null,
            "_view_module_version": "1.2.0",
            "_model_module": "@jupyter-widgets/controls"
          }
        },
        "9a35e3735b664cec96e47813c87755c8": {
          "model_module": "@jupyter-widgets/base",
          "model_name": "LayoutModel",
          "state": {
            "_view_name": "LayoutView",
            "grid_template_rows": null,
            "right": null,
            "justify_content": null,
            "_view_module": "@jupyter-widgets/base",
            "overflow": null,
            "_model_module_version": "1.2.0",
            "_view_count": null,
            "flex_flow": null,
            "width": null,
            "min_width": null,
            "border": null,
            "align_items": null,
            "bottom": null,
            "_model_module": "@jupyter-widgets/base",
            "top": null,
            "grid_column": null,
            "overflow_y": null,
            "overflow_x": null,
            "grid_auto_flow": null,
            "grid_area": null,
            "grid_template_columns": null,
            "flex": null,
            "_model_name": "LayoutModel",
            "justify_items": null,
            "grid_row": null,
            "max_height": null,
            "align_content": null,
            "visibility": null,
            "align_self": null,
            "height": null,
            "min_height": null,
            "padding": null,
            "grid_auto_rows": null,
            "grid_gap": null,
            "max_width": null,
            "order": null,
            "_view_module_version": "1.2.0",
            "grid_template_areas": null,
            "object_position": null,
            "object_fit": null,
            "grid_auto_columns": null,
            "margin": null,
            "display": null,
            "left": null
          }
        },
        "4eff9a7861bc4fdeb395066f508b3e70": {
          "model_module": "@jupyter-widgets/controls",
          "model_name": "HBoxModel",
          "state": {
            "_view_name": "HBoxView",
            "_dom_classes": [],
            "_model_name": "HBoxModel",
            "_view_module": "@jupyter-widgets/controls",
            "_model_module_version": "1.5.0",
            "_view_count": null,
            "_view_module_version": "1.5.0",
            "box_style": "",
            "layout": "IPY_MODEL_75c78eba909c425a8bccad0e93374d2e",
            "_model_module": "@jupyter-widgets/controls",
            "children": [
              "IPY_MODEL_27422bce8a4d42fc8dc54a62015062d4",
              "IPY_MODEL_5743de4bf05440829b6f1a4322f694b2"
            ]
          }
        },
        "75c78eba909c425a8bccad0e93374d2e": {
          "model_module": "@jupyter-widgets/base",
          "model_name": "LayoutModel",
          "state": {
            "_view_name": "LayoutView",
            "grid_template_rows": null,
            "right": null,
            "justify_content": null,
            "_view_module": "@jupyter-widgets/base",
            "overflow": null,
            "_model_module_version": "1.2.0",
            "_view_count": null,
            "flex_flow": null,
            "width": null,
            "min_width": null,
            "border": null,
            "align_items": null,
            "bottom": null,
            "_model_module": "@jupyter-widgets/base",
            "top": null,
            "grid_column": null,
            "overflow_y": null,
            "overflow_x": null,
            "grid_auto_flow": null,
            "grid_area": null,
            "grid_template_columns": null,
            "flex": null,
            "_model_name": "LayoutModel",
            "justify_items": null,
            "grid_row": null,
            "max_height": null,
            "align_content": null,
            "visibility": null,
            "align_self": null,
            "height": null,
            "min_height": null,
            "padding": null,
            "grid_auto_rows": null,
            "grid_gap": null,
            "max_width": null,
            "order": null,
            "_view_module_version": "1.2.0",
            "grid_template_areas": null,
            "object_position": null,
            "object_fit": null,
            "grid_auto_columns": null,
            "margin": null,
            "display": null,
            "left": null
          }
        },
        "27422bce8a4d42fc8dc54a62015062d4": {
          "model_module": "@jupyter-widgets/controls",
          "model_name": "FloatProgressModel",
          "state": {
            "_view_name": "ProgressView",
            "style": "IPY_MODEL_e499ff2690854295baa2fef850044932",
            "_dom_classes": [],
            "description": "100%",
            "_model_name": "FloatProgressModel",
            "bar_style": "success",
            "max": 20,
            "_view_module": "@jupyter-widgets/controls",
            "_model_module_version": "1.5.0",
            "value": 20,
            "_view_count": null,
            "_view_module_version": "1.5.0",
            "orientation": "horizontal",
            "min": 0,
            "description_tooltip": null,
            "_model_module": "@jupyter-widgets/controls",
            "layout": "IPY_MODEL_d5846b86864f4b41ac8638825f5d34a8"
          }
        },
        "5743de4bf05440829b6f1a4322f694b2": {
          "model_module": "@jupyter-widgets/controls",
          "model_name": "HTMLModel",
          "state": {
            "_view_name": "HTMLView",
            "style": "IPY_MODEL_5afe4fd5994e4018abe88dc00589ad5b",
            "_dom_classes": [],
            "description": "",
            "_model_name": "HTMLModel",
            "placeholder": "​",
            "_view_module": "@jupyter-widgets/controls",
            "_model_module_version": "1.5.0",
            "value": " 20/20 [1:02:09&lt;00:00, 186.46s/it]",
            "_view_count": null,
            "_view_module_version": "1.5.0",
            "description_tooltip": null,
            "_model_module": "@jupyter-widgets/controls",
            "layout": "IPY_MODEL_bc82a834faf74589a2bbca4cca1957cf"
          }
        },
        "e499ff2690854295baa2fef850044932": {
          "model_module": "@jupyter-widgets/controls",
          "model_name": "ProgressStyleModel",
          "state": {
            "_view_name": "StyleView",
            "_model_name": "ProgressStyleModel",
            "description_width": "initial",
            "_view_module": "@jupyter-widgets/base",
            "_model_module_version": "1.5.0",
            "_view_count": null,
            "_view_module_version": "1.2.0",
            "bar_color": null,
            "_model_module": "@jupyter-widgets/controls"
          }
        },
        "d5846b86864f4b41ac8638825f5d34a8": {
          "model_module": "@jupyter-widgets/base",
          "model_name": "LayoutModel",
          "state": {
            "_view_name": "LayoutView",
            "grid_template_rows": null,
            "right": null,
            "justify_content": null,
            "_view_module": "@jupyter-widgets/base",
            "overflow": null,
            "_model_module_version": "1.2.0",
            "_view_count": null,
            "flex_flow": null,
            "width": null,
            "min_width": null,
            "border": null,
            "align_items": null,
            "bottom": null,
            "_model_module": "@jupyter-widgets/base",
            "top": null,
            "grid_column": null,
            "overflow_y": null,
            "overflow_x": null,
            "grid_auto_flow": null,
            "grid_area": null,
            "grid_template_columns": null,
            "flex": null,
            "_model_name": "LayoutModel",
            "justify_items": null,
            "grid_row": null,
            "max_height": null,
            "align_content": null,
            "visibility": null,
            "align_self": null,
            "height": null,
            "min_height": null,
            "padding": null,
            "grid_auto_rows": null,
            "grid_gap": null,
            "max_width": null,
            "order": null,
            "_view_module_version": "1.2.0",
            "grid_template_areas": null,
            "object_position": null,
            "object_fit": null,
            "grid_auto_columns": null,
            "margin": null,
            "display": null,
            "left": null
          }
        },
        "5afe4fd5994e4018abe88dc00589ad5b": {
          "model_module": "@jupyter-widgets/controls",
          "model_name": "DescriptionStyleModel",
          "state": {
            "_view_name": "StyleView",
            "_model_name": "DescriptionStyleModel",
            "description_width": "",
            "_view_module": "@jupyter-widgets/base",
            "_model_module_version": "1.5.0",
            "_view_count": null,
            "_view_module_version": "1.2.0",
            "_model_module": "@jupyter-widgets/controls"
          }
        },
        "bc82a834faf74589a2bbca4cca1957cf": {
          "model_module": "@jupyter-widgets/base",
          "model_name": "LayoutModel",
          "state": {
            "_view_name": "LayoutView",
            "grid_template_rows": null,
            "right": null,
            "justify_content": null,
            "_view_module": "@jupyter-widgets/base",
            "overflow": null,
            "_model_module_version": "1.2.0",
            "_view_count": null,
            "flex_flow": null,
            "width": null,
            "min_width": null,
            "border": null,
            "align_items": null,
            "bottom": null,
            "_model_module": "@jupyter-widgets/base",
            "top": null,
            "grid_column": null,
            "overflow_y": null,
            "overflow_x": null,
            "grid_auto_flow": null,
            "grid_area": null,
            "grid_template_columns": null,
            "flex": null,
            "_model_name": "LayoutModel",
            "justify_items": null,
            "grid_row": null,
            "max_height": null,
            "align_content": null,
            "visibility": null,
            "align_self": null,
            "height": null,
            "min_height": null,
            "padding": null,
            "grid_auto_rows": null,
            "grid_gap": null,
            "max_width": null,
            "order": null,
            "_view_module_version": "1.2.0",
            "grid_template_areas": null,
            "object_position": null,
            "object_fit": null,
            "grid_auto_columns": null,
            "margin": null,
            "display": null,
            "left": null
          }
        },
        "3877db554b2d4c508e47165fd5eaa8c6": {
          "model_module": "@jupyter-widgets/controls",
          "model_name": "HBoxModel",
          "state": {
            "_view_name": "HBoxView",
            "_dom_classes": [],
            "_model_name": "HBoxModel",
            "_view_module": "@jupyter-widgets/controls",
            "_model_module_version": "1.5.0",
            "_view_count": null,
            "_view_module_version": "1.5.0",
            "box_style": "",
            "layout": "IPY_MODEL_e22f10df75924c83bc65c995225a7c4b",
            "_model_module": "@jupyter-widgets/controls",
            "children": [
              "IPY_MODEL_b1affa05050b4d2fac791afe738ac8a6",
              "IPY_MODEL_aa13519b5e3a4a7d97548f463df2bd42"
            ]
          }
        },
        "e22f10df75924c83bc65c995225a7c4b": {
          "model_module": "@jupyter-widgets/base",
          "model_name": "LayoutModel",
          "state": {
            "_view_name": "LayoutView",
            "grid_template_rows": null,
            "right": null,
            "justify_content": null,
            "_view_module": "@jupyter-widgets/base",
            "overflow": null,
            "_model_module_version": "1.2.0",
            "_view_count": null,
            "flex_flow": null,
            "width": null,
            "min_width": null,
            "border": null,
            "align_items": null,
            "bottom": null,
            "_model_module": "@jupyter-widgets/base",
            "top": null,
            "grid_column": null,
            "overflow_y": null,
            "overflow_x": null,
            "grid_auto_flow": null,
            "grid_area": null,
            "grid_template_columns": null,
            "flex": null,
            "_model_name": "LayoutModel",
            "justify_items": null,
            "grid_row": null,
            "max_height": null,
            "align_content": null,
            "visibility": null,
            "align_self": null,
            "height": null,
            "min_height": null,
            "padding": null,
            "grid_auto_rows": null,
            "grid_gap": null,
            "max_width": null,
            "order": null,
            "_view_module_version": "1.2.0",
            "grid_template_areas": null,
            "object_position": null,
            "object_fit": null,
            "grid_auto_columns": null,
            "margin": null,
            "display": null,
            "left": null
          }
        },
        "b1affa05050b4d2fac791afe738ac8a6": {
          "model_module": "@jupyter-widgets/controls",
          "model_name": "FloatProgressModel",
          "state": {
            "_view_name": "ProgressView",
            "style": "IPY_MODEL_3042b753fd6544e493cb6a25acd68625",
            "_dom_classes": [],
            "description": "100%",
            "_model_name": "FloatProgressModel",
            "bar_style": "success",
            "max": 20,
            "_view_module": "@jupyter-widgets/controls",
            "_model_module_version": "1.5.0",
            "value": 20,
            "_view_count": null,
            "_view_module_version": "1.5.0",
            "orientation": "horizontal",
            "min": 0,
            "description_tooltip": null,
            "_model_module": "@jupyter-widgets/controls",
            "layout": "IPY_MODEL_be77980c3dfc469e839bdf83983e0214"
          }
        },
        "aa13519b5e3a4a7d97548f463df2bd42": {
          "model_module": "@jupyter-widgets/controls",
          "model_name": "HTMLModel",
          "state": {
            "_view_name": "HTMLView",
            "style": "IPY_MODEL_968ff011b01d42c480b3393fe11e49c7",
            "_dom_classes": [],
            "description": "",
            "_model_name": "HTMLModel",
            "placeholder": "​",
            "_view_module": "@jupyter-widgets/controls",
            "_model_module_version": "1.5.0",
            "value": " 20/20 [1:01:04&lt;00:00, 183.21s/it]",
            "_view_count": null,
            "_view_module_version": "1.5.0",
            "description_tooltip": null,
            "_model_module": "@jupyter-widgets/controls",
            "layout": "IPY_MODEL_aa8f22c70d394f3f93bcaba7f3118e59"
          }
        },
        "3042b753fd6544e493cb6a25acd68625": {
          "model_module": "@jupyter-widgets/controls",
          "model_name": "ProgressStyleModel",
          "state": {
            "_view_name": "StyleView",
            "_model_name": "ProgressStyleModel",
            "description_width": "initial",
            "_view_module": "@jupyter-widgets/base",
            "_model_module_version": "1.5.0",
            "_view_count": null,
            "_view_module_version": "1.2.0",
            "bar_color": null,
            "_model_module": "@jupyter-widgets/controls"
          }
        },
        "be77980c3dfc469e839bdf83983e0214": {
          "model_module": "@jupyter-widgets/base",
          "model_name": "LayoutModel",
          "state": {
            "_view_name": "LayoutView",
            "grid_template_rows": null,
            "right": null,
            "justify_content": null,
            "_view_module": "@jupyter-widgets/base",
            "overflow": null,
            "_model_module_version": "1.2.0",
            "_view_count": null,
            "flex_flow": null,
            "width": null,
            "min_width": null,
            "border": null,
            "align_items": null,
            "bottom": null,
            "_model_module": "@jupyter-widgets/base",
            "top": null,
            "grid_column": null,
            "overflow_y": null,
            "overflow_x": null,
            "grid_auto_flow": null,
            "grid_area": null,
            "grid_template_columns": null,
            "flex": null,
            "_model_name": "LayoutModel",
            "justify_items": null,
            "grid_row": null,
            "max_height": null,
            "align_content": null,
            "visibility": null,
            "align_self": null,
            "height": null,
            "min_height": null,
            "padding": null,
            "grid_auto_rows": null,
            "grid_gap": null,
            "max_width": null,
            "order": null,
            "_view_module_version": "1.2.0",
            "grid_template_areas": null,
            "object_position": null,
            "object_fit": null,
            "grid_auto_columns": null,
            "margin": null,
            "display": null,
            "left": null
          }
        },
        "968ff011b01d42c480b3393fe11e49c7": {
          "model_module": "@jupyter-widgets/controls",
          "model_name": "DescriptionStyleModel",
          "state": {
            "_view_name": "StyleView",
            "_model_name": "DescriptionStyleModel",
            "description_width": "",
            "_view_module": "@jupyter-widgets/base",
            "_model_module_version": "1.5.0",
            "_view_count": null,
            "_view_module_version": "1.2.0",
            "_model_module": "@jupyter-widgets/controls"
          }
        },
        "aa8f22c70d394f3f93bcaba7f3118e59": {
          "model_module": "@jupyter-widgets/base",
          "model_name": "LayoutModel",
          "state": {
            "_view_name": "LayoutView",
            "grid_template_rows": null,
            "right": null,
            "justify_content": null,
            "_view_module": "@jupyter-widgets/base",
            "overflow": null,
            "_model_module_version": "1.2.0",
            "_view_count": null,
            "flex_flow": null,
            "width": null,
            "min_width": null,
            "border": null,
            "align_items": null,
            "bottom": null,
            "_model_module": "@jupyter-widgets/base",
            "top": null,
            "grid_column": null,
            "overflow_y": null,
            "overflow_x": null,
            "grid_auto_flow": null,
            "grid_area": null,
            "grid_template_columns": null,
            "flex": null,
            "_model_name": "LayoutModel",
            "justify_items": null,
            "grid_row": null,
            "max_height": null,
            "align_content": null,
            "visibility": null,
            "align_self": null,
            "height": null,
            "min_height": null,
            "padding": null,
            "grid_auto_rows": null,
            "grid_gap": null,
            "max_width": null,
            "order": null,
            "_view_module_version": "1.2.0",
            "grid_template_areas": null,
            "object_position": null,
            "object_fit": null,
            "grid_auto_columns": null,
            "margin": null,
            "display": null,
            "left": null
          }
        },
        "8ebe1b78e99144b1bf99fd1657e08ae3": {
          "model_module": "@jupyter-widgets/controls",
          "model_name": "HBoxModel",
          "state": {
            "_view_name": "HBoxView",
            "_dom_classes": [],
            "_model_name": "HBoxModel",
            "_view_module": "@jupyter-widgets/controls",
            "_model_module_version": "1.5.0",
            "_view_count": null,
            "_view_module_version": "1.5.0",
            "box_style": "",
            "layout": "IPY_MODEL_160d98cdbf724da18143413b3f627dff",
            "_model_module": "@jupyter-widgets/controls",
            "children": [
              "IPY_MODEL_014772a8bc9b44328a164272785994e5",
              "IPY_MODEL_65d6726d1dbb4ed49ab5bc63922cf6a2"
            ]
          }
        },
        "160d98cdbf724da18143413b3f627dff": {
          "model_module": "@jupyter-widgets/base",
          "model_name": "LayoutModel",
          "state": {
            "_view_name": "LayoutView",
            "grid_template_rows": null,
            "right": null,
            "justify_content": null,
            "_view_module": "@jupyter-widgets/base",
            "overflow": null,
            "_model_module_version": "1.2.0",
            "_view_count": null,
            "flex_flow": null,
            "width": null,
            "min_width": null,
            "border": null,
            "align_items": null,
            "bottom": null,
            "_model_module": "@jupyter-widgets/base",
            "top": null,
            "grid_column": null,
            "overflow_y": null,
            "overflow_x": null,
            "grid_auto_flow": null,
            "grid_area": null,
            "grid_template_columns": null,
            "flex": null,
            "_model_name": "LayoutModel",
            "justify_items": null,
            "grid_row": null,
            "max_height": null,
            "align_content": null,
            "visibility": null,
            "align_self": null,
            "height": null,
            "min_height": null,
            "padding": null,
            "grid_auto_rows": null,
            "grid_gap": null,
            "max_width": null,
            "order": null,
            "_view_module_version": "1.2.0",
            "grid_template_areas": null,
            "object_position": null,
            "object_fit": null,
            "grid_auto_columns": null,
            "margin": null,
            "display": null,
            "left": null
          }
        },
        "014772a8bc9b44328a164272785994e5": {
          "model_module": "@jupyter-widgets/controls",
          "model_name": "FloatProgressModel",
          "state": {
            "_view_name": "ProgressView",
            "style": "IPY_MODEL_96d5d4db111846a7a5284c659888f349",
            "_dom_classes": [],
            "description": "100%",
            "_model_name": "FloatProgressModel",
            "bar_style": "success",
            "max": 3,
            "_view_module": "@jupyter-widgets/controls",
            "_model_module_version": "1.5.0",
            "value": 3,
            "_view_count": null,
            "_view_module_version": "1.5.0",
            "orientation": "horizontal",
            "min": 0,
            "description_tooltip": null,
            "_model_module": "@jupyter-widgets/controls",
            "layout": "IPY_MODEL_4e6e98ac95614801a33d10408ae5897a"
          }
        },
        "65d6726d1dbb4ed49ab5bc63922cf6a2": {
          "model_module": "@jupyter-widgets/controls",
          "model_name": "HTMLModel",
          "state": {
            "_view_name": "HTMLView",
            "style": "IPY_MODEL_32e26f17be3e4cc9a2144a8a6727f358",
            "_dom_classes": [],
            "description": "",
            "_model_name": "HTMLModel",
            "placeholder": "​",
            "_view_module": "@jupyter-widgets/controls",
            "_model_module_version": "1.5.0",
            "value": " 3/3 [3:14:58&lt;00:00, 3899.53s/it]",
            "_view_count": null,
            "_view_module_version": "1.5.0",
            "description_tooltip": null,
            "_model_module": "@jupyter-widgets/controls",
            "layout": "IPY_MODEL_ac977bd4cdb64944aaf1a85d24acf885"
          }
        },
        "96d5d4db111846a7a5284c659888f349": {
          "model_module": "@jupyter-widgets/controls",
          "model_name": "ProgressStyleModel",
          "state": {
            "_view_name": "StyleView",
            "_model_name": "ProgressStyleModel",
            "description_width": "initial",
            "_view_module": "@jupyter-widgets/base",
            "_model_module_version": "1.5.0",
            "_view_count": null,
            "_view_module_version": "1.2.0",
            "bar_color": null,
            "_model_module": "@jupyter-widgets/controls"
          }
        },
        "4e6e98ac95614801a33d10408ae5897a": {
          "model_module": "@jupyter-widgets/base",
          "model_name": "LayoutModel",
          "state": {
            "_view_name": "LayoutView",
            "grid_template_rows": null,
            "right": null,
            "justify_content": null,
            "_view_module": "@jupyter-widgets/base",
            "overflow": null,
            "_model_module_version": "1.2.0",
            "_view_count": null,
            "flex_flow": null,
            "width": null,
            "min_width": null,
            "border": null,
            "align_items": null,
            "bottom": null,
            "_model_module": "@jupyter-widgets/base",
            "top": null,
            "grid_column": null,
            "overflow_y": null,
            "overflow_x": null,
            "grid_auto_flow": null,
            "grid_area": null,
            "grid_template_columns": null,
            "flex": null,
            "_model_name": "LayoutModel",
            "justify_items": null,
            "grid_row": null,
            "max_height": null,
            "align_content": null,
            "visibility": null,
            "align_self": null,
            "height": null,
            "min_height": null,
            "padding": null,
            "grid_auto_rows": null,
            "grid_gap": null,
            "max_width": null,
            "order": null,
            "_view_module_version": "1.2.0",
            "grid_template_areas": null,
            "object_position": null,
            "object_fit": null,
            "grid_auto_columns": null,
            "margin": null,
            "display": null,
            "left": null
          }
        },
        "32e26f17be3e4cc9a2144a8a6727f358": {
          "model_module": "@jupyter-widgets/controls",
          "model_name": "DescriptionStyleModel",
          "state": {
            "_view_name": "StyleView",
            "_model_name": "DescriptionStyleModel",
            "description_width": "",
            "_view_module": "@jupyter-widgets/base",
            "_model_module_version": "1.5.0",
            "_view_count": null,
            "_view_module_version": "1.2.0",
            "_model_module": "@jupyter-widgets/controls"
          }
        },
        "ac977bd4cdb64944aaf1a85d24acf885": {
          "model_module": "@jupyter-widgets/base",
          "model_name": "LayoutModel",
          "state": {
            "_view_name": "LayoutView",
            "grid_template_rows": null,
            "right": null,
            "justify_content": null,
            "_view_module": "@jupyter-widgets/base",
            "overflow": null,
            "_model_module_version": "1.2.0",
            "_view_count": null,
            "flex_flow": null,
            "width": null,
            "min_width": null,
            "border": null,
            "align_items": null,
            "bottom": null,
            "_model_module": "@jupyter-widgets/base",
            "top": null,
            "grid_column": null,
            "overflow_y": null,
            "overflow_x": null,
            "grid_auto_flow": null,
            "grid_area": null,
            "grid_template_columns": null,
            "flex": null,
            "_model_name": "LayoutModel",
            "justify_items": null,
            "grid_row": null,
            "max_height": null,
            "align_content": null,
            "visibility": null,
            "align_self": null,
            "height": null,
            "min_height": null,
            "padding": null,
            "grid_auto_rows": null,
            "grid_gap": null,
            "max_width": null,
            "order": null,
            "_view_module_version": "1.2.0",
            "grid_template_areas": null,
            "object_position": null,
            "object_fit": null,
            "grid_auto_columns": null,
            "margin": null,
            "display": null,
            "left": null
          }
        },
        "deced434d8b3440dbeb5ba79931b4cb7": {
          "model_module": "@jupyter-widgets/controls",
          "model_name": "HBoxModel",
          "state": {
            "_view_name": "HBoxView",
            "_dom_classes": [],
            "_model_name": "HBoxModel",
            "_view_module": "@jupyter-widgets/controls",
            "_model_module_version": "1.5.0",
            "_view_count": null,
            "_view_module_version": "1.5.0",
            "box_style": "",
            "layout": "IPY_MODEL_5cf97f4510f04425a8b8d843755e5860",
            "_model_module": "@jupyter-widgets/controls",
            "children": [
              "IPY_MODEL_1b0eeec5cd13445b97fb9100e0d1b13b",
              "IPY_MODEL_db69aee29e3e444fb3c1dd58090f5822"
            ]
          }
        },
        "5cf97f4510f04425a8b8d843755e5860": {
          "model_module": "@jupyter-widgets/base",
          "model_name": "LayoutModel",
          "state": {
            "_view_name": "LayoutView",
            "grid_template_rows": null,
            "right": null,
            "justify_content": null,
            "_view_module": "@jupyter-widgets/base",
            "overflow": null,
            "_model_module_version": "1.2.0",
            "_view_count": null,
            "flex_flow": null,
            "width": null,
            "min_width": null,
            "border": null,
            "align_items": null,
            "bottom": null,
            "_model_module": "@jupyter-widgets/base",
            "top": null,
            "grid_column": null,
            "overflow_y": null,
            "overflow_x": null,
            "grid_auto_flow": null,
            "grid_area": null,
            "grid_template_columns": null,
            "flex": null,
            "_model_name": "LayoutModel",
            "justify_items": null,
            "grid_row": null,
            "max_height": null,
            "align_content": null,
            "visibility": null,
            "align_self": null,
            "height": null,
            "min_height": null,
            "padding": null,
            "grid_auto_rows": null,
            "grid_gap": null,
            "max_width": null,
            "order": null,
            "_view_module_version": "1.2.0",
            "grid_template_areas": null,
            "object_position": null,
            "object_fit": null,
            "grid_auto_columns": null,
            "margin": null,
            "display": null,
            "left": null
          }
        },
        "1b0eeec5cd13445b97fb9100e0d1b13b": {
          "model_module": "@jupyter-widgets/controls",
          "model_name": "FloatProgressModel",
          "state": {
            "_view_name": "ProgressView",
            "style": "IPY_MODEL_599973ef44d74ac1b28e643189ab0746",
            "_dom_classes": [],
            "description": "100%",
            "_model_name": "FloatProgressModel",
            "bar_style": "success",
            "max": 20,
            "_view_module": "@jupyter-widgets/controls",
            "_model_module_version": "1.5.0",
            "value": 20,
            "_view_count": null,
            "_view_module_version": "1.5.0",
            "orientation": "horizontal",
            "min": 0,
            "description_tooltip": null,
            "_model_module": "@jupyter-widgets/controls",
            "layout": "IPY_MODEL_4563d283af0d482ba712ac108d1c4812"
          }
        },
        "db69aee29e3e444fb3c1dd58090f5822": {
          "model_module": "@jupyter-widgets/controls",
          "model_name": "HTMLModel",
          "state": {
            "_view_name": "HTMLView",
            "style": "IPY_MODEL_07cb3abe1b23474ca4b7acb886e3df0f",
            "_dom_classes": [],
            "description": "",
            "_model_name": "HTMLModel",
            "placeholder": "​",
            "_view_module": "@jupyter-widgets/controls",
            "_model_module_version": "1.5.0",
            "value": " 20/20 [1:02:59&lt;00:00, 189.00s/it]",
            "_view_count": null,
            "_view_module_version": "1.5.0",
            "description_tooltip": null,
            "_model_module": "@jupyter-widgets/controls",
            "layout": "IPY_MODEL_5e218d6911024600beabe53dcf899ad6"
          }
        },
        "599973ef44d74ac1b28e643189ab0746": {
          "model_module": "@jupyter-widgets/controls",
          "model_name": "ProgressStyleModel",
          "state": {
            "_view_name": "StyleView",
            "_model_name": "ProgressStyleModel",
            "description_width": "initial",
            "_view_module": "@jupyter-widgets/base",
            "_model_module_version": "1.5.0",
            "_view_count": null,
            "_view_module_version": "1.2.0",
            "bar_color": null,
            "_model_module": "@jupyter-widgets/controls"
          }
        },
        "4563d283af0d482ba712ac108d1c4812": {
          "model_module": "@jupyter-widgets/base",
          "model_name": "LayoutModel",
          "state": {
            "_view_name": "LayoutView",
            "grid_template_rows": null,
            "right": null,
            "justify_content": null,
            "_view_module": "@jupyter-widgets/base",
            "overflow": null,
            "_model_module_version": "1.2.0",
            "_view_count": null,
            "flex_flow": null,
            "width": null,
            "min_width": null,
            "border": null,
            "align_items": null,
            "bottom": null,
            "_model_module": "@jupyter-widgets/base",
            "top": null,
            "grid_column": null,
            "overflow_y": null,
            "overflow_x": null,
            "grid_auto_flow": null,
            "grid_area": null,
            "grid_template_columns": null,
            "flex": null,
            "_model_name": "LayoutModel",
            "justify_items": null,
            "grid_row": null,
            "max_height": null,
            "align_content": null,
            "visibility": null,
            "align_self": null,
            "height": null,
            "min_height": null,
            "padding": null,
            "grid_auto_rows": null,
            "grid_gap": null,
            "max_width": null,
            "order": null,
            "_view_module_version": "1.2.0",
            "grid_template_areas": null,
            "object_position": null,
            "object_fit": null,
            "grid_auto_columns": null,
            "margin": null,
            "display": null,
            "left": null
          }
        },
        "07cb3abe1b23474ca4b7acb886e3df0f": {
          "model_module": "@jupyter-widgets/controls",
          "model_name": "DescriptionStyleModel",
          "state": {
            "_view_name": "StyleView",
            "_model_name": "DescriptionStyleModel",
            "description_width": "",
            "_view_module": "@jupyter-widgets/base",
            "_model_module_version": "1.5.0",
            "_view_count": null,
            "_view_module_version": "1.2.0",
            "_model_module": "@jupyter-widgets/controls"
          }
        },
        "5e218d6911024600beabe53dcf899ad6": {
          "model_module": "@jupyter-widgets/base",
          "model_name": "LayoutModel",
          "state": {
            "_view_name": "LayoutView",
            "grid_template_rows": null,
            "right": null,
            "justify_content": null,
            "_view_module": "@jupyter-widgets/base",
            "overflow": null,
            "_model_module_version": "1.2.0",
            "_view_count": null,
            "flex_flow": null,
            "width": null,
            "min_width": null,
            "border": null,
            "align_items": null,
            "bottom": null,
            "_model_module": "@jupyter-widgets/base",
            "top": null,
            "grid_column": null,
            "overflow_y": null,
            "overflow_x": null,
            "grid_auto_flow": null,
            "grid_area": null,
            "grid_template_columns": null,
            "flex": null,
            "_model_name": "LayoutModel",
            "justify_items": null,
            "grid_row": null,
            "max_height": null,
            "align_content": null,
            "visibility": null,
            "align_self": null,
            "height": null,
            "min_height": null,
            "padding": null,
            "grid_auto_rows": null,
            "grid_gap": null,
            "max_width": null,
            "order": null,
            "_view_module_version": "1.2.0",
            "grid_template_areas": null,
            "object_position": null,
            "object_fit": null,
            "grid_auto_columns": null,
            "margin": null,
            "display": null,
            "left": null
          }
        },
        "5adc772d20184fae9bcebf263f98eee9": {
          "model_module": "@jupyter-widgets/controls",
          "model_name": "HBoxModel",
          "state": {
            "_view_name": "HBoxView",
            "_dom_classes": [],
            "_model_name": "HBoxModel",
            "_view_module": "@jupyter-widgets/controls",
            "_model_module_version": "1.5.0",
            "_view_count": null,
            "_view_module_version": "1.5.0",
            "box_style": "",
            "layout": "IPY_MODEL_fc382df2f40e4a56ba4ff815ac517230",
            "_model_module": "@jupyter-widgets/controls",
            "children": [
              "IPY_MODEL_18e4574595264902b92b3c653efc3e62",
              "IPY_MODEL_58d8aded18ce4ea8b6d46b0419a85d68"
            ]
          }
        },
        "fc382df2f40e4a56ba4ff815ac517230": {
          "model_module": "@jupyter-widgets/base",
          "model_name": "LayoutModel",
          "state": {
            "_view_name": "LayoutView",
            "grid_template_rows": null,
            "right": null,
            "justify_content": null,
            "_view_module": "@jupyter-widgets/base",
            "overflow": null,
            "_model_module_version": "1.2.0",
            "_view_count": null,
            "flex_flow": null,
            "width": null,
            "min_width": null,
            "border": null,
            "align_items": null,
            "bottom": null,
            "_model_module": "@jupyter-widgets/base",
            "top": null,
            "grid_column": null,
            "overflow_y": null,
            "overflow_x": null,
            "grid_auto_flow": null,
            "grid_area": null,
            "grid_template_columns": null,
            "flex": null,
            "_model_name": "LayoutModel",
            "justify_items": null,
            "grid_row": null,
            "max_height": null,
            "align_content": null,
            "visibility": null,
            "align_self": null,
            "height": null,
            "min_height": null,
            "padding": null,
            "grid_auto_rows": null,
            "grid_gap": null,
            "max_width": null,
            "order": null,
            "_view_module_version": "1.2.0",
            "grid_template_areas": null,
            "object_position": null,
            "object_fit": null,
            "grid_auto_columns": null,
            "margin": null,
            "display": null,
            "left": null
          }
        },
        "18e4574595264902b92b3c653efc3e62": {
          "model_module": "@jupyter-widgets/controls",
          "model_name": "FloatProgressModel",
          "state": {
            "_view_name": "ProgressView",
            "style": "IPY_MODEL_443fa3ecdf9a4adb8d0cda27d625bcf5",
            "_dom_classes": [],
            "description": "100%",
            "_model_name": "FloatProgressModel",
            "bar_style": "success",
            "max": 20,
            "_view_module": "@jupyter-widgets/controls",
            "_model_module_version": "1.5.0",
            "value": 20,
            "_view_count": null,
            "_view_module_version": "1.5.0",
            "orientation": "horizontal",
            "min": 0,
            "description_tooltip": null,
            "_model_module": "@jupyter-widgets/controls",
            "layout": "IPY_MODEL_7da7f6083fb643049b43fe2e6946daa4"
          }
        },
        "58d8aded18ce4ea8b6d46b0419a85d68": {
          "model_module": "@jupyter-widgets/controls",
          "model_name": "HTMLModel",
          "state": {
            "_view_name": "HTMLView",
            "style": "IPY_MODEL_d5130f5f3b514873969866218d83a83a",
            "_dom_classes": [],
            "description": "",
            "_model_name": "HTMLModel",
            "placeholder": "​",
            "_view_module": "@jupyter-widgets/controls",
            "_model_module_version": "1.5.0",
            "value": " 20/20 [1:05:44&lt;00:00, 197.22s/it]",
            "_view_count": null,
            "_view_module_version": "1.5.0",
            "description_tooltip": null,
            "_model_module": "@jupyter-widgets/controls",
            "layout": "IPY_MODEL_7402d0d0c38c442fa6fb17285a244d57"
          }
        },
        "443fa3ecdf9a4adb8d0cda27d625bcf5": {
          "model_module": "@jupyter-widgets/controls",
          "model_name": "ProgressStyleModel",
          "state": {
            "_view_name": "StyleView",
            "_model_name": "ProgressStyleModel",
            "description_width": "initial",
            "_view_module": "@jupyter-widgets/base",
            "_model_module_version": "1.5.0",
            "_view_count": null,
            "_view_module_version": "1.2.0",
            "bar_color": null,
            "_model_module": "@jupyter-widgets/controls"
          }
        },
        "7da7f6083fb643049b43fe2e6946daa4": {
          "model_module": "@jupyter-widgets/base",
          "model_name": "LayoutModel",
          "state": {
            "_view_name": "LayoutView",
            "grid_template_rows": null,
            "right": null,
            "justify_content": null,
            "_view_module": "@jupyter-widgets/base",
            "overflow": null,
            "_model_module_version": "1.2.0",
            "_view_count": null,
            "flex_flow": null,
            "width": null,
            "min_width": null,
            "border": null,
            "align_items": null,
            "bottom": null,
            "_model_module": "@jupyter-widgets/base",
            "top": null,
            "grid_column": null,
            "overflow_y": null,
            "overflow_x": null,
            "grid_auto_flow": null,
            "grid_area": null,
            "grid_template_columns": null,
            "flex": null,
            "_model_name": "LayoutModel",
            "justify_items": null,
            "grid_row": null,
            "max_height": null,
            "align_content": null,
            "visibility": null,
            "align_self": null,
            "height": null,
            "min_height": null,
            "padding": null,
            "grid_auto_rows": null,
            "grid_gap": null,
            "max_width": null,
            "order": null,
            "_view_module_version": "1.2.0",
            "grid_template_areas": null,
            "object_position": null,
            "object_fit": null,
            "grid_auto_columns": null,
            "margin": null,
            "display": null,
            "left": null
          }
        },
        "d5130f5f3b514873969866218d83a83a": {
          "model_module": "@jupyter-widgets/controls",
          "model_name": "DescriptionStyleModel",
          "state": {
            "_view_name": "StyleView",
            "_model_name": "DescriptionStyleModel",
            "description_width": "",
            "_view_module": "@jupyter-widgets/base",
            "_model_module_version": "1.5.0",
            "_view_count": null,
            "_view_module_version": "1.2.0",
            "_model_module": "@jupyter-widgets/controls"
          }
        },
        "7402d0d0c38c442fa6fb17285a244d57": {
          "model_module": "@jupyter-widgets/base",
          "model_name": "LayoutModel",
          "state": {
            "_view_name": "LayoutView",
            "grid_template_rows": null,
            "right": null,
            "justify_content": null,
            "_view_module": "@jupyter-widgets/base",
            "overflow": null,
            "_model_module_version": "1.2.0",
            "_view_count": null,
            "flex_flow": null,
            "width": null,
            "min_width": null,
            "border": null,
            "align_items": null,
            "bottom": null,
            "_model_module": "@jupyter-widgets/base",
            "top": null,
            "grid_column": null,
            "overflow_y": null,
            "overflow_x": null,
            "grid_auto_flow": null,
            "grid_area": null,
            "grid_template_columns": null,
            "flex": null,
            "_model_name": "LayoutModel",
            "justify_items": null,
            "grid_row": null,
            "max_height": null,
            "align_content": null,
            "visibility": null,
            "align_self": null,
            "height": null,
            "min_height": null,
            "padding": null,
            "grid_auto_rows": null,
            "grid_gap": null,
            "max_width": null,
            "order": null,
            "_view_module_version": "1.2.0",
            "grid_template_areas": null,
            "object_position": null,
            "object_fit": null,
            "grid_auto_columns": null,
            "margin": null,
            "display": null,
            "left": null
          }
        },
        "0ba2841adc5545fc9a1b4c410ba18cc2": {
          "model_module": "@jupyter-widgets/controls",
          "model_name": "HBoxModel",
          "state": {
            "_view_name": "HBoxView",
            "_dom_classes": [],
            "_model_name": "HBoxModel",
            "_view_module": "@jupyter-widgets/controls",
            "_model_module_version": "1.5.0",
            "_view_count": null,
            "_view_module_version": "1.5.0",
            "box_style": "",
            "layout": "IPY_MODEL_76ce758cd89845bfb1717cd71cdb817a",
            "_model_module": "@jupyter-widgets/controls",
            "children": [
              "IPY_MODEL_fb71025f343b46f0850de9182de3b95d",
              "IPY_MODEL_e631fff6a1124c9e89421ec02cc13ec3"
            ]
          }
        },
        "76ce758cd89845bfb1717cd71cdb817a": {
          "model_module": "@jupyter-widgets/base",
          "model_name": "LayoutModel",
          "state": {
            "_view_name": "LayoutView",
            "grid_template_rows": null,
            "right": null,
            "justify_content": null,
            "_view_module": "@jupyter-widgets/base",
            "overflow": null,
            "_model_module_version": "1.2.0",
            "_view_count": null,
            "flex_flow": null,
            "width": null,
            "min_width": null,
            "border": null,
            "align_items": null,
            "bottom": null,
            "_model_module": "@jupyter-widgets/base",
            "top": null,
            "grid_column": null,
            "overflow_y": null,
            "overflow_x": null,
            "grid_auto_flow": null,
            "grid_area": null,
            "grid_template_columns": null,
            "flex": null,
            "_model_name": "LayoutModel",
            "justify_items": null,
            "grid_row": null,
            "max_height": null,
            "align_content": null,
            "visibility": null,
            "align_self": null,
            "height": null,
            "min_height": null,
            "padding": null,
            "grid_auto_rows": null,
            "grid_gap": null,
            "max_width": null,
            "order": null,
            "_view_module_version": "1.2.0",
            "grid_template_areas": null,
            "object_position": null,
            "object_fit": null,
            "grid_auto_columns": null,
            "margin": null,
            "display": null,
            "left": null
          }
        },
        "fb71025f343b46f0850de9182de3b95d": {
          "model_module": "@jupyter-widgets/controls",
          "model_name": "FloatProgressModel",
          "state": {
            "_view_name": "ProgressView",
            "style": "IPY_MODEL_527eae1c40984d5eb6068a76a9b525f8",
            "_dom_classes": [],
            "description": "100%",
            "_model_name": "FloatProgressModel",
            "bar_style": "success",
            "max": 20,
            "_view_module": "@jupyter-widgets/controls",
            "_model_module_version": "1.5.0",
            "value": 20,
            "_view_count": null,
            "_view_module_version": "1.5.0",
            "orientation": "horizontal",
            "min": 0,
            "description_tooltip": null,
            "_model_module": "@jupyter-widgets/controls",
            "layout": "IPY_MODEL_5ee47ad26b48414589d4dff095a43051"
          }
        },
        "e631fff6a1124c9e89421ec02cc13ec3": {
          "model_module": "@jupyter-widgets/controls",
          "model_name": "HTMLModel",
          "state": {
            "_view_name": "HTMLView",
            "style": "IPY_MODEL_65a8355a850d4d28a4004cd10b0d3fea",
            "_dom_classes": [],
            "description": "",
            "_model_name": "HTMLModel",
            "placeholder": "​",
            "_view_module": "@jupyter-widgets/controls",
            "_model_module_version": "1.5.0",
            "value": " 20/20 [1:06:13&lt;00:00, 198.67s/it]",
            "_view_count": null,
            "_view_module_version": "1.5.0",
            "description_tooltip": null,
            "_model_module": "@jupyter-widgets/controls",
            "layout": "IPY_MODEL_ba109164f88c422fab9a057b91d636b3"
          }
        },
        "527eae1c40984d5eb6068a76a9b525f8": {
          "model_module": "@jupyter-widgets/controls",
          "model_name": "ProgressStyleModel",
          "state": {
            "_view_name": "StyleView",
            "_model_name": "ProgressStyleModel",
            "description_width": "initial",
            "_view_module": "@jupyter-widgets/base",
            "_model_module_version": "1.5.0",
            "_view_count": null,
            "_view_module_version": "1.2.0",
            "bar_color": null,
            "_model_module": "@jupyter-widgets/controls"
          }
        },
        "5ee47ad26b48414589d4dff095a43051": {
          "model_module": "@jupyter-widgets/base",
          "model_name": "LayoutModel",
          "state": {
            "_view_name": "LayoutView",
            "grid_template_rows": null,
            "right": null,
            "justify_content": null,
            "_view_module": "@jupyter-widgets/base",
            "overflow": null,
            "_model_module_version": "1.2.0",
            "_view_count": null,
            "flex_flow": null,
            "width": null,
            "min_width": null,
            "border": null,
            "align_items": null,
            "bottom": null,
            "_model_module": "@jupyter-widgets/base",
            "top": null,
            "grid_column": null,
            "overflow_y": null,
            "overflow_x": null,
            "grid_auto_flow": null,
            "grid_area": null,
            "grid_template_columns": null,
            "flex": null,
            "_model_name": "LayoutModel",
            "justify_items": null,
            "grid_row": null,
            "max_height": null,
            "align_content": null,
            "visibility": null,
            "align_self": null,
            "height": null,
            "min_height": null,
            "padding": null,
            "grid_auto_rows": null,
            "grid_gap": null,
            "max_width": null,
            "order": null,
            "_view_module_version": "1.2.0",
            "grid_template_areas": null,
            "object_position": null,
            "object_fit": null,
            "grid_auto_columns": null,
            "margin": null,
            "display": null,
            "left": null
          }
        },
        "65a8355a850d4d28a4004cd10b0d3fea": {
          "model_module": "@jupyter-widgets/controls",
          "model_name": "DescriptionStyleModel",
          "state": {
            "_view_name": "StyleView",
            "_model_name": "DescriptionStyleModel",
            "description_width": "",
            "_view_module": "@jupyter-widgets/base",
            "_model_module_version": "1.5.0",
            "_view_count": null,
            "_view_module_version": "1.2.0",
            "_model_module": "@jupyter-widgets/controls"
          }
        },
        "ba109164f88c422fab9a057b91d636b3": {
          "model_module": "@jupyter-widgets/base",
          "model_name": "LayoutModel",
          "state": {
            "_view_name": "LayoutView",
            "grid_template_rows": null,
            "right": null,
            "justify_content": null,
            "_view_module": "@jupyter-widgets/base",
            "overflow": null,
            "_model_module_version": "1.2.0",
            "_view_count": null,
            "flex_flow": null,
            "width": null,
            "min_width": null,
            "border": null,
            "align_items": null,
            "bottom": null,
            "_model_module": "@jupyter-widgets/base",
            "top": null,
            "grid_column": null,
            "overflow_y": null,
            "overflow_x": null,
            "grid_auto_flow": null,
            "grid_area": null,
            "grid_template_columns": null,
            "flex": null,
            "_model_name": "LayoutModel",
            "justify_items": null,
            "grid_row": null,
            "max_height": null,
            "align_content": null,
            "visibility": null,
            "align_self": null,
            "height": null,
            "min_height": null,
            "padding": null,
            "grid_auto_rows": null,
            "grid_gap": null,
            "max_width": null,
            "order": null,
            "_view_module_version": "1.2.0",
            "grid_template_areas": null,
            "object_position": null,
            "object_fit": null,
            "grid_auto_columns": null,
            "margin": null,
            "display": null,
            "left": null
          }
        }
      }
    }
  },
  "cells": [
    {
      "cell_type": "markdown",
      "metadata": {
        "id": "MY5vLjwPDT7y",
        "colab_type": "text"
      },
      "source": [
        "# COMP5046 Assignment2 \n",
        "\n",
        "Authors:\n",
        "- Xinyue Wang (440359463)\n",
        "- Xiang Zhou ()\n",
        "\n",
        "Both authors made equal contribution to this assignment.\n",
        "\n",
        "## Read ME\n"
      ]
    },
    {
      "cell_type": "markdown",
      "metadata": {
        "id": "TT6hNaFtFhPp",
        "colab_type": "text"
      },
      "source": [
        "## 1.Load Data\n",
        "\n",
        "In this section, we load train, validation and test data from Google Drive."
      ]
    },
    {
      "cell_type": "code",
      "metadata": {
        "id": "W3osDDD-A5Bm",
        "colab_type": "code",
        "outputId": "4277468d-0aaa-4a16-a620-545cd408a3aa",
        "colab": {
          "base_uri": "https://localhost:8080/",
          "height": 497
        }
      },
      "source": [
        "import numpy as np\n",
        "import pandas as pd\n",
        "from sklearn.model_selection import train_test_split\n",
        "import matplotlib.pyplot as plt\n",
        "import matplotlib\n",
        "\n",
        "from google.colab import drive\n",
        "drive.mount('/content/drive')\n",
        "df_train = pd.read_csv('/content/drive/My Drive/train.csv')\n",
        "df_test= pd.read_csv('/content/drive/My Drive/test.csv')\n",
        "df_val= pd.read_csv('/content/drive/My Drive/val.csv')\n",
        "df_train.head(10)"
      ],
      "execution_count": 0,
      "outputs": [
        {
          "output_type": "stream",
          "text": [
            "Drive already mounted at /content/drive; to attempt to forcibly remount, call drive.mount(\"/content/drive\", force_remount=True).\n"
          ],
          "name": "stdout"
        },
        {
          "output_type": "execute_result",
          "data": {
            "text/html": [
              "<div>\n",
              "<style scoped>\n",
              "    .dataframe tbody tr th:only-of-type {\n",
              "        vertical-align: middle;\n",
              "    }\n",
              "\n",
              "    .dataframe tbody tr th {\n",
              "        vertical-align: top;\n",
              "    }\n",
              "\n",
              "    .dataframe thead th {\n",
              "        text-align: right;\n",
              "    }\n",
              "</style>\n",
              "<table border=\"1\" class=\"dataframe\">\n",
              "  <thead>\n",
              "    <tr style=\"text-align: right;\">\n",
              "      <th></th>\n",
              "      <th>Sentence</th>\n",
              "      <th>NER</th>\n",
              "    </tr>\n",
              "  </thead>\n",
              "  <tbody>\n",
              "    <tr>\n",
              "      <th>0</th>\n",
              "      <td>-docstart-</td>\n",
              "      <td>O</td>\n",
              "    </tr>\n",
              "    <tr>\n",
              "      <th>1</th>\n",
              "      <td>eu rejects german call to boycott british lamb .</td>\n",
              "      <td>I-ORG O I-MISC O O O I-MISC O O</td>\n",
              "    </tr>\n",
              "    <tr>\n",
              "      <th>2</th>\n",
              "      <td>peter blackburn</td>\n",
              "      <td>I-PER I-PER</td>\n",
              "    </tr>\n",
              "    <tr>\n",
              "      <th>3</th>\n",
              "      <td>brussels 1996-08-22</td>\n",
              "      <td>I-LOC O</td>\n",
              "    </tr>\n",
              "    <tr>\n",
              "      <th>4</th>\n",
              "      <td>the european commission said on thursday it di...</td>\n",
              "      <td>O I-ORG I-ORG O O O O O O I-MISC O O O O O I-M...</td>\n",
              "    </tr>\n",
              "    <tr>\n",
              "      <th>5</th>\n",
              "      <td>germany 's representative to the european unio...</td>\n",
              "      <td>I-LOC O O O O I-ORG I-ORG O O O I-PER I-PER O ...</td>\n",
              "    </tr>\n",
              "    <tr>\n",
              "      <th>6</th>\n",
              "      <td>\" we do n't support any such recommendation be...</td>\n",
              "      <td>O O O O O O O O O O O O O O O O O O O O I-ORG ...</td>\n",
              "    </tr>\n",
              "    <tr>\n",
              "      <th>7</th>\n",
              "      <td>he said further scientific study was required ...</td>\n",
              "      <td>O O O O O O O O O O O O O O O O O O O O O O I-...</td>\n",
              "    </tr>\n",
              "    <tr>\n",
              "      <th>8</th>\n",
              "      <td>he said a proposal last month by eu farm commi...</td>\n",
              "      <td>O O O O O O O I-ORG O O I-PER I-PER O O O O O ...</td>\n",
              "    </tr>\n",
              "    <tr>\n",
              "      <th>9</th>\n",
              "      <td>fischler proposed eu-wide measures after repor...</td>\n",
              "      <td>I-PER O I-MISC O O O O I-LOC O I-LOC O O O O O...</td>\n",
              "    </tr>\n",
              "  </tbody>\n",
              "</table>\n",
              "</div>"
            ],
            "text/plain": [
              "                                            Sentence                                                NER\n",
              "0                                         -docstart-                                                  O\n",
              "1   eu rejects german call to boycott british lamb .                    I-ORG O I-MISC O O O I-MISC O O\n",
              "2                                    peter blackburn                                        I-PER I-PER\n",
              "3                                brussels 1996-08-22                                            I-LOC O\n",
              "4  the european commission said on thursday it di...  O I-ORG I-ORG O O O O O O I-MISC O O O O O I-M...\n",
              "5  germany 's representative to the european unio...  I-LOC O O O O I-ORG I-ORG O O O I-PER I-PER O ...\n",
              "6  \" we do n't support any such recommendation be...  O O O O O O O O O O O O O O O O O O O O I-ORG ...\n",
              "7  he said further scientific study was required ...  O O O O O O O O O O O O O O O O O O O O O O I-...\n",
              "8  he said a proposal last month by eu farm commi...  O O O O O O O I-ORG O O I-PER I-PER O O O O O ...\n",
              "9  fischler proposed eu-wide measures after repor...  I-PER O I-MISC O O O O I-LOC O I-LOC O O O O O..."
            ]
          },
          "metadata": {
            "tags": []
          },
          "execution_count": 1
        }
      ]
    },
    {
      "cell_type": "markdown",
      "metadata": {
        "id": "_6Jo5H8aEOb8",
        "colab_type": "text"
      },
      "source": [
        "## 2.Data Processing and Insight Analysis\n",
        "\n",
        "In this section, we do some processing to dataset including:\n",
        "\n",
        "1. Split sentence and NER by space\n",
        "2. Build a vocabulary - `word_to_ix` which assigns all words in train, validation and test integer indices for later input embedding construction\n",
        "\n",
        "Also some insight analysis is conducted including:\n",
        "\n",
        "1. NER tag distrbution\n"
      ]
    },
    {
      "cell_type": "code",
      "metadata": {
        "id": "UAac3HOCL69W",
        "colab_type": "code",
        "colab": {}
      },
      "source": [
        "train_data=[sentence.split() for sentence in df_train.Sentence]\n",
        "target_y_train=[sentence.split() for sentence in df_train.NER]\n",
        "\n",
        "test_data=[sentence.split() for sentence in df_test.Sentence]\n",
        "# target_y_test=[sentence.split() for sentence in df_test.NER]  # all NANs\n",
        "\n",
        "validation_data=[sentence.split() for sentence in df_val.Sentence]\n",
        "target_y_validation=[sentence.split() for sentence in df_val.NER]"
      ],
      "execution_count": 0,
      "outputs": []
    },
    {
      "cell_type": "code",
      "metadata": {
        "id": "Utn-5_tSKSQw",
        "colab_type": "code",
        "outputId": "15a2657b-12e8-4996-9ba2-3a55047d726a",
        "colab": {
          "base_uri": "https://localhost:8080/",
          "height": 240
        }
      },
      "source": [
        "word_to_ix = {}\n",
        "for sentence in train_data+validation_data+test_data:\n",
        "    for word in sentence:\n",
        "        word = word.lower()\n",
        "        if word not in word_to_ix:\n",
        "            word_to_ix[word] = len(word_to_ix)\n",
        "word_list = list(word_to_ix.keys())\n",
        "\n",
        "START_TAG = \"<START>\"\n",
        "STOP_TAG = \"<STOP>\"\n",
        "tag_to_ix = {START_TAG:0, STOP_TAG:1}\n",
        "for tags in target_y_train+target_y_validation:\n",
        "    for tag in tags:\n",
        "        if tag not in tag_to_ix:\n",
        "            tag_to_ix[tag] = len(tag_to_ix)\n",
        "\n",
        "# quick check\n",
        "print('Word list length: ',len(word_list))\n",
        "print(tag_to_ix)\n",
        "for i, (key, val) in enumerate(word_to_ix.items()):\n",
        "  if i > 10:\n",
        "    break\n",
        "  print(key, val)"
      ],
      "execution_count": 0,
      "outputs": [
        {
          "output_type": "stream",
          "text": [
            "Word list length:  13972\n",
            "{'<START>': 0, '<STOP>': 1, 'O': 2, 'I-ORG': 3, 'I-MISC': 4, 'I-PER': 5, 'I-LOC': 6}\n",
            "-docstart- 0\n",
            "eu 1\n",
            "rejects 2\n",
            "german 3\n",
            "call 4\n",
            "to 5\n",
            "boycott 6\n",
            "british 7\n",
            "lamb 8\n",
            ". 9\n",
            "peter 10\n"
          ],
          "name": "stdout"
        }
      ]
    },
    {
      "cell_type": "code",
      "metadata": {
        "id": "iNskLGvAHZV2",
        "colab_type": "code",
        "outputId": "3f6b7837-db1e-41a5-8b96-d28d58425cbc",
        "colab": {
          "base_uri": "https://localhost:8080/",
          "height": 51
        }
      },
      "source": [
        "def to_index(data, to_ix):\n",
        "    input_index_list = []\n",
        "    for sent in data:\n",
        "        input_index_list.append([to_ix[w] for w in sent])\n",
        "    return input_index_list\n",
        "\n",
        "train_input_index =  to_index(train_data,word_to_ix)\n",
        "train_output_index = to_index(target_y_train,tag_to_ix)\n",
        "val_input_index = to_index(validation_data,word_to_ix)\n",
        "val_output_index = to_index(target_y_validation,tag_to_ix)\n",
        "test_input_index = to_index(test_data,word_to_ix)\n",
        "\n",
        "# quick check\n",
        "print(train_input_index[1])\n",
        "print(train_output_index[1])"
      ],
      "execution_count": 0,
      "outputs": [
        {
          "output_type": "stream",
          "text": [
            "[1, 2, 3, 4, 5, 6, 7, 8, 9]\n",
            "[3, 2, 4, 2, 2, 2, 4, 2, 2]\n"
          ],
          "name": "stdout"
        }
      ]
    },
    {
      "cell_type": "code",
      "metadata": {
        "id": "dWWGOerI9Bry",
        "colab_type": "code",
        "outputId": "6f4b4ac2-d5ca-4446-cecc-29f8ff879aca",
        "colab": {
          "base_uri": "https://localhost:8080/",
          "height": 281
        }
      },
      "source": [
        "# distribution of labels\n",
        "import matplotlib.pyplot as pl\n",
        "from collections import Counter\n",
        "\n",
        "all_tags = []\n",
        "for tags in target_y_train+target_y_validation:\n",
        "  all_tags += tags\n",
        "\n",
        "counter = Counter(all_tags)\n",
        "tag_types = list(counter.keys())\n",
        "tag_counts = list(counter.values())\n",
        "\n",
        "pl.bar(range(len(tag_types)), tag_counts)\n",
        "pl.xticks(range(len(tag_types)), tag_types)\n",
        "pl.ylabel('Counts')\n",
        "pl.title('NER Tag Type Distribution')\n",
        "pl.show()"
      ],
      "execution_count": 0,
      "outputs": [
        {
          "output_type": "display_data",
          "data": {
            "image/png": "[encoded data removed]",
            "text/plain": [
              "<Figure size 432x288 with 1 Axes>"
            ]
          },
          "metadata": {
            "tags": [],
            "needs_background": "light"
          }
        }
      ]
    },
    {
      "cell_type": "markdown",
      "metadata": {
        "id": "Q2b-oIc1FWxC",
        "colab_type": "text"
      },
      "source": [
        "We found there are 5 unique NER tags in the dataset and that the distribution of NER tags are not uniform. Majority of NER tags are \"Others\". This can create challenges in the model training since the classes are not balanced.\n"
      ]
    },
    {
      "cell_type": "markdown",
      "metadata": {
        "id": "C1jbsuRFA5B-",
        "colab_type": "text"
      },
      "source": [
        "## 3.Input Embeddings\n",
        "\n",
        "In this section, we implement 3 different types of input embeddings:\n",
        "\n",
        "1. Word to vec embedding\n",
        "2. POS tag embedding\n",
        "3. TF-IDF embedding\n",
        "\n",
        "The embeddings help project each words into a rich feature space for NER model to learn to best predict the NER tags as accurately as possible. \n",
        "\n",
        "We will experiment different combinations of input embeddings and adopt the one gives best result.\n"
      ]
    },
    {
      "cell_type": "markdown",
      "metadata": {
        "id": "gggA7Y4eHI-J",
        "colab_type": "text"
      },
      "source": [
        "### 3.1 Word2Vec Embedding\n",
        "\n",
        "Here we use the pre-trained word embedding: `glove-twitter-25`.\n"
      ]
    },
    {
      "cell_type": "code",
      "metadata": {
        "id": "l2_S5twPHgKY",
        "colab_type": "code",
        "outputId": "3f154791-8f09-42c5-872c-9203fdc30991",
        "colab": {
          "base_uri": "https://localhost:8080/",
          "height": 172,
          "referenced_widgets": [
            "f16e1ea980824719a64ad746e9bec16b",
            "19b3c702dec644c68faf24f5b0d210ab",
            "b23711aa8bdf4b269cc2e9f251f08e75",
            "800877fbedb54b2cbb4ea7a0ba9730f4",
            "c961fee0261041ebbb8867064e3c1d5c",
            "51f784fd4c804556a88a23c98052995a",
            "533d43867cd34f3db703b486bd8185e9",
            "eda8354a99164bab81b87ffba28e67fe"
          ]
        }
      },
      "source": [
        "import gensim.downloader as api\n",
        "from tqdm.notebook import tqdm\n",
        "\n",
        "word_emb_model = api.load(\"glove-twitter-25\") \n",
        "\n",
        "WORD_EMBEDDING_DIM = 25\n",
        "\n",
        "word_embedding_matrix = []\n",
        "for word in tqdm(word_list):\n",
        "    try:\n",
        "        word_embedding_matrix.append(word_emb_model.wv[word])\n",
        "    except:\n",
        "        word_embedding_matrix.append([0]*WORD_EMBEDDING_DIM)\n",
        "word_embedding_matrix = np.array(word_embedding_matrix)\n",
        "\n",
        "# quick check embedding size\n",
        "print(f'Word embedding matrix shape = {word_embedding_matrix.shape}')"
      ],
      "execution_count": 0,
      "outputs": [
        {
          "output_type": "stream",
          "text": [
            "/usr/local/lib/python3.6/dist-packages/smart_open/smart_open_lib.py:253: UserWarning: This function is deprecated, use smart_open.open instead. See the migration notes for details: https://github.com/RaRe-Technologies/smart_open/blob/master/README.rst#migrating-to-the-new-open-function\n",
            "  'See the migration notes for details: %s' % _MIGRATION_NOTES_URL\n"
          ],
          "name": "stderr"
        },
        {
          "output_type": "display_data",
          "data": {
            "application/vnd.jupyter.widget-view+json": {
              "model_id": "f16e1ea980824719a64ad746e9bec16b",
              "version_minor": 0,
              "version_major": 2
            },
            "text/plain": [
              "HBox(children=(FloatProgress(value=0.0, max=13972.0), HTML(value='')))"
            ]
          },
          "metadata": {
            "tags": []
          }
        },
        {
          "output_type": "stream",
          "text": [
            "\n",
            "Word embedding matrix shape = (13972, 25)\n"
          ],
          "name": "stdout"
        },
        {
          "output_type": "stream",
          "text": [
            "/usr/local/lib/python3.6/dist-packages/ipykernel_launcher.py:11: DeprecationWarning: Call to deprecated `wv` (Attribute will be removed in 4.0.0, use self instead).\n",
            "  # This is added back by InteractiveShellApp.init_path()\n"
          ],
          "name": "stderr"
        }
      ]
    },
    {
      "cell_type": "markdown",
      "metadata": {
        "id": "Yo3uhS76IaOj",
        "colab_type": "text"
      },
      "source": [
        "### 3.2 POS Tag Embedding\n",
        "\n",
        "Part-of-Speech (POS) is a class of words based on the word's function, they way it works in a sentence.\n",
        "\n",
        "Having this tag might help the NER model to predict the labels accurately. In this section, we will create POST tag embedding for our vocabulary. \n",
        "\n",
        "Note that the final POS tag embedding would be a matrix of size \n",
        "\n",
        "```\n",
        "(vocabulary_size, num_pos_tags)\n",
        "```\n",
        "\n",
        "i.e. the POS tag of each word will be one-hot encoded so that each vector is 0-1 vector where 1 refers to the index of the pos tag and all zeros elsewhere."
      ]
    },
    {
      "cell_type": "code",
      "metadata": {
        "id": "6g5qaQsXaVzB",
        "colab_type": "code",
        "outputId": "254b7482-ef87-4741-bf32-5a9fec380692",
        "colab": {
          "base_uri": "https://localhost:8080/",
          "height": 103
        }
      },
      "source": [
        "import nltk\n",
        "from nltk.tokenize import word_tokenize\n",
        "nltk.download('averaged_perceptron_tagger')"
      ],
      "execution_count": 0,
      "outputs": [
        {
          "output_type": "stream",
          "text": [
            "[nltk_data] Downloading package averaged_perceptron_tagger to\n",
            "[nltk_data]     /root/nltk_data...\n",
            "[nltk_data]   Package averaged_perceptron_tagger is already up-to-\n",
            "[nltk_data]       date!\n"
          ],
          "name": "stdout"
        },
        {
          "output_type": "execute_result",
          "data": {
            "text/plain": [
              "True"
            ]
          },
          "metadata": {
            "tags": []
          },
          "execution_count": 7
        }
      ]
    },
    {
      "cell_type": "code",
      "metadata": {
        "id": "9UA5qjnLaffH",
        "colab_type": "code",
        "outputId": "1ad8ae3f-08e2-4dd5-c1f7-7ff54e7b26b3",
        "colab": {
          "base_uri": "https://localhost:8080/",
          "height": 66,
          "referenced_widgets": [
            "87a8468a56b04b5aa0cc9b684066b75a",
            "e8a68185ea764863b41bd9f28ff457cc",
            "58fc18e1009446baa83e1eac1a0e7fbd",
            "011b5dd9b00843d3a8551e6f75d3f02b",
            "980e36979eae408abd3458a9b119ee4c",
            "664183d47a3546098dce00c77faf9dc1",
            "745d6ae4f10449c3a331471482365bee",
            "f5442230516d4022a606266652a2c10c"
          ]
        }
      },
      "source": [
        "word_pos_tag = {}\n",
        "for word in tqdm(word_list):\n",
        "  word_pos_tag[word] = nltk.pos_tag(word)[0][-1]\n"
      ],
      "execution_count": 0,
      "outputs": [
        {
          "output_type": "display_data",
          "data": {
            "application/vnd.jupyter.widget-view+json": {
              "model_id": "87a8468a56b04b5aa0cc9b684066b75a",
              "version_minor": 0,
              "version_major": 2
            },
            "text/plain": [
              "HBox(children=(FloatProgress(value=0.0, max=13972.0), HTML(value='')))"
            ]
          },
          "metadata": {
            "tags": []
          }
        },
        {
          "output_type": "stream",
          "text": [
            "\n"
          ],
          "name": "stdout"
        }
      ]
    },
    {
      "cell_type": "code",
      "metadata": {
        "id": "RpqFGQJecyWs",
        "colab_type": "code",
        "outputId": "65de823b-c59a-49e2-f844-ef574a2820a1",
        "colab": {
          "base_uri": "https://localhost:8080/",
          "height": 298
        }
      },
      "source": [
        "def draw_pos_barchart(word_pos_tag):\n",
        "  \"\"\"Visualize the POS tag distribution.\"\"\"\n",
        "  all_pos_tags = list(word_pos_tag.values())\n",
        "  counter = Counter(all_pos_tags)\n",
        "\n",
        "  tag_types = list(counter.keys())\n",
        "  tag_counts = list(counter.values())\n",
        "  print(f'There are {len(tag_types)} kinds of POS tags')\n",
        "  pl.bar(range(len(tag_types)), tag_counts)\n",
        "  pl.xticks(range(len(tag_types)), tag_types)\n",
        "  pl.ylabel('Counts')\n",
        "  pl.title('POS Tag Type Distribution')\n",
        "  pl.show()\n",
        "\n",
        "draw_pos_barchart(word_pos_tag)"
      ],
      "execution_count": 0,
      "outputs": [
        {
          "output_type": "stream",
          "text": [
            "There are 20 kinds of POS tags\n"
          ],
          "name": "stdout"
        },
        {
          "output_type": "display_data",
          "data": {
            "image/png": "[encoded data removed]",
            "text/plain": [
              "<Figure size 432x288 with 1 Axes>"
            ]
          },
          "metadata": {
            "tags": [],
            "needs_background": "light"
          }
        }
      ]
    },
    {
      "cell_type": "markdown",
      "metadata": {
        "id": "kexN9hvddx_R",
        "colab_type": "text"
      },
      "source": [
        "#### 3.2.1 Clean POS tags\n",
        "\n",
        "From the bar chart above we can see there are some invalid pos tags such as following symbols:\n",
        "```\n",
        "'$', \"''\", '(', ')', ',', '.', ':', '``'\n",
        "```\n",
        "We need to clean the POS tags a bit to build a good POS tag embedding."
      ]
    },
    {
      "cell_type": "code",
      "metadata": {
        "id": "OfYqazBadjYW",
        "colab_type": "code",
        "outputId": "dd363f22-4928-4a21-c5cb-0a617a2c8584",
        "colab": {
          "base_uri": "https://localhost:8080/",
          "height": 347,
          "referenced_widgets": [
            "addc1480606c4a5790f4b96c148881bf",
            "59cccfd576234338854e2895c7323c5b",
            "7d19a4b7d6de4048aa9e11ed1aaa1e7c",
            "e083bcf755c540f7b8d563cc44822814",
            "ed6bd7a2cf924cfb83017ba880fa7740",
            "705df3ff540f4e52897cab37d7c66dec",
            "95fce619852c42d5bfe7d0d7ac0122a9",
            "efc4545db0274395ac3e7a1d8ef727d6"
          ]
        }
      },
      "source": [
        "invalid_pos_tags = ['$', \"''\", '(', ')', ',', '.', ':', '``']\n",
        "word_pos_tag = {}\n",
        "for word in tqdm(word_list):\n",
        "  tag = nltk.pos_tag(word)[0][-1]\n",
        "  if tag in invalid_pos_tags:\n",
        "    tag = 'symbols'\n",
        "  word_pos_tag[word] = tag\n",
        "draw_pos_barchart(word_pos_tag)"
      ],
      "execution_count": 0,
      "outputs": [
        {
          "output_type": "display_data",
          "data": {
            "application/vnd.jupyter.widget-view+json": {
              "model_id": "addc1480606c4a5790f4b96c148881bf",
              "version_minor": 0,
              "version_major": 2
            },
            "text/plain": [
              "HBox(children=(FloatProgress(value=0.0, max=13972.0), HTML(value='')))"
            ]
          },
          "metadata": {
            "tags": []
          }
        },
        {
          "output_type": "stream",
          "text": [
            "\n",
            "There are 13 kinds of POS tags\n"
          ],
          "name": "stdout"
        },
        {
          "output_type": "display_data",
          "data": {
            "image/png": "[encoded data removed]",
            "text/plain": [
              "<Figure size 432x288 with 1 Axes>"
            ]
          },
          "metadata": {
            "tags": [],
            "needs_background": "light"
          }
        }
      ]
    },
    {
      "cell_type": "markdown",
      "metadata": {
        "id": "0_PcgbFIfZNF",
        "colab_type": "text"
      },
      "source": [
        "#### 3.2.2 Onehot Encode POS Tag "
      ]
    },
    {
      "cell_type": "code",
      "metadata": {
        "id": "_ks0s4yJdMqj",
        "colab_type": "code",
        "outputId": "3648364f-636a-4689-d529-30ee99635ec6",
        "colab": {
          "base_uri": "https://localhost:8080/",
          "height": 240
        }
      },
      "source": [
        "pos_tag_to_index = {}\n",
        "for i, tag in enumerate(set(word_pos_tag.values())):\n",
        "  pos_tag_to_index[tag] = i\n",
        "pos_tag_size = len(pos_tag_to_index)\n",
        "pos_tag_to_index"
      ],
      "execution_count": 0,
      "outputs": [
        {
          "output_type": "execute_result",
          "data": {
            "text/plain": [
              "{'CC': 3,\n",
              " 'CD': 12,\n",
              " 'DT': 6,\n",
              " 'IN': 8,\n",
              " 'JJ': 11,\n",
              " 'LS': 5,\n",
              " 'NN': 9,\n",
              " 'NNS': 1,\n",
              " 'POS': 2,\n",
              " 'RB': 7,\n",
              " 'SYM': 4,\n",
              " 'VB': 0,\n",
              " 'symbols': 10}"
            ]
          },
          "metadata": {
            "tags": []
          },
          "execution_count": 11
        }
      ]
    },
    {
      "cell_type": "code",
      "metadata": {
        "id": "FBnC23YCf64-",
        "colab_type": "code",
        "outputId": "e50f0372-263e-4045-ab4d-1c3bbf08fb9f",
        "colab": {
          "base_uri": "https://localhost:8080/",
          "height": 83,
          "referenced_widgets": [
            "615c0953e2d848cfb22cc1661a160f9a",
            "cdd995b42a654ac5b42ea8e4127df713",
            "e11f861d78f3428996ddcf88fe7f37a2",
            "066f03a5c21e41afbf82299928b594b9",
            "21ce361fa9dd452fbf0ed54384422adf",
            "2d13984e03d1495f8876763f2f36b7d2",
            "a479763d41fc4fbf81ebf090c334c88e",
            "b64ab6516afe4213a2be7f0492c7e227"
          ]
        }
      },
      "source": [
        "pos_embedding_matrix = []\n",
        "for word in tqdm(word_list):\n",
        "  pos_vector = [0] * pos_tag_size\n",
        "  pos_tag = word_pos_tag[word]\n",
        "  pos_tag_index = pos_tag_to_index[pos_tag]\n",
        "  pos_vector[pos_tag_index] = 1\n",
        "  pos_embedding_matrix.append(pos_vector)\n",
        "pos_embedding_matrix = np.array(pos_embedding_matrix)\n",
        "print(f'POS Tag Embedding dimension={pos_embedding_matrix.shape}')"
      ],
      "execution_count": 0,
      "outputs": [
        {
          "output_type": "display_data",
          "data": {
            "application/vnd.jupyter.widget-view+json": {
              "model_id": "615c0953e2d848cfb22cc1661a160f9a",
              "version_minor": 0,
              "version_major": 2
            },
            "text/plain": [
              "HBox(children=(FloatProgress(value=0.0, max=13972.0), HTML(value='')))"
            ]
          },
          "metadata": {
            "tags": []
          }
        },
        {
          "output_type": "stream",
          "text": [
            "\n",
            "POS Tag Embedding dimension=(13972, 13)\n"
          ],
          "name": "stdout"
        }
      ]
    },
    {
      "cell_type": "markdown",
      "metadata": {
        "id": "0mEnYIXVg2kI",
        "colab_type": "text"
      },
      "source": [
        "### 3.3 TF-IDF Embedding\n",
        "Tf means term-frequency while tf-idf means term-frequency times inverse document-frequency. This is a common term weighting scheme in information retrieval, that has also found good use in document classification.\n",
        "\n",
        "Note that the final POS tag embedding would be a matrix of size\n",
        "\n",
        "```\n",
        "(vocabulary_size, 1)\n",
        "```"
      ]
    },
    {
      "cell_type": "code",
      "metadata": {
        "id": "UulF3PxgA5B_",
        "colab_type": "code",
        "outputId": "7e73c2cb-9fbf-457c-e4d9-c5c225a699a7",
        "colab": {
          "base_uri": "https://localhost:8080/",
          "height": 34
        }
      },
      "source": [
        "from sklearn.feature_extraction.text import CountVectorizer  \n",
        "from sklearn.feature_extraction.text import TfidfTransformer \n",
        "from sklearn.pipeline import Pipeline\n",
        "\n",
        "# get corpus\n",
        "corpus = df_train['Sentence'].tolist() + df_test['Sentence'].tolist() \\\n",
        "  + df_val['Sentence'].tolist()\n",
        "\n",
        "# get tfidf score\n",
        "pipe = Pipeline([('count', CountVectorizer(vocabulary=word_list)),\n",
        "                 ('tfid', TfidfTransformer())]).fit(corpus)\n",
        "\n",
        "tfidf_embedding = pipe['tfid'].idf_.reshape(-1, 1)\n",
        "print(f'TF-IDF Embedding dimension={tfidf_embedding.shape}')"
      ],
      "execution_count": 0,
      "outputs": [
        {
          "output_type": "stream",
          "text": [
            "TF-IDF Embedding dimension=(13972, 1)\n"
          ],
          "name": "stdout"
        }
      ]
    },
    {
      "cell_type": "markdown",
      "metadata": {
        "id": "4eBs93orjW-W",
        "colab_type": "text"
      },
      "source": [
        "### 3.4 Modulise Input Embedding\n",
        "\n",
        "In this section, we modulise the construction of input embedding where the selection of above 3 input embedding is decided when initalise this embedding object."
      ]
    },
    {
      "cell_type": "code",
      "metadata": {
        "id": "j_HU106yjokK",
        "colab_type": "code",
        "outputId": "036ee45c-c011-4199-a3a7-e6f33f862a69",
        "colab": {
          "base_uri": "https://localhost:8080/",
          "height": 34
        }
      },
      "source": [
        "class Embedding:\n",
        "\n",
        "  def __init__(self, use_word2vec, use_pos, use_tfidf):\n",
        "    \"\"\"Initialise an input embedding given selections of embedding types\n",
        "\n",
        "    Parameter\n",
        "    ---------\n",
        "    use_word2vec: bool\n",
        "    use_pos: bool\n",
        "    use_tfidf: bool\n",
        "    \"\"\"\n",
        "    assert any([use_word2vec, use_pos, use_tfidf])\n",
        "    self.dim = 0\n",
        "    self.matrix = []\n",
        "\n",
        "    if use_word2vec:\n",
        "      self.dim += word_embedding_matrix.shape[-1]\n",
        "      self.matrix.append(word_embedding_matrix)\n",
        "    if use_pos:\n",
        "      self.dim += pos_embedding_matrix.shape[-1]\n",
        "      self.matrix.append(pos_embedding_matrix)\n",
        "    if use_tfidf:\n",
        "      self.dim += tfidf_embedding.shape[-1]\n",
        "      self.matrix.append(tfidf_embedding)    \n",
        "\n",
        "    self.matrix = np.concatenate(self.matrix, axis=-1)\n",
        "    assert self.dim == self.matrix.shape[-1]\n",
        "\n",
        "# here we use 1 types of input embeddings\n",
        "embedding = Embedding(use_word2vec=True, use_pos=True, use_tfidf=True)\n",
        "embedding_dim = embedding.dim\n",
        "embedding_matrix = embedding.matrix\n",
        "print(f'Input Embedding Dimension={embedding_matrix.shape}')"
      ],
      "execution_count": 0,
      "outputs": [
        {
          "output_type": "stream",
          "text": [
            "Input Embedding Dimension=(13972, 39)\n"
          ],
          "name": "stdout"
        }
      ]
    },
    {
      "cell_type": "markdown",
      "metadata": {
        "id": "QnL3gPY4Q-tW",
        "colab_type": "text"
      },
      "source": [
        "## 4.NER Model"
      ]
    },
    {
      "cell_type": "markdown",
      "metadata": {
        "id": "-WB90afaolZp",
        "colab_type": "text"
      },
      "source": [
        "### 4.1 Bi-LSTM CRF "
      ]
    },
    {
      "cell_type": "code",
      "metadata": {
        "id": "a5AgRWakkfmT",
        "colab_type": "code",
        "colab": {}
      },
      "source": [
        "import torch\n",
        "import torch.autograd as autograd\n",
        "import torch.nn as nn\n",
        "import torch.optim as optim\n",
        "\n",
        "torch.manual_seed(1)\n",
        "\n",
        "def argmax(vec):\n",
        "    # return the argmax as a python int\n",
        "    _, idx = torch.max(vec, 1)\n",
        "    return idx.item()\n",
        "\n",
        "\n",
        "# Compute log sum exp in a numerically stable way for the forward algorithm\n",
        "def log_sum_exp(vec):\n",
        "    max_score = vec[0, argmax(vec)]\n",
        "    max_score_broadcast = max_score.view(1, -1).expand(1, vec.size()[1])\n",
        "    return max_score + \\\n",
        "        torch.log(torch.sum(torch.exp(vec - max_score_broadcast)))\n",
        "\n",
        "\n",
        "class BiLSTM_CRF(nn.Module):\n",
        "\n",
        "    def __init__(self, vocab_size, tag_to_ix, embedding_dim, embedding_matrix, hidden_dim, num_layers):\n",
        "        super(BiLSTM_CRF, self).__init__()\n",
        "        self.embedding_dim = embedding_dim\n",
        "        self.hidden_dim = hidden_dim\n",
        "        self.vocab_size = vocab_size\n",
        "        self.tag_to_ix = tag_to_ix\n",
        "        self.tagset_size = len(tag_to_ix)\n",
        "\n",
        "        self.word_embeds = nn.Embedding(vocab_size, embedding_dim)\n",
        "\n",
        "        \"\"\"Here we use the embedding matrix as the initial weights of nn.Embedding\"\"\"\n",
        "        self.word_embeds.weight.data.copy_(torch.from_numpy(embedding_matrix))\n",
        "        \n",
        "        self.num_layers = num_layers\n",
        "        self.lstm = nn.LSTM(embedding_dim, hidden_dim // 2,\n",
        "                            num_layers=num_layers, bidirectional=True)\n",
        "\n",
        "        # Maps the output of the LSTM into tag space.\n",
        "        self.hidden2tag = nn.Linear(hidden_dim, self.tagset_size)\n",
        "\n",
        "        # Matrix of transition parameters.  Entry i,j is the score of\n",
        "        # transitioning *to* i *from* j.\n",
        "        self.transitions = nn.Parameter(\n",
        "            torch.randn(self.tagset_size, self.tagset_size))\n",
        "\n",
        "        # These two statements enforce the constraint that we never transfer\n",
        "        # to the start tag and we never transfer from the stop tag\n",
        "        self.transitions.data[tag_to_ix[START_TAG], :] = -10000\n",
        "        self.transitions.data[:, tag_to_ix[STOP_TAG]] = -10000\n",
        "\n",
        "        self.hidden = self.init_hidden()\n",
        "\n",
        "    def init_hidden(self):\n",
        "        return (torch.randn(2 * self.num_layers, 1, self.hidden_dim // 2).to(device),\n",
        "                torch.randn(2 * self.num_layers, 1, self.hidden_dim // 2).to(device))\n",
        "\n",
        "    def _forward_alg(self, feats):\n",
        "        # Do the forward algorithm to compute the partition function\n",
        "        init_alphas = torch.full((1, self.tagset_size), -10000.).to(device)\n",
        "        # START_TAG has all of the score.\n",
        "        init_alphas[0][self.tag_to_ix[START_TAG]] = 0.\n",
        "\n",
        "        # Wrap in a variable so that we will get automatic backprop\n",
        "        forward_var = init_alphas\n",
        "\n",
        "        # Iterate through the sentence\n",
        "        for feat in feats:\n",
        "            alphas_t = []  # The forward tensors at this timestep\n",
        "            for next_tag in range(self.tagset_size):\n",
        "                # broadcast the emission score: it is the same regardless of\n",
        "                # the previous tag\n",
        "                emit_score = feat[next_tag].view(\n",
        "                    1, -1).expand(1, self.tagset_size)\n",
        "                # the ith entry of trans_score is the score of transitioning to\n",
        "                # next_tag from i\n",
        "                trans_score = self.transitions[next_tag].view(1, -1)\n",
        "                # The ith entry of next_tag_var is the value for the\n",
        "                # edge (i -> next_tag) before we do log-sum-exp\n",
        "                next_tag_var = forward_var + trans_score + emit_score\n",
        "                # The forward variable for this tag is log-sum-exp of all the\n",
        "                # scores.\n",
        "                alphas_t.append(log_sum_exp(next_tag_var).view(1))\n",
        "            forward_var = torch.cat(alphas_t).view(1, -1)\n",
        "        terminal_var = forward_var + self.transitions[self.tag_to_ix[STOP_TAG]]\n",
        "        alpha = log_sum_exp(terminal_var)\n",
        "        return alpha\n",
        "\n",
        "    def _get_lstm_features(self, sentence):\n",
        "        self.hidden = self.init_hidden()\n",
        "        embeds = self.word_embeds(sentence).view(len(sentence), 1, -1)\n",
        "        lstm_out, self.hidden = self.lstm(embeds, self.hidden)\n",
        "        lstm_out = lstm_out.view(len(sentence), self.hidden_dim)\n",
        "        lstm_feats = self.hidden2tag(lstm_out)\n",
        "        return lstm_feats\n",
        "\n",
        "    def _score_sentence(self, feats, tags):\n",
        "        # Gives the score of a provided tag sequence\n",
        "        score = torch.zeros(1).to(device)\n",
        "        tags = torch.cat([torch.tensor([self.tag_to_ix[START_TAG]], dtype=torch.long).to(device), tags])\n",
        "        for i, feat in enumerate(feats):\n",
        "            score = score + \\\n",
        "                self.transitions[tags[i + 1], tags[i]] + feat[tags[i + 1]]\n",
        "        score = score + self.transitions[self.tag_to_ix[STOP_TAG], tags[-1]]\n",
        "        return score\n",
        "\n",
        "    def _viterbi_decode(self, feats):\n",
        "        backpointers = []\n",
        "\n",
        "        # Initialize the viterbi variables in log space\n",
        "        init_vvars = torch.full((1, self.tagset_size), -10000.).to(device)\n",
        "        init_vvars[0][self.tag_to_ix[START_TAG]] = 0\n",
        "\n",
        "        # forward_var at step i holds the viterbi variables for step i-1\n",
        "        forward_var = init_vvars\n",
        "        for feat in feats:\n",
        "            bptrs_t = []  # holds the backpointers for this step\n",
        "            viterbivars_t = []  # holds the viterbi variables for this step\n",
        "\n",
        "            for next_tag in range(self.tagset_size):\n",
        "                # next_tag_var[i] holds the viterbi variable for tag i at the\n",
        "                # previous step, plus the score of transitioning\n",
        "                # from tag i to next_tag.\n",
        "                # We don't include the emission scores here because the max\n",
        "                # does not depend on them (we add them in below)\n",
        "                next_tag_var = forward_var + self.transitions[next_tag]\n",
        "                best_tag_id = argmax(next_tag_var)\n",
        "                bptrs_t.append(best_tag_id)\n",
        "                viterbivars_t.append(next_tag_var[0][best_tag_id].view(1))\n",
        "            # Now add in the emission scores, and assign forward_var to the set\n",
        "            # of viterbi variables we just computed\n",
        "            forward_var = (torch.cat(viterbivars_t) + feat).view(1, -1)\n",
        "            backpointers.append(bptrs_t)\n",
        "\n",
        "        # Transition to STOP_TAG\n",
        "        terminal_var = forward_var + self.transitions[self.tag_to_ix[STOP_TAG]]\n",
        "        best_tag_id = argmax(terminal_var)\n",
        "        path_score = terminal_var[0][best_tag_id]\n",
        "\n",
        "        # Follow the back pointers to decode the best path.\n",
        "        best_path = [best_tag_id]\n",
        "        for bptrs_t in reversed(backpointers):\n",
        "            best_tag_id = bptrs_t[best_tag_id]\n",
        "            best_path.append(best_tag_id)\n",
        "        # Pop off the start tag (we dont want to return that to the caller)\n",
        "        start = best_path.pop()\n",
        "        assert start == self.tag_to_ix[START_TAG]  # Sanity check\n",
        "        best_path.reverse()\n",
        "        return path_score, best_path\n",
        "\n",
        "    def neg_log_likelihood(self, sentence, tags):\n",
        "        feats = self._get_lstm_features(sentence)\n",
        "        forward_score = self._forward_alg(feats)\n",
        "        gold_score = self._score_sentence(feats, tags)\n",
        "        return forward_score - gold_score\n",
        "\n",
        "    def forward(self, sentence):  # dont confuse this with _forward_alg above.\n",
        "        # Get the emission scores from the BiLSTM\n",
        "        lstm_feats = self._get_lstm_features(sentence)\n",
        "\n",
        "        # Find the best path, given the features.\n",
        "        score, tag_seq = self._viterbi_decode(lstm_feats)\n",
        "        return score, tag_seq"
      ],
      "execution_count": 0,
      "outputs": []
    },
    {
      "cell_type": "markdown",
      "metadata": {
        "id": "VabadR6FAkiO",
        "colab_type": "text"
      },
      "source": [
        "### 4.2 ELMo Bi-LSTM\n",
        "\n",
        "ELMo embeddings are embeddings from a language model trained on the 1 Billion Word Benchmark and the pretrained version is available on tensorflow hub.\n",
        "\n",
        "\n",
        "ELMos use a pre-trained, multi-layer, bi-directional, LSTM-based language model and extract the hidden state of each layer for the input sequence of words. Then, they compute a weighted sum of those hidden states to obtain an embedding for each word. The weight of each hidden state is task-dependent and is learned.\n",
        "\n",
        "The code below references the demo code in this [blog](https://www.depends-on-the-definition.com/named-entity-recognition-with-residual-lstm-and-elmo/) and the idea comes from this [paper](https://arxiv.org/pdf/1903.07785v1.pdf)."
      ]
    },
    {
      "cell_type": "code",
      "metadata": {
        "id": "ovUl3XVjxP66",
        "colab_type": "code",
        "outputId": "2a303467-2a1d-4a9a-a85f-2ae132ba4bbe",
        "colab": {
          "base_uri": "https://localhost:8080/",
          "height": 34
        }
      },
      "source": [
        "# obtain maximum length of each sentence in whole cohorts - train, test and validation\n",
        "max_len = 0\n",
        "for seq in train_data + test_data + validation_data:\n",
        "  if len(seq) > max_len:\n",
        "    max_len = len(seq)\n",
        "max_len"
      ],
      "execution_count": 0,
      "outputs": [
        {
          "output_type": "execute_result",
          "data": {
            "text/plain": [
              "124"
            ]
          },
          "metadata": {
            "tags": []
          },
          "execution_count": 166
        }
      ]
    },
    {
      "cell_type": "code",
      "metadata": {
        "id": "EzfKUmgXAjA_",
        "colab_type": "code",
        "colab": {}
      },
      "source": [
        "from keras.preprocessing.sequence import pad_sequences\n",
        "\n",
        "# note batch size much be dividable by number of samples in train and validation\n",
        "batch_size = 20\n",
        "n_tags = len(tag_to_ix)\n",
        "\n",
        "\n",
        "# add padding words to each sentences \n",
        "def add_padding_X(data):\n",
        "  new_X = []\n",
        "  for seq in data:\n",
        "    new_seq = []\n",
        "    for i in range(max_len):\n",
        "      try: \n",
        "        new_seq.append(seq[i])\n",
        "      except:\n",
        "        new_seq.append('__PAD__')\n",
        "    new_X.append(new_seq)\n",
        "  return new_X\n",
        "\n",
        "# pad training data - both input sentence and output tags\n",
        "def add_padding(data, target):\n",
        "  new_X = add_padding_X(data)\n",
        "  y = pad_sequences(maxlen=max_len, sequences=target, padding='post',\n",
        "                  value=tag_to_ix['O'])\n",
        "  return new_X, y\n",
        "\n",
        "# padded training and validation data\n",
        "X_tr, y_tr = add_padding(train_data, train_output_index)\n",
        "X_val, y_val = add_padding(validation_data, val_output_index)\n",
        "\n",
        "# reshape target data so that it follows the NN defined below\n",
        "y_tr = y_tr.reshape(y_tr.shape[0], y_tr.shape[1], 1)\n",
        "y_val = y_val.reshape(y_val.shape[0], y_val.shape[1], 1)"
      ],
      "execution_count": 0,
      "outputs": []
    },
    {
      "cell_type": "code",
      "metadata": {
        "id": "cnaJEvy1Z6Mp",
        "colab_type": "code",
        "outputId": "0cbe7832-d244-43b5-e06f-c20c333c52e9",
        "colab": {
          "base_uri": "https://localhost:8080/",
          "height": 1000
        }
      },
      "source": [
        "# PLEASE MAKE SURE YOU HAVE tensorflow 1.x otherwise the code will fail\n",
        "!pip install tensorflow==1.15"
      ],
      "execution_count": 0,
      "outputs": [
        {
          "output_type": "stream",
          "text": [
            "Collecting tensorflow==1.15\n",
            "\u001b[?25l  Downloading https://files.pythonhosted.org/packages/3f/98/5a99af92fb911d7a88a0005ad55005f35b4c1ba8d75fba02df726cd936e6/tensorflow-1.15.0-cp36-cp36m-manylinux2010_x86_64.whl (412.3MB)\n",
            "\u001b[K     |████████████████████████████████| 412.3MB 45kB/s \n",
            "\u001b[?25hRequirement already satisfied: numpy<2.0,>=1.16.0 in /usr/local/lib/python3.6/dist-packages (from tensorflow==1.15) (1.18.4)\n",
            "Collecting tensorflow-estimator==1.15.1\n",
            "\u001b[?25l  Downloading https://files.pythonhosted.org/packages/de/62/2ee9cd74c9fa2fa450877847ba560b260f5d0fb70ee0595203082dafcc9d/tensorflow_estimator-1.15.1-py2.py3-none-any.whl (503kB)\n",
            "\u001b[K     |████████████████████████████████| 512kB 31.8MB/s \n",
            "\u001b[?25hRequirement already satisfied: protobuf>=3.6.1 in /usr/local/lib/python3.6/dist-packages (from tensorflow==1.15) (3.10.0)\n",
            "Requirement already satisfied: absl-py>=0.7.0 in /usr/local/lib/python3.6/dist-packages (from tensorflow==1.15) (0.9.0)\n",
            "Requirement already satisfied: keras-preprocessing>=1.0.5 in /usr/local/lib/python3.6/dist-packages (from tensorflow==1.15) (1.1.2)\n",
            "Requirement already satisfied: grpcio>=1.8.6 in /usr/local/lib/python3.6/dist-packages (from tensorflow==1.15) (1.29.0)\n",
            "Requirement already satisfied: wheel>=0.26 in /usr/local/lib/python3.6/dist-packages (from tensorflow==1.15) (0.34.2)\n",
            "Requirement already satisfied: keras-applications>=1.0.8 in /usr/local/lib/python3.6/dist-packages (from tensorflow==1.15) (1.0.8)\n",
            "Requirement already satisfied: opt-einsum>=2.3.2 in /usr/local/lib/python3.6/dist-packages (from tensorflow==1.15) (3.2.1)\n",
            "Collecting tensorboard<1.16.0,>=1.15.0\n",
            "\u001b[?25l  Downloading https://files.pythonhosted.org/packages/1e/e9/d3d747a97f7188f48aa5eda486907f3b345cd409f0a0850468ba867db246/tensorboard-1.15.0-py3-none-any.whl (3.8MB)\n",
            "\u001b[K     |████████████████████████████████| 3.8MB 35.5MB/s \n",
            "\u001b[?25hRequirement already satisfied: wrapt>=1.11.1 in /usr/local/lib/python3.6/dist-packages (from tensorflow==1.15) (1.12.1)\n",
            "Requirement already satisfied: termcolor>=1.1.0 in /usr/local/lib/python3.6/dist-packages (from tensorflow==1.15) (1.1.0)\n",
            "Collecting gast==0.2.2\n",
            "  Downloading https://files.pythonhosted.org/packages/4e/35/11749bf99b2d4e3cceb4d55ca22590b0d7c2c62b9de38ac4a4a7f4687421/gast-0.2.2.tar.gz\n",
            "Requirement already satisfied: astor>=0.6.0 in /usr/local/lib/python3.6/dist-packages (from tensorflow==1.15) (0.8.1)\n",
            "Requirement already satisfied: six>=1.10.0 in /usr/local/lib/python3.6/dist-packages (from tensorflow==1.15) (1.12.0)\n",
            "Requirement already satisfied: google-pasta>=0.1.6 in /usr/local/lib/python3.6/dist-packages (from tensorflow==1.15) (0.2.0)\n",
            "Requirement already satisfied: setuptools in /usr/local/lib/python3.6/dist-packages (from protobuf>=3.6.1->tensorflow==1.15) (46.3.0)\n",
            "Requirement already satisfied: h5py in /usr/local/lib/python3.6/dist-packages (from keras-applications>=1.0.8->tensorflow==1.15) (2.10.0)\n",
            "Requirement already satisfied: werkzeug>=0.11.15 in /usr/local/lib/python3.6/dist-packages (from tensorboard<1.16.0,>=1.15.0->tensorflow==1.15) (1.0.1)\n",
            "Requirement already satisfied: markdown>=2.6.8 in /usr/local/lib/python3.6/dist-packages (from tensorboard<1.16.0,>=1.15.0->tensorflow==1.15) (3.2.2)\n",
            "Requirement already satisfied: importlib-metadata; python_version < \"3.8\" in /usr/local/lib/python3.6/dist-packages (from markdown>=2.6.8->tensorboard<1.16.0,>=1.15.0->tensorflow==1.15) (1.6.0)\n",
            "Requirement already satisfied: zipp>=0.5 in /usr/local/lib/python3.6/dist-packages (from importlib-metadata; python_version < \"3.8\"->markdown>=2.6.8->tensorboard<1.16.0,>=1.15.0->tensorflow==1.15) (3.1.0)\n",
            "Building wheels for collected packages: gast\n",
            "  Building wheel for gast (setup.py) ... \u001b[?25l\u001b[?25hdone\n",
            "  Created wheel for gast: filename=gast-0.2.2-cp36-none-any.whl size=7540 sha256=af6d76cdd7777a92ef08d1f6c41449977fdb61944f93f173ef3bced2279b7169\n",
            "  Stored in directory: /root/.cache/pip/wheels/5c/2e/7e/a1d4d4fcebe6c381f378ce7743a3ced3699feb89bcfbdadadd\n",
            "Successfully built gast\n",
            "\u001b[31mERROR: tensorflow-probability 0.10.0 has requirement gast>=0.3.2, but you'll have gast 0.2.2 which is incompatible.\u001b[0m\n",
            "\u001b[31mERROR: tensorflow-gpu 2.2.0 has requirement gast==0.3.3, but you'll have gast 0.2.2 which is incompatible.\u001b[0m\n",
            "\u001b[31mERROR: tensorflow-gpu 2.2.0 has requirement tensorboard<2.3.0,>=2.2.0, but you'll have tensorboard 1.15.0 which is incompatible.\u001b[0m\n",
            "\u001b[31mERROR: tensorflow-gpu 2.2.0 has requirement tensorflow-estimator<2.3.0,>=2.2.0, but you'll have tensorflow-estimator 1.15.1 which is incompatible.\u001b[0m\n",
            "Installing collected packages: tensorflow-estimator, tensorboard, gast, tensorflow\n",
            "  Found existing installation: tensorflow-estimator 2.2.0\n",
            "    Uninstalling tensorflow-estimator-2.2.0:\n",
            "      Successfully uninstalled tensorflow-estimator-2.2.0\n",
            "  Found existing installation: tensorboard 2.2.1\n",
            "    Uninstalling tensorboard-2.2.1:\n",
            "      Successfully uninstalled tensorboard-2.2.1\n",
            "  Found existing installation: gast 0.3.3\n",
            "    Uninstalling gast-0.3.3:\n",
            "      Successfully uninstalled gast-0.3.3\n",
            "  Found existing installation: tensorflow 2.2.0\n",
            "    Uninstalling tensorflow-2.2.0:\n",
            "      Successfully uninstalled tensorflow-2.2.0\n",
            "Successfully installed gast-0.2.2 tensorboard-1.15.0 tensorflow-1.15.0 tensorflow-estimator-1.15.1\n"
          ],
          "name": "stdout"
        },
        {
          "output_type": "display_data",
          "data": {
            "application/vnd.colab-display-data+json": {
              "pip_warning": {
                "packages": [
                  "gast",
                  "tensorboard",
                  "tensorflow",
                  "tensorflow_estimator"
                ]
              }
            }
          },
          "metadata": {
            "tags": []
          }
        }
      ]
    },
    {
      "cell_type": "code",
      "metadata": {
        "id": "j7k0m2P-Xygx",
        "colab_type": "code",
        "colab": {}
      },
      "source": [
        "import tensorflow as tf\n",
        "import tensorflow_hub as hub\n",
        "from keras import backend as K\n",
        "\n",
        "sess = tf.Session()\n",
        "K.set_session(sess)\n",
        "\n",
        "# get the ELMO embedding from tensorflow hub\n",
        "elmo_model = hub.Module(\"https://tfhub.dev/google/elmo/2\", trainable=True)"
      ],
      "execution_count": 0,
      "outputs": []
    },
    {
      "cell_type": "code",
      "metadata": {
        "id": "6bY8Uk78X8Ba",
        "colab_type": "code",
        "colab": {}
      },
      "source": [
        "sess.run(tf.global_variables_initializer())\n",
        "sess.run(tf.tables_initializer())"
      ],
      "execution_count": 0,
      "outputs": []
    },
    {
      "cell_type": "code",
      "metadata": {
        "id": "Ysc_M4zmbXRP",
        "colab_type": "code",
        "colab": {}
      },
      "source": [
        "from keras.models import Model, Input\n",
        "from keras.layers.merge import add\n",
        "from keras.layers import LSTM, Embedding, Dense, TimeDistributed, Dropout, Bidirectional, Lambda\n",
        "\n",
        "\n",
        "def ElmoEmbedding(x):\n",
        "    \"\"\"Define ELMO embedding layer.\"\"\"\n",
        "    return elmo_model(inputs={\n",
        "                            \"tokens\": tf.squeeze(tf.cast(x, tf.string)),\n",
        "                            \"sequence_len\": tf.constant(batch_size*[max_len])\n",
        "                      },\n",
        "                      signature=\"tokens\",\n",
        "                      as_dict=True)[\"elmo\"]"
      ],
      "execution_count": 0,
      "outputs": []
    },
    {
      "cell_type": "code",
      "metadata": {
        "id": "cUIfZ-8pbaw6",
        "colab_type": "code",
        "outputId": "59c0dd31-2dfe-45ab-f768-0ae96bca7e09",
        "colab": {
          "base_uri": "https://localhost:8080/",
          "height": 51
        }
      },
      "source": [
        "# define the neural network \n",
        "# -----------------------------\n",
        "# Input Layer\n",
        "# -----------------------------\n",
        "# ELMO embedding layer\n",
        "# -----------------------------\n",
        "# Bi-LSTM layer + Dropout layer\n",
        "# -----------------------------\n",
        "# Bi-LSTM layer + Dropout layer\n",
        "# -----------------------------\n",
        "# Output layer\n",
        "# -----------------------------\n",
        "\n",
        "input_text = Input(shape=(max_len,), dtype=tf.string)\n",
        "embedding = Lambda(ElmoEmbedding, output_shape=(None, 1024))(input_text)\n",
        "x = Bidirectional(LSTM(units=512, return_sequences=True,\n",
        "                       recurrent_dropout=0.2, dropout=0.2))(embedding)\n",
        "x_rnn = Bidirectional(LSTM(units=512, return_sequences=True,\n",
        "                           recurrent_dropout=0.2, dropout=0.2))(x)\n",
        "x = add([x, x_rnn])  # residual connection to the first biLSTM\n",
        "out = TimeDistributed(Dense(n_tags, activation=\"softmax\"))(x)"
      ],
      "execution_count": 0,
      "outputs": [
        {
          "output_type": "stream",
          "text": [
            "INFO:tensorflow:Saver not created because there are no variables in the graph to restore\n"
          ],
          "name": "stdout"
        },
        {
          "output_type": "stream",
          "text": [
            "INFO:tensorflow:Saver not created because there are no variables in the graph to restore\n"
          ],
          "name": "stderr"
        }
      ]
    },
    {
      "cell_type": "code",
      "metadata": {
        "id": "4dv3-HSjboxw",
        "colab_type": "code",
        "colab": {}
      },
      "source": [
        "model = Model(input_text, out)\n",
        "model.compile(optimizer=\"adam\", loss=\"sparse_categorical_crossentropy\", metrics=[\"accuracy\"])\n"
      ],
      "execution_count": 0,
      "outputs": []
    },
    {
      "cell_type": "code",
      "metadata": {
        "id": "MRgiyrrUbuWL",
        "colab_type": "code",
        "outputId": "190f56c4-4149-4a4e-b07d-1544900f2f89",
        "colab": {
          "base_uri": "https://localhost:8080/",
          "height": 226
        }
      },
      "source": [
        "# start training!\n",
        "history = model.fit(np.array(X_tr), y_tr, \n",
        "                    validation_data=(np.array(X_val), y_val),\n",
        "                    batch_size=batch_size, epochs=5, verbose=1)"
      ],
      "execution_count": 0,
      "outputs": [
        {
          "output_type": "stream",
          "text": [
            "Train on 3000 samples, validate on 700 samples\n",
            "Epoch 1/5\n",
            "3000/3000 [==============================] - 330s 110ms/step - loss: 0.0600 - accuracy: 0.9824 - val_loss: 0.0135 - val_accuracy: 0.9953\n",
            "Epoch 2/5\n",
            "3000/3000 [==============================] - 326s 109ms/step - loss: 0.0151 - accuracy: 0.9950 - val_loss: 0.0131 - val_accuracy: 0.9956\n",
            "Epoch 3/5\n",
            "3000/3000 [==============================] - 326s 109ms/step - loss: 0.0100 - accuracy: 0.9967 - val_loss: 0.0127 - val_accuracy: 0.9958\n",
            "Epoch 4/5\n",
            "3000/3000 [==============================] - 326s 109ms/step - loss: 0.0074 - accuracy: 0.9975 - val_loss: 0.0079 - val_accuracy: 0.9974\n",
            "Epoch 5/5\n",
            "3000/3000 [==============================] - 327s 109ms/step - loss: 0.0054 - accuracy: 0.9982 - val_loss: 0.0076 - val_accuracy: 0.9975\n"
          ],
          "name": "stdout"
        }
      ]
    },
    {
      "cell_type": "code",
      "metadata": {
        "id": "gd6CT4wukv5E",
        "colab_type": "code",
        "outputId": "2da5c1a2-a37c-4b57-96b8-41020b20a424",
        "colab": {
          "base_uri": "https://localhost:8080/",
          "height": 666,
          "referenced_widgets": [
            "590788f017c94e04b6fe76cbca4916c6",
            "0e3bfbb485d14522b42c0f777811bd13",
            "8a52ec0a0fb442beb14a03ecc0d91009",
            "ab4c7af07a704bbc942ad527e979aa90",
            "5968bbf3745f49a2a08a02596d4b875b",
            "a221a1d7622844a1a4c1664a1ba76a2f",
            "edb8e2bc3c9c4d7699ad865391b97354",
            "be158077ebdb4a7e86a49107c3b5a8c2"
          ]
        }
      },
      "source": [
        "def get_nonpad_prediction(batch_data, prediction):\n",
        "  \"\"\"Get unpadded version of prediction.\"\"\"\n",
        "  nonpad_pred = []\n",
        "  for seq, pred in zip(batch_data, prediction):\n",
        "    np_pred = pred[:len(seq)]\n",
        "    nonpad_pred.append(np_pred)\n",
        "  return nonpad_pred\n",
        "\n",
        "# get validation result\n",
        "ntimes = int(len(X_val) / batch_size)\n",
        "\n",
        "pred_val = []\n",
        "for i in tqdm(range(ntimes)):\n",
        "  start = (i * batch_size)\n",
        "  end = (i + 1) * batch_size\n",
        "  print(f'Start={start} End={end}')\n",
        "  val_batch = np.array(X_val[start: end])\n",
        "  true_val_batch = validation_data[start: end]\n",
        "  prediction = model.predict(val_batch)\n",
        "  prediction = np.argmax(prediction, axis=-1)\n",
        "  pred_val += get_nonpad_prediction(true_val_batch, prediction)"
      ],
      "execution_count": 0,
      "outputs": [
        {
          "output_type": "display_data",
          "data": {
            "application/vnd.jupyter.widget-view+json": {
              "model_id": "590788f017c94e04b6fe76cbca4916c6",
              "version_minor": 0,
              "version_major": 2
            },
            "text/plain": [
              "HBox(children=(FloatProgress(value=0.0, max=35.0), HTML(value='')))"
            ]
          },
          "metadata": {
            "tags": []
          }
        },
        {
          "output_type": "stream",
          "text": [
            "Start=0 End=20\n",
            "Start=20 End=40\n",
            "Start=40 End=60\n",
            "Start=60 End=80\n",
            "Start=80 End=100\n",
            "Start=100 End=120\n",
            "Start=120 End=140\n",
            "Start=140 End=160\n",
            "Start=160 End=180\n",
            "Start=180 End=200\n",
            "Start=200 End=220\n",
            "Start=220 End=240\n",
            "Start=240 End=260\n",
            "Start=260 End=280\n",
            "Start=280 End=300\n",
            "Start=300 End=320\n",
            "Start=320 End=340\n",
            "Start=340 End=360\n",
            "Start=360 End=380\n",
            "Start=380 End=400\n",
            "Start=400 End=420\n",
            "Start=420 End=440\n",
            "Start=440 End=460\n",
            "Start=460 End=480\n",
            "Start=480 End=500\n",
            "Start=500 End=520\n",
            "Start=520 End=540\n",
            "Start=540 End=560\n",
            "Start=560 End=580\n",
            "Start=580 End=600\n",
            "Start=600 End=620\n",
            "Start=620 End=640\n",
            "Start=640 End=660\n",
            "Start=660 End=680\n",
            "Start=680 End=700\n",
            "\n"
          ],
          "name": "stdout"
        }
      ]
    },
    {
      "cell_type": "code",
      "metadata": {
        "id": "OnDUZ8OKk_WH",
        "colab_type": "code",
        "outputId": "b13dc192-fbfe-4362-e733-f9ba34f9d09b",
        "colab": {
          "base_uri": "https://localhost:8080/",
          "height": 223
        }
      },
      "source": [
        "from sklearn.metrics import classification_report\n",
        "\n",
        "# evaluate on validation set\n",
        "flat_pred_val = []\n",
        "flat_true_val = []\n",
        "for i, (p_val, t_val) in enumerate(zip(pred_val, val_output_index)):\n",
        "  assert(len(p_val) == len(t_val)), f'{p_val}, {t_val}'\n",
        "  flat_pred_val += list(p_val)\n",
        "  flat_true_val += t_val\n",
        "\n",
        "print(classification_report(flat_pred_val, flat_true_val, digits=4))"
      ],
      "execution_count": 0,
      "outputs": [
        {
          "output_type": "stream",
          "text": [
            "              precision    recall  f1-score   support\n",
            "\n",
            "           2     0.9953    0.9845    0.9899      5854\n",
            "           3     0.7895    0.8212    0.8050       274\n",
            "           4     0.6791    0.8881    0.7697       143\n",
            "           5     0.9577    0.9767    0.9671       858\n",
            "           6     0.9236    0.9063    0.9149       427\n",
            "\n",
            "    accuracy                         0.9714      7556\n",
            "   macro avg     0.8691    0.9153    0.8893      7556\n",
            "weighted avg     0.9736    0.9714    0.9722      7556\n",
            "\n"
          ],
          "name": "stdout"
        }
      ]
    },
    {
      "cell_type": "code",
      "metadata": {
        "id": "XDDo6lBXroy8",
        "colab_type": "code",
        "outputId": "cbc47d4a-6bff-402f-8d85-e2b556a0a1cb",
        "colab": {
          "base_uri": "https://localhost:8080/",
          "height": 100,
          "referenced_widgets": [
            "1f01695a806240b7abe2e2c67447f066",
            "4055125dd4a040e98c2b625c700b99a3",
            "09f52ce63681456ea20e43743c588bb2",
            "21224a717bba487c89829608663ead87",
            "eec679202e8e451a934e8d6952e511da",
            "385286ff5a5046879af0487bb3f76cfd",
            "6a59e61d3cb943adbff903fa4bdc6c9a",
            "0ba8fd1f8ab64cfcbd362873fdf37922"
          ]
        }
      },
      "source": [
        "X_test = add_padding_X(test_data)\n",
        "\n",
        "# Given number of samples in test is 3684 which is not dividable by batch size 20\n",
        "# we need to add some dummy samples to test data so that it is dividable by 20\n",
        "dummy_string = ['NLP'] * max_len\n",
        "dummies = []\n",
        "for i in range(16):\n",
        "  dummies.append(dummy_string)\n",
        "\n",
        "X_test_dummy = X_test + dummies\n",
        "test_data_dummy = test_data + dummies\n",
        "\n",
        "# get test result\n",
        "ntimes = int(len(X_test_dummy) / batch_size)\n",
        "print(len(X_test_dummy))\n",
        "pred_test = []\n",
        "for i in tqdm(range(ntimes)):\n",
        "  start = (i * batch_size)\n",
        "  end = (i + 1) * batch_size\n",
        "  val_batch = np.array(X_test_dummy[start: end])\n",
        "  true_val_batch = test_data[start: end]\n",
        "  if i == ntimes - 1:\n",
        "    print(val_batch.shape)\n",
        "  prediction = model.predict(val_batch)\n",
        "  prediction = np.argmax(prediction, axis=-1)\n",
        "  pred_test += get_nonpad_prediction(true_val_batch, prediction)"
      ],
      "execution_count": 0,
      "outputs": [
        {
          "output_type": "stream",
          "text": [
            "3700\n"
          ],
          "name": "stdout"
        },
        {
          "output_type": "display_data",
          "data": {
            "application/vnd.jupyter.widget-view+json": {
              "model_id": "1f01695a806240b7abe2e2c67447f066",
              "version_minor": 0,
              "version_major": 2
            },
            "text/plain": [
              "HBox(children=(FloatProgress(value=0.0, max=185.0), HTML(value='')))"
            ]
          },
          "metadata": {
            "tags": []
          }
        },
        {
          "output_type": "stream",
          "text": [
            "(20, 124)\n",
            "\n"
          ],
          "name": "stdout"
        }
      ]
    },
    {
      "cell_type": "code",
      "metadata": {
        "id": "ueQwQAHsuyc1",
        "colab_type": "code",
        "outputId": "1f394be6-185e-4cb4-85b1-ed450e6be0eb",
        "colab": {
          "base_uri": "https://localhost:8080/",
          "height": 237
        }
      },
      "source": [
        "# slice prediction by actual number of samples in test data\n",
        "actual_pred_test = pred_test[:len(test_data)]\n",
        "print(len(actual_pred_test))\n",
        "\n",
        "# flatten prediction output\n",
        "flat_prediction = []\n",
        "for tag_list, seq in zip(actual_pred_test, test_data):\n",
        "  assert len(seq) == len(tag_list), f'{len(seq)}, {len(tag_list)}'\n",
        "  flat_prediction += decode_output(tag_list)\n",
        "test_output = pd.DataFrame({'Id': range(len(flat_prediction)), 'Predicted': flat_prediction})\n",
        "\n",
        "# save test output\n",
        "test_file_name = 'drive/My Drive/group106_test_prediction_elmo.csv'\n",
        "print('Saving to', test_file_name)\n",
        "test_output.to_csv(test_file_name, index=False)\n",
        "test_output.head()"
      ],
      "execution_count": 0,
      "outputs": [
        {
          "output_type": "stream",
          "text": [
            "3684\n",
            "Saving to drive/My Drive/group106_test_prediction_elmo.csv\n"
          ],
          "name": "stdout"
        },
        {
          "output_type": "execute_result",
          "data": {
            "text/html": [
              "<div>\n",
              "<style scoped>\n",
              "    .dataframe tbody tr th:only-of-type {\n",
              "        vertical-align: middle;\n",
              "    }\n",
              "\n",
              "    .dataframe tbody tr th {\n",
              "        vertical-align: top;\n",
              "    }\n",
              "\n",
              "    .dataframe thead th {\n",
              "        text-align: right;\n",
              "    }\n",
              "</style>\n",
              "<table border=\"1\" class=\"dataframe\">\n",
              "  <thead>\n",
              "    <tr style=\"text-align: right;\">\n",
              "      <th></th>\n",
              "      <th>Id</th>\n",
              "      <th>Predicted</th>\n",
              "    </tr>\n",
              "  </thead>\n",
              "  <tbody>\n",
              "    <tr>\n",
              "      <th>0</th>\n",
              "      <td>0</td>\n",
              "      <td>O</td>\n",
              "    </tr>\n",
              "    <tr>\n",
              "      <th>1</th>\n",
              "      <td>1</td>\n",
              "      <td>O</td>\n",
              "    </tr>\n",
              "    <tr>\n",
              "      <th>2</th>\n",
              "      <td>2</td>\n",
              "      <td>O</td>\n",
              "    </tr>\n",
              "    <tr>\n",
              "      <th>3</th>\n",
              "      <td>3</td>\n",
              "      <td>I-LOC</td>\n",
              "    </tr>\n",
              "    <tr>\n",
              "      <th>4</th>\n",
              "      <td>4</td>\n",
              "      <td>O</td>\n",
              "    </tr>\n",
              "  </tbody>\n",
              "</table>\n",
              "</div>"
            ],
            "text/plain": [
              "   Id Predicted\n",
              "0   0         O\n",
              "1   1         O\n",
              "2   2         O\n",
              "3   3     I-LOC\n",
              "4   4         O"
            ]
          },
          "metadata": {
            "tags": []
          },
          "execution_count": 188
        }
      ]
    },
    {
      "cell_type": "code",
      "metadata": {
        "id": "wuUA_NRcwY8X",
        "colab_type": "code",
        "outputId": "771acf1d-6f18-41d9-bd2d-b798cc1116be",
        "colab": {
          "base_uri": "https://localhost:8080/",
          "height": 34
        }
      },
      "source": [
        "len(test_output)"
      ],
      "execution_count": 0,
      "outputs": [
        {
          "output_type": "execute_result",
          "data": {
            "text/plain": [
              "46666"
            ]
          },
          "metadata": {
            "tags": []
          },
          "execution_count": 189
        }
      ]
    },
    {
      "cell_type": "markdown",
      "metadata": {
        "id": "F0Fps548o92y",
        "colab_type": "text"
      },
      "source": [
        "### 4.3 Train and Evaluate"
      ]
    },
    {
      "cell_type": "code",
      "metadata": {
        "id": "a0CMFVSwlLru",
        "colab_type": "code",
        "colab": {}
      },
      "source": [
        "import datetime\n",
        "from sklearn.metrics import classification_report\n",
        "\n",
        "\n",
        "import numpy as np\n",
        "from sklearn.metrics import accuracy_score\n",
        "\n",
        "def cal_acc(model, input_index, output_index):\n",
        "    predicted=[]\n",
        "    ground_truth=[]\n",
        "    for i in range(len(input_index)):\n",
        "\n",
        "      sentence_in = torch.tensor(input_index[i], dtype=torch.long).to(device)\n",
        "      pre_sentence = model(sentence_in)\n",
        "\n",
        "      ground_truth += output_index[i]\n",
        "      predicted += pre_sentence[1]\n",
        "\n",
        "    accuracy = accuracy_score(predicted,ground_truth)\n",
        "        \n",
        "    return ground_truth, predicted, accuracy\n",
        "\n",
        "\n",
        "def decode_output(output_list):\n",
        "    ix_to_tag = {v:k for k,v in tag_to_ix.items()}\n",
        "    return [ix_to_tag[output] for output in output_list]\n",
        "\n",
        "\n",
        "def train_evaluate(model, optimizer, nepochs=20):\n",
        "  \"\"\"Train for 20 epochs and evaluate accuracy.\"\"\"\n",
        "  loss_train = []\n",
        "  loss_val = []\n",
        "  acc_train = []\n",
        "  acc_val = []\n",
        "\n",
        "  for epoch in tqdm(range(nepochs)):  \n",
        "      time1 = datetime.datetime.now()\n",
        "      train_loss = 0\n",
        "\n",
        "      model.train()\n",
        "      for i, idxs in enumerate(train_input_index):\n",
        "          tags_index = train_output_index[i]\n",
        "\n",
        "          # Step 1. Remember that Pytorch accumulates gradients.\n",
        "          # We need to clear them out before each instance\n",
        "          model.zero_grad()\n",
        "\n",
        "          # Step 2. Get our inputs ready for the network, that is,\n",
        "          # turn them into Tensors of word indices.\n",
        "          sentence_in = torch.tensor(idxs, dtype=torch.long).to(device)\n",
        "          targets = torch.tensor(tags_index, dtype=torch.long).to(device)\n",
        "\n",
        "          # Step 3. Run our forward pass.\n",
        "          loss = model.neg_log_likelihood(sentence_in, targets)\n",
        "\n",
        "          # Step 4. Compute the loss, gradients, and update the parameters by\n",
        "          # calling optimizer.step()\n",
        "          loss.backward()\n",
        "          optimizer.step()\n",
        "\n",
        "          train_loss+=loss.item()\n",
        "\n",
        "      model.eval()\n",
        "      _, _, train_acc = cal_acc(model,train_input_index,train_output_index)\n",
        "      _, _, val_acc = cal_acc(model,val_input_index,val_output_index)\n",
        "\n",
        "      # append accuracy for later visulisation\n",
        "      acc_train.append(train_acc)\n",
        "      acc_val.append(val_acc)\n",
        "\n",
        "      # compute validation loss\n",
        "      val_loss = 0\n",
        "      for i, idxs in enumerate(val_input_index):\n",
        "          tags_index = val_output_index[i]\n",
        "          sentence_in = torch.tensor(idxs, dtype=torch.long).to(device)\n",
        "          targets = torch.tensor(tags_index, dtype=torch.long).to(device)\n",
        "          loss = model.neg_log_likelihood(sentence_in, targets)\n",
        "          val_loss+=loss.item()\n",
        "      time2 = datetime.datetime.now()\n",
        "\n",
        "      # append loss for later visualisation\n",
        "      loss_train.append(train_loss)\n",
        "      loss_val.append(val_loss)\n",
        "      print(\"Epoch:%d, Training loss: %.2f, train acc: %.4f, val loss: %.2f, val acc: %.4f, time: %.2fs\" %(epoch+1, train_loss,train_acc, val_loss, val_acc, (time2-time1).total_seconds()))\n",
        "\n",
        "  y_true,y_pred,_ = cal_acc(model, val_input_index, val_output_index)\n",
        "  y_true_decode = decode_output(y_true)\n",
        "  y_pred_decode = decode_output(y_pred)\n",
        "\n",
        "  print(classification_report(y_true_decode,y_pred_decode,digits=4))\n",
        "  return model, loss_train, loss_val, acc_train, acc_val"
      ],
      "execution_count": 0,
      "outputs": []
    },
    {
      "cell_type": "code",
      "metadata": {
        "id": "FBnBMzNM-5SV",
        "colab_type": "code",
        "colab": {}
      },
      "source": [
        "def evaluate(model):\n",
        "  \"\"\"Evaluate on validation set.\"\"\"\n",
        "  y_true,y_pred,_ = cal_acc(model, val_input_index, val_output_index)\n",
        "  y_true_decode = decode_output(y_true)\n",
        "  y_pred_decode = decode_output(y_pred)\n",
        "  result = classification_report(y_true_decode,y_pred_decode,digits=4, output_dict=True)\n",
        "  return result"
      ],
      "execution_count": 0,
      "outputs": []
    },
    {
      "cell_type": "code",
      "metadata": {
        "id": "1Rk0uXd4SFTH",
        "colab_type": "code",
        "colab": {}
      },
      "source": [
        "from sklearn.utils import class_weight\n",
        "all_tags = []\n",
        "for tags in target_y_train+target_y_validation:\n",
        "  all_tags += tags\n",
        "\n",
        "# compute class weights\n",
        "n_sens = len(target_y_train + target_y_validation)\n",
        "tags_ix = [tag_to_ix[y] for y in all_tags]\n",
        "for _ in range(n_sens):\n",
        "  tags_ix.append(0)\n",
        "  tags_ix.append(1)\n",
        "tags_ix = np.array(tags_ix)\n",
        "weights = class_weight.compute_class_weight('balanced', np.unique(tags_ix), tags_ix)\n",
        "weights = weights / sum(weights)\n",
        "class_weights = {k: weights[v] for k, v in tag_to_ix.items()}\n",
        "print(class_weights)\n",
        "weights_tensor = torch.from_numpy(weights).to(device)"
      ],
      "execution_count": 0,
      "outputs": []
    },
    {
      "cell_type": "code",
      "metadata": {
        "id": "u_9JimEUr9Np",
        "colab_type": "code",
        "outputId": "1d72d01c-3936-4fc9-a695-517f11d291a0",
        "colab": {
          "base_uri": "https://localhost:8080/",
          "height": 1000,
          "referenced_widgets": [
            "72e0167a038f453380788025eec2aefb",
            "7f151afad057428ea8f584b1dd28be36",
            "b0fa9573fc4246c0a3d8c86bab364821",
            "cb61d62bfa6e4d38af3ed28e5b2d1720",
            "91135b957cff41249ba2f4aa777c692f",
            "c8e52d05c3f9444296229275ff6a9026",
            "1fe2fc0e4c5d4ddea085e994893419f4",
            "e741a855decc40bfbe272702251e859b"
          ]
        }
      },
      "source": [
        "device = torch.device(\"cuda\" if torch.cuda.is_available() else \"cpu\")\n",
        "HIDDEN_DIM = 50\n",
        "NUM_LAYERS = 1\n",
        "NEPOCHS = 50\n",
        "\n",
        "# embeddings\n",
        "embedding = Embedding(use_word2vec=True, use_pos=True, use_tfidf=True)\n",
        "embedding_dim = embedding.dim\n",
        "embedding_matrix = embedding.matrix\n",
        "\n",
        "# create model\n",
        "model = BiLSTM_CRF(len(word_to_ix), tag_to_ix, embedding_dim, embedding_matrix, HIDDEN_DIM, NUM_LAYERS).to(device)\n",
        "optimizer = optim.SGD(model.parameters(), lr=0.01, weight_decay=1e-4)\n",
        "\n",
        "# train\n",
        "model, loss_train, loss_val, acc_train, acc_val = train_evaluate(model, optimizer, NEPOCHS)"
      ],
      "execution_count": 0,
      "outputs": [
        {
          "output_type": "display_data",
          "data": {
            "application/vnd.jupyter.widget-view+json": {
              "model_id": "72e0167a038f453380788025eec2aefb",
              "version_minor": 0,
              "version_major": 2
            },
            "text/plain": [
              "HBox(children=(FloatProgress(value=0.0, max=50.0), HTML(value='')))"
            ]
          },
          "metadata": {
            "tags": []
          }
        },
        {
          "output_type": "stream",
          "text": [
            "Epoch:1, Training loss: 11616.87, train acc: 0.9117, val loss: 2001.60, val acc: 0.9048, time: 113.73s\n",
            "Epoch:2, Training loss: 7024.89, train acc: 0.9239, val loss: 1778.38, val acc: 0.9096, time: 116.53s\n",
            "Epoch:3, Training loss: 5806.81, train acc: 0.9346, val loss: 1560.84, val acc: 0.9187, time: 116.03s\n",
            "Epoch:4, Training loss: 4863.97, train acc: 0.9361, val loss: 1558.70, val acc: 0.9191, time: 115.78s\n",
            "Epoch:5, Training loss: 4210.92, train acc: 0.9412, val loss: 1545.01, val acc: 0.9215, time: 117.76s\n",
            "Epoch:6, Training loss: 3716.79, train acc: 0.9424, val loss: 1630.75, val acc: 0.9193, time: 120.34s\n",
            "Epoch:7, Training loss: 3349.13, train acc: 0.9445, val loss: 1704.40, val acc: 0.9185, time: 118.92s\n",
            "Epoch:8, Training loss: 2948.95, train acc: 0.9447, val loss: 1919.93, val acc: 0.9121, time: 120.71s\n",
            "Epoch:9, Training loss: 2665.03, train acc: 0.9473, val loss: 2124.43, val acc: 0.9125, time: 120.84s\n",
            "Epoch:10, Training loss: 2433.56, train acc: 0.9529, val loss: 1951.73, val acc: 0.9193, time: 124.35s\n",
            "Epoch:11, Training loss: 2253.20, train acc: 0.9574, val loss: 1899.16, val acc: 0.9195, time: 123.79s\n",
            "Epoch:12, Training loss: 1958.22, train acc: 0.9574, val loss: 2022.45, val acc: 0.9217, time: 124.02s\n",
            "Epoch:13, Training loss: 1734.02, train acc: 0.9624, val loss: 1939.71, val acc: 0.9236, time: 121.70s\n",
            "Epoch:14, Training loss: 1633.17, train acc: 0.9606, val loss: 2006.81, val acc: 0.9250, time: 119.07s\n",
            "Epoch:15, Training loss: 1421.95, train acc: 0.9628, val loss: 2065.14, val acc: 0.9260, time: 120.19s\n",
            "Epoch:16, Training loss: 1304.36, train acc: 0.9645, val loss: 1979.81, val acc: 0.9275, time: 118.18s\n",
            "Epoch:17, Training loss: 1223.74, train acc: 0.9655, val loss: 1982.94, val acc: 0.9301, time: 108.74s\n",
            "Epoch:18, Training loss: 1113.60, train acc: 0.9647, val loss: 2266.47, val acc: 0.9262, time: 110.06s\n",
            "Epoch:19, Training loss: 1022.68, train acc: 0.9667, val loss: 2214.47, val acc: 0.9238, time: 112.50s\n",
            "Epoch:20, Training loss: 993.38, train acc: 0.9709, val loss: 1952.82, val acc: 0.9313, time: 115.54s\n",
            "Epoch:21, Training loss: 872.63, train acc: 0.9602, val loss: 2611.83, val acc: 0.9173, time: 113.96s\n",
            "Epoch:22, Training loss: 890.71, train acc: 0.9739, val loss: 2012.85, val acc: 0.9316, time: 117.84s\n",
            "Epoch:23, Training loss: 757.07, train acc: 0.9756, val loss: 2039.57, val acc: 0.9305, time: 110.30s\n",
            "Epoch:24, Training loss: 768.56, train acc: 0.9700, val loss: 2622.15, val acc: 0.9161, time: 110.84s\n",
            "Epoch:25, Training loss: 696.53, train acc: 0.9754, val loss: 2279.15, val acc: 0.9230, time: 111.01s\n",
            "Epoch:26, Training loss: 643.56, train acc: 0.9762, val loss: 2091.17, val acc: 0.9314, time: 108.99s\n",
            "Epoch:27, Training loss: 554.94, train acc: 0.9784, val loss: 2241.68, val acc: 0.9246, time: 112.82s\n",
            "Epoch:28, Training loss: 519.24, train acc: 0.9827, val loss: 2133.87, val acc: 0.9285, time: 112.66s\n",
            "Epoch:29, Training loss: 550.41, train acc: 0.9796, val loss: 2281.47, val acc: 0.9273, time: 112.63s\n",
            "Epoch:30, Training loss: 463.40, train acc: 0.9801, val loss: 2220.61, val acc: 0.9307, time: 112.38s\n",
            "Epoch:31, Training loss: 447.88, train acc: 0.9825, val loss: 2249.49, val acc: 0.9263, time: 112.44s\n",
            "Epoch:32, Training loss: 454.49, train acc: 0.9840, val loss: 2092.85, val acc: 0.9285, time: 111.93s\n",
            "Epoch:33, Training loss: 361.51, train acc: 0.9844, val loss: 2055.95, val acc: 0.9336, time: 111.73s\n",
            "Epoch:34, Training loss: 372.80, train acc: 0.9834, val loss: 2274.99, val acc: 0.9263, time: 111.82s\n",
            "Epoch:35, Training loss: 375.86, train acc: 0.9871, val loss: 1947.60, val acc: 0.9393, time: 112.11s\n",
            "Epoch:36, Training loss: 351.32, train acc: 0.9872, val loss: 1920.04, val acc: 0.9357, time: 112.52s\n",
            "Epoch:37, Training loss: 318.94, train acc: 0.9859, val loss: 2043.44, val acc: 0.9340, time: 112.67s\n",
            "Epoch:38, Training loss: 356.36, train acc: 0.9860, val loss: 2003.74, val acc: 0.9379, time: 113.43s\n",
            "Epoch:39, Training loss: 260.33, train acc: 0.9870, val loss: 2024.85, val acc: 0.9348, time: 118.00s\n",
            "Epoch:40, Training loss: 271.46, train acc: 0.9877, val loss: 1982.72, val acc: 0.9366, time: 122.12s\n",
            "Epoch:41, Training loss: 245.04, train acc: 0.9899, val loss: 1870.11, val acc: 0.9423, time: 125.52s\n",
            "Epoch:42, Training loss: 237.38, train acc: 0.9901, val loss: 1909.81, val acc: 0.9426, time: 138.06s\n",
            "Epoch:43, Training loss: 245.94, train acc: 0.9910, val loss: 1857.59, val acc: 0.9431, time: 138.59s\n",
            "Epoch:44, Training loss: 205.40, train acc: 0.9880, val loss: 2150.81, val acc: 0.9348, time: 139.77s\n",
            "Epoch:45, Training loss: 211.72, train acc: 0.9907, val loss: 1910.10, val acc: 0.9434, time: 132.53s\n",
            "Epoch:46, Training loss: 209.79, train acc: 0.9907, val loss: 1850.45, val acc: 0.9420, time: 124.30s\n",
            "Epoch:47, Training loss: 282.36, train acc: 0.9873, val loss: 1831.87, val acc: 0.9447, time: 121.09s\n",
            "Epoch:48, Training loss: 301.74, train acc: 0.9926, val loss: 1852.35, val acc: 0.9501, time: 126.49s\n",
            "Epoch:49, Training loss: 223.73, train acc: 0.9933, val loss: 1853.01, val acc: 0.9460, time: 125.52s\n",
            "Epoch:50, Training loss: 207.79, train acc: 0.9927, val loss: 1930.10, val acc: 0.9483, time: 121.21s\n",
            "\n",
            "              precision    recall  f1-score   support\n",
            "\n",
            "       I-LOC     0.8631    0.9332    0.8968       419\n",
            "      I-MISC     0.7844    0.7005    0.7401       187\n",
            "       I-ORG     0.6196    0.6000    0.6096       285\n",
            "       I-PER     0.9890    0.8251    0.8997       875\n",
            "           O     0.9680    0.9914    0.9795      5790\n",
            "\n",
            "    accuracy                         0.9469      7556\n",
            "   macro avg     0.8448    0.8100    0.8251      7556\n",
            "weighted avg     0.9469    0.9469    0.9458      7556\n",
            "\n"
          ],
          "name": "stdout"
        }
      ]
    },
    {
      "cell_type": "markdown",
      "metadata": {
        "id": "lT0oXSC60TES",
        "colab_type": "text"
      },
      "source": [
        "### 4.4 Save Model to Google Drive"
      ]
    },
    {
      "cell_type": "code",
      "metadata": {
        "id": "wpHK97-AG6QY",
        "colab_type": "code",
        "outputId": "9de74b74-9a9a-49b2-ab10-b8a3e0ddde3c",
        "colab": {
          "base_uri": "https://localhost:8080/",
          "height": 441
        }
      },
      "source": [
        "import matplotlib.pyplot as pl\n",
        "\n",
        "%matplotlib inline \n",
        "\n",
        "def draw_loss(loss_train, loss_val, acc_train, acc_val, save_path=None):\n",
        "  \"\"\"Draw train loss and validation loss versus epochs.\"\"\"\n",
        "  pl.figure(figsize=(15, 6))\n",
        "  epochs = range(len(loss_train))\n",
        "  # draw loss\n",
        "  pl.subplot(1, 2, 1)\n",
        "  pl.plot(epochs, loss_train, label='Train')\n",
        "  pl.plot(epochs, loss_val, label='Validation')\n",
        "  pl.xlabel('Epoch')\n",
        "  pl.ylabel('Loss')\n",
        "  pl.title('Train & Validation Loss versus Epochs')\n",
        "  pl.legend()\n",
        "  pl.grid()\n",
        "  # draw accuracy\n",
        "  pl.subplot(1, 2, 2)\n",
        "  pl.plot(epochs, acc_train, label='Train')\n",
        "  pl.plot(epochs, acc_val, label='Validation')\n",
        "  pl.xlabel('Epoch')\n",
        "  pl.ylabel('Accuracy')\n",
        "  pl.title('Train & Validation Accuracy versus Epochs')\n",
        "  pl.grid()\n",
        "  pl.legend()\n",
        "  pl.tight_layout()\n",
        "  if not save_path:\n",
        "    pl.show()\n",
        "  else:\n",
        "    print('Saving to', save_path)\n",
        "    pl.savefig(save_path)\n",
        "\n",
        "draw_loss(loss_train, loss_val, acc_train, acc_val)"
      ],
      "execution_count": 0,
      "outputs": [
        {
          "output_type": "display_data",
          "data": {
            "image/png": "[encoded data removed]",
            "text/plain": [
              "<Figure size 1080x432 with 2 Axes>"
            ]
          },
          "metadata": {
            "tags": [],
            "needs_background": "light"
          }
        }
      ]
    },
    {
      "cell_type": "code",
      "metadata": {
        "id": "O_hOSWvNfINk",
        "colab_type": "code",
        "outputId": "ad2c34a7-9c5b-4769-bbd0-d06d9aefca59",
        "colab": {
          "base_uri": "https://localhost:8080/",
          "height": 51
        }
      },
      "source": [
        "# mount to my drive\n",
        "from google.colab import drive\n",
        "drive.mount('/content/drive')\n",
        "\n",
        "# save model\n",
        "model_file_name = f'drive/My Drive/optimal_BiLSTM_CRF_Layer={NUM_LAYERS}_Embedding=Full_Attention=None.pt'\n",
        "print(model_file_name)"
      ],
      "execution_count": 0,
      "outputs": [
        {
          "output_type": "stream",
          "text": [
            "Drive already mounted at /content/drive; to attempt to forcibly remount, call drive.mount(\"/content/drive\", force_remount=True).\n",
            "drive/My Drive/optimal_BiLSTM_CRF_Layer=1_Embedding=Full_Attention=None.pt\n"
          ],
          "name": "stdout"
        }
      ]
    },
    {
      "cell_type": "markdown",
      "metadata": {
        "id": "Gi5T3o9v0XU8",
        "colab_type": "text"
      },
      "source": [
        "### 4.5 Predict on Test Dataset"
      ]
    },
    {
      "cell_type": "code",
      "metadata": {
        "id": "ObLuSwEs0Wly",
        "colab_type": "code",
        "outputId": "accc40b0-e87e-4098-c413-fdc0867cb5cf",
        "colab": {
          "base_uri": "https://localhost:8080/",
          "height": 86
        }
      },
      "source": [
        "prediction_test = []\n",
        "for i, idxs in enumerate(test_input_index):\n",
        "  if i % 1000 == 0:\n",
        "    print(f'Iteration i={i}')\n",
        "  tags_index = test_input_index[i]\n",
        "  sentence_in = torch.tensor(idxs, dtype=torch.long).to(device)\n",
        "  _, out_list = model(sentence_in)\n",
        "  decoded_out = decode_output(out_list)\n",
        "  prediction_test.append(decoded_out)\n"
      ],
      "execution_count": 0,
      "outputs": [
        {
          "output_type": "stream",
          "text": [
            "Iteration i=0\n",
            "Iteration i=1000\n",
            "Iteration i=2000\n",
            "Iteration i=3000\n"
          ],
          "name": "stdout"
        }
      ]
    },
    {
      "cell_type": "code",
      "metadata": {
        "id": "AMmIQn7R2lFw",
        "colab_type": "code",
        "outputId": "70e4385d-f969-41e6-e37b-42e1dda5c9b0",
        "colab": {
          "base_uri": "https://localhost:8080/",
          "height": 220
        }
      },
      "source": [
        "from IPython.display import display\n",
        "\n",
        "# flatten prediction output\n",
        "flat_prediction = []\n",
        "for tag_list in prediction_test:\n",
        "  flat_prediction += tag_list\n",
        "test_output = pd.DataFrame({'Id': range(len(flat_prediction)), 'Predicted': flat_prediction})\n",
        "\n",
        "# save test output\n",
        "test_file_name = 'drive/My Drive/group106_test_prediction.csv'\n",
        "print('Saving to', test_file_name)\n",
        "test_output.to_csv(test_file_name, index=False)\n",
        "test_output.head()"
      ],
      "execution_count": 0,
      "outputs": [
        {
          "output_type": "stream",
          "text": [
            "Saving to drive/My Drive/group106_test_prediction.csv\n"
          ],
          "name": "stdout"
        },
        {
          "output_type": "execute_result",
          "data": {
            "text/html": [
              "<div>\n",
              "<style scoped>\n",
              "    .dataframe tbody tr th:only-of-type {\n",
              "        vertical-align: middle;\n",
              "    }\n",
              "\n",
              "    .dataframe tbody tr th {\n",
              "        vertical-align: top;\n",
              "    }\n",
              "\n",
              "    .dataframe thead th {\n",
              "        text-align: right;\n",
              "    }\n",
              "</style>\n",
              "<table border=\"1\" class=\"dataframe\">\n",
              "  <thead>\n",
              "    <tr style=\"text-align: right;\">\n",
              "      <th></th>\n",
              "      <th>Id</th>\n",
              "      <th>Predicted</th>\n",
              "    </tr>\n",
              "  </thead>\n",
              "  <tbody>\n",
              "    <tr>\n",
              "      <th>0</th>\n",
              "      <td>0</td>\n",
              "      <td>O</td>\n",
              "    </tr>\n",
              "    <tr>\n",
              "      <th>1</th>\n",
              "      <td>1</td>\n",
              "      <td>O</td>\n",
              "    </tr>\n",
              "    <tr>\n",
              "      <th>2</th>\n",
              "      <td>2</td>\n",
              "      <td>O</td>\n",
              "    </tr>\n",
              "    <tr>\n",
              "      <th>3</th>\n",
              "      <td>3</td>\n",
              "      <td>I-LOC</td>\n",
              "    </tr>\n",
              "    <tr>\n",
              "      <th>4</th>\n",
              "      <td>4</td>\n",
              "      <td>O</td>\n",
              "    </tr>\n",
              "  </tbody>\n",
              "</table>\n",
              "</div>"
            ],
            "text/plain": [
              "   Id Predicted\n",
              "0   0         O\n",
              "1   1         O\n",
              "2   2         O\n",
              "3   3     I-LOC\n",
              "4   4         O"
            ]
          },
          "metadata": {
            "tags": []
          },
          "execution_count": 28
        }
      ]
    },
    {
      "cell_type": "markdown",
      "metadata": {
        "id": "8w7YjYTs9Eok",
        "colab_type": "text"
      },
      "source": [
        "## 5.Evaluation\n",
        "\n",
        "In this section, we conduct different experiments to justify our final decisions on choices of input embedding, NER layers and NER attentions.\n"
      ]
    },
    {
      "cell_type": "markdown",
      "metadata": {
        "id": "kPV95c2o9Z1h",
        "colab_type": "text"
      },
      "source": [
        "### 5.1 Evaluation Setup\n",
        "\n",
        "In this section, we modulise the train, evaluation and visualisation so that we can try different settings and conduct comparison experiments."
      ]
    },
    {
      "cell_type": "code",
      "metadata": {
        "id": "O0h_eVjhG6Tc",
        "colab_type": "code",
        "colab": {}
      },
      "source": [
        "def conduct_one_experiment(model, optimizer, expr_name):\n",
        "  \"\"\"Conduct 1 experiment - Train, evaluate and visualise results.\n",
        "  \n",
        "  Parameters\n",
        "  ----------\n",
        "  model: a sequence to sequence model \n",
        "  expr_name: the experiment name - e.g. Input Embedding=Word2Vec, NER=Bi-LSTM CRF, Layer=Single, Attention=None\n",
        "\n",
        "  Return\n",
        "  ------\n",
        "  result: dict\n",
        "    Evaluation result for final comparison\n",
        "\n",
        "  \"\"\"\n",
        "  model, loss_train, loss_val, acc_train, acc_val = train_evaluate(model, optimizer)\n",
        "  result = evaluate(model)\n",
        "  draw_loss(loss_train, loss_val, acc_train, acc_val, save_path=f'drive/My Drive/comp5046/{expr_name}.pdf')\n",
        "\n",
        "  return result"
      ],
      "execution_count": 0,
      "outputs": []
    },
    {
      "cell_type": "markdown",
      "metadata": {
        "id": "1MlDiKR7ANDq",
        "colab_type": "text"
      },
      "source": [
        "### 5.2 Input Embedding Experiments\n",
        "\n",
        "In this section, we try different combination of input embedding and fix a sequence to sequence model - BiLSTM CRF to get the best input embedding.\n",
        "\n",
        "1. Word2Vec\n",
        "2. Word2Vec + POS-Tag\n",
        "3. Word2Vec + TFIDF\n",
        "4. Word2Vec + POS-Tag + TFIDF\n"
      ]
    },
    {
      "cell_type": "code",
      "metadata": {
        "id": "gATw5gztG6Wh",
        "colab_type": "code",
        "outputId": "65d50223-3638-48f2-a930-802780743abb",
        "colab": {
          "base_uri": "https://localhost:8080/",
          "height": 1000,
          "referenced_widgets": [
            "657894a47a1e4641873323c2d97e1376",
            "745caed0eb7b4c5ab7af0fab1ceec132",
            "fbeed76599ad463b86b3af50f3c36ac8",
            "fa63b99db865476a8157b7a39d64dd3e",
            "30bda7f4d4c54ac4a0bbe0a2271efdc5",
            "ec3adfb2818d49839e96d270bb485a6a",
            "6b5c04e4ec264574be7d68fc5f282e0c",
            "73bb8c3db9f04cd58d0f0d2aea217136",
            "91ec92053e8b4c168ccabb9a315daeba",
            "d4a8ad3b630e488caacb088484b4eb9f",
            "94a5c83d5d584e1e8520f57775446d72",
            "913df2102dfe438681aa9363fad24669",
            "1bbccb32a86e42518b2b7e6a7dde9502",
            "157616684cd44942892cc5b1b3499090",
            "8ab8b8399e15448994f787405054121e",
            "b974d2dac9f04289b7dabb0c92c22e2c",
            "acd3fbb87cfb44a5b976e059b2da0a77",
            "1a2bea399fef49a6a10f78a071d8c243",
            "084f75d5f10b4284997bc02af287eedc",
            "59be291b12c8459a828d88eee68c78fd",
            "da031009402a4291a4ac0192826aab6c",
            "9a381d9608d44945b500601f744f9964",
            "74e3f74cc1b44a54bb93eac069c4713f",
            "9a35e3735b664cec96e47813c87755c8",
            "4eff9a7861bc4fdeb395066f508b3e70",
            "75c78eba909c425a8bccad0e93374d2e",
            "27422bce8a4d42fc8dc54a62015062d4",
            "5743de4bf05440829b6f1a4322f694b2",
            "e499ff2690854295baa2fef850044932",
            "d5846b86864f4b41ac8638825f5d34a8",
            "5afe4fd5994e4018abe88dc00589ad5b",
            "bc82a834faf74589a2bbca4cca1957cf",
            "3877db554b2d4c508e47165fd5eaa8c6",
            "e22f10df75924c83bc65c995225a7c4b",
            "b1affa05050b4d2fac791afe738ac8a6",
            "aa13519b5e3a4a7d97548f463df2bd42",
            "3042b753fd6544e493cb6a25acd68625",
            "be77980c3dfc469e839bdf83983e0214",
            "968ff011b01d42c480b3393fe11e49c7",
            "aa8f22c70d394f3f93bcaba7f3118e59"
          ]
        }
      },
      "source": [
        "embeddings = {\n",
        "    'Word2Vec': Embedding(use_word2vec=True, use_pos=False, use_tfidf=False),\n",
        "    'Word2Vec + POS-Tag': Embedding(use_word2vec=True, use_pos=True, use_tfidf=False),\n",
        "    'Word2Vec + TFIDF': Embedding(use_word2vec=True, use_pos=False, use_tfidf=True),\n",
        "    'Word2Vec + POS-Tag + TFIDF': Embedding(use_word2vec=True, use_pos=True, use_tfidf=True)\n",
        "}\n",
        "\n",
        "# mount to my drive\n",
        "from google.colab import drive\n",
        "drive.mount('/content/drive')\n",
        "\n",
        "\n",
        "# loop through all embedding combinations and do experiment\n",
        "input_embedding_evaluation_results = {}\n",
        "for name, embedding in tqdm(embeddings.items()):\n",
        "  # log\n",
        "  expr_name = f'Input Embedding={name} NER=Bi-LSTM CRF Layer=Single Attention=None'\n",
        "  print('\\n\\n' + '=' * 100)\n",
        "  print('Start Experiment:', expr_name)\n",
        "\n",
        "  # build Bi-LSTM CRF model\n",
        "  device = torch.device(\"cuda\" if torch.cuda.is_available() else \"cpu\")\n",
        "  HIDDEN_DIM = 50\n",
        "  NUM_LAYER = 1\n",
        "  model = BiLSTM_CRF(len(word_to_ix), tag_to_ix, embedding_dim, embedding_matrix, HIDDEN_DIM, NUM_LAYER).to(device)\n",
        "  optimizer = optim.SGD(model.parameters(), lr=0.01, weight_decay=1e-4)\n",
        "\n",
        "  # start experiment\n",
        "  input_embedding_evaluation_results[name] = conduct_one_experiment(model, optimizer, expr_name)"
      ],
      "execution_count": 0,
      "outputs": [
        {
          "output_type": "stream",
          "text": [
            "Drive already mounted at /content/drive; to attempt to forcibly remount, call drive.mount(\"/content/drive\", force_remount=True).\n"
          ],
          "name": "stdout"
        },
        {
          "output_type": "display_data",
          "data": {
            "application/vnd.jupyter.widget-view+json": {
              "model_id": "657894a47a1e4641873323c2d97e1376",
              "version_minor": 0,
              "version_major": 2
            },
            "text/plain": [
              "HBox(children=(FloatProgress(value=0.0, max=4.0), HTML(value='')))"
            ]
          },
          "metadata": {
            "tags": []
          }
        },
        {
          "output_type": "stream",
          "text": [
            "\n",
            "\n",
            "====================================================================================================\n",
            "Start Experiment: Input Embedding=Word2Vec NER=Bi-LSTM CRF Layer=Single Attention=None\n"
          ],
          "name": "stdout"
        },
        {
          "output_type": "display_data",
          "data": {
            "application/vnd.jupyter.widget-view+json": {
              "model_id": "91ec92053e8b4c168ccabb9a315daeba",
              "version_minor": 0,
              "version_major": 2
            },
            "text/plain": [
              "HBox(children=(FloatProgress(value=0.0, max=20.0), HTML(value='')))"
            ]
          },
          "metadata": {
            "tags": []
          }
        },
        {
          "output_type": "stream",
          "text": [
            "Epoch:1, Training loss: 11741.78, train acc: 0.9088, val loss: 2206.82, val acc: 0.8966, time: 184.42s\n",
            "Epoch:2, Training loss: 7465.51, train acc: 0.9239, val loss: 1951.40, val acc: 0.9074, time: 184.63s\n",
            "Epoch:3, Training loss: 5942.07, train acc: 0.9374, val loss: 1774.48, val acc: 0.9191, time: 184.43s\n",
            "Epoch:4, Training loss: 4861.94, train acc: 0.9443, val loss: 1742.47, val acc: 0.9202, time: 184.63s\n",
            "Epoch:5, Training loss: 4111.24, train acc: 0.9491, val loss: 1758.11, val acc: 0.9226, time: 184.31s\n",
            "Epoch:6, Training loss: 3468.52, train acc: 0.9545, val loss: 1705.31, val acc: 0.9235, time: 184.68s\n",
            "Epoch:7, Training loss: 3011.64, train acc: 0.9574, val loss: 1749.91, val acc: 0.9239, time: 184.00s\n",
            "Epoch:8, Training loss: 2638.91, train acc: 0.9626, val loss: 1696.77, val acc: 0.9275, time: 183.24s\n",
            "Epoch:9, Training loss: 2310.59, train acc: 0.9640, val loss: 1771.80, val acc: 0.9287, time: 183.41s\n",
            "Epoch:10, Training loss: 2025.04, train acc: 0.9665, val loss: 1811.41, val acc: 0.9273, time: 183.03s\n",
            "Epoch:11, Training loss: 1796.94, train acc: 0.9708, val loss: 1735.98, val acc: 0.9328, time: 183.22s\n",
            "Epoch:12, Training loss: 1591.75, train acc: 0.9743, val loss: 1718.34, val acc: 0.9348, time: 182.98s\n",
            "Epoch:13, Training loss: 1371.46, train acc: 0.9726, val loss: 1824.46, val acc: 0.9353, time: 183.24s\n",
            "Epoch:14, Training loss: 1236.94, train acc: 0.9778, val loss: 1802.63, val acc: 0.9369, time: 183.98s\n",
            "Epoch:15, Training loss: 1114.25, train acc: 0.9781, val loss: 1816.49, val acc: 0.9377, time: 183.24s\n",
            "Epoch:16, Training loss: 953.58, train acc: 0.9817, val loss: 1787.04, val acc: 0.9398, time: 183.60s\n",
            "Epoch:17, Training loss: 881.93, train acc: 0.9845, val loss: 1808.57, val acc: 0.9415, time: 184.06s\n",
            "Epoch:18, Training loss: 771.26, train acc: 0.9881, val loss: 1689.25, val acc: 0.9427, time: 183.65s\n",
            "Epoch:19, Training loss: 687.68, train acc: 0.9864, val loss: 1730.18, val acc: 0.9431, time: 188.24s\n",
            "Epoch:20, Training loss: 656.75, train acc: 0.9866, val loss: 1806.93, val acc: 0.9423, time: 185.51s\n",
            "\n",
            "              precision    recall  f1-score   support\n",
            "\n",
            "       I-LOC     0.7405    0.9332    0.8258       419\n",
            "      I-MISC     0.8478    0.6257    0.7200       187\n",
            "       I-ORG     0.8052    0.4351    0.5649       285\n",
            "       I-PER     0.9596    0.8697    0.9125       875\n",
            "           O     0.9643    0.9898    0.9769      5790\n",
            "\n",
            "    accuracy                         0.9428      7556\n",
            "   macro avg     0.8635    0.7707    0.8000      7556\n",
            "weighted avg     0.9425    0.9428    0.9392      7556\n",
            "\n",
            "Saving to drive/My Drive/comp5046/Input Embedding=Word2Vec NER=Bi-LSTM CRF Layer=Single Attention=None.pdf\n",
            "\n",
            "\n",
            "====================================================================================================\n",
            "Start Experiment: Input Embedding=Word2Vec + POS-Tag NER=Bi-LSTM CRF Layer=Single Attention=None\n"
          ],
          "name": "stdout"
        },
        {
          "output_type": "display_data",
          "data": {
            "application/vnd.jupyter.widget-view+json": {
              "model_id": "acd3fbb87cfb44a5b976e059b2da0a77",
              "version_minor": 0,
              "version_major": 2
            },
            "text/plain": [
              "HBox(children=(FloatProgress(value=0.0, max=20.0), HTML(value='')))"
            ]
          },
          "metadata": {
            "tags": []
          }
        },
        {
          "output_type": "stream",
          "text": [
            "Epoch:1, Training loss: 12179.13, train acc: 0.9094, val loss: 2144.05, val acc: 0.8986, time: 185.59s\n",
            "Epoch:2, Training loss: 7352.69, train acc: 0.9254, val loss: 1781.83, val acc: 0.9128, time: 185.29s\n",
            "Epoch:3, Training loss: 5921.54, train acc: 0.9355, val loss: 1650.20, val acc: 0.9193, time: 185.07s\n",
            "Epoch:4, Training loss: 4854.25, train acc: 0.9447, val loss: 1587.66, val acc: 0.9220, time: 185.49s\n",
            "Epoch:5, Training loss: 4038.49, train acc: 0.9514, val loss: 1626.79, val acc: 0.9256, time: 184.39s\n",
            "Epoch:6, Training loss: 3343.50, train acc: 0.9553, val loss: 1688.70, val acc: 0.9247, time: 184.76s\n",
            "Epoch:7, Training loss: 2889.51, train acc: 0.9587, val loss: 1700.17, val acc: 0.9267, time: 184.88s\n",
            "Epoch:8, Training loss: 2493.31, train acc: 0.9605, val loss: 1729.01, val acc: 0.9251, time: 184.79s\n",
            "Epoch:9, Training loss: 2168.25, train acc: 0.9635, val loss: 1784.73, val acc: 0.9283, time: 184.98s\n",
            "Epoch:10, Training loss: 1916.69, train acc: 0.9684, val loss: 1719.27, val acc: 0.9313, time: 184.52s\n",
            "Epoch:11, Training loss: 1652.66, train acc: 0.9725, val loss: 1743.35, val acc: 0.9330, time: 184.63s\n",
            "Epoch:12, Training loss: 1457.86, train acc: 0.9749, val loss: 1750.57, val acc: 0.9355, time: 184.28s\n",
            "Epoch:13, Training loss: 1278.09, train acc: 0.9762, val loss: 1791.74, val acc: 0.9381, time: 184.43s\n",
            "Epoch:14, Training loss: 1142.54, train acc: 0.9796, val loss: 1800.96, val acc: 0.9386, time: 184.84s\n",
            "Epoch:15, Training loss: 964.33, train acc: 0.9813, val loss: 1772.29, val acc: 0.9406, time: 185.12s\n",
            "Epoch:16, Training loss: 923.86, train acc: 0.9831, val loss: 1764.22, val acc: 0.9402, time: 185.88s\n",
            "Epoch:17, Training loss: 785.49, train acc: 0.9848, val loss: 1766.01, val acc: 0.9438, time: 185.66s\n",
            "Epoch:18, Training loss: 707.59, train acc: 0.9855, val loss: 1811.92, val acc: 0.9443, time: 190.16s\n",
            "Epoch:19, Training loss: 618.19, train acc: 0.9886, val loss: 1776.53, val acc: 0.9479, time: 187.67s\n",
            "Epoch:20, Training loss: 576.18, train acc: 0.9908, val loss: 1667.85, val acc: 0.9498, time: 188.97s\n",
            "\n",
            "              precision    recall  f1-score   support\n",
            "\n",
            "       I-LOC     0.7840    0.9356    0.8531       419\n",
            "      I-MISC     0.8312    0.6845    0.7507       187\n",
            "       I-ORG     0.8544    0.4737    0.6095       285\n",
            "       I-PER     0.9745    0.8731    0.9210       875\n",
            "           O     0.9643    0.9926    0.9782      5790\n",
            "\n",
            "    accuracy                         0.9484      7556\n",
            "   macro avg     0.8817    0.7919    0.8225      7556\n",
            "weighted avg     0.9480    0.9484    0.9451      7556\n",
            "\n",
            "Saving to drive/My Drive/comp5046/Input Embedding=Word2Vec + POS-Tag NER=Bi-LSTM CRF Layer=Single Attention=None.pdf\n",
            "\n",
            "\n",
            "====================================================================================================\n",
            "Start Experiment: Input Embedding=Word2Vec + TFIDF NER=Bi-LSTM CRF Layer=Single Attention=None\n"
          ],
          "name": "stdout"
        },
        {
          "output_type": "display_data",
          "data": {
            "application/vnd.jupyter.widget-view+json": {
              "model_id": "4eff9a7861bc4fdeb395066f508b3e70",
              "version_minor": 0,
              "version_major": 2
            },
            "text/plain": [
              "HBox(children=(FloatProgress(value=0.0, max=20.0), HTML(value='')))"
            ]
          },
          "metadata": {
            "tags": []
          }
        },
        {
          "output_type": "stream",
          "text": [
            "Epoch:1, Training loss: 11571.87, train acc: 0.9126, val loss: 2100.82, val acc: 0.9029, time: 190.54s\n",
            "Epoch:2, Training loss: 7481.76, train acc: 0.9255, val loss: 1829.71, val acc: 0.9103, time: 189.35s\n",
            "Epoch:3, Training loss: 6043.19, train acc: 0.9377, val loss: 1739.66, val acc: 0.9179, time: 186.14s\n",
            "Epoch:4, Training loss: 4910.65, train acc: 0.9453, val loss: 1641.60, val acc: 0.9209, time: 185.92s\n",
            "Epoch:5, Training loss: 4089.67, train acc: 0.9511, val loss: 1653.76, val acc: 0.9243, time: 185.86s\n",
            "Epoch:6, Training loss: 3423.06, train acc: 0.9551, val loss: 1713.04, val acc: 0.9248, time: 186.39s\n",
            "Epoch:7, Training loss: 2953.84, train acc: 0.9608, val loss: 1644.75, val acc: 0.9263, time: 186.28s\n",
            "Epoch:8, Training loss: 2601.64, train acc: 0.9641, val loss: 1634.13, val acc: 0.9307, time: 184.65s\n",
            "Epoch:9, Training loss: 2253.40, train acc: 0.9685, val loss: 1635.58, val acc: 0.9310, time: 185.29s\n",
            "Epoch:10, Training loss: 1972.80, train acc: 0.9702, val loss: 1673.81, val acc: 0.9328, time: 185.18s\n",
            "Epoch:11, Training loss: 1768.26, train acc: 0.9741, val loss: 1572.78, val acc: 0.9366, time: 184.85s\n",
            "Epoch:12, Training loss: 1497.10, train acc: 0.9780, val loss: 1619.62, val acc: 0.9389, time: 184.18s\n",
            "Epoch:13, Training loss: 1333.38, train acc: 0.9814, val loss: 1568.19, val acc: 0.9403, time: 184.62s\n",
            "Epoch:14, Training loss: 1205.78, train acc: 0.9821, val loss: 1647.47, val acc: 0.9420, time: 185.62s\n",
            "Epoch:15, Training loss: 1025.09, train acc: 0.9851, val loss: 1587.81, val acc: 0.9418, time: 184.48s\n",
            "Epoch:16, Training loss: 957.57, train acc: 0.9869, val loss: 1604.82, val acc: 0.9440, time: 184.88s\n",
            "Epoch:17, Training loss: 854.61, train acc: 0.9875, val loss: 1620.02, val acc: 0.9447, time: 186.91s\n",
            "Epoch:18, Training loss: 702.84, train acc: 0.9881, val loss: 1688.61, val acc: 0.9408, time: 187.00s\n",
            "Epoch:19, Training loss: 631.96, train acc: 0.9879, val loss: 1765.14, val acc: 0.9449, time: 186.84s\n",
            "Epoch:20, Training loss: 624.24, train acc: 0.9914, val loss: 1629.43, val acc: 0.9477, time: 184.24s\n",
            "\n",
            "              precision    recall  f1-score   support\n",
            "\n",
            "       I-LOC     0.8004    0.9189    0.8556       419\n",
            "      I-MISC     0.8243    0.6524    0.7284       187\n",
            "       I-ORG     0.7903    0.5158    0.6242       285\n",
            "       I-PER     0.9622    0.8731    0.9155       875\n",
            "           O     0.9637    0.9898    0.9766      5790\n",
            "\n",
            "    accuracy                         0.9461      7556\n",
            "   macro avg     0.8682    0.7900    0.8200      7556\n",
            "weighted avg     0.9445    0.9461    0.9434      7556\n",
            "\n",
            "Saving to drive/My Drive/comp5046/Input Embedding=Word2Vec + TFIDF NER=Bi-LSTM CRF Layer=Single Attention=None.pdf\n",
            "\n",
            "\n",
            "====================================================================================================\n",
            "Start Experiment: Input Embedding=Word2Vec + POS-Tag + TFIDF NER=Bi-LSTM CRF Layer=Single Attention=None\n"
          ],
          "name": "stdout"
        },
        {
          "output_type": "display_data",
          "data": {
            "application/vnd.jupyter.widget-view+json": {
              "model_id": "3877db554b2d4c508e47165fd5eaa8c6",
              "version_minor": 0,
              "version_major": 2
            },
            "text/plain": [
              "HBox(children=(FloatProgress(value=0.0, max=20.0), HTML(value='')))"
            ]
          },
          "metadata": {
            "tags": []
          }
        },
        {
          "output_type": "stream",
          "text": [
            "Epoch:1, Training loss: 11859.08, train acc: 0.9119, val loss: 2070.54, val acc: 0.9019, time: 184.20s\n",
            "Epoch:2, Training loss: 7400.08, train acc: 0.9278, val loss: 1776.24, val acc: 0.9165, time: 184.11s\n",
            "Epoch:3, Training loss: 5779.35, train acc: 0.9388, val loss: 1686.62, val acc: 0.9214, time: 183.18s\n",
            "Epoch:4, Training loss: 4755.42, train acc: 0.9462, val loss: 1627.43, val acc: 0.9239, time: 183.34s\n",
            "Epoch:5, Training loss: 3914.01, train acc: 0.9535, val loss: 1633.27, val acc: 0.9268, time: 182.61s\n",
            "Epoch:6, Training loss: 3358.54, train acc: 0.9577, val loss: 1630.34, val acc: 0.9273, time: 182.90s\n",
            "Epoch:7, Training loss: 2853.59, train acc: 0.9616, val loss: 1666.07, val acc: 0.9299, time: 182.16s\n",
            "Epoch:8, Training loss: 2482.00, train acc: 0.9652, val loss: 1685.37, val acc: 0.9317, time: 182.51s\n",
            "Epoch:9, Training loss: 2148.91, train acc: 0.9687, val loss: 1682.53, val acc: 0.9345, time: 182.62s\n",
            "Epoch:10, Training loss: 1888.83, train acc: 0.9723, val loss: 1669.28, val acc: 0.9350, time: 182.00s\n",
            "Epoch:11, Training loss: 1653.26, train acc: 0.9750, val loss: 1668.80, val acc: 0.9357, time: 181.81s\n",
            "Epoch:12, Training loss: 1415.07, train acc: 0.9773, val loss: 1709.30, val acc: 0.9371, time: 181.66s\n",
            "Epoch:13, Training loss: 1248.68, train acc: 0.9789, val loss: 1712.32, val acc: 0.9387, time: 181.38s\n",
            "Epoch:14, Training loss: 1132.72, train acc: 0.9821, val loss: 1715.47, val acc: 0.9419, time: 182.02s\n",
            "Epoch:15, Training loss: 985.20, train acc: 0.9849, val loss: 1678.32, val acc: 0.9435, time: 182.32s\n",
            "Epoch:16, Training loss: 873.47, train acc: 0.9868, val loss: 1672.63, val acc: 0.9483, time: 183.26s\n",
            "Epoch:17, Training loss: 761.35, train acc: 0.9858, val loss: 1742.24, val acc: 0.9471, time: 186.37s\n",
            "Epoch:18, Training loss: 689.01, train acc: 0.9885, val loss: 1713.45, val acc: 0.9509, time: 182.90s\n",
            "Epoch:19, Training loss: 619.45, train acc: 0.9896, val loss: 1706.72, val acc: 0.9508, time: 181.91s\n",
            "Epoch:20, Training loss: 546.46, train acc: 0.9910, val loss: 1714.96, val acc: 0.9508, time: 181.19s\n",
            "\n",
            "              precision    recall  f1-score   support\n",
            "\n",
            "       I-LOC     0.7959    0.9212    0.8540       419\n",
            "      I-MISC     0.8839    0.7326    0.8012       187\n",
            "       I-ORG     0.8639    0.5123    0.6432       285\n",
            "       I-PER     0.9757    0.8731    0.9216       875\n",
            "           O     0.9646    0.9936    0.9789      5790\n",
            "\n",
            "    accuracy                         0.9510      7556\n",
            "   macro avg     0.8968    0.8066    0.8398      7556\n",
            "weighted avg     0.9508    0.9510    0.9483      7556\n",
            "\n",
            "Saving to drive/My Drive/comp5046/Input Embedding=Word2Vec + POS-Tag + TFIDF NER=Bi-LSTM CRF Layer=Single Attention=None.pdf\n",
            "\n"
          ],
          "name": "stdout"
        },
        {
          "output_type": "display_data",
          "data": {
            "image/png": "[encoded data removed]",
            "text/plain": [
              "<Figure size 1080x432 with 2 Axes>"
            ]
          },
          "metadata": {
            "tags": [],
            "needs_background": "light"
          }
        },
        {
          "output_type": "display_data",
          "data": {
            "image/png": "[encoded data removed]",
            "text/plain": [
              "<Figure size 1080x432 with 2 Axes>"
            ]
          },
          "metadata": {
            "tags": [],
            "needs_background": "light"
          }
        },
        {
          "output_type": "display_data",
          "data": {
            "image/png": "[encoded data removed]",
            "text/plain": [
              "<Figure size 1080x432 with 2 Axes>"
            ]
          },
          "metadata": {
            "tags": [],
            "needs_background": "light"
          }
        },
        {
          "output_type": "display_data",
          "data": {
            "image/png": "[encoded data removed]",
            "text/plain": [
              "<Figure size 1080x432 with 2 Axes>"
            ]
          },
          "metadata": {
            "tags": [],
            "needs_background": "light"
          }
        }
      ]
    },
    {
      "cell_type": "code",
      "metadata": {
        "id": "DSOUWWJaS6S5",
        "colab_type": "code",
        "outputId": "ff23c118-47f9-4a48-90c0-d3962cbff495",
        "colab": {
          "base_uri": "https://localhost:8080/",
          "height": 51
        }
      },
      "source": [
        "import pickle\n",
        "\n",
        "# mount to my drive\n",
        "from google.colab import drive\n",
        "drive.mount('/content/drive')\n",
        "\n",
        "# save results\n",
        "input_embedding_file_name = 'drive/My Drive/input_embedding_exprs.pkl'\n",
        "print('Saving to', input_embedding_file_name)\n",
        "with open(input_embedding_file_name, 'wb') as f:\n",
        "  pickle.dump(input_embedding_evaluation_results, f)"
      ],
      "execution_count": 0,
      "outputs": [
        {
          "output_type": "stream",
          "text": [
            "Drive already mounted at /content/drive; to attempt to forcibly remount, call drive.mount(\"/content/drive\", force_remount=True).\n",
            "Saving to drive/My Drive/input_embedding_exprs.pkl\n"
          ],
          "name": "stdout"
        }
      ]
    },
    {
      "cell_type": "markdown",
      "metadata": {
        "id": "nXjZFaQIwHtB",
        "colab_type": "text"
      },
      "source": [
        "#### 5.2.1 Analysis\n"
      ]
    },
    {
      "cell_type": "code",
      "metadata": {
        "id": "ZQnrIVfTqsh7",
        "colab_type": "code",
        "colab": {}
      },
      "source": [
        "from collections import defaultdict\n",
        "\n",
        "ner_tags = ['I-LOC', 'I-MISC', 'I-ORG', 'I-PER', 'O']\n",
        "\n",
        "def process_results(results, var_name):\n",
        "  \"\"\"Process results.\"\"\"\n",
        "  # extract results\n",
        "  df_result = defaultdict(list)\n",
        "  for _, result in results.items():\n",
        "    for tag_name in ner_tags:\n",
        "      df_result[tag_name].append(result[tag_name]['f1-score'])\n",
        "    df_result['accuracy'].append(result['accuracy'])\n",
        "    df_result['macro_avg_f1'].append(result['macro avg']['f1-score'])\n",
        "    df_result['weighted_avg_f1'].append(result['weighted avg']['f1-score'])\n",
        "  df = pd.DataFrame.from_dict(df_result)\n",
        "  df[var_name] = list(results.keys())\n",
        "  df.set_index(var_name, inplace=True)\n",
        "  return df\n",
        "\n",
        "\n",
        "def draw_f1_by_neg_tags(df, expr_name):\n",
        "  \"\"\"Draw F1 score break down by NER tags for different experiments.\"\"\"\n",
        "  df[ner_tags].T.plot(figsize=(8, 6))\n",
        "  pl.grid()\n",
        "  pl.xlabel('NER Tags')\n",
        "  pl.ylabel('F1 Score')\n",
        "  pl.title('F1 Score break down by NER Tags')\n",
        "  pl.tight_layout()\n",
        "  figpath = f'drive/My Drive/comp5046/{expr_name}_f1_breakdown_by_NER.pdf'\n",
        "  print('Saving to', figpath)\n",
        "  pl.savefig(figpath)  \n",
        "\n",
        "\n",
        "def draw_acc_f1(df, expr_name):\n",
        "  \"\"\"Draw accuracy and weighted f1 score on validation set.\"\"\"\n",
        "  df[['accuracy', 'weighted_avg_f1']].plot(style='o-', figsize=(8, 6))\n",
        "  pl.grid()\n",
        "  pl.ylabel('Score')\n",
        "  pl.title('Accuracy and Weighted Avg F1 on Validation Set')\n",
        "  pl.tight_layout()\n",
        "  figpath = f'drive/My Drive/comp5046/{expr_name}_accuracy_f1.pdf'\n",
        "  print('Saving to', figpath)\n",
        "  pl.savefig(figpath)"
      ],
      "execution_count": 0,
      "outputs": []
    },
    {
      "cell_type": "markdown",
      "metadata": {
        "id": "V1rBvnNqyhHw",
        "colab_type": "text"
      },
      "source": [
        "##### 5.2.1.1 F1 Score Break Down by NER Tags"
      ]
    },
    {
      "cell_type": "code",
      "metadata": {
        "id": "qY3L21SJwFcu",
        "colab_type": "code",
        "outputId": "d4dd1cb8-9e39-4624-8857-6b41943be956",
        "colab": {
          "base_uri": "https://localhost:8080/",
          "height": 458
        }
      },
      "source": [
        "df = process_results(input_embedding_evaluation_results, 'Embedding Type')\n",
        "draw_f1_by_neg_tags(df, 'input_embedding')"
      ],
      "execution_count": 0,
      "outputs": [
        {
          "output_type": "stream",
          "text": [
            "Saving to drive/My Drive/comp5046/input_embedding_f1_breakdown_by_NER.pdf\n"
          ],
          "name": "stdout"
        },
        {
          "output_type": "display_data",
          "data": {
            "image/png": "[encoded data removed]",
            "text/plain": [
              "<Figure size 576x432 with 1 Axes>"
            ]
          },
          "metadata": {
            "tags": [],
            "needs_background": "light"
          }
        }
      ]
    },
    {
      "cell_type": "markdown",
      "metadata": {
        "id": "71WfRANnymJp",
        "colab_type": "text"
      },
      "source": [
        "##### 5.2.1.2 Accuracy and Weighted F1 versus Embedding Type"
      ]
    },
    {
      "cell_type": "code",
      "metadata": {
        "id": "eWX5JOKzwO9_",
        "colab_type": "code",
        "outputId": "ad15006c-7803-4066-f3ad-1de8250741c1",
        "colab": {
          "base_uri": "https://localhost:8080/",
          "height": 458
        }
      },
      "source": [
        "draw_acc_f1(df, 'input_embedding')"
      ],
      "execution_count": 0,
      "outputs": [
        {
          "output_type": "stream",
          "text": [
            "Saving to drive/My Drive/comp5046/input_embedding_accuracy_f1.pdf\n"
          ],
          "name": "stdout"
        },
        {
          "output_type": "display_data",
          "data": {
            "image/png": "[encoded data removed]",
            "text/plain": [
              "<Figure size 576x432 with 1 Axes>"
            ]
          },
          "metadata": {
            "tags": [],
            "needs_background": "light"
          }
        }
      ]
    },
    {
      "cell_type": "markdown",
      "metadata": {
        "id": "xZ06MVtIVXGK",
        "colab_type": "text"
      },
      "source": [
        "### 5.3 Number of Layers in Bi-LSTM CRF Experiments\n",
        "\n",
        "In this section, we experiment the Bi_LSTM CRF model with different layers:\n",
        "\n",
        "1. Single Layer\n",
        "2. Double Layer\n",
        "3. Tripple Layer\n",
        "\n",
        "and compare the results of validation."
      ]
    },
    {
      "cell_type": "code",
      "metadata": {
        "id": "S8KTi4wlVqH5",
        "colab_type": "code",
        "outputId": "c565b1e2-a97c-4bc5-ce76-cd3f7c7154c5",
        "colab": {
          "base_uri": "https://localhost:8080/",
          "height": 1000,
          "referenced_widgets": [
            "8ebe1b78e99144b1bf99fd1657e08ae3",
            "160d98cdbf724da18143413b3f627dff",
            "014772a8bc9b44328a164272785994e5",
            "65d6726d1dbb4ed49ab5bc63922cf6a2",
            "96d5d4db111846a7a5284c659888f349",
            "4e6e98ac95614801a33d10408ae5897a",
            "32e26f17be3e4cc9a2144a8a6727f358",
            "ac977bd4cdb64944aaf1a85d24acf885",
            "deced434d8b3440dbeb5ba79931b4cb7",
            "5cf97f4510f04425a8b8d843755e5860",
            "1b0eeec5cd13445b97fb9100e0d1b13b",
            "db69aee29e3e444fb3c1dd58090f5822",
            "599973ef44d74ac1b28e643189ab0746",
            "4563d283af0d482ba712ac108d1c4812",
            "07cb3abe1b23474ca4b7acb886e3df0f",
            "5e218d6911024600beabe53dcf899ad6",
            "5adc772d20184fae9bcebf263f98eee9",
            "fc382df2f40e4a56ba4ff815ac517230",
            "18e4574595264902b92b3c653efc3e62",
            "58d8aded18ce4ea8b6d46b0419a85d68",
            "443fa3ecdf9a4adb8d0cda27d625bcf5",
            "7da7f6083fb643049b43fe2e6946daa4",
            "d5130f5f3b514873969866218d83a83a",
            "7402d0d0c38c442fa6fb17285a244d57",
            "0ba2841adc5545fc9a1b4c410ba18cc2",
            "76ce758cd89845bfb1717cd71cdb817a",
            "fb71025f343b46f0850de9182de3b95d",
            "e631fff6a1124c9e89421ec02cc13ec3",
            "527eae1c40984d5eb6068a76a9b525f8",
            "5ee47ad26b48414589d4dff095a43051",
            "65a8355a850d4d28a4004cd10b0d3fea",
            "ba109164f88c422fab9a057b91d636b3"
          ]
        }
      },
      "source": [
        "# mount to my drive\n",
        "from google.colab import drive\n",
        "drive.mount('/content/drive')\n",
        "\n",
        "# create embedding\n",
        "embedding = Embedding(use_word2vec=True, use_pos=True, use_tfidf=True)\n",
        "\n",
        "layers = {\n",
        "    'Single': 1,\n",
        "    'Double': 2,\n",
        "    'Tripple': 3\n",
        "}\n",
        "\n",
        "HIDDEN_DIM = 50\n",
        "num_layers_evaluation_results = {}\n",
        "\n",
        "# loop through all possible number of layers and do experiment\n",
        "for name, num_layer in tqdm(layers.items()):\n",
        "  # log\n",
        "  expr_name = f'Input Embedding=Word2Vec + POS-Tag + TFIDF NER=Bi-LSTM CRF Layer={name} Attention=None'\n",
        "  print('\\n\\n' + '=' * 100)\n",
        "  print('Start Experiment:', expr_name)\n",
        "\n",
        "  # build Bi-LSTM CRF model\n",
        "  device = torch.device(\"cuda\" if torch.cuda.is_available() else \"cpu\")\n",
        "  HIDDEN_DIM = 50\n",
        "  model = BiLSTM_CRF(len(word_to_ix), tag_to_ix, embedding_dim, embedding_matrix, HIDDEN_DIM, num_layer).to(device)\n",
        "  optimizer = optim.SGD(model.parameters(), lr=0.01, weight_decay=1e-4)\n",
        "\n",
        "  # start experiment\n",
        "  num_layers_evaluation_results[name] = conduct_one_experiment(model, optimizer, expr_name)\n",
        "\n",
        "\n",
        "import pickle\n",
        "\n",
        "# mount to my drive\n",
        "from google.colab import drive\n",
        "drive.mount('/content/drive')\n",
        "\n",
        "# save results\n",
        "num_layers_file_name = 'drive/My Drive/num_layers_exprs.pkl'\n",
        "print('Saving to', num_layers_file_name)\n",
        "with open(num_layers_file_name, 'wb') as f:\n",
        "  pickle.dump(num_layers_evaluation_results, f)"
      ],
      "execution_count": 0,
      "outputs": [
        {
          "output_type": "stream",
          "text": [
            "Drive already mounted at /content/drive; to attempt to forcibly remount, call drive.mount(\"/content/drive\", force_remount=True).\n"
          ],
          "name": "stdout"
        },
        {
          "output_type": "display_data",
          "data": {
            "application/vnd.jupyter.widget-view+json": {
              "model_id": "8ebe1b78e99144b1bf99fd1657e08ae3",
              "version_minor": 0,
              "version_major": 2
            },
            "text/plain": [
              "HBox(children=(FloatProgress(value=0.0, max=3.0), HTML(value='')))"
            ]
          },
          "metadata": {
            "tags": []
          }
        },
        {
          "output_type": "stream",
          "text": [
            "\n",
            "\n",
            "====================================================================================================\n",
            "Start Experiment: Input Embedding=Word2Vec + POS-Tag + TFIDF NER=Bi-LSTM CRF Layer=Single Attention=None\n"
          ],
          "name": "stdout"
        },
        {
          "output_type": "display_data",
          "data": {
            "application/vnd.jupyter.widget-view+json": {
              "model_id": "deced434d8b3440dbeb5ba79931b4cb7",
              "version_minor": 0,
              "version_major": 2
            },
            "text/plain": [
              "HBox(children=(FloatProgress(value=0.0, max=20.0), HTML(value='')))"
            ]
          },
          "metadata": {
            "tags": []
          }
        },
        {
          "output_type": "stream",
          "text": [
            "Epoch:1, Training loss: 11740.23, train acc: 0.9130, val loss: 2093.44, val acc: 0.9034, time: 186.12s\n",
            "Epoch:2, Training loss: 7424.66, train acc: 0.9262, val loss: 1820.07, val acc: 0.9132, time: 184.64s\n",
            "Epoch:3, Training loss: 5848.51, train acc: 0.9392, val loss: 1642.77, val acc: 0.9209, time: 183.04s\n",
            "Epoch:4, Training loss: 4732.27, train acc: 0.9477, val loss: 1609.93, val acc: 0.9244, time: 182.61s\n",
            "Epoch:5, Training loss: 3883.70, train acc: 0.9547, val loss: 1611.95, val acc: 0.9256, time: 183.77s\n",
            "Epoch:6, Training loss: 3265.32, train acc: 0.9598, val loss: 1604.91, val acc: 0.9262, time: 182.39s\n",
            "Epoch:7, Training loss: 2802.17, train acc: 0.9627, val loss: 1667.01, val acc: 0.9271, time: 186.55s\n",
            "Epoch:8, Training loss: 2419.36, train acc: 0.9653, val loss: 1736.40, val acc: 0.9267, time: 196.13s\n",
            "Epoch:9, Training loss: 2114.93, train acc: 0.9685, val loss: 1728.03, val acc: 0.9295, time: 189.31s\n",
            "Epoch:10, Training loss: 1851.12, train acc: 0.9707, val loss: 1794.49, val acc: 0.9304, time: 189.28s\n",
            "Epoch:11, Training loss: 1597.77, train acc: 0.9731, val loss: 1786.00, val acc: 0.9346, time: 188.24s\n",
            "Epoch:12, Training loss: 1394.85, train acc: 0.9761, val loss: 1755.15, val acc: 0.9367, time: 189.73s\n",
            "Epoch:13, Training loss: 1218.71, train acc: 0.9777, val loss: 1837.27, val acc: 0.9362, time: 188.39s\n",
            "Epoch:14, Training loss: 1076.43, train acc: 0.9801, val loss: 1864.73, val acc: 0.9358, time: 187.16s\n",
            "Epoch:15, Training loss: 963.13, train acc: 0.9821, val loss: 1822.28, val acc: 0.9377, time: 187.33s\n",
            "Epoch:16, Training loss: 875.32, train acc: 0.9840, val loss: 1841.16, val acc: 0.9416, time: 186.90s\n",
            "Epoch:17, Training loss: 736.25, train acc: 0.9856, val loss: 1895.86, val acc: 0.9426, time: 187.11s\n",
            "Epoch:18, Training loss: 673.92, train acc: 0.9873, val loss: 1913.55, val acc: 0.9412, time: 192.97s\n",
            "Epoch:19, Training loss: 602.53, train acc: 0.9902, val loss: 1875.39, val acc: 0.9469, time: 195.48s\n",
            "Epoch:20, Training loss: 545.25, train acc: 0.9900, val loss: 1946.15, val acc: 0.9448, time: 201.96s\n",
            "\n",
            "              precision    recall  f1-score   support\n",
            "\n",
            "       I-LOC     0.7642    0.9284    0.8384       419\n",
            "      I-MISC     0.8344    0.7273    0.7771       187\n",
            "       I-ORG     0.8258    0.4491    0.5818       285\n",
            "       I-PER     0.9697    0.8411    0.9009       875\n",
            "           O     0.9623    0.9922    0.9770      5790\n",
            "\n",
            "    accuracy                         0.9442      7556\n",
            "   macro avg     0.8713    0.7876    0.8150      7556\n",
            "weighted avg     0.9439    0.9442    0.9407      7556\n",
            "\n",
            "Saving to drive/My Drive/comp5046/Input Embedding=Word2Vec + POS-Tag + TFIDF NER=Bi-LSTM CRF Layer=Single Attention=None.pdf\n",
            "\n",
            "\n",
            "====================================================================================================\n",
            "Start Experiment: Input Embedding=Word2Vec + POS-Tag + TFIDF NER=Bi-LSTM CRF Layer=Double Attention=None\n"
          ],
          "name": "stdout"
        },
        {
          "output_type": "display_data",
          "data": {
            "application/vnd.jupyter.widget-view+json": {
              "model_id": "5adc772d20184fae9bcebf263f98eee9",
              "version_minor": 0,
              "version_major": 2
            },
            "text/plain": [
              "HBox(children=(FloatProgress(value=0.0, max=20.0), HTML(value='')))"
            ]
          },
          "metadata": {
            "tags": []
          }
        },
        {
          "output_type": "stream",
          "text": [
            "Epoch:1, Training loss: 14182.01, train acc: 0.9048, val loss: 2184.05, val acc: 0.8997, time: 209.05s\n",
            "Epoch:2, Training loss: 8059.62, train acc: 0.9230, val loss: 1906.04, val acc: 0.9085, time: 200.27s\n",
            "Epoch:3, Training loss: 6198.23, train acc: 0.9345, val loss: 1798.51, val acc: 0.9170, time: 197.82s\n",
            "Epoch:4, Training loss: 4993.95, train acc: 0.9408, val loss: 1760.18, val acc: 0.9195, time: 195.78s\n",
            "Epoch:5, Training loss: 4197.93, train acc: 0.9458, val loss: 1765.75, val acc: 0.9220, time: 194.35s\n",
            "Epoch:6, Training loss: 3612.50, train acc: 0.9503, val loss: 1729.63, val acc: 0.9250, time: 194.33s\n",
            "Epoch:7, Training loss: 3167.17, train acc: 0.9532, val loss: 1766.35, val acc: 0.9255, time: 192.84s\n",
            "Epoch:8, Training loss: 2781.34, train acc: 0.9599, val loss: 1744.89, val acc: 0.9304, time: 192.47s\n",
            "Epoch:9, Training loss: 2428.59, train acc: 0.9628, val loss: 1790.84, val acc: 0.9285, time: 195.29s\n",
            "Epoch:10, Training loss: 2138.42, train acc: 0.9652, val loss: 1741.02, val acc: 0.9326, time: 195.20s\n",
            "Epoch:11, Training loss: 1908.58, train acc: 0.9663, val loss: 1878.90, val acc: 0.9334, time: 193.79s\n",
            "Epoch:12, Training loss: 1646.59, train acc: 0.9684, val loss: 1830.03, val acc: 0.9337, time: 193.48s\n",
            "Epoch:13, Training loss: 1468.31, train acc: 0.9742, val loss: 1810.70, val acc: 0.9377, time: 192.47s\n",
            "Epoch:14, Training loss: 1317.78, train acc: 0.9759, val loss: 1911.32, val acc: 0.9387, time: 192.96s\n",
            "Epoch:15, Training loss: 1171.85, train acc: 0.9772, val loss: 1875.15, val acc: 0.9410, time: 192.43s\n",
            "Epoch:16, Training loss: 1019.35, train acc: 0.9813, val loss: 1923.69, val acc: 0.9406, time: 209.26s\n",
            "Epoch:17, Training loss: 916.22, train acc: 0.9815, val loss: 1845.47, val acc: 0.9439, time: 200.33s\n",
            "Epoch:18, Training loss: 859.53, train acc: 0.9823, val loss: 1901.63, val acc: 0.9449, time: 198.23s\n",
            "Epoch:19, Training loss: 730.18, train acc: 0.9869, val loss: 1963.50, val acc: 0.9443, time: 197.56s\n",
            "Epoch:20, Training loss: 665.72, train acc: 0.9867, val loss: 2106.13, val acc: 0.9451, time: 195.77s\n",
            "\n",
            "              precision    recall  f1-score   support\n",
            "\n",
            "       I-LOC     0.7279    0.9451    0.8224       419\n",
            "      I-MISC     0.7963    0.6898    0.7393       187\n",
            "       I-ORG     0.8796    0.3333    0.4835       285\n",
            "       I-PER     0.9769    0.8709    0.9208       875\n",
            "           O     0.9633    0.9919    0.9774      5790\n",
            "\n",
            "    accuracy                         0.9430      7556\n",
            "   macro avg     0.8688    0.7662    0.7887      7556\n",
            "weighted avg     0.9445    0.9430    0.9377      7556\n",
            "\n",
            "Saving to drive/My Drive/comp5046/Input Embedding=Word2Vec + POS-Tag + TFIDF NER=Bi-LSTM CRF Layer=Double Attention=None.pdf\n",
            "\n",
            "\n",
            "====================================================================================================\n",
            "Start Experiment: Input Embedding=Word2Vec + POS-Tag + TFIDF NER=Bi-LSTM CRF Layer=Tripple Attention=None\n"
          ],
          "name": "stdout"
        },
        {
          "output_type": "display_data",
          "data": {
            "application/vnd.jupyter.widget-view+json": {
              "model_id": "0ba2841adc5545fc9a1b4c410ba18cc2",
              "version_minor": 0,
              "version_major": 2
            },
            "text/plain": [
              "HBox(children=(FloatProgress(value=0.0, max=20.0), HTML(value='')))"
            ]
          },
          "metadata": {
            "tags": []
          }
        },
        {
          "output_type": "stream",
          "text": [
            "Epoch:1, Training loss: 19259.31, train acc: 0.8854, val loss: 2725.76, val acc: 0.8821, time: 200.78s\n",
            "Epoch:2, Training loss: 9683.13, train acc: 0.9107, val loss: 2041.80, val acc: 0.9064, time: 201.55s\n",
            "Epoch:3, Training loss: 7413.15, train acc: 0.9274, val loss: 1908.43, val acc: 0.9154, time: 202.28s\n",
            "Epoch:4, Training loss: 5975.39, train acc: 0.9348, val loss: 1811.31, val acc: 0.9194, time: 199.79s\n",
            "Epoch:5, Training loss: 4971.72, train acc: 0.9403, val loss: 1770.48, val acc: 0.9178, time: 199.81s\n",
            "Epoch:6, Training loss: 4351.71, train acc: 0.9457, val loss: 1830.87, val acc: 0.9215, time: 201.10s\n",
            "Epoch:7, Training loss: 3736.01, train acc: 0.9521, val loss: 1719.01, val acc: 0.9242, time: 197.37s\n",
            "Epoch:8, Training loss: 3365.93, train acc: 0.9562, val loss: 1777.75, val acc: 0.9277, time: 196.69s\n",
            "Epoch:9, Training loss: 2967.24, train acc: 0.9558, val loss: 1921.09, val acc: 0.9219, time: 196.07s\n",
            "Epoch:10, Training loss: 2696.51, train acc: 0.9609, val loss: 1790.36, val acc: 0.9291, time: 195.99s\n",
            "Epoch:11, Training loss: 2459.37, train acc: 0.9599, val loss: 1894.80, val acc: 0.9264, time: 196.33s\n",
            "Epoch:12, Training loss: 2178.61, train acc: 0.9612, val loss: 1960.28, val acc: 0.9254, time: 196.00s\n",
            "Epoch:13, Training loss: 2009.69, train acc: 0.9647, val loss: 1948.06, val acc: 0.9273, time: 195.91s\n",
            "Epoch:14, Training loss: 1788.93, train acc: 0.9705, val loss: 1899.66, val acc: 0.9329, time: 196.23s\n",
            "Epoch:15, Training loss: 1666.40, train acc: 0.9712, val loss: 2006.63, val acc: 0.9291, time: 196.56s\n",
            "Epoch:16, Training loss: 1551.42, train acc: 0.9697, val loss: 2150.22, val acc: 0.9284, time: 197.68s\n",
            "Epoch:17, Training loss: 1299.18, train acc: 0.9788, val loss: 1969.41, val acc: 0.9397, time: 198.49s\n",
            "Epoch:18, Training loss: 1190.09, train acc: 0.9811, val loss: 1843.16, val acc: 0.9374, time: 197.00s\n",
            "Epoch:19, Training loss: 1137.78, train acc: 0.9816, val loss: 1901.26, val acc: 0.9381, time: 198.18s\n",
            "Epoch:20, Training loss: 1067.08, train acc: 0.9864, val loss: 1852.86, val acc: 0.9452, time: 198.20s\n",
            "\n",
            "              precision    recall  f1-score   support\n",
            "\n",
            "       I-LOC     0.7729    0.9260    0.8426       419\n",
            "      I-MISC     0.8063    0.6898    0.7435       187\n",
            "       I-ORG     0.7500    0.4526    0.5646       285\n",
            "       I-PER     0.9683    0.8731    0.9183       875\n",
            "           O     0.9673    0.9912    0.9791      5790\n",
            "\n",
            "    accuracy                         0.9461      7556\n",
            "   macro avg     0.8530    0.7866    0.8096      7556\n",
            "weighted avg     0.9445    0.9461    0.9430      7556\n",
            "\n",
            "Saving to drive/My Drive/comp5046/Input Embedding=Word2Vec + POS-Tag + TFIDF NER=Bi-LSTM CRF Layer=Tripple Attention=None.pdf\n",
            "\n",
            "Drive already mounted at /content/drive; to attempt to forcibly remount, call drive.mount(\"/content/drive\", force_remount=True).\n",
            "Saving to drive/My Drive/num_layers_exprs.pkl\n"
          ],
          "name": "stdout"
        },
        {
          "output_type": "display_data",
          "data": {
            "image/png": "[encoded data removed]",
            "text/plain": [
              "<Figure size 1080x432 with 2 Axes>"
            ]
          },
          "metadata": {
            "tags": [],
            "needs_background": "light"
          }
        },
        {
          "output_type": "display_data",
          "data": {
            "image/png": "[encoded data removed]",
            "text/plain": [
              "<Figure size 1080x432 with 2 Axes>"
            ]
          },
          "metadata": {
            "tags": [],
            "needs_background": "light"
          }
        },
        {
          "output_type": "display_data",
          "data": {
            "image/png": "[encoded data removed]",
            "text/plain": [
              "<Figure size 1080x432 with 2 Axes>"
            ]
          },
          "metadata": {
            "tags": [],
            "needs_background": "light"
          }
        }
      ]
    },
    {
      "cell_type": "markdown",
      "metadata": {
        "id": "fTlzOC6rvXn3",
        "colab_type": "text"
      },
      "source": [
        "#### 5.3.1 Analysis"
      ]
    },
    {
      "cell_type": "markdown",
      "metadata": {
        "id": "FbvSAqCBvcGc",
        "colab_type": "text"
      },
      "source": [
        "##### 5.3.1.1 F1 Score Break Down by NER Tags"
      ]
    },
    {
      "cell_type": "code",
      "metadata": {
        "id": "CYjKKmtlvomR",
        "colab_type": "code",
        "outputId": "bfc5acf2-c979-41ef-d001-a4034d56661a",
        "colab": {
          "base_uri": "https://localhost:8080/",
          "height": 458
        }
      },
      "source": [
        "df = process_results(num_layers_evaluation_results, 'Number of Layers')\n",
        "draw_f1_by_neg_tags(df, 'num_layers')"
      ],
      "execution_count": 0,
      "outputs": [
        {
          "output_type": "stream",
          "text": [
            "Saving to drive/My Drive/comp5046/num_layers_f1_breakdown_by_NER.pdf\n"
          ],
          "name": "stdout"
        },
        {
          "output_type": "display_data",
          "data": {
            "image/png": "[encoded data removed]",
            "text/plain": [
              "<Figure size 576x432 with 1 Axes>"
            ]
          },
          "metadata": {
            "tags": [],
            "needs_background": "light"
          }
        }
      ]
    },
    {
      "cell_type": "markdown",
      "metadata": {
        "id": "GeFHKO1nvzn4",
        "colab_type": "text"
      },
      "source": [
        "##### 5.3.1.2 Accuracy and Weighted F1 versus Number of Layers"
      ]
    },
    {
      "cell_type": "code",
      "metadata": {
        "id": "LAmS_5GRv4Fu",
        "colab_type": "code",
        "outputId": "a4b6f167-2031-4d83-a487-c0d940f91b16",
        "colab": {
          "base_uri": "https://localhost:8080/",
          "height": 458
        }
      },
      "source": [
        "draw_acc_f1(df, 'num_layers')"
      ],
      "execution_count": 0,
      "outputs": [
        {
          "output_type": "stream",
          "text": [
            "Saving to drive/My Drive/comp5046/num_layers_accuracy_f1.pdf\n"
          ],
          "name": "stdout"
        },
        {
          "output_type": "display_data",
          "data": {
            "image/png": "[encoded data removed]",
            "text/plain": [
              "<Figure size 576x432 with 1 Axes>"
            ]
          },
          "metadata": {
            "tags": [],
            "needs_background": "light"
          }
        }
      ]
    },
    {
      "cell_type": "markdown",
      "metadata": {
        "id": "O70OhmJomz7c",
        "colab_type": "text"
      },
      "source": [
        "### 5.4 Other NER Models"
      ]
    },
    {
      "cell_type": "markdown",
      "metadata": {
        "id": "Oyzmu2OLm3EA",
        "colab_type": "text"
      },
      "source": [
        "#### 5.4.1 Flair NER Model"
      ]
    },
    {
      "cell_type": "code",
      "metadata": {
        "id": "EbokyM2tm6PW",
        "colab_type": "code",
        "colab": {}
      },
      "source": [
        "!pip install flair"
      ],
      "execution_count": 0,
      "outputs": []
    },
    {
      "cell_type": "code",
      "metadata": {
        "id": "pEIBFQU6m-rq",
        "colab_type": "code",
        "colab": {}
      },
      "source": [
        "from flair.data import Sentence\n",
        "from flair.models import SequenceTagger\n",
        "tagger = SequenceTagger.load('ner')"
      ],
      "execution_count": 0,
      "outputs": []
    },
    {
      "cell_type": "code",
      "metadata": {
        "id": "Ii4UwOjznCSU",
        "colab_type": "code",
        "colab": {}
      },
      "source": [
        "# get NER label from flair\n",
        "flair_predict = []\n",
        "for i in tqdm(range(len(validation_data))):\n",
        "  sentence = Sentence(' '.join(validation_data[i]))\n",
        "  tagger.predict(sentence)\n",
        "  tags = ['O'] * len(sentence)\n",
        "  for entity in sentence.get_spans('ner'):\n",
        "    tag = 'I-' + entity.tag \n",
        "    for token in entity.tokens:\n",
        "      idx = token.idx\n",
        "      tags[idx - 1] = tag\n",
        "      assert tag in tag_to_ix, tag\n",
        "  flair_predict.append(tags)"
      ],
      "execution_count": 0,
      "outputs": []
    },
    {
      "cell_type": "code",
      "metadata": {
        "id": "_D0Gis6wnEGx",
        "colab_type": "code",
        "colab": {}
      },
      "source": [
        "idx_flair_predict = []\n",
        "idx_target_truth = []\n",
        "for tag_flair, tag_truth in zip(flair_predict, target_y_validation):\n",
        "  idx_flair = [tag_to_ix[t] for t in tag_flair]\n",
        "  idx_truth = [tag_to_ix[t] for t in tag_truth]\n",
        "  idx_flair_predict += tag_flair\n",
        "  idx_target_truth += tag_truth"
      ],
      "execution_count": 0,
      "outputs": []
    },
    {
      "cell_type": "code",
      "metadata": {
        "id": "q48_9kIknGYt",
        "colab_type": "code",
        "colab": {}
      },
      "source": [
        "print(classification_report(idx_flair_predict,idx_target_truth,digits=4))"
      ],
      "execution_count": 0,
      "outputs": []
    }
  ]
}