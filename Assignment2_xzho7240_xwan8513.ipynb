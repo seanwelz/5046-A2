{
  "nbformat": 4,
  "nbformat_minor": 0,
  "metadata": {
    "kernelspec": {
      "display_name": "Python 3",
      "language": "python",
      "name": "python3"
    },
    "language_info": {
      "codemirror_mode": {
        "name": "ipython",
        "version": 3
      },
      "file_extension": ".py",
      "mimetype": "text/x-python",
      "name": "python",
      "nbconvert_exporter": "python",
      "pygments_lexer": "ipython3",
      "version": "3.7.3"
    },
    "colab": {
      "name": "Assignment2_xzho7240_xwan8513.ipynb",
      "provenance": [],
      "collapsed_sections": [],
      "toc_visible": true
    },
    "accelerator": "GPU",
    "widgets": {
      "application/vnd.jupyter.widget-state+json": {
        "e85eeada983a4a91af7bfcbccdae6fb5": {
          "model_module": "@jupyter-widgets/controls",
          "model_name": "HBoxModel",
          "state": {
            "_view_name": "HBoxView",
            "_dom_classes": [],
            "_model_name": "HBoxModel",
            "_view_module": "@jupyter-widgets/controls",
            "_model_module_version": "1.5.0",
            "_view_count": null,
            "_view_module_version": "1.5.0",
            "box_style": "",
            "layout": "IPY_MODEL_e5b9d4a952c84c139d85961753916ee2",
            "_model_module": "@jupyter-widgets/controls",
            "children": [
              "IPY_MODEL_2d66c67e4c7549b3a5c3ad81552e4abc",
              "IPY_MODEL_8c6511d32a404046aea293aa46ec68f8"
            ]
          }
        },
        "e5b9d4a952c84c139d85961753916ee2": {
          "model_module": "@jupyter-widgets/base",
          "model_name": "LayoutModel",
          "state": {
            "_view_name": "LayoutView",
            "grid_template_rows": null,
            "right": null,
            "justify_content": null,
            "_view_module": "@jupyter-widgets/base",
            "overflow": null,
            "_model_module_version": "1.2.0",
            "_view_count": null,
            "flex_flow": null,
            "width": null,
            "min_width": null,
            "border": null,
            "align_items": null,
            "bottom": null,
            "_model_module": "@jupyter-widgets/base",
            "top": null,
            "grid_column": null,
            "overflow_y": null,
            "overflow_x": null,
            "grid_auto_flow": null,
            "grid_area": null,
            "grid_template_columns": null,
            "flex": null,
            "_model_name": "LayoutModel",
            "justify_items": null,
            "grid_row": null,
            "max_height": null,
            "align_content": null,
            "visibility": null,
            "align_self": null,
            "height": null,
            "min_height": null,
            "padding": null,
            "grid_auto_rows": null,
            "grid_gap": null,
            "max_width": null,
            "order": null,
            "_view_module_version": "1.2.0",
            "grid_template_areas": null,
            "object_position": null,
            "object_fit": null,
            "grid_auto_columns": null,
            "margin": null,
            "display": null,
            "left": null
          }
        },
        "2d66c67e4c7549b3a5c3ad81552e4abc": {
          "model_module": "@jupyter-widgets/controls",
          "model_name": "FloatProgressModel",
          "state": {
            "_view_name": "ProgressView",
            "style": "IPY_MODEL_bbbee4326a2c45949ff73a443c9c5672",
            "_dom_classes": [],
            "description": "100%",
            "_model_name": "FloatProgressModel",
            "bar_style": "success",
            "max": 13972,
            "_view_module": "@jupyter-widgets/controls",
            "_model_module_version": "1.5.0",
            "value": 13972,
            "_view_count": null,
            "_view_module_version": "1.5.0",
            "orientation": "horizontal",
            "min": 0,
            "description_tooltip": null,
            "_model_module": "@jupyter-widgets/controls",
            "layout": "IPY_MODEL_e8ad511258c24597b65c3afb41e53067"
          }
        },
        "8c6511d32a404046aea293aa46ec68f8": {
          "model_module": "@jupyter-widgets/controls",
          "model_name": "HTMLModel",
          "state": {
            "_view_name": "HTMLView",
            "style": "IPY_MODEL_179e124800af454b96b8499076a907c8",
            "_dom_classes": [],
            "description": "",
            "_model_name": "HTMLModel",
            "placeholder": "​",
            "_view_module": "@jupyter-widgets/controls",
            "_model_module_version": "1.5.0",
            "value": " 13972/13972 [00:00&lt;00:00, 81358.56it/s]",
            "_view_count": null,
            "_view_module_version": "1.5.0",
            "description_tooltip": null,
            "_model_module": "@jupyter-widgets/controls",
            "layout": "IPY_MODEL_5fb99c0759d9419e8836828fe4e29429"
          }
        },
        "bbbee4326a2c45949ff73a443c9c5672": {
          "model_module": "@jupyter-widgets/controls",
          "model_name": "ProgressStyleModel",
          "state": {
            "_view_name": "StyleView",
            "_model_name": "ProgressStyleModel",
            "description_width": "initial",
            "_view_module": "@jupyter-widgets/base",
            "_model_module_version": "1.5.0",
            "_view_count": null,
            "_view_module_version": "1.2.0",
            "bar_color": null,
            "_model_module": "@jupyter-widgets/controls"
          }
        },
        "e8ad511258c24597b65c3afb41e53067": {
          "model_module": "@jupyter-widgets/base",
          "model_name": "LayoutModel",
          "state": {
            "_view_name": "LayoutView",
            "grid_template_rows": null,
            "right": null,
            "justify_content": null,
            "_view_module": "@jupyter-widgets/base",
            "overflow": null,
            "_model_module_version": "1.2.0",
            "_view_count": null,
            "flex_flow": null,
            "width": null,
            "min_width": null,
            "border": null,
            "align_items": null,
            "bottom": null,
            "_model_module": "@jupyter-widgets/base",
            "top": null,
            "grid_column": null,
            "overflow_y": null,
            "overflow_x": null,
            "grid_auto_flow": null,
            "grid_area": null,
            "grid_template_columns": null,
            "flex": null,
            "_model_name": "LayoutModel",
            "justify_items": null,
            "grid_row": null,
            "max_height": null,
            "align_content": null,
            "visibility": null,
            "align_self": null,
            "height": null,
            "min_height": null,
            "padding": null,
            "grid_auto_rows": null,
            "grid_gap": null,
            "max_width": null,
            "order": null,
            "_view_module_version": "1.2.0",
            "grid_template_areas": null,
            "object_position": null,
            "object_fit": null,
            "grid_auto_columns": null,
            "margin": null,
            "display": null,
            "left": null
          }
        },
        "179e124800af454b96b8499076a907c8": {
          "model_module": "@jupyter-widgets/controls",
          "model_name": "DescriptionStyleModel",
          "state": {
            "_view_name": "StyleView",
            "_model_name": "DescriptionStyleModel",
            "description_width": "",
            "_view_module": "@jupyter-widgets/base",
            "_model_module_version": "1.5.0",
            "_view_count": null,
            "_view_module_version": "1.2.0",
            "_model_module": "@jupyter-widgets/controls"
          }
        },
        "5fb99c0759d9419e8836828fe4e29429": {
          "model_module": "@jupyter-widgets/base",
          "model_name": "LayoutModel",
          "state": {
            "_view_name": "LayoutView",
            "grid_template_rows": null,
            "right": null,
            "justify_content": null,
            "_view_module": "@jupyter-widgets/base",
            "overflow": null,
            "_model_module_version": "1.2.0",
            "_view_count": null,
            "flex_flow": null,
            "width": null,
            "min_width": null,
            "border": null,
            "align_items": null,
            "bottom": null,
            "_model_module": "@jupyter-widgets/base",
            "top": null,
            "grid_column": null,
            "overflow_y": null,
            "overflow_x": null,
            "grid_auto_flow": null,
            "grid_area": null,
            "grid_template_columns": null,
            "flex": null,
            "_model_name": "LayoutModel",
            "justify_items": null,
            "grid_row": null,
            "max_height": null,
            "align_content": null,
            "visibility": null,
            "align_self": null,
            "height": null,
            "min_height": null,
            "padding": null,
            "grid_auto_rows": null,
            "grid_gap": null,
            "max_width": null,
            "order": null,
            "_view_module_version": "1.2.0",
            "grid_template_areas": null,
            "object_position": null,
            "object_fit": null,
            "grid_auto_columns": null,
            "margin": null,
            "display": null,
            "left": null
          }
        },
        "546dfd19e25d493c8eebdef4df0d14e9": {
          "model_module": "@jupyter-widgets/controls",
          "model_name": "HBoxModel",
          "state": {
            "_view_name": "HBoxView",
            "_dom_classes": [],
            "_model_name": "HBoxModel",
            "_view_module": "@jupyter-widgets/controls",
            "_model_module_version": "1.5.0",
            "_view_count": null,
            "_view_module_version": "1.5.0",
            "box_style": "",
            "layout": "IPY_MODEL_67bded6cb7434fc4840ed97240b46fb4",
            "_model_module": "@jupyter-widgets/controls",
            "children": [
              "IPY_MODEL_1f9f3a81ec14409f91f9bbc908c90ea1",
              "IPY_MODEL_0f947687674144338a0069e9572b69a9"
            ]
          }
        },
        "67bded6cb7434fc4840ed97240b46fb4": {
          "model_module": "@jupyter-widgets/base",
          "model_name": "LayoutModel",
          "state": {
            "_view_name": "LayoutView",
            "grid_template_rows": null,
            "right": null,
            "justify_content": null,
            "_view_module": "@jupyter-widgets/base",
            "overflow": null,
            "_model_module_version": "1.2.0",
            "_view_count": null,
            "flex_flow": null,
            "width": null,
            "min_width": null,
            "border": null,
            "align_items": null,
            "bottom": null,
            "_model_module": "@jupyter-widgets/base",
            "top": null,
            "grid_column": null,
            "overflow_y": null,
            "overflow_x": null,
            "grid_auto_flow": null,
            "grid_area": null,
            "grid_template_columns": null,
            "flex": null,
            "_model_name": "LayoutModel",
            "justify_items": null,
            "grid_row": null,
            "max_height": null,
            "align_content": null,
            "visibility": null,
            "align_self": null,
            "height": null,
            "min_height": null,
            "padding": null,
            "grid_auto_rows": null,
            "grid_gap": null,
            "max_width": null,
            "order": null,
            "_view_module_version": "1.2.0",
            "grid_template_areas": null,
            "object_position": null,
            "object_fit": null,
            "grid_auto_columns": null,
            "margin": null,
            "display": null,
            "left": null
          }
        },
        "1f9f3a81ec14409f91f9bbc908c90ea1": {
          "model_module": "@jupyter-widgets/controls",
          "model_name": "FloatProgressModel",
          "state": {
            "_view_name": "ProgressView",
            "style": "IPY_MODEL_845ca6d6863b4639b4dfc9645dcf3bed",
            "_dom_classes": [],
            "description": "100%",
            "_model_name": "FloatProgressModel",
            "bar_style": "success",
            "max": 13972,
            "_view_module": "@jupyter-widgets/controls",
            "_model_module_version": "1.5.0",
            "value": 13972,
            "_view_count": null,
            "_view_module_version": "1.5.0",
            "orientation": "horizontal",
            "min": 0,
            "description_tooltip": null,
            "_model_module": "@jupyter-widgets/controls",
            "layout": "IPY_MODEL_69c8533216d34c4cbcb16635b0efe0e6"
          }
        },
        "0f947687674144338a0069e9572b69a9": {
          "model_module": "@jupyter-widgets/controls",
          "model_name": "HTMLModel",
          "state": {
            "_view_name": "HTMLView",
            "style": "IPY_MODEL_f9028b7280e140faa877e97d6397791d",
            "_dom_classes": [],
            "description": "",
            "_model_name": "HTMLModel",
            "placeholder": "​",
            "_view_module": "@jupyter-widgets/controls",
            "_model_module_version": "1.5.0",
            "value": " 13972/13972 [7:38:32&lt;00:00,  1.97s/it]",
            "_view_count": null,
            "_view_module_version": "1.5.0",
            "description_tooltip": null,
            "_model_module": "@jupyter-widgets/controls",
            "layout": "IPY_MODEL_c9b6b95e47924f248b36cd901603bbc7"
          }
        },
        "845ca6d6863b4639b4dfc9645dcf3bed": {
          "model_module": "@jupyter-widgets/controls",
          "model_name": "ProgressStyleModel",
          "state": {
            "_view_name": "StyleView",
            "_model_name": "ProgressStyleModel",
            "description_width": "initial",
            "_view_module": "@jupyter-widgets/base",
            "_model_module_version": "1.5.0",
            "_view_count": null,
            "_view_module_version": "1.2.0",
            "bar_color": null,
            "_model_module": "@jupyter-widgets/controls"
          }
        },
        "69c8533216d34c4cbcb16635b0efe0e6": {
          "model_module": "@jupyter-widgets/base",
          "model_name": "LayoutModel",
          "state": {
            "_view_name": "LayoutView",
            "grid_template_rows": null,
            "right": null,
            "justify_content": null,
            "_view_module": "@jupyter-widgets/base",
            "overflow": null,
            "_model_module_version": "1.2.0",
            "_view_count": null,
            "flex_flow": null,
            "width": null,
            "min_width": null,
            "border": null,
            "align_items": null,
            "bottom": null,
            "_model_module": "@jupyter-widgets/base",
            "top": null,
            "grid_column": null,
            "overflow_y": null,
            "overflow_x": null,
            "grid_auto_flow": null,
            "grid_area": null,
            "grid_template_columns": null,
            "flex": null,
            "_model_name": "LayoutModel",
            "justify_items": null,
            "grid_row": null,
            "max_height": null,
            "align_content": null,
            "visibility": null,
            "align_self": null,
            "height": null,
            "min_height": null,
            "padding": null,
            "grid_auto_rows": null,
            "grid_gap": null,
            "max_width": null,
            "order": null,
            "_view_module_version": "1.2.0",
            "grid_template_areas": null,
            "object_position": null,
            "object_fit": null,
            "grid_auto_columns": null,
            "margin": null,
            "display": null,
            "left": null
          }
        },
        "f9028b7280e140faa877e97d6397791d": {
          "model_module": "@jupyter-widgets/controls",
          "model_name": "DescriptionStyleModel",
          "state": {
            "_view_name": "StyleView",
            "_model_name": "DescriptionStyleModel",
            "description_width": "",
            "_view_module": "@jupyter-widgets/base",
            "_model_module_version": "1.5.0",
            "_view_count": null,
            "_view_module_version": "1.2.0",
            "_model_module": "@jupyter-widgets/controls"
          }
        },
        "c9b6b95e47924f248b36cd901603bbc7": {
          "model_module": "@jupyter-widgets/base",
          "model_name": "LayoutModel",
          "state": {
            "_view_name": "LayoutView",
            "grid_template_rows": null,
            "right": null,
            "justify_content": null,
            "_view_module": "@jupyter-widgets/base",
            "overflow": null,
            "_model_module_version": "1.2.0",
            "_view_count": null,
            "flex_flow": null,
            "width": null,
            "min_width": null,
            "border": null,
            "align_items": null,
            "bottom": null,
            "_model_module": "@jupyter-widgets/base",
            "top": null,
            "grid_column": null,
            "overflow_y": null,
            "overflow_x": null,
            "grid_auto_flow": null,
            "grid_area": null,
            "grid_template_columns": null,
            "flex": null,
            "_model_name": "LayoutModel",
            "justify_items": null,
            "grid_row": null,
            "max_height": null,
            "align_content": null,
            "visibility": null,
            "align_self": null,
            "height": null,
            "min_height": null,
            "padding": null,
            "grid_auto_rows": null,
            "grid_gap": null,
            "max_width": null,
            "order": null,
            "_view_module_version": "1.2.0",
            "grid_template_areas": null,
            "object_position": null,
            "object_fit": null,
            "grid_auto_columns": null,
            "margin": null,
            "display": null,
            "left": null
          }
        },
        "68a94f6f360942b7ab6aafe3794124d6": {
          "model_module": "@jupyter-widgets/controls",
          "model_name": "HBoxModel",
          "state": {
            "_view_name": "HBoxView",
            "_dom_classes": [],
            "_model_name": "HBoxModel",
            "_view_module": "@jupyter-widgets/controls",
            "_model_module_version": "1.5.0",
            "_view_count": null,
            "_view_module_version": "1.5.0",
            "box_style": "",
            "layout": "IPY_MODEL_16bbfffd50c147bc8cc395bd1342bfff",
            "_model_module": "@jupyter-widgets/controls",
            "children": [
              "IPY_MODEL_0cac566264a84f3c9e818a25327bafd3",
              "IPY_MODEL_c7dabd6fbf614a80badaf594053af9e7"
            ]
          }
        },
        "16bbfffd50c147bc8cc395bd1342bfff": {
          "model_module": "@jupyter-widgets/base",
          "model_name": "LayoutModel",
          "state": {
            "_view_name": "LayoutView",
            "grid_template_rows": null,
            "right": null,
            "justify_content": null,
            "_view_module": "@jupyter-widgets/base",
            "overflow": null,
            "_model_module_version": "1.2.0",
            "_view_count": null,
            "flex_flow": null,
            "width": null,
            "min_width": null,
            "border": null,
            "align_items": null,
            "bottom": null,
            "_model_module": "@jupyter-widgets/base",
            "top": null,
            "grid_column": null,
            "overflow_y": null,
            "overflow_x": null,
            "grid_auto_flow": null,
            "grid_area": null,
            "grid_template_columns": null,
            "flex": null,
            "_model_name": "LayoutModel",
            "justify_items": null,
            "grid_row": null,
            "max_height": null,
            "align_content": null,
            "visibility": null,
            "align_self": null,
            "height": null,
            "min_height": null,
            "padding": null,
            "grid_auto_rows": null,
            "grid_gap": null,
            "max_width": null,
            "order": null,
            "_view_module_version": "1.2.0",
            "grid_template_areas": null,
            "object_position": null,
            "object_fit": null,
            "grid_auto_columns": null,
            "margin": null,
            "display": null,
            "left": null
          }
        },
        "0cac566264a84f3c9e818a25327bafd3": {
          "model_module": "@jupyter-widgets/controls",
          "model_name": "FloatProgressModel",
          "state": {
            "_view_name": "ProgressView",
            "style": "IPY_MODEL_edb86c8f01c04e5388e2218a0ef58a04",
            "_dom_classes": [],
            "description": "100%",
            "_model_name": "FloatProgressModel",
            "bar_style": "success",
            "max": 13972,
            "_view_module": "@jupyter-widgets/controls",
            "_model_module_version": "1.5.0",
            "value": 13972,
            "_view_count": null,
            "_view_module_version": "1.5.0",
            "orientation": "horizontal",
            "min": 0,
            "description_tooltip": null,
            "_model_module": "@jupyter-widgets/controls",
            "layout": "IPY_MODEL_01adcd1f81a24528be708cbb61dd854f"
          }
        },
        "c7dabd6fbf614a80badaf594053af9e7": {
          "model_module": "@jupyter-widgets/controls",
          "model_name": "HTMLModel",
          "state": {
            "_view_name": "HTMLView",
            "style": "IPY_MODEL_b688a1f6183f431f81d2d2e4ecce788b",
            "_dom_classes": [],
            "description": "",
            "_model_name": "HTMLModel",
            "placeholder": "​",
            "_view_module": "@jupyter-widgets/controls",
            "_model_module_version": "1.5.0",
            "value": " 13972/13972 [00:05&lt;00:00, 2336.22it/s]",
            "_view_count": null,
            "_view_module_version": "1.5.0",
            "description_tooltip": null,
            "_model_module": "@jupyter-widgets/controls",
            "layout": "IPY_MODEL_5e2e3aec912b4ce29ac4467e584c7a6d"
          }
        },
        "edb86c8f01c04e5388e2218a0ef58a04": {
          "model_module": "@jupyter-widgets/controls",
          "model_name": "ProgressStyleModel",
          "state": {
            "_view_name": "StyleView",
            "_model_name": "ProgressStyleModel",
            "description_width": "initial",
            "_view_module": "@jupyter-widgets/base",
            "_model_module_version": "1.5.0",
            "_view_count": null,
            "_view_module_version": "1.2.0",
            "bar_color": null,
            "_model_module": "@jupyter-widgets/controls"
          }
        },
        "01adcd1f81a24528be708cbb61dd854f": {
          "model_module": "@jupyter-widgets/base",
          "model_name": "LayoutModel",
          "state": {
            "_view_name": "LayoutView",
            "grid_template_rows": null,
            "right": null,
            "justify_content": null,
            "_view_module": "@jupyter-widgets/base",
            "overflow": null,
            "_model_module_version": "1.2.0",
            "_view_count": null,
            "flex_flow": null,
            "width": null,
            "min_width": null,
            "border": null,
            "align_items": null,
            "bottom": null,
            "_model_module": "@jupyter-widgets/base",
            "top": null,
            "grid_column": null,
            "overflow_y": null,
            "overflow_x": null,
            "grid_auto_flow": null,
            "grid_area": null,
            "grid_template_columns": null,
            "flex": null,
            "_model_name": "LayoutModel",
            "justify_items": null,
            "grid_row": null,
            "max_height": null,
            "align_content": null,
            "visibility": null,
            "align_self": null,
            "height": null,
            "min_height": null,
            "padding": null,
            "grid_auto_rows": null,
            "grid_gap": null,
            "max_width": null,
            "order": null,
            "_view_module_version": "1.2.0",
            "grid_template_areas": null,
            "object_position": null,
            "object_fit": null,
            "grid_auto_columns": null,
            "margin": null,
            "display": null,
            "left": null
          }
        },
        "b688a1f6183f431f81d2d2e4ecce788b": {
          "model_module": "@jupyter-widgets/controls",
          "model_name": "DescriptionStyleModel",
          "state": {
            "_view_name": "StyleView",
            "_model_name": "DescriptionStyleModel",
            "description_width": "",
            "_view_module": "@jupyter-widgets/base",
            "_model_module_version": "1.5.0",
            "_view_count": null,
            "_view_module_version": "1.2.0",
            "_model_module": "@jupyter-widgets/controls"
          }
        },
        "5e2e3aec912b4ce29ac4467e584c7a6d": {
          "model_module": "@jupyter-widgets/base",
          "model_name": "LayoutModel",
          "state": {
            "_view_name": "LayoutView",
            "grid_template_rows": null,
            "right": null,
            "justify_content": null,
            "_view_module": "@jupyter-widgets/base",
            "overflow": null,
            "_model_module_version": "1.2.0",
            "_view_count": null,
            "flex_flow": null,
            "width": null,
            "min_width": null,
            "border": null,
            "align_items": null,
            "bottom": null,
            "_model_module": "@jupyter-widgets/base",
            "top": null,
            "grid_column": null,
            "overflow_y": null,
            "overflow_x": null,
            "grid_auto_flow": null,
            "grid_area": null,
            "grid_template_columns": null,
            "flex": null,
            "_model_name": "LayoutModel",
            "justify_items": null,
            "grid_row": null,
            "max_height": null,
            "align_content": null,
            "visibility": null,
            "align_self": null,
            "height": null,
            "min_height": null,
            "padding": null,
            "grid_auto_rows": null,
            "grid_gap": null,
            "max_width": null,
            "order": null,
            "_view_module_version": "1.2.0",
            "grid_template_areas": null,
            "object_position": null,
            "object_fit": null,
            "grid_auto_columns": null,
            "margin": null,
            "display": null,
            "left": null
          }
        },
        "883fc943d44347538fe927a658b52ecb": {
          "model_module": "@jupyter-widgets/controls",
          "model_name": "HBoxModel",
          "state": {
            "_view_name": "HBoxView",
            "_dom_classes": [],
            "_model_name": "HBoxModel",
            "_view_module": "@jupyter-widgets/controls",
            "_model_module_version": "1.5.0",
            "_view_count": null,
            "_view_module_version": "1.5.0",
            "box_style": "",
            "layout": "IPY_MODEL_a741173199ce4ce1883decffa9d501a4",
            "_model_module": "@jupyter-widgets/controls",
            "children": [
              "IPY_MODEL_20136f60b8424602ab3385541066ae6e",
              "IPY_MODEL_5fc11e838e864e3b81f02f19eb4e7c2c"
            ]
          }
        },
        "a741173199ce4ce1883decffa9d501a4": {
          "model_module": "@jupyter-widgets/base",
          "model_name": "LayoutModel",
          "state": {
            "_view_name": "LayoutView",
            "grid_template_rows": null,
            "right": null,
            "justify_content": null,
            "_view_module": "@jupyter-widgets/base",
            "overflow": null,
            "_model_module_version": "1.2.0",
            "_view_count": null,
            "flex_flow": null,
            "width": null,
            "min_width": null,
            "border": null,
            "align_items": null,
            "bottom": null,
            "_model_module": "@jupyter-widgets/base",
            "top": null,
            "grid_column": null,
            "overflow_y": null,
            "overflow_x": null,
            "grid_auto_flow": null,
            "grid_area": null,
            "grid_template_columns": null,
            "flex": null,
            "_model_name": "LayoutModel",
            "justify_items": null,
            "grid_row": null,
            "max_height": null,
            "align_content": null,
            "visibility": null,
            "align_self": null,
            "height": null,
            "min_height": null,
            "padding": null,
            "grid_auto_rows": null,
            "grid_gap": null,
            "max_width": null,
            "order": null,
            "_view_module_version": "1.2.0",
            "grid_template_areas": null,
            "object_position": null,
            "object_fit": null,
            "grid_auto_columns": null,
            "margin": null,
            "display": null,
            "left": null
          }
        },
        "20136f60b8424602ab3385541066ae6e": {
          "model_module": "@jupyter-widgets/controls",
          "model_name": "FloatProgressModel",
          "state": {
            "_view_name": "ProgressView",
            "style": "IPY_MODEL_87499576742e4e2fa782205c9be1262b",
            "_dom_classes": [],
            "description": "100%",
            "_model_name": "FloatProgressModel",
            "bar_style": "success",
            "max": 13972,
            "_view_module": "@jupyter-widgets/controls",
            "_model_module_version": "1.5.0",
            "value": 13972,
            "_view_count": null,
            "_view_module_version": "1.5.0",
            "orientation": "horizontal",
            "min": 0,
            "description_tooltip": null,
            "_model_module": "@jupyter-widgets/controls",
            "layout": "IPY_MODEL_e4ebd5d28abb44fb81202b05f7bb6488"
          }
        },
        "5fc11e838e864e3b81f02f19eb4e7c2c": {
          "model_module": "@jupyter-widgets/controls",
          "model_name": "HTMLModel",
          "state": {
            "_view_name": "HTMLView",
            "style": "IPY_MODEL_4958718ca84042f6997aec24935a35db",
            "_dom_classes": [],
            "description": "",
            "_model_name": "HTMLModel",
            "placeholder": "​",
            "_view_module": "@jupyter-widgets/controls",
            "_model_module_version": "1.5.0",
            "value": " 13972/13972 [7:38:20&lt;00:00,  1.97s/it]",
            "_view_count": null,
            "_view_module_version": "1.5.0",
            "description_tooltip": null,
            "_model_module": "@jupyter-widgets/controls",
            "layout": "IPY_MODEL_d91b620720144c3792e2777f600b3e03"
          }
        },
        "87499576742e4e2fa782205c9be1262b": {
          "model_module": "@jupyter-widgets/controls",
          "model_name": "ProgressStyleModel",
          "state": {
            "_view_name": "StyleView",
            "_model_name": "ProgressStyleModel",
            "description_width": "initial",
            "_view_module": "@jupyter-widgets/base",
            "_model_module_version": "1.5.0",
            "_view_count": null,
            "_view_module_version": "1.2.0",
            "bar_color": null,
            "_model_module": "@jupyter-widgets/controls"
          }
        },
        "e4ebd5d28abb44fb81202b05f7bb6488": {
          "model_module": "@jupyter-widgets/base",
          "model_name": "LayoutModel",
          "state": {
            "_view_name": "LayoutView",
            "grid_template_rows": null,
            "right": null,
            "justify_content": null,
            "_view_module": "@jupyter-widgets/base",
            "overflow": null,
            "_model_module_version": "1.2.0",
            "_view_count": null,
            "flex_flow": null,
            "width": null,
            "min_width": null,
            "border": null,
            "align_items": null,
            "bottom": null,
            "_model_module": "@jupyter-widgets/base",
            "top": null,
            "grid_column": null,
            "overflow_y": null,
            "overflow_x": null,
            "grid_auto_flow": null,
            "grid_area": null,
            "grid_template_columns": null,
            "flex": null,
            "_model_name": "LayoutModel",
            "justify_items": null,
            "grid_row": null,
            "max_height": null,
            "align_content": null,
            "visibility": null,
            "align_self": null,
            "height": null,
            "min_height": null,
            "padding": null,
            "grid_auto_rows": null,
            "grid_gap": null,
            "max_width": null,
            "order": null,
            "_view_module_version": "1.2.0",
            "grid_template_areas": null,
            "object_position": null,
            "object_fit": null,
            "grid_auto_columns": null,
            "margin": null,
            "display": null,
            "left": null
          }
        },
        "4958718ca84042f6997aec24935a35db": {
          "model_module": "@jupyter-widgets/controls",
          "model_name": "DescriptionStyleModel",
          "state": {
            "_view_name": "StyleView",
            "_model_name": "DescriptionStyleModel",
            "description_width": "",
            "_view_module": "@jupyter-widgets/base",
            "_model_module_version": "1.5.0",
            "_view_count": null,
            "_view_module_version": "1.2.0",
            "_model_module": "@jupyter-widgets/controls"
          }
        },
        "d91b620720144c3792e2777f600b3e03": {
          "model_module": "@jupyter-widgets/base",
          "model_name": "LayoutModel",
          "state": {
            "_view_name": "LayoutView",
            "grid_template_rows": null,
            "right": null,
            "justify_content": null,
            "_view_module": "@jupyter-widgets/base",
            "overflow": null,
            "_model_module_version": "1.2.0",
            "_view_count": null,
            "flex_flow": null,
            "width": null,
            "min_width": null,
            "border": null,
            "align_items": null,
            "bottom": null,
            "_model_module": "@jupyter-widgets/base",
            "top": null,
            "grid_column": null,
            "overflow_y": null,
            "overflow_x": null,
            "grid_auto_flow": null,
            "grid_area": null,
            "grid_template_columns": null,
            "flex": null,
            "_model_name": "LayoutModel",
            "justify_items": null,
            "grid_row": null,
            "max_height": null,
            "align_content": null,
            "visibility": null,
            "align_self": null,
            "height": null,
            "min_height": null,
            "padding": null,
            "grid_auto_rows": null,
            "grid_gap": null,
            "max_width": null,
            "order": null,
            "_view_module_version": "1.2.0",
            "grid_template_areas": null,
            "object_position": null,
            "object_fit": null,
            "grid_auto_columns": null,
            "margin": null,
            "display": null,
            "left": null
          }
        },
        "0d930e894e7141099de46d4a5d123429": {
          "model_module": "@jupyter-widgets/controls",
          "model_name": "HBoxModel",
          "state": {
            "_view_name": "HBoxView",
            "_dom_classes": [],
            "_model_name": "HBoxModel",
            "_view_module": "@jupyter-widgets/controls",
            "_model_module_version": "1.5.0",
            "_view_count": null,
            "_view_module_version": "1.5.0",
            "box_style": "",
            "layout": "IPY_MODEL_cc3602d485264acfb619f10f0280ee62",
            "_model_module": "@jupyter-widgets/controls",
            "children": [
              "IPY_MODEL_c167ae95b0d44a36ba94dd6e120a4055",
              "IPY_MODEL_d9bcfdeb0d0d4b49a3c5903868c32547"
            ]
          }
        },
        "cc3602d485264acfb619f10f0280ee62": {
          "model_module": "@jupyter-widgets/base",
          "model_name": "LayoutModel",
          "state": {
            "_view_name": "LayoutView",
            "grid_template_rows": null,
            "right": null,
            "justify_content": null,
            "_view_module": "@jupyter-widgets/base",
            "overflow": null,
            "_model_module_version": "1.2.0",
            "_view_count": null,
            "flex_flow": null,
            "width": null,
            "min_width": null,
            "border": null,
            "align_items": null,
            "bottom": null,
            "_model_module": "@jupyter-widgets/base",
            "top": null,
            "grid_column": null,
            "overflow_y": null,
            "overflow_x": null,
            "grid_auto_flow": null,
            "grid_area": null,
            "grid_template_columns": null,
            "flex": null,
            "_model_name": "LayoutModel",
            "justify_items": null,
            "grid_row": null,
            "max_height": null,
            "align_content": null,
            "visibility": null,
            "align_self": null,
            "height": null,
            "min_height": null,
            "padding": null,
            "grid_auto_rows": null,
            "grid_gap": null,
            "max_width": null,
            "order": null,
            "_view_module_version": "1.2.0",
            "grid_template_areas": null,
            "object_position": null,
            "object_fit": null,
            "grid_auto_columns": null,
            "margin": null,
            "display": null,
            "left": null
          }
        },
        "c167ae95b0d44a36ba94dd6e120a4055": {
          "model_module": "@jupyter-widgets/controls",
          "model_name": "FloatProgressModel",
          "state": {
            "_view_name": "ProgressView",
            "style": "IPY_MODEL_1dfa4fd1cebc458da083d81261451271",
            "_dom_classes": [],
            "description": "100%",
            "_model_name": "FloatProgressModel",
            "bar_style": "success",
            "max": 20,
            "_view_module": "@jupyter-widgets/controls",
            "_model_module_version": "1.5.0",
            "value": 20,
            "_view_count": null,
            "_view_module_version": "1.5.0",
            "orientation": "horizontal",
            "min": 0,
            "description_tooltip": null,
            "_model_module": "@jupyter-widgets/controls",
            "layout": "IPY_MODEL_4d78edaef970479dafe4ba3a7637df7c"
          }
        },
        "d9bcfdeb0d0d4b49a3c5903868c32547": {
          "model_module": "@jupyter-widgets/controls",
          "model_name": "HTMLModel",
          "state": {
            "_view_name": "HTMLView",
            "style": "IPY_MODEL_b21f432e8bef4a8588c33e22c89ce7a2",
            "_dom_classes": [],
            "description": "",
            "_model_name": "HTMLModel",
            "placeholder": "​",
            "_view_module": "@jupyter-widgets/controls",
            "_model_module_version": "1.5.0",
            "value": " 20/20 [1:04:25&lt;00:00, 193.26s/it]",
            "_view_count": null,
            "_view_module_version": "1.5.0",
            "description_tooltip": null,
            "_model_module": "@jupyter-widgets/controls",
            "layout": "IPY_MODEL_09aaebc02e1f4950ac91a30e4b8e4db3"
          }
        },
        "1dfa4fd1cebc458da083d81261451271": {
          "model_module": "@jupyter-widgets/controls",
          "model_name": "ProgressStyleModel",
          "state": {
            "_view_name": "StyleView",
            "_model_name": "ProgressStyleModel",
            "description_width": "initial",
            "_view_module": "@jupyter-widgets/base",
            "_model_module_version": "1.5.0",
            "_view_count": null,
            "_view_module_version": "1.2.0",
            "bar_color": null,
            "_model_module": "@jupyter-widgets/controls"
          }
        },
        "4d78edaef970479dafe4ba3a7637df7c": {
          "model_module": "@jupyter-widgets/base",
          "model_name": "LayoutModel",
          "state": {
            "_view_name": "LayoutView",
            "grid_template_rows": null,
            "right": null,
            "justify_content": null,
            "_view_module": "@jupyter-widgets/base",
            "overflow": null,
            "_model_module_version": "1.2.0",
            "_view_count": null,
            "flex_flow": null,
            "width": null,
            "min_width": null,
            "border": null,
            "align_items": null,
            "bottom": null,
            "_model_module": "@jupyter-widgets/base",
            "top": null,
            "grid_column": null,
            "overflow_y": null,
            "overflow_x": null,
            "grid_auto_flow": null,
            "grid_area": null,
            "grid_template_columns": null,
            "flex": null,
            "_model_name": "LayoutModel",
            "justify_items": null,
            "grid_row": null,
            "max_height": null,
            "align_content": null,
            "visibility": null,
            "align_self": null,
            "height": null,
            "min_height": null,
            "padding": null,
            "grid_auto_rows": null,
            "grid_gap": null,
            "max_width": null,
            "order": null,
            "_view_module_version": "1.2.0",
            "grid_template_areas": null,
            "object_position": null,
            "object_fit": null,
            "grid_auto_columns": null,
            "margin": null,
            "display": null,
            "left": null
          }
        },
        "b21f432e8bef4a8588c33e22c89ce7a2": {
          "model_module": "@jupyter-widgets/controls",
          "model_name": "DescriptionStyleModel",
          "state": {
            "_view_name": "StyleView",
            "_model_name": "DescriptionStyleModel",
            "description_width": "",
            "_view_module": "@jupyter-widgets/base",
            "_model_module_version": "1.5.0",
            "_view_count": null,
            "_view_module_version": "1.2.0",
            "_model_module": "@jupyter-widgets/controls"
          }
        },
        "09aaebc02e1f4950ac91a30e4b8e4db3": {
          "model_module": "@jupyter-widgets/base",
          "model_name": "LayoutModel",
          "state": {
            "_view_name": "LayoutView",
            "grid_template_rows": null,
            "right": null,
            "justify_content": null,
            "_view_module": "@jupyter-widgets/base",
            "overflow": null,
            "_model_module_version": "1.2.0",
            "_view_count": null,
            "flex_flow": null,
            "width": null,
            "min_width": null,
            "border": null,
            "align_items": null,
            "bottom": null,
            "_model_module": "@jupyter-widgets/base",
            "top": null,
            "grid_column": null,
            "overflow_y": null,
            "overflow_x": null,
            "grid_auto_flow": null,
            "grid_area": null,
            "grid_template_columns": null,
            "flex": null,
            "_model_name": "LayoutModel",
            "justify_items": null,
            "grid_row": null,
            "max_height": null,
            "align_content": null,
            "visibility": null,
            "align_self": null,
            "height": null,
            "min_height": null,
            "padding": null,
            "grid_auto_rows": null,
            "grid_gap": null,
            "max_width": null,
            "order": null,
            "_view_module_version": "1.2.0",
            "grid_template_areas": null,
            "object_position": null,
            "object_fit": null,
            "grid_auto_columns": null,
            "margin": null,
            "display": null,
            "left": null
          }
        },
        "017c74e634b7489e8f4c9cd916519878": {
          "model_module": "@jupyter-widgets/controls",
          "model_name": "HBoxModel",
          "state": {
            "_view_name": "HBoxView",
            "_dom_classes": [],
            "_model_name": "HBoxModel",
            "_view_module": "@jupyter-widgets/controls",
            "_model_module_version": "1.5.0",
            "_view_count": null,
            "_view_module_version": "1.5.0",
            "box_style": "",
            "layout": "IPY_MODEL_7ea4fa854c7a4d49a7f93fd8cc1c0ece",
            "_model_module": "@jupyter-widgets/controls",
            "children": [
              "IPY_MODEL_5334dffa563743b2b47e50329f32655a",
              "IPY_MODEL_0bb3765452dd40f58c61eaf9ac895a83"
            ]
          }
        },
        "7ea4fa854c7a4d49a7f93fd8cc1c0ece": {
          "model_module": "@jupyter-widgets/base",
          "model_name": "LayoutModel",
          "state": {
            "_view_name": "LayoutView",
            "grid_template_rows": null,
            "right": null,
            "justify_content": null,
            "_view_module": "@jupyter-widgets/base",
            "overflow": null,
            "_model_module_version": "1.2.0",
            "_view_count": null,
            "flex_flow": null,
            "width": null,
            "min_width": null,
            "border": null,
            "align_items": null,
            "bottom": null,
            "_model_module": "@jupyter-widgets/base",
            "top": null,
            "grid_column": null,
            "overflow_y": null,
            "overflow_x": null,
            "grid_auto_flow": null,
            "grid_area": null,
            "grid_template_columns": null,
            "flex": null,
            "_model_name": "LayoutModel",
            "justify_items": null,
            "grid_row": null,
            "max_height": null,
            "align_content": null,
            "visibility": null,
            "align_self": null,
            "height": null,
            "min_height": null,
            "padding": null,
            "grid_auto_rows": null,
            "grid_gap": null,
            "max_width": null,
            "order": null,
            "_view_module_version": "1.2.0",
            "grid_template_areas": null,
            "object_position": null,
            "object_fit": null,
            "grid_auto_columns": null,
            "margin": null,
            "display": null,
            "left": null
          }
        },
        "5334dffa563743b2b47e50329f32655a": {
          "model_module": "@jupyter-widgets/controls",
          "model_name": "FloatProgressModel",
          "state": {
            "_view_name": "ProgressView",
            "style": "IPY_MODEL_b9bd533c6a3f4a51ab0bb8508ab42e08",
            "_dom_classes": [],
            "description": "100%",
            "_model_name": "FloatProgressModel",
            "bar_style": "success",
            "max": 4,
            "_view_module": "@jupyter-widgets/controls",
            "_model_module_version": "1.5.0",
            "value": 4,
            "_view_count": null,
            "_view_module_version": "1.5.0",
            "orientation": "horizontal",
            "min": 0,
            "description_tooltip": null,
            "_model_module": "@jupyter-widgets/controls",
            "layout": "IPY_MODEL_1a38be26bc8b47a7bb5f5e95e9207cd9"
          }
        },
        "0bb3765452dd40f58c61eaf9ac895a83": {
          "model_module": "@jupyter-widgets/controls",
          "model_name": "HTMLModel",
          "state": {
            "_view_name": "HTMLView",
            "style": "IPY_MODEL_eb21638aad334514ba9a433b2f05dfe1",
            "_dom_classes": [],
            "description": "",
            "_model_name": "HTMLModel",
            "placeholder": "​",
            "_view_module": "@jupyter-widgets/controls",
            "_model_module_version": "1.5.0",
            "value": " 4/4 [4:14:02&lt;00:00, 3810.68s/it]",
            "_view_count": null,
            "_view_module_version": "1.5.0",
            "description_tooltip": null,
            "_model_module": "@jupyter-widgets/controls",
            "layout": "IPY_MODEL_eb4834829b074e67842c212b59d23049"
          }
        },
        "b9bd533c6a3f4a51ab0bb8508ab42e08": {
          "model_module": "@jupyter-widgets/controls",
          "model_name": "ProgressStyleModel",
          "state": {
            "_view_name": "StyleView",
            "_model_name": "ProgressStyleModel",
            "description_width": "initial",
            "_view_module": "@jupyter-widgets/base",
            "_model_module_version": "1.5.0",
            "_view_count": null,
            "_view_module_version": "1.2.0",
            "bar_color": null,
            "_model_module": "@jupyter-widgets/controls"
          }
        },
        "1a38be26bc8b47a7bb5f5e95e9207cd9": {
          "model_module": "@jupyter-widgets/base",
          "model_name": "LayoutModel",
          "state": {
            "_view_name": "LayoutView",
            "grid_template_rows": null,
            "right": null,
            "justify_content": null,
            "_view_module": "@jupyter-widgets/base",
            "overflow": null,
            "_model_module_version": "1.2.0",
            "_view_count": null,
            "flex_flow": null,
            "width": null,
            "min_width": null,
            "border": null,
            "align_items": null,
            "bottom": null,
            "_model_module": "@jupyter-widgets/base",
            "top": null,
            "grid_column": null,
            "overflow_y": null,
            "overflow_x": null,
            "grid_auto_flow": null,
            "grid_area": null,
            "grid_template_columns": null,
            "flex": null,
            "_model_name": "LayoutModel",
            "justify_items": null,
            "grid_row": null,
            "max_height": null,
            "align_content": null,
            "visibility": null,
            "align_self": null,
            "height": null,
            "min_height": null,
            "padding": null,
            "grid_auto_rows": null,
            "grid_gap": null,
            "max_width": null,
            "order": null,
            "_view_module_version": "1.2.0",
            "grid_template_areas": null,
            "object_position": null,
            "object_fit": null,
            "grid_auto_columns": null,
            "margin": null,
            "display": null,
            "left": null
          }
        },
        "eb21638aad334514ba9a433b2f05dfe1": {
          "model_module": "@jupyter-widgets/controls",
          "model_name": "DescriptionStyleModel",
          "state": {
            "_view_name": "StyleView",
            "_model_name": "DescriptionStyleModel",
            "description_width": "",
            "_view_module": "@jupyter-widgets/base",
            "_model_module_version": "1.5.0",
            "_view_count": null,
            "_view_module_version": "1.2.0",
            "_model_module": "@jupyter-widgets/controls"
          }
        },
        "eb4834829b074e67842c212b59d23049": {
          "model_module": "@jupyter-widgets/base",
          "model_name": "LayoutModel",
          "state": {
            "_view_name": "LayoutView",
            "grid_template_rows": null,
            "right": null,
            "justify_content": null,
            "_view_module": "@jupyter-widgets/base",
            "overflow": null,
            "_model_module_version": "1.2.0",
            "_view_count": null,
            "flex_flow": null,
            "width": null,
            "min_width": null,
            "border": null,
            "align_items": null,
            "bottom": null,
            "_model_module": "@jupyter-widgets/base",
            "top": null,
            "grid_column": null,
            "overflow_y": null,
            "overflow_x": null,
            "grid_auto_flow": null,
            "grid_area": null,
            "grid_template_columns": null,
            "flex": null,
            "_model_name": "LayoutModel",
            "justify_items": null,
            "grid_row": null,
            "max_height": null,
            "align_content": null,
            "visibility": null,
            "align_self": null,
            "height": null,
            "min_height": null,
            "padding": null,
            "grid_auto_rows": null,
            "grid_gap": null,
            "max_width": null,
            "order": null,
            "_view_module_version": "1.2.0",
            "grid_template_areas": null,
            "object_position": null,
            "object_fit": null,
            "grid_auto_columns": null,
            "margin": null,
            "display": null,
            "left": null
          }
        },
        "38ec8b5762604c4aaddb74d2cfa68ebe": {
          "model_module": "@jupyter-widgets/controls",
          "model_name": "HBoxModel",
          "state": {
            "_view_name": "HBoxView",
            "_dom_classes": [],
            "_model_name": "HBoxModel",
            "_view_module": "@jupyter-widgets/controls",
            "_model_module_version": "1.5.0",
            "_view_count": null,
            "_view_module_version": "1.5.0",
            "box_style": "",
            "layout": "IPY_MODEL_ca058aa92f6a4afaa3cd9d15bfd387bc",
            "_model_module": "@jupyter-widgets/controls",
            "children": [
              "IPY_MODEL_3ea4bbdf64ab45f8babe0e0dd560dce0",
              "IPY_MODEL_dd84fc2fb31e40b4a4af0548917b86e9"
            ]
          }
        },
        "ca058aa92f6a4afaa3cd9d15bfd387bc": {
          "model_module": "@jupyter-widgets/base",
          "model_name": "LayoutModel",
          "state": {
            "_view_name": "LayoutView",
            "grid_template_rows": null,
            "right": null,
            "justify_content": null,
            "_view_module": "@jupyter-widgets/base",
            "overflow": null,
            "_model_module_version": "1.2.0",
            "_view_count": null,
            "flex_flow": null,
            "width": null,
            "min_width": null,
            "border": null,
            "align_items": null,
            "bottom": null,
            "_model_module": "@jupyter-widgets/base",
            "top": null,
            "grid_column": null,
            "overflow_y": null,
            "overflow_x": null,
            "grid_auto_flow": null,
            "grid_area": null,
            "grid_template_columns": null,
            "flex": null,
            "_model_name": "LayoutModel",
            "justify_items": null,
            "grid_row": null,
            "max_height": null,
            "align_content": null,
            "visibility": null,
            "align_self": null,
            "height": null,
            "min_height": null,
            "padding": null,
            "grid_auto_rows": null,
            "grid_gap": null,
            "max_width": null,
            "order": null,
            "_view_module_version": "1.2.0",
            "grid_template_areas": null,
            "object_position": null,
            "object_fit": null,
            "grid_auto_columns": null,
            "margin": null,
            "display": null,
            "left": null
          }
        },
        "3ea4bbdf64ab45f8babe0e0dd560dce0": {
          "model_module": "@jupyter-widgets/controls",
          "model_name": "FloatProgressModel",
          "state": {
            "_view_name": "ProgressView",
            "style": "IPY_MODEL_433fcb855a7a4845a932101e0be1474b",
            "_dom_classes": [],
            "description": "100%",
            "_model_name": "FloatProgressModel",
            "bar_style": "success",
            "max": 20,
            "_view_module": "@jupyter-widgets/controls",
            "_model_module_version": "1.5.0",
            "value": 20,
            "_view_count": null,
            "_view_module_version": "1.5.0",
            "orientation": "horizontal",
            "min": 0,
            "description_tooltip": null,
            "_model_module": "@jupyter-widgets/controls",
            "layout": "IPY_MODEL_ee674a6c79f24b7b8e3d449e2f770597"
          }
        },
        "dd84fc2fb31e40b4a4af0548917b86e9": {
          "model_module": "@jupyter-widgets/controls",
          "model_name": "HTMLModel",
          "state": {
            "_view_name": "HTMLView",
            "style": "IPY_MODEL_732609450c064a599f27ff996c1fb1f0",
            "_dom_classes": [],
            "description": "",
            "_model_name": "HTMLModel",
            "placeholder": "​",
            "_view_module": "@jupyter-widgets/controls",
            "_model_module_version": "1.5.0",
            "value": " 20/20 [1:03:27&lt;00:00, 190.38s/it]",
            "_view_count": null,
            "_view_module_version": "1.5.0",
            "description_tooltip": null,
            "_model_module": "@jupyter-widgets/controls",
            "layout": "IPY_MODEL_de1085c5ea4a45ecbb90f06a918ade54"
          }
        },
        "433fcb855a7a4845a932101e0be1474b": {
          "model_module": "@jupyter-widgets/controls",
          "model_name": "ProgressStyleModel",
          "state": {
            "_view_name": "StyleView",
            "_model_name": "ProgressStyleModel",
            "description_width": "initial",
            "_view_module": "@jupyter-widgets/base",
            "_model_module_version": "1.5.0",
            "_view_count": null,
            "_view_module_version": "1.2.0",
            "bar_color": null,
            "_model_module": "@jupyter-widgets/controls"
          }
        },
        "ee674a6c79f24b7b8e3d449e2f770597": {
          "model_module": "@jupyter-widgets/base",
          "model_name": "LayoutModel",
          "state": {
            "_view_name": "LayoutView",
            "grid_template_rows": null,
            "right": null,
            "justify_content": null,
            "_view_module": "@jupyter-widgets/base",
            "overflow": null,
            "_model_module_version": "1.2.0",
            "_view_count": null,
            "flex_flow": null,
            "width": null,
            "min_width": null,
            "border": null,
            "align_items": null,
            "bottom": null,
            "_model_module": "@jupyter-widgets/base",
            "top": null,
            "grid_column": null,
            "overflow_y": null,
            "overflow_x": null,
            "grid_auto_flow": null,
            "grid_area": null,
            "grid_template_columns": null,
            "flex": null,
            "_model_name": "LayoutModel",
            "justify_items": null,
            "grid_row": null,
            "max_height": null,
            "align_content": null,
            "visibility": null,
            "align_self": null,
            "height": null,
            "min_height": null,
            "padding": null,
            "grid_auto_rows": null,
            "grid_gap": null,
            "max_width": null,
            "order": null,
            "_view_module_version": "1.2.0",
            "grid_template_areas": null,
            "object_position": null,
            "object_fit": null,
            "grid_auto_columns": null,
            "margin": null,
            "display": null,
            "left": null
          }
        },
        "732609450c064a599f27ff996c1fb1f0": {
          "model_module": "@jupyter-widgets/controls",
          "model_name": "DescriptionStyleModel",
          "state": {
            "_view_name": "StyleView",
            "_model_name": "DescriptionStyleModel",
            "description_width": "",
            "_view_module": "@jupyter-widgets/base",
            "_model_module_version": "1.5.0",
            "_view_count": null,
            "_view_module_version": "1.2.0",
            "_model_module": "@jupyter-widgets/controls"
          }
        },
        "de1085c5ea4a45ecbb90f06a918ade54": {
          "model_module": "@jupyter-widgets/base",
          "model_name": "LayoutModel",
          "state": {
            "_view_name": "LayoutView",
            "grid_template_rows": null,
            "right": null,
            "justify_content": null,
            "_view_module": "@jupyter-widgets/base",
            "overflow": null,
            "_model_module_version": "1.2.0",
            "_view_count": null,
            "flex_flow": null,
            "width": null,
            "min_width": null,
            "border": null,
            "align_items": null,
            "bottom": null,
            "_model_module": "@jupyter-widgets/base",
            "top": null,
            "grid_column": null,
            "overflow_y": null,
            "overflow_x": null,
            "grid_auto_flow": null,
            "grid_area": null,
            "grid_template_columns": null,
            "flex": null,
            "_model_name": "LayoutModel",
            "justify_items": null,
            "grid_row": null,
            "max_height": null,
            "align_content": null,
            "visibility": null,
            "align_self": null,
            "height": null,
            "min_height": null,
            "padding": null,
            "grid_auto_rows": null,
            "grid_gap": null,
            "max_width": null,
            "order": null,
            "_view_module_version": "1.2.0",
            "grid_template_areas": null,
            "object_position": null,
            "object_fit": null,
            "grid_auto_columns": null,
            "margin": null,
            "display": null,
            "left": null
          }
        },
        "c100f3d7a7fe4a31ab6e3f123057dfa7": {
          "model_module": "@jupyter-widgets/controls",
          "model_name": "HBoxModel",
          "state": {
            "_view_name": "HBoxView",
            "_dom_classes": [],
            "_model_name": "HBoxModel",
            "_view_module": "@jupyter-widgets/controls",
            "_model_module_version": "1.5.0",
            "_view_count": null,
            "_view_module_version": "1.5.0",
            "box_style": "",
            "layout": "IPY_MODEL_741226a2e9cd4289a278f744d5b4ebf6",
            "_model_module": "@jupyter-widgets/controls",
            "children": [
              "IPY_MODEL_4046c1a2d821452ab82fb147d52e6b8e",
              "IPY_MODEL_eb654d694aeb4af38cd75eaf6dcf300c"
            ]
          }
        },
        "741226a2e9cd4289a278f744d5b4ebf6": {
          "model_module": "@jupyter-widgets/base",
          "model_name": "LayoutModel",
          "state": {
            "_view_name": "LayoutView",
            "grid_template_rows": null,
            "right": null,
            "justify_content": null,
            "_view_module": "@jupyter-widgets/base",
            "overflow": null,
            "_model_module_version": "1.2.0",
            "_view_count": null,
            "flex_flow": null,
            "width": null,
            "min_width": null,
            "border": null,
            "align_items": null,
            "bottom": null,
            "_model_module": "@jupyter-widgets/base",
            "top": null,
            "grid_column": null,
            "overflow_y": null,
            "overflow_x": null,
            "grid_auto_flow": null,
            "grid_area": null,
            "grid_template_columns": null,
            "flex": null,
            "_model_name": "LayoutModel",
            "justify_items": null,
            "grid_row": null,
            "max_height": null,
            "align_content": null,
            "visibility": null,
            "align_self": null,
            "height": null,
            "min_height": null,
            "padding": null,
            "grid_auto_rows": null,
            "grid_gap": null,
            "max_width": null,
            "order": null,
            "_view_module_version": "1.2.0",
            "grid_template_areas": null,
            "object_position": null,
            "object_fit": null,
            "grid_auto_columns": null,
            "margin": null,
            "display": null,
            "left": null
          }
        },
        "4046c1a2d821452ab82fb147d52e6b8e": {
          "model_module": "@jupyter-widgets/controls",
          "model_name": "FloatProgressModel",
          "state": {
            "_view_name": "ProgressView",
            "style": "IPY_MODEL_3ce242d95a9748cbbb33b427050a1cbf",
            "_dom_classes": [],
            "description": "100%",
            "_model_name": "FloatProgressModel",
            "bar_style": "success",
            "max": 20,
            "_view_module": "@jupyter-widgets/controls",
            "_model_module_version": "1.5.0",
            "value": 20,
            "_view_count": null,
            "_view_module_version": "1.5.0",
            "orientation": "horizontal",
            "min": 0,
            "description_tooltip": null,
            "_model_module": "@jupyter-widgets/controls",
            "layout": "IPY_MODEL_108e3f04bd8e4b07a208c59ffdb3be8d"
          }
        },
        "eb654d694aeb4af38cd75eaf6dcf300c": {
          "model_module": "@jupyter-widgets/controls",
          "model_name": "HTMLModel",
          "state": {
            "_view_name": "HTMLView",
            "style": "IPY_MODEL_e09092de595b4279a957f50d2c99890b",
            "_dom_classes": [],
            "description": "",
            "_model_name": "HTMLModel",
            "placeholder": "​",
            "_view_module": "@jupyter-widgets/controls",
            "_model_module_version": "1.5.0",
            "value": " 20/20 [1:02:54&lt;00:00, 188.71s/it]",
            "_view_count": null,
            "_view_module_version": "1.5.0",
            "description_tooltip": null,
            "_model_module": "@jupyter-widgets/controls",
            "layout": "IPY_MODEL_e9173e9936fe458787c7b9ef9d5e102e"
          }
        },
        "3ce242d95a9748cbbb33b427050a1cbf": {
          "model_module": "@jupyter-widgets/controls",
          "model_name": "ProgressStyleModel",
          "state": {
            "_view_name": "StyleView",
            "_model_name": "ProgressStyleModel",
            "description_width": "initial",
            "_view_module": "@jupyter-widgets/base",
            "_model_module_version": "1.5.0",
            "_view_count": null,
            "_view_module_version": "1.2.0",
            "bar_color": null,
            "_model_module": "@jupyter-widgets/controls"
          }
        },
        "108e3f04bd8e4b07a208c59ffdb3be8d": {
          "model_module": "@jupyter-widgets/base",
          "model_name": "LayoutModel",
          "state": {
            "_view_name": "LayoutView",
            "grid_template_rows": null,
            "right": null,
            "justify_content": null,
            "_view_module": "@jupyter-widgets/base",
            "overflow": null,
            "_model_module_version": "1.2.0",
            "_view_count": null,
            "flex_flow": null,
            "width": null,
            "min_width": null,
            "border": null,
            "align_items": null,
            "bottom": null,
            "_model_module": "@jupyter-widgets/base",
            "top": null,
            "grid_column": null,
            "overflow_y": null,
            "overflow_x": null,
            "grid_auto_flow": null,
            "grid_area": null,
            "grid_template_columns": null,
            "flex": null,
            "_model_name": "LayoutModel",
            "justify_items": null,
            "grid_row": null,
            "max_height": null,
            "align_content": null,
            "visibility": null,
            "align_self": null,
            "height": null,
            "min_height": null,
            "padding": null,
            "grid_auto_rows": null,
            "grid_gap": null,
            "max_width": null,
            "order": null,
            "_view_module_version": "1.2.0",
            "grid_template_areas": null,
            "object_position": null,
            "object_fit": null,
            "grid_auto_columns": null,
            "margin": null,
            "display": null,
            "left": null
          }
        },
        "e09092de595b4279a957f50d2c99890b": {
          "model_module": "@jupyter-widgets/controls",
          "model_name": "DescriptionStyleModel",
          "state": {
            "_view_name": "StyleView",
            "_model_name": "DescriptionStyleModel",
            "description_width": "",
            "_view_module": "@jupyter-widgets/base",
            "_model_module_version": "1.5.0",
            "_view_count": null,
            "_view_module_version": "1.2.0",
            "_model_module": "@jupyter-widgets/controls"
          }
        },
        "e9173e9936fe458787c7b9ef9d5e102e": {
          "model_module": "@jupyter-widgets/base",
          "model_name": "LayoutModel",
          "state": {
            "_view_name": "LayoutView",
            "grid_template_rows": null,
            "right": null,
            "justify_content": null,
            "_view_module": "@jupyter-widgets/base",
            "overflow": null,
            "_model_module_version": "1.2.0",
            "_view_count": null,
            "flex_flow": null,
            "width": null,
            "min_width": null,
            "border": null,
            "align_items": null,
            "bottom": null,
            "_model_module": "@jupyter-widgets/base",
            "top": null,
            "grid_column": null,
            "overflow_y": null,
            "overflow_x": null,
            "grid_auto_flow": null,
            "grid_area": null,
            "grid_template_columns": null,
            "flex": null,
            "_model_name": "LayoutModel",
            "justify_items": null,
            "grid_row": null,
            "max_height": null,
            "align_content": null,
            "visibility": null,
            "align_self": null,
            "height": null,
            "min_height": null,
            "padding": null,
            "grid_auto_rows": null,
            "grid_gap": null,
            "max_width": null,
            "order": null,
            "_view_module_version": "1.2.0",
            "grid_template_areas": null,
            "object_position": null,
            "object_fit": null,
            "grid_auto_columns": null,
            "margin": null,
            "display": null,
            "left": null
          }
        },
        "030beeeb77284441bc90a54e07e47324": {
          "model_module": "@jupyter-widgets/controls",
          "model_name": "HBoxModel",
          "state": {
            "_view_name": "HBoxView",
            "_dom_classes": [],
            "_model_name": "HBoxModel",
            "_view_module": "@jupyter-widgets/controls",
            "_model_module_version": "1.5.0",
            "_view_count": null,
            "_view_module_version": "1.5.0",
            "box_style": "",
            "layout": "IPY_MODEL_ac8839f73d554e2fa1173f4ef4fb8068",
            "_model_module": "@jupyter-widgets/controls",
            "children": [
              "IPY_MODEL_a235297fc2d14a6f8dcd2c20e29908eb",
              "IPY_MODEL_3fd16ef6739947048ab4bd9aeebccfab"
            ]
          }
        },
        "ac8839f73d554e2fa1173f4ef4fb8068": {
          "model_module": "@jupyter-widgets/base",
          "model_name": "LayoutModel",
          "state": {
            "_view_name": "LayoutView",
            "grid_template_rows": null,
            "right": null,
            "justify_content": null,
            "_view_module": "@jupyter-widgets/base",
            "overflow": null,
            "_model_module_version": "1.2.0",
            "_view_count": null,
            "flex_flow": null,
            "width": null,
            "min_width": null,
            "border": null,
            "align_items": null,
            "bottom": null,
            "_model_module": "@jupyter-widgets/base",
            "top": null,
            "grid_column": null,
            "overflow_y": null,
            "overflow_x": null,
            "grid_auto_flow": null,
            "grid_area": null,
            "grid_template_columns": null,
            "flex": null,
            "_model_name": "LayoutModel",
            "justify_items": null,
            "grid_row": null,
            "max_height": null,
            "align_content": null,
            "visibility": null,
            "align_self": null,
            "height": null,
            "min_height": null,
            "padding": null,
            "grid_auto_rows": null,
            "grid_gap": null,
            "max_width": null,
            "order": null,
            "_view_module_version": "1.2.0",
            "grid_template_areas": null,
            "object_position": null,
            "object_fit": null,
            "grid_auto_columns": null,
            "margin": null,
            "display": null,
            "left": null
          }
        },
        "a235297fc2d14a6f8dcd2c20e29908eb": {
          "model_module": "@jupyter-widgets/controls",
          "model_name": "FloatProgressModel",
          "state": {
            "_view_name": "ProgressView",
            "style": "IPY_MODEL_68400eda768e430aa7e4467e53acee82",
            "_dom_classes": [],
            "description": "100%",
            "_model_name": "FloatProgressModel",
            "bar_style": "success",
            "max": 20,
            "_view_module": "@jupyter-widgets/controls",
            "_model_module_version": "1.5.0",
            "value": 20,
            "_view_count": null,
            "_view_module_version": "1.5.0",
            "orientation": "horizontal",
            "min": 0,
            "description_tooltip": null,
            "_model_module": "@jupyter-widgets/controls",
            "layout": "IPY_MODEL_a523df743778479d940d51191c33a02f"
          }
        },
        "3fd16ef6739947048ab4bd9aeebccfab": {
          "model_module": "@jupyter-widgets/controls",
          "model_name": "HTMLModel",
          "state": {
            "_view_name": "HTMLView",
            "style": "IPY_MODEL_ba1ea95f03e147cbad0dfdc4fbf5cad0",
            "_dom_classes": [],
            "description": "",
            "_model_name": "HTMLModel",
            "placeholder": "​",
            "_view_module": "@jupyter-widgets/controls",
            "_model_module_version": "1.5.0",
            "value": " 20/20 [1:03:39&lt;00:00, 190.96s/it]",
            "_view_count": null,
            "_view_module_version": "1.5.0",
            "description_tooltip": null,
            "_model_module": "@jupyter-widgets/controls",
            "layout": "IPY_MODEL_44029e4e2d704ee2ad8139458c0b60eb"
          }
        },
        "68400eda768e430aa7e4467e53acee82": {
          "model_module": "@jupyter-widgets/controls",
          "model_name": "ProgressStyleModel",
          "state": {
            "_view_name": "StyleView",
            "_model_name": "ProgressStyleModel",
            "description_width": "initial",
            "_view_module": "@jupyter-widgets/base",
            "_model_module_version": "1.5.0",
            "_view_count": null,
            "_view_module_version": "1.2.0",
            "bar_color": null,
            "_model_module": "@jupyter-widgets/controls"
          }
        },
        "a523df743778479d940d51191c33a02f": {
          "model_module": "@jupyter-widgets/base",
          "model_name": "LayoutModel",
          "state": {
            "_view_name": "LayoutView",
            "grid_template_rows": null,
            "right": null,
            "justify_content": null,
            "_view_module": "@jupyter-widgets/base",
            "overflow": null,
            "_model_module_version": "1.2.0",
            "_view_count": null,
            "flex_flow": null,
            "width": null,
            "min_width": null,
            "border": null,
            "align_items": null,
            "bottom": null,
            "_model_module": "@jupyter-widgets/base",
            "top": null,
            "grid_column": null,
            "overflow_y": null,
            "overflow_x": null,
            "grid_auto_flow": null,
            "grid_area": null,
            "grid_template_columns": null,
            "flex": null,
            "_model_name": "LayoutModel",
            "justify_items": null,
            "grid_row": null,
            "max_height": null,
            "align_content": null,
            "visibility": null,
            "align_self": null,
            "height": null,
            "min_height": null,
            "padding": null,
            "grid_auto_rows": null,
            "grid_gap": null,
            "max_width": null,
            "order": null,
            "_view_module_version": "1.2.0",
            "grid_template_areas": null,
            "object_position": null,
            "object_fit": null,
            "grid_auto_columns": null,
            "margin": null,
            "display": null,
            "left": null
          }
        },
        "ba1ea95f03e147cbad0dfdc4fbf5cad0": {
          "model_module": "@jupyter-widgets/controls",
          "model_name": "DescriptionStyleModel",
          "state": {
            "_view_name": "StyleView",
            "_model_name": "DescriptionStyleModel",
            "description_width": "",
            "_view_module": "@jupyter-widgets/base",
            "_model_module_version": "1.5.0",
            "_view_count": null,
            "_view_module_version": "1.2.0",
            "_model_module": "@jupyter-widgets/controls"
          }
        },
        "44029e4e2d704ee2ad8139458c0b60eb": {
          "model_module": "@jupyter-widgets/base",
          "model_name": "LayoutModel",
          "state": {
            "_view_name": "LayoutView",
            "grid_template_rows": null,
            "right": null,
            "justify_content": null,
            "_view_module": "@jupyter-widgets/base",
            "overflow": null,
            "_model_module_version": "1.2.0",
            "_view_count": null,
            "flex_flow": null,
            "width": null,
            "min_width": null,
            "border": null,
            "align_items": null,
            "bottom": null,
            "_model_module": "@jupyter-widgets/base",
            "top": null,
            "grid_column": null,
            "overflow_y": null,
            "overflow_x": null,
            "grid_auto_flow": null,
            "grid_area": null,
            "grid_template_columns": null,
            "flex": null,
            "_model_name": "LayoutModel",
            "justify_items": null,
            "grid_row": null,
            "max_height": null,
            "align_content": null,
            "visibility": null,
            "align_self": null,
            "height": null,
            "min_height": null,
            "padding": null,
            "grid_auto_rows": null,
            "grid_gap": null,
            "max_width": null,
            "order": null,
            "_view_module_version": "1.2.0",
            "grid_template_areas": null,
            "object_position": null,
            "object_fit": null,
            "grid_auto_columns": null,
            "margin": null,
            "display": null,
            "left": null
          }
        },
        "5a037b1f50c54a76a8576ee63abe9504": {
          "model_module": "@jupyter-widgets/controls",
          "model_name": "HBoxModel",
          "state": {
            "_view_name": "HBoxView",
            "_dom_classes": [],
            "_model_name": "HBoxModel",
            "_view_module": "@jupyter-widgets/controls",
            "_model_module_version": "1.5.0",
            "_view_count": null,
            "_view_module_version": "1.5.0",
            "box_style": "",
            "layout": "IPY_MODEL_00dab0258cd14ce9849274498f1cfec7",
            "_model_module": "@jupyter-widgets/controls",
            "children": [
              "IPY_MODEL_4f446e621e0e4bcf99ecceba0b0abeba",
              "IPY_MODEL_97a236e9f4ec44e7adddb84639a5e3c0"
            ]
          }
        },
        "00dab0258cd14ce9849274498f1cfec7": {
          "model_module": "@jupyter-widgets/base",
          "model_name": "LayoutModel",
          "state": {
            "_view_name": "LayoutView",
            "grid_template_rows": null,
            "right": null,
            "justify_content": null,
            "_view_module": "@jupyter-widgets/base",
            "overflow": null,
            "_model_module_version": "1.2.0",
            "_view_count": null,
            "flex_flow": null,
            "width": null,
            "min_width": null,
            "border": null,
            "align_items": null,
            "bottom": null,
            "_model_module": "@jupyter-widgets/base",
            "top": null,
            "grid_column": null,
            "overflow_y": null,
            "overflow_x": null,
            "grid_auto_flow": null,
            "grid_area": null,
            "grid_template_columns": null,
            "flex": null,
            "_model_name": "LayoutModel",
            "justify_items": null,
            "grid_row": null,
            "max_height": null,
            "align_content": null,
            "visibility": null,
            "align_self": null,
            "height": null,
            "min_height": null,
            "padding": null,
            "grid_auto_rows": null,
            "grid_gap": null,
            "max_width": null,
            "order": null,
            "_view_module_version": "1.2.0",
            "grid_template_areas": null,
            "object_position": null,
            "object_fit": null,
            "grid_auto_columns": null,
            "margin": null,
            "display": null,
            "left": null
          }
        },
        "4f446e621e0e4bcf99ecceba0b0abeba": {
          "model_module": "@jupyter-widgets/controls",
          "model_name": "FloatProgressModel",
          "state": {
            "_view_name": "ProgressView",
            "style": "IPY_MODEL_41f1dde4739f4d5f98ec7c5b329aff92",
            "_dom_classes": [],
            "description": "100%",
            "_model_name": "FloatProgressModel",
            "bar_style": "success",
            "max": 20,
            "_view_module": "@jupyter-widgets/controls",
            "_model_module_version": "1.5.0",
            "value": 20,
            "_view_count": null,
            "_view_module_version": "1.5.0",
            "orientation": "horizontal",
            "min": 0,
            "description_tooltip": null,
            "_model_module": "@jupyter-widgets/controls",
            "layout": "IPY_MODEL_8538be8026944d0faed369b5762f38f6"
          }
        },
        "97a236e9f4ec44e7adddb84639a5e3c0": {
          "model_module": "@jupyter-widgets/controls",
          "model_name": "HTMLModel",
          "state": {
            "_view_name": "HTMLView",
            "style": "IPY_MODEL_d3562acfec6c40aa8953fccd594a8e72",
            "_dom_classes": [],
            "description": "",
            "_model_name": "HTMLModel",
            "placeholder": "​",
            "_view_module": "@jupyter-widgets/controls",
            "_model_module_version": "1.5.0",
            "value": " 20/20 [1:04:00&lt;00:00, 192.02s/it]",
            "_view_count": null,
            "_view_module_version": "1.5.0",
            "description_tooltip": null,
            "_model_module": "@jupyter-widgets/controls",
            "layout": "IPY_MODEL_9a24475d2cc741cfa1ba3b9682d11959"
          }
        },
        "41f1dde4739f4d5f98ec7c5b329aff92": {
          "model_module": "@jupyter-widgets/controls",
          "model_name": "ProgressStyleModel",
          "state": {
            "_view_name": "StyleView",
            "_model_name": "ProgressStyleModel",
            "description_width": "initial",
            "_view_module": "@jupyter-widgets/base",
            "_model_module_version": "1.5.0",
            "_view_count": null,
            "_view_module_version": "1.2.0",
            "bar_color": null,
            "_model_module": "@jupyter-widgets/controls"
          }
        },
        "8538be8026944d0faed369b5762f38f6": {
          "model_module": "@jupyter-widgets/base",
          "model_name": "LayoutModel",
          "state": {
            "_view_name": "LayoutView",
            "grid_template_rows": null,
            "right": null,
            "justify_content": null,
            "_view_module": "@jupyter-widgets/base",
            "overflow": null,
            "_model_module_version": "1.2.0",
            "_view_count": null,
            "flex_flow": null,
            "width": null,
            "min_width": null,
            "border": null,
            "align_items": null,
            "bottom": null,
            "_model_module": "@jupyter-widgets/base",
            "top": null,
            "grid_column": null,
            "overflow_y": null,
            "overflow_x": null,
            "grid_auto_flow": null,
            "grid_area": null,
            "grid_template_columns": null,
            "flex": null,
            "_model_name": "LayoutModel",
            "justify_items": null,
            "grid_row": null,
            "max_height": null,
            "align_content": null,
            "visibility": null,
            "align_self": null,
            "height": null,
            "min_height": null,
            "padding": null,
            "grid_auto_rows": null,
            "grid_gap": null,
            "max_width": null,
            "order": null,
            "_view_module_version": "1.2.0",
            "grid_template_areas": null,
            "object_position": null,
            "object_fit": null,
            "grid_auto_columns": null,
            "margin": null,
            "display": null,
            "left": null
          }
        },
        "d3562acfec6c40aa8953fccd594a8e72": {
          "model_module": "@jupyter-widgets/controls",
          "model_name": "DescriptionStyleModel",
          "state": {
            "_view_name": "StyleView",
            "_model_name": "DescriptionStyleModel",
            "description_width": "",
            "_view_module": "@jupyter-widgets/base",
            "_model_module_version": "1.5.0",
            "_view_count": null,
            "_view_module_version": "1.2.0",
            "_model_module": "@jupyter-widgets/controls"
          }
        },
        "9a24475d2cc741cfa1ba3b9682d11959": {
          "model_module": "@jupyter-widgets/base",
          "model_name": "LayoutModel",
          "state": {
            "_view_name": "LayoutView",
            "grid_template_rows": null,
            "right": null,
            "justify_content": null,
            "_view_module": "@jupyter-widgets/base",
            "overflow": null,
            "_model_module_version": "1.2.0",
            "_view_count": null,
            "flex_flow": null,
            "width": null,
            "min_width": null,
            "border": null,
            "align_items": null,
            "bottom": null,
            "_model_module": "@jupyter-widgets/base",
            "top": null,
            "grid_column": null,
            "overflow_y": null,
            "overflow_x": null,
            "grid_auto_flow": null,
            "grid_area": null,
            "grid_template_columns": null,
            "flex": null,
            "_model_name": "LayoutModel",
            "justify_items": null,
            "grid_row": null,
            "max_height": null,
            "align_content": null,
            "visibility": null,
            "align_self": null,
            "height": null,
            "min_height": null,
            "padding": null,
            "grid_auto_rows": null,
            "grid_gap": null,
            "max_width": null,
            "order": null,
            "_view_module_version": "1.2.0",
            "grid_template_areas": null,
            "object_position": null,
            "object_fit": null,
            "grid_auto_columns": null,
            "margin": null,
            "display": null,
            "left": null
          }
        }
      }
    }
  },
  "cells": [
    {
      "cell_type": "markdown",
      "metadata": {
        "id": "MY5vLjwPDT7y",
        "colab_type": "text"
      },
      "source": [
        "# COMP5046 Assignment2 \n",
        "\n",
        "Authors:\n",
        "- Xinyue Wang (440359463)\n",
        "- Xiang Zhou ()\n",
        "\n",
        "Both authors made equal contribution to this assignment.\n",
        "\n",
        "## Read ME\n"
      ]
    },
    {
      "cell_type": "markdown",
      "metadata": {
        "id": "TT6hNaFtFhPp",
        "colab_type": "text"
      },
      "source": [
        "## 1.Load Data\n",
        "\n",
        "In this section, we load train, validation and test data from Google Drive."
      ]
    },
    {
      "cell_type": "code",
      "metadata": {
        "id": "W3osDDD-A5Bm",
        "colab_type": "code",
        "outputId": "d89a0e59-39d7-4f96-ce73-975b93a1d025",
        "colab": {
          "base_uri": "https://localhost:8080/",
          "height": 566
        }
      },
      "source": [
        "import numpy as np\n",
        "import pandas as pd\n",
        "from sklearn.model_selection import train_test_split\n",
        "import matplotlib.pyplot as plt\n",
        "import matplotlib\n",
        "\n",
        "from google.colab import drive\n",
        "drive.mount('/content/drive')\n",
        "df_train = pd.read_csv('/content/drive/My Drive/train.csv')\n",
        "df_test= pd.read_csv('/content/drive/My Drive/test.csv')\n",
        "df_val= pd.read_csv('/content/drive/My Drive/val.csv')\n",
        "df_train.head(10)"
      ],
      "execution_count": 1,
      "outputs": [
        {
          "output_type": "stream",
          "text": [
            "Go to this URL in a browser: https://accounts.google.com/o/oauth2/auth?client_id=947318989803-6bn6qk8qdgf4n4g3pfee6491hc0brc4i.apps.googleusercontent.com&redirect_uri=urn%3aietf%3awg%3aoauth%3a2.0%3aoob&response_type=code&scope=email%20https%3a%2f%2fwww.googleapis.com%2fauth%2fdocs.test%20https%3a%2f%2fwww.googleapis.com%2fauth%2fdrive%20https%3a%2f%2fwww.googleapis.com%2fauth%2fdrive.photos.readonly%20https%3a%2f%2fwww.googleapis.com%2fauth%2fpeopleapi.readonly\n",
            "\n",
            "Enter your authorization code:\n",
            "··········\n",
            "Mounted at /content/drive\n"
          ],
          "name": "stdout"
        },
        {
          "output_type": "execute_result",
          "data": {
            "text/html": [
              "<div>\n",
              "<style scoped>\n",
              "    .dataframe tbody tr th:only-of-type {\n",
              "        vertical-align: middle;\n",
              "    }\n",
              "\n",
              "    .dataframe tbody tr th {\n",
              "        vertical-align: top;\n",
              "    }\n",
              "\n",
              "    .dataframe thead th {\n",
              "        text-align: right;\n",
              "    }\n",
              "</style>\n",
              "<table border=\"1\" class=\"dataframe\">\n",
              "  <thead>\n",
              "    <tr style=\"text-align: right;\">\n",
              "      <th></th>\n",
              "      <th>Sentence</th>\n",
              "      <th>NER</th>\n",
              "    </tr>\n",
              "  </thead>\n",
              "  <tbody>\n",
              "    <tr>\n",
              "      <th>0</th>\n",
              "      <td>-docstart-</td>\n",
              "      <td>O</td>\n",
              "    </tr>\n",
              "    <tr>\n",
              "      <th>1</th>\n",
              "      <td>eu rejects german call to boycott british lamb .</td>\n",
              "      <td>I-ORG O I-MISC O O O I-MISC O O</td>\n",
              "    </tr>\n",
              "    <tr>\n",
              "      <th>2</th>\n",
              "      <td>peter blackburn</td>\n",
              "      <td>I-PER I-PER</td>\n",
              "    </tr>\n",
              "    <tr>\n",
              "      <th>3</th>\n",
              "      <td>brussels 1996-08-22</td>\n",
              "      <td>I-LOC O</td>\n",
              "    </tr>\n",
              "    <tr>\n",
              "      <th>4</th>\n",
              "      <td>the european commission said on thursday it di...</td>\n",
              "      <td>O I-ORG I-ORG O O O O O O I-MISC O O O O O I-M...</td>\n",
              "    </tr>\n",
              "    <tr>\n",
              "      <th>5</th>\n",
              "      <td>germany 's representative to the european unio...</td>\n",
              "      <td>I-LOC O O O O I-ORG I-ORG O O O I-PER I-PER O ...</td>\n",
              "    </tr>\n",
              "    <tr>\n",
              "      <th>6</th>\n",
              "      <td>\" we do n't support any such recommendation be...</td>\n",
              "      <td>O O O O O O O O O O O O O O O O O O O O I-ORG ...</td>\n",
              "    </tr>\n",
              "    <tr>\n",
              "      <th>7</th>\n",
              "      <td>he said further scientific study was required ...</td>\n",
              "      <td>O O O O O O O O O O O O O O O O O O O O O O I-...</td>\n",
              "    </tr>\n",
              "    <tr>\n",
              "      <th>8</th>\n",
              "      <td>he said a proposal last month by eu farm commi...</td>\n",
              "      <td>O O O O O O O I-ORG O O I-PER I-PER O O O O O ...</td>\n",
              "    </tr>\n",
              "    <tr>\n",
              "      <th>9</th>\n",
              "      <td>fischler proposed eu-wide measures after repor...</td>\n",
              "      <td>I-PER O I-MISC O O O O I-LOC O I-LOC O O O O O...</td>\n",
              "    </tr>\n",
              "  </tbody>\n",
              "</table>\n",
              "</div>"
            ],
            "text/plain": [
              "                                            Sentence                                                NER\n",
              "0                                         -docstart-                                                  O\n",
              "1   eu rejects german call to boycott british lamb .                    I-ORG O I-MISC O O O I-MISC O O\n",
              "2                                    peter blackburn                                        I-PER I-PER\n",
              "3                                brussels 1996-08-22                                            I-LOC O\n",
              "4  the european commission said on thursday it di...  O I-ORG I-ORG O O O O O O I-MISC O O O O O I-M...\n",
              "5  germany 's representative to the european unio...  I-LOC O O O O I-ORG I-ORG O O O I-PER I-PER O ...\n",
              "6  \" we do n't support any such recommendation be...  O O O O O O O O O O O O O O O O O O O O I-ORG ...\n",
              "7  he said further scientific study was required ...  O O O O O O O O O O O O O O O O O O O O O O I-...\n",
              "8  he said a proposal last month by eu farm commi...  O O O O O O O I-ORG O O I-PER I-PER O O O O O ...\n",
              "9  fischler proposed eu-wide measures after repor...  I-PER O I-MISC O O O O I-LOC O I-LOC O O O O O..."
            ]
          },
          "metadata": {
            "tags": []
          },
          "execution_count": 1
        }
      ]
    },
    {
      "cell_type": "markdown",
      "metadata": {
        "id": "_6Jo5H8aEOb8",
        "colab_type": "text"
      },
      "source": [
        "## 2.Data Processing and Insight Analysis\n",
        "\n",
        "In this section, we do some processing to dataset including:\n",
        "\n",
        "1. Split sentence and NER by space\n",
        "2. Build a vocabulary - `word_to_ix` which assigns all words in train, validation and test integer indices for later input embedding construction\n",
        "\n",
        "Also some insight analysis is conducted including:\n",
        "\n",
        "1. NER tag distrbution\n"
      ]
    },
    {
      "cell_type": "code",
      "metadata": {
        "id": "UAac3HOCL69W",
        "colab_type": "code",
        "colab": {}
      },
      "source": [
        "train_data=[sentence.split() for sentence in df_train.Sentence]\n",
        "target_y_train=[sentence.split() for sentence in df_train.NER]\n",
        "\n",
        "test_data=[sentence.split() for sentence in df_test.Sentence]\n",
        "# target_y_test=[sentence.split() for sentence in df_test.NER]  # all NANs\n",
        "\n",
        "validation_data=[sentence.split() for sentence in df_val.Sentence]\n",
        "target_y_validation=[sentence.split() for sentence in df_val.NER]"
      ],
      "execution_count": 0,
      "outputs": []
    },
    {
      "cell_type": "code",
      "metadata": {
        "id": "Utn-5_tSKSQw",
        "colab_type": "code",
        "outputId": "4f3b92c3-c7bb-4931-9752-f12aa0b16dce",
        "colab": {
          "base_uri": "https://localhost:8080/",
          "height": 240
        }
      },
      "source": [
        "word_to_ix = {}\n",
        "for sentence in train_data+validation_data+test_data:\n",
        "    for word in sentence:\n",
        "        word = word.lower()\n",
        "        if word not in word_to_ix:\n",
        "            word_to_ix[word] = len(word_to_ix)\n",
        "word_list = list(word_to_ix.keys())\n",
        "\n",
        "START_TAG = \"<START>\"\n",
        "STOP_TAG = \"<STOP>\"\n",
        "tag_to_ix = {START_TAG:0, STOP_TAG:1}\n",
        "for tags in target_y_train+target_y_validation:\n",
        "    for tag in tags:\n",
        "        if tag not in tag_to_ix:\n",
        "            tag_to_ix[tag] = len(tag_to_ix)\n",
        "\n",
        "# quick check\n",
        "print('Word list length: ',len(word_list))\n",
        "print(tag_to_ix)\n",
        "for i, (key, val) in enumerate(word_to_ix.items()):\n",
        "  if i > 10:\n",
        "    break\n",
        "  print(key, val)"
      ],
      "execution_count": 3,
      "outputs": [
        {
          "output_type": "stream",
          "text": [
            "Word list length:  13972\n",
            "{'<START>': 0, '<STOP>': 1, 'O': 2, 'I-ORG': 3, 'I-MISC': 4, 'I-PER': 5, 'I-LOC': 6}\n",
            "-docstart- 0\n",
            "eu 1\n",
            "rejects 2\n",
            "german 3\n",
            "call 4\n",
            "to 5\n",
            "boycott 6\n",
            "british 7\n",
            "lamb 8\n",
            ". 9\n",
            "peter 10\n"
          ],
          "name": "stdout"
        }
      ]
    },
    {
      "cell_type": "code",
      "metadata": {
        "id": "iNskLGvAHZV2",
        "colab_type": "code",
        "colab": {
          "base_uri": "https://localhost:8080/",
          "height": 51
        },
        "outputId": "ca7b7785-5dfc-40a9-b942-3b84e688ec71"
      },
      "source": [
        "def to_index(data, to_ix):\n",
        "    input_index_list = []\n",
        "    for sent in data:\n",
        "        input_index_list.append([to_ix[w] for w in sent])\n",
        "    return input_index_list\n",
        "\n",
        "train_input_index =  to_index(train_data,word_to_ix)\n",
        "train_output_index = to_index(target_y_train,tag_to_ix)\n",
        "val_input_index = to_index(validation_data,word_to_ix)\n",
        "val_output_index = to_index(target_y_validation,tag_to_ix)\n",
        "test_input_index = to_index(test_data,word_to_ix)\n",
        "\n",
        "# quick check\n",
        "print(train_input_index[1])\n",
        "print(train_output_index[1])"
      ],
      "execution_count": 4,
      "outputs": [
        {
          "output_type": "stream",
          "text": [
            "[1, 2, 3, 4, 5, 6, 7, 8, 9]\n",
            "[3, 2, 4, 2, 2, 2, 4, 2, 2]\n"
          ],
          "name": "stdout"
        }
      ]
    },
    {
      "cell_type": "code",
      "metadata": {
        "id": "dWWGOerI9Bry",
        "colab_type": "code",
        "colab": {
          "base_uri": "https://localhost:8080/",
          "height": 281
        },
        "outputId": "0e80cdf2-cd1a-43b7-dfae-3a630021d462"
      },
      "source": [
        "# distribution of labels\n",
        "import matplotlib.pyplot as pl\n",
        "from collections import Counter\n",
        "\n",
        "all_tags = []\n",
        "for tags in target_y_train+target_y_validation:\n",
        "  for tag in tags:\n",
        "    all_tags.append(tag)\n",
        "\n",
        "counter = Counter(all_tags)\n",
        "tag_types = list(counter.keys())\n",
        "tag_counts = list(counter.values())\n",
        "\n",
        "pl.bar(range(len(tag_types)), tag_counts)\n",
        "pl.xticks(range(len(tag_types)), tag_types)\n",
        "pl.ylabel('Counts')\n",
        "pl.title('NER Tag Type Distribution')\n",
        "pl.show()"
      ],
      "execution_count": 5,
      "outputs": [
        {
          "output_type": "display_data",
          "data": {
            "image/png": "[encoded data removed]",
            "text/plain": [
              "<Figure size 432x288 with 1 Axes>"
            ]
          },
          "metadata": {
            "tags": [],
            "needs_background": "light"
          }
        }
      ]
    },
    {
      "cell_type": "markdown",
      "metadata": {
        "id": "Q2b-oIc1FWxC",
        "colab_type": "text"
      },
      "source": [
        "We found there are 5 unique NER tags in the dataset and that the distribution of NER tags are not uniform. Majority of NER tags are \"Others\". This can create challenges in the model training since the classes are not balanced.\n"
      ]
    },
    {
      "cell_type": "markdown",
      "metadata": {
        "id": "C1jbsuRFA5B-",
        "colab_type": "text"
      },
      "source": [
        "## 3.Input Embeddings\n",
        "\n",
        "In this section, we implement 3 different types of input embeddings:\n",
        "\n",
        "1. Word to vec embedding\n",
        "2. POS tag embedding\n",
        "3. TF-IDF embedding\n",
        "\n",
        "The embeddings help project each words into a rich feature space for NER model to learn to best predict the NER tags as accurately as possible. \n",
        "\n",
        "We will experiment different combinations of input embeddings and adopt the one gives best result.\n"
      ]
    },
    {
      "cell_type": "markdown",
      "metadata": {
        "id": "gggA7Y4eHI-J",
        "colab_type": "text"
      },
      "source": [
        "### 3.1 Word2Vec Embedding\n",
        "\n",
        "Here we use the pre-trained word embedding: `glove-twitter-25`.\n"
      ]
    },
    {
      "cell_type": "code",
      "metadata": {
        "id": "l2_S5twPHgKY",
        "colab_type": "code",
        "outputId": "03d18765-65cd-435a-89b1-15d09c6c8a8d",
        "colab": {
          "base_uri": "https://localhost:8080/",
          "height": 189,
          "referenced_widgets": [
            "e85eeada983a4a91af7bfcbccdae6fb5",
            "e5b9d4a952c84c139d85961753916ee2",
            "2d66c67e4c7549b3a5c3ad81552e4abc",
            "8c6511d32a404046aea293aa46ec68f8",
            "bbbee4326a2c45949ff73a443c9c5672",
            "e8ad511258c24597b65c3afb41e53067",
            "179e124800af454b96b8499076a907c8",
            "5fb99c0759d9419e8836828fe4e29429"
          ]
        }
      },
      "source": [
        "import gensim.downloader as api\n",
        "from tqdm.notebook import tqdm\n",
        "\n",
        "word_emb_model = api.load(\"glove-twitter-25\") \n",
        "\n",
        "WORD_EMBEDDING_DIM = 25\n",
        "\n",
        "word_embedding_matrix = []\n",
        "for word in tqdm(word_list):\n",
        "    try:\n",
        "        word_embedding_matrix.append(word_emb_model.wv[word])\n",
        "    except:\n",
        "        word_embedding_matrix.append([0]*WORD_EMBEDDING_DIM)\n",
        "word_embedding_matrix = np.array(word_embedding_matrix)\n",
        "\n",
        "# quick check embedding size\n",
        "print(f'Word embedding matrix shape = {word_embedding_matrix.shape}')"
      ],
      "execution_count": 6,
      "outputs": [
        {
          "output_type": "stream",
          "text": [
            "[==================================================] 100.0% 104.8/104.8MB downloaded\n"
          ],
          "name": "stdout"
        },
        {
          "output_type": "stream",
          "text": [
            "/usr/local/lib/python3.6/dist-packages/smart_open/smart_open_lib.py:253: UserWarning: This function is deprecated, use smart_open.open instead. See the migration notes for details: https://github.com/RaRe-Technologies/smart_open/blob/master/README.rst#migrating-to-the-new-open-function\n",
            "  'See the migration notes for details: %s' % _MIGRATION_NOTES_URL\n"
          ],
          "name": "stderr"
        },
        {
          "output_type": "display_data",
          "data": {
            "application/vnd.jupyter.widget-view+json": {
              "model_id": "e85eeada983a4a91af7bfcbccdae6fb5",
              "version_minor": 0,
              "version_major": 2
            },
            "text/plain": [
              "HBox(children=(FloatProgress(value=0.0, max=13972.0), HTML(value='')))"
            ]
          },
          "metadata": {
            "tags": []
          }
        },
        {
          "output_type": "stream",
          "text": [
            "\n",
            "Word embedding matrix shape = (13972, 25)\n"
          ],
          "name": "stdout"
        },
        {
          "output_type": "stream",
          "text": [
            "/usr/local/lib/python3.6/dist-packages/ipykernel_launcher.py:11: DeprecationWarning: Call to deprecated `wv` (Attribute will be removed in 4.0.0, use self instead).\n",
            "  # This is added back by InteractiveShellApp.init_path()\n"
          ],
          "name": "stderr"
        }
      ]
    },
    {
      "cell_type": "markdown",
      "metadata": {
        "id": "Yo3uhS76IaOj",
        "colab_type": "text"
      },
      "source": [
        "### 3.2 POS Tag Embedding\n",
        "\n",
        "Part-of-Speech (POS) is a class of words based on the word's function, they way it works in a sentence.\n",
        "\n",
        "Having this tag might help the NER model to predict the labels accurately. In this section, we will create POST tag embedding for our vocabulary. \n",
        "\n",
        "Note that the final POS tag embedding would be a matrix of size \n",
        "\n",
        "```\n",
        "(vocabulary_size, num_pos_tags)\n",
        "```\n",
        "\n",
        "i.e. the POS tag of each word will be one-hot encoded so that each vector is 0-1 vector where 1 refers to the index of the pos tag and all zeros elsewhere."
      ]
    },
    {
      "cell_type": "code",
      "metadata": {
        "id": "6g5qaQsXaVzB",
        "colab_type": "code",
        "colab": {
          "base_uri": "https://localhost:8080/",
          "height": 86
        },
        "outputId": "3a4559c2-dce6-495f-9acd-e218e5315da1"
      },
      "source": [
        "import nltk\n",
        "from nltk.tokenize import word_tokenize\n",
        "nltk.download('averaged_perceptron_tagger')"
      ],
      "execution_count": 7,
      "outputs": [
        {
          "output_type": "stream",
          "text": [
            "[nltk_data] Downloading package averaged_perceptron_tagger to\n",
            "[nltk_data]     /root/nltk_data...\n",
            "[nltk_data]   Unzipping taggers/averaged_perceptron_tagger.zip.\n"
          ],
          "name": "stdout"
        },
        {
          "output_type": "execute_result",
          "data": {
            "text/plain": [
              "True"
            ]
          },
          "metadata": {
            "tags": []
          },
          "execution_count": 7
        }
      ]
    },
    {
      "cell_type": "code",
      "metadata": {
        "id": "9UA5qjnLaffH",
        "colab_type": "code",
        "colab": {
          "base_uri": "https://localhost:8080/",
          "height": 66,
          "referenced_widgets": [
            "546dfd19e25d493c8eebdef4df0d14e9",
            "67bded6cb7434fc4840ed97240b46fb4",
            "1f9f3a81ec14409f91f9bbc908c90ea1",
            "0f947687674144338a0069e9572b69a9",
            "845ca6d6863b4639b4dfc9645dcf3bed",
            "69c8533216d34c4cbcb16635b0efe0e6",
            "f9028b7280e140faa877e97d6397791d",
            "c9b6b95e47924f248b36cd901603bbc7"
          ]
        },
        "outputId": "4a56c0a1-8383-4055-f4e2-7ca1e7087bad"
      },
      "source": [
        "word_pos_tag = {}\n",
        "for word in tqdm(word_list):\n",
        "  word_pos_tag[word] = nltk.pos_tag(word)[0][-1]\n"
      ],
      "execution_count": 8,
      "outputs": [
        {
          "output_type": "display_data",
          "data": {
            "application/vnd.jupyter.widget-view+json": {
              "model_id": "546dfd19e25d493c8eebdef4df0d14e9",
              "version_minor": 0,
              "version_major": 2
            },
            "text/plain": [
              "HBox(children=(FloatProgress(value=0.0, max=13972.0), HTML(value='')))"
            ]
          },
          "metadata": {
            "tags": []
          }
        },
        {
          "output_type": "stream",
          "text": [
            "\n"
          ],
          "name": "stdout"
        }
      ]
    },
    {
      "cell_type": "code",
      "metadata": {
        "id": "RpqFGQJecyWs",
        "colab_type": "code",
        "colab": {
          "base_uri": "https://localhost:8080/",
          "height": 298
        },
        "outputId": "beb230b2-6eec-4c6f-b22a-08aef10f0c89"
      },
      "source": [
        "def draw_pos_barchart(word_pos_tag):\n",
        "  \"\"\"Visualize the POS tag distribution.\"\"\"\n",
        "  all_pos_tags = list(word_pos_tag.values())\n",
        "  counter = Counter(all_pos_tags)\n",
        "\n",
        "  tag_types = list(counter.keys())\n",
        "  tag_counts = list(counter.values())\n",
        "  print(f'There are {len(tag_types)} kinds of POS tags')\n",
        "  pl.bar(range(len(tag_types)), tag_counts)\n",
        "  pl.xticks(range(len(tag_types)), tag_types)\n",
        "  pl.ylabel('Counts')\n",
        "  pl.title('POS Tag Type Distribution')\n",
        "  pl.show()\n",
        "\n",
        "draw_pos_barchart(word_pos_tag)"
      ],
      "execution_count": 9,
      "outputs": [
        {
          "output_type": "stream",
          "text": [
            "There are 20 kinds of POS tags\n"
          ],
          "name": "stdout"
        },
        {
          "output_type": "display_data",
          "data": {
            "image/png": "[encoded data removed]",
            "text/plain": [
              "<Figure size 432x288 with 1 Axes>"
            ]
          },
          "metadata": {
            "tags": [],
            "needs_background": "light"
          }
        }
      ]
    },
    {
      "cell_type": "markdown",
      "metadata": {
        "id": "kexN9hvddx_R",
        "colab_type": "text"
      },
      "source": [
        "#### 3.2.1 Clean POS tags\n",
        "\n",
        "From the bar chart above we can see there are some invalid pos tags such as following symbols:\n",
        "```\n",
        "'$', \"''\", '(', ')', ',', '.', ':', '``'\n",
        "```\n",
        "We need to clean the POS tags a bit to build a good POS tag embedding."
      ]
    },
    {
      "cell_type": "code",
      "metadata": {
        "id": "OfYqazBadjYW",
        "colab_type": "code",
        "colab": {
          "base_uri": "https://localhost:8080/",
          "height": 347,
          "referenced_widgets": [
            "68a94f6f360942b7ab6aafe3794124d6",
            "16bbfffd50c147bc8cc395bd1342bfff",
            "0cac566264a84f3c9e818a25327bafd3",
            "c7dabd6fbf614a80badaf594053af9e7",
            "edb86c8f01c04e5388e2218a0ef58a04",
            "01adcd1f81a24528be708cbb61dd854f",
            "b688a1f6183f431f81d2d2e4ecce788b",
            "5e2e3aec912b4ce29ac4467e584c7a6d"
          ]
        },
        "outputId": "6a942965-c21f-4744-ee87-1851195c4b8f"
      },
      "source": [
        "invalid_pos_tags = ['$', \"''\", '(', ')', ',', '.', ':', '``']\n",
        "word_pos_tag = {}\n",
        "for word in tqdm(word_list):\n",
        "  tag = nltk.pos_tag(word)[0][-1]\n",
        "  if tag in invalid_pos_tags:\n",
        "    tag = 'symbols'\n",
        "  word_pos_tag[word] = tag\n",
        "draw_pos_barchart(word_pos_tag)"
      ],
      "execution_count": 10,
      "outputs": [
        {
          "output_type": "display_data",
          "data": {
            "application/vnd.jupyter.widget-view+json": {
              "model_id": "68a94f6f360942b7ab6aafe3794124d6",
              "version_minor": 0,
              "version_major": 2
            },
            "text/plain": [
              "HBox(children=(FloatProgress(value=0.0, max=13972.0), HTML(value='')))"
            ]
          },
          "metadata": {
            "tags": []
          }
        },
        {
          "output_type": "stream",
          "text": [
            "\n",
            "There are 13 kinds of POS tags\n"
          ],
          "name": "stdout"
        },
        {
          "output_type": "display_data",
          "data": {
            "image/png": "[encoded data removed]",
            "text/plain": [
              "<Figure size 432x288 with 1 Axes>"
            ]
          },
          "metadata": {
            "tags": [],
            "needs_background": "light"
          }
        }
      ]
    },
    {
      "cell_type": "markdown",
      "metadata": {
        "id": "0_PcgbFIfZNF",
        "colab_type": "text"
      },
      "source": [
        "#### 3.2.2 Onehot Encode POS Tag "
      ]
    },
    {
      "cell_type": "code",
      "metadata": {
        "id": "_ks0s4yJdMqj",
        "colab_type": "code",
        "colab": {
          "base_uri": "https://localhost:8080/",
          "height": 240
        },
        "outputId": "6a165005-6905-43e4-b286-aa518924215d"
      },
      "source": [
        "pos_tag_to_index = {}\n",
        "for i, tag in enumerate(set(word_pos_tag.values())):\n",
        "  pos_tag_to_index[tag] = i\n",
        "pos_tag_size = len(pos_tag_to_index)\n",
        "pos_tag_to_index"
      ],
      "execution_count": 11,
      "outputs": [
        {
          "output_type": "execute_result",
          "data": {
            "text/plain": [
              "{'CC': 11,\n",
              " 'CD': 1,\n",
              " 'DT': 5,\n",
              " 'IN': 7,\n",
              " 'JJ': 4,\n",
              " 'LS': 10,\n",
              " 'NN': 12,\n",
              " 'NNS': 2,\n",
              " 'POS': 9,\n",
              " 'RB': 6,\n",
              " 'SYM': 8,\n",
              " 'VB': 0,\n",
              " 'symbols': 3}"
            ]
          },
          "metadata": {
            "tags": []
          },
          "execution_count": 11
        }
      ]
    },
    {
      "cell_type": "code",
      "metadata": {
        "id": "FBnC23YCf64-",
        "colab_type": "code",
        "colab": {
          "base_uri": "https://localhost:8080/",
          "height": 83,
          "referenced_widgets": [
            "883fc943d44347538fe927a658b52ecb",
            "a741173199ce4ce1883decffa9d501a4",
            "20136f60b8424602ab3385541066ae6e",
            "5fc11e838e864e3b81f02f19eb4e7c2c",
            "87499576742e4e2fa782205c9be1262b",
            "e4ebd5d28abb44fb81202b05f7bb6488",
            "4958718ca84042f6997aec24935a35db",
            "d91b620720144c3792e2777f600b3e03"
          ]
        },
        "outputId": "d41c330b-6112-4614-eed5-9aba90361ce9"
      },
      "source": [
        "pos_embedding_matrix = []\n",
        "for word in tqdm(word_list):\n",
        "  pos_vector = [0] * pos_tag_size\n",
        "  pos_tag = word_pos_tag[word]\n",
        "  pos_tag_index = pos_tag_to_index[pos_tag]\n",
        "  pos_vector[pos_tag_index] = 1\n",
        "  pos_embedding_matrix.append(pos_vector)\n",
        "pos_embedding_matrix = np.array(pos_embedding_matrix)\n",
        "print(f'POS Tag Embedding dimension={pos_embedding_matrix.shape}')"
      ],
      "execution_count": 12,
      "outputs": [
        {
          "output_type": "display_data",
          "data": {
            "application/vnd.jupyter.widget-view+json": {
              "model_id": "883fc943d44347538fe927a658b52ecb",
              "version_minor": 0,
              "version_major": 2
            },
            "text/plain": [
              "HBox(children=(FloatProgress(value=0.0, max=13972.0), HTML(value='')))"
            ]
          },
          "metadata": {
            "tags": []
          }
        },
        {
          "output_type": "stream",
          "text": [
            "\n",
            "POS Tag Embedding dimension=(13972, 13)\n"
          ],
          "name": "stdout"
        }
      ]
    },
    {
      "cell_type": "markdown",
      "metadata": {
        "id": "0mEnYIXVg2kI",
        "colab_type": "text"
      },
      "source": [
        "### 3.3 TF-IDF Embedding\n",
        "Tf means term-frequency while tf-idf means term-frequency times inverse document-frequency. This is a common term weighting scheme in information retrieval, that has also found good use in document classification.\n",
        "\n",
        "Note that the final POS tag embedding would be a matrix of size\n",
        "\n",
        "```\n",
        "(vocabulary_size, 1)\n",
        "```"
      ]
    },
    {
      "cell_type": "code",
      "metadata": {
        "id": "UulF3PxgA5B_",
        "colab_type": "code",
        "colab": {
          "base_uri": "https://localhost:8080/",
          "height": 34
        },
        "outputId": "ca200cd5-961c-42a2-c609-64e04775e3af"
      },
      "source": [
        "from sklearn.feature_extraction.text import CountVectorizer  \n",
        "from sklearn.feature_extraction.text import TfidfTransformer \n",
        "from sklearn.pipeline import Pipeline\n",
        "\n",
        "# get corpus\n",
        "corpus = df_train['Sentence'].tolist() + df_test['Sentence'].tolist() \\\n",
        "  + df_val['Sentence'].tolist()\n",
        "\n",
        "# get tfidf score\n",
        "pipe = Pipeline([('count', CountVectorizer(vocabulary=word_list)),\n",
        "                 ('tfid', TfidfTransformer())]).fit(corpus)\n",
        "\n",
        "tfidf_embedding = pipe['tfid'].idf_.reshape(-1, 1)\n",
        "print(f'TF-IDF Embedding dimension={tfidf_embedding.shape}')"
      ],
      "execution_count": 13,
      "outputs": [
        {
          "output_type": "stream",
          "text": [
            "TF-IDF Embedding dimension=(13972, 1)\n"
          ],
          "name": "stdout"
        }
      ]
    },
    {
      "cell_type": "markdown",
      "metadata": {
        "id": "4eBs93orjW-W",
        "colab_type": "text"
      },
      "source": [
        "### 3.4 Modulise Input Embedding\n",
        "\n",
        "In this section, we modulise the construction of input embedding where the selection of above 3 input embedding is decided when initalise this embedding object."
      ]
    },
    {
      "cell_type": "code",
      "metadata": {
        "id": "j_HU106yjokK",
        "colab_type": "code",
        "colab": {
          "base_uri": "https://localhost:8080/",
          "height": 34
        },
        "outputId": "57ca9c6c-072b-4e76-c966-b04d62759b43"
      },
      "source": [
        "class Embedding:\n",
        "\n",
        "  def __init__(self, use_word2vec, use_pos, use_tfidf):\n",
        "    \"\"\"Initialise an input embedding given selections of embedding types\n",
        "\n",
        "    Parameter\n",
        "    ---------\n",
        "    use_word2vec: bool\n",
        "    use_pos: bool\n",
        "    use_tfidf: bool\n",
        "    \"\"\"\n",
        "    assert any([use_word2vec, use_pos, use_tfidf])\n",
        "    self.dim = 0\n",
        "    self.matrix = []\n",
        "\n",
        "    if use_word2vec:\n",
        "      self.dim += word_embedding_matrix.shape[-1]\n",
        "      self.matrix.append(word_embedding_matrix)\n",
        "    if use_pos:\n",
        "      self.dim += pos_embedding_matrix.shape[-1]\n",
        "      self.matrix.append(pos_embedding_matrix)\n",
        "    if use_tfidf:\n",
        "      self.dim += tfidf_embedding.shape[-1]\n",
        "      self.matrix.append(tfidf_embedding)    \n",
        "\n",
        "    self.matrix = np.concatenate(self.matrix, axis=-1)\n",
        "    assert self.dim == self.matrix.shape[-1]\n",
        "\n",
        "# here we use 2 types of input embeddings\n",
        "embedding = Embedding(use_word2vec=True, use_pos=False, use_tfidf=True)\n",
        "embedding_dim = embedding.dim\n",
        "embedding_matrix = embedding.matrix\n",
        "print(f'Input Embedding Dimension={embedding_matrix.shape}')"
      ],
      "execution_count": 14,
      "outputs": [
        {
          "output_type": "stream",
          "text": [
            "Input Embedding Dimension=(13972, 26)\n"
          ],
          "name": "stdout"
        }
      ]
    },
    {
      "cell_type": "markdown",
      "metadata": {
        "id": "QnL3gPY4Q-tW",
        "colab_type": "text"
      },
      "source": [
        "## 4.NER Model"
      ]
    },
    {
      "cell_type": "markdown",
      "metadata": {
        "id": "-WB90afaolZp",
        "colab_type": "text"
      },
      "source": [
        "### 4.1 Bi-LSTM CRF "
      ]
    },
    {
      "cell_type": "code",
      "metadata": {
        "id": "a5AgRWakkfmT",
        "colab_type": "code",
        "colab": {}
      },
      "source": [
        "import torch\n",
        "import torch.autograd as autograd\n",
        "import torch.nn as nn\n",
        "import torch.optim as optim\n",
        "\n",
        "torch.manual_seed(1)\n",
        "\n",
        "def argmax(vec):\n",
        "    # return the argmax as a python int\n",
        "    _, idx = torch.max(vec, 1)\n",
        "    return idx.item()\n",
        "\n",
        "\n",
        "# Compute log sum exp in a numerically stable way for the forward algorithm\n",
        "def log_sum_exp(vec):\n",
        "    max_score = vec[0, argmax(vec)]\n",
        "    max_score_broadcast = max_score.view(1, -1).expand(1, vec.size()[1])\n",
        "    return max_score + \\\n",
        "        torch.log(torch.sum(torch.exp(vec - max_score_broadcast)))\n",
        "\n",
        "\n",
        "class BiLSTM_CRF(nn.Module):\n",
        "\n",
        "    def __init__(self, vocab_size, tag_to_ix, embedding_dim, embedding_matrix, hidden_dim):\n",
        "        super(BiLSTM_CRF, self).__init__()\n",
        "        self.embedding_dim = embedding_dim\n",
        "        self.hidden_dim = hidden_dim\n",
        "        self.vocab_size = vocab_size\n",
        "        self.tag_to_ix = tag_to_ix\n",
        "        self.tagset_size = len(tag_to_ix)\n",
        "\n",
        "        self.word_embeds = nn.Embedding(vocab_size, embedding_dim)\n",
        "\n",
        "        \"\"\"Here we use the embedding matrix as the initial weights of nn.Embedding\"\"\"\n",
        "        self.word_embeds.weight.data.copy_(torch.from_numpy(embedding_matrix))\n",
        "        \n",
        "        self.lstm = nn.LSTM(embedding_dim, hidden_dim // 2,\n",
        "                            num_layers=1, bidirectional=True)\n",
        "\n",
        "        # Maps the output of the LSTM into tag space.\n",
        "        self.hidden2tag = nn.Linear(hidden_dim, self.tagset_size)\n",
        "\n",
        "        # Matrix of transition parameters.  Entry i,j is the score of\n",
        "        # transitioning *to* i *from* j.\n",
        "        self.transitions = nn.Parameter(\n",
        "            torch.randn(self.tagset_size, self.tagset_size))\n",
        "\n",
        "        # These two statements enforce the constraint that we never transfer\n",
        "        # to the start tag and we never transfer from the stop tag\n",
        "        self.transitions.data[tag_to_ix[START_TAG], :] = -10000\n",
        "        self.transitions.data[:, tag_to_ix[STOP_TAG]] = -10000\n",
        "\n",
        "        self.hidden = self.init_hidden()\n",
        "\n",
        "    def init_hidden(self):\n",
        "        return (torch.randn(2, 1, self.hidden_dim // 2).to(device),\n",
        "                torch.randn(2, 1, self.hidden_dim // 2).to(device))\n",
        "\n",
        "    def _forward_alg(self, feats):\n",
        "        # Do the forward algorithm to compute the partition function\n",
        "        init_alphas = torch.full((1, self.tagset_size), -10000.).to(device)\n",
        "        # START_TAG has all of the score.\n",
        "        init_alphas[0][self.tag_to_ix[START_TAG]] = 0.\n",
        "\n",
        "        # Wrap in a variable so that we will get automatic backprop\n",
        "        forward_var = init_alphas\n",
        "\n",
        "        # Iterate through the sentence\n",
        "        for feat in feats:\n",
        "            alphas_t = []  # The forward tensors at this timestep\n",
        "            for next_tag in range(self.tagset_size):\n",
        "                # broadcast the emission score: it is the same regardless of\n",
        "                # the previous tag\n",
        "                emit_score = feat[next_tag].view(\n",
        "                    1, -1).expand(1, self.tagset_size)\n",
        "                # the ith entry of trans_score is the score of transitioning to\n",
        "                # next_tag from i\n",
        "                trans_score = self.transitions[next_tag].view(1, -1)\n",
        "                # The ith entry of next_tag_var is the value for the\n",
        "                # edge (i -> next_tag) before we do log-sum-exp\n",
        "                next_tag_var = forward_var + trans_score + emit_score\n",
        "                # The forward variable for this tag is log-sum-exp of all the\n",
        "                # scores.\n",
        "                alphas_t.append(log_sum_exp(next_tag_var).view(1))\n",
        "            forward_var = torch.cat(alphas_t).view(1, -1)\n",
        "        terminal_var = forward_var + self.transitions[self.tag_to_ix[STOP_TAG]]\n",
        "        alpha = log_sum_exp(terminal_var)\n",
        "        return alpha\n",
        "\n",
        "    def _get_lstm_features(self, sentence):\n",
        "        self.hidden = self.init_hidden()\n",
        "        embeds = self.word_embeds(sentence).view(len(sentence), 1, -1)\n",
        "        lstm_out, self.hidden = self.lstm(embeds, self.hidden)\n",
        "        lstm_out = lstm_out.view(len(sentence), self.hidden_dim)\n",
        "        lstm_feats = self.hidden2tag(lstm_out)\n",
        "        return lstm_feats\n",
        "\n",
        "    def _score_sentence(self, feats, tags):\n",
        "        # Gives the score of a provided tag sequence\n",
        "        score = torch.zeros(1).to(device)\n",
        "        tags = torch.cat([torch.tensor([self.tag_to_ix[START_TAG]], dtype=torch.long).to(device), tags])\n",
        "        for i, feat in enumerate(feats):\n",
        "            score = score + \\\n",
        "                self.transitions[tags[i + 1], tags[i]] + feat[tags[i + 1]]\n",
        "        score = score + self.transitions[self.tag_to_ix[STOP_TAG], tags[-1]]\n",
        "        return score\n",
        "\n",
        "    def _viterbi_decode(self, feats):\n",
        "        backpointers = []\n",
        "\n",
        "        # Initialize the viterbi variables in log space\n",
        "        init_vvars = torch.full((1, self.tagset_size), -10000.).to(device)\n",
        "        init_vvars[0][self.tag_to_ix[START_TAG]] = 0\n",
        "\n",
        "        # forward_var at step i holds the viterbi variables for step i-1\n",
        "        forward_var = init_vvars\n",
        "        for feat in feats:\n",
        "            bptrs_t = []  # holds the backpointers for this step\n",
        "            viterbivars_t = []  # holds the viterbi variables for this step\n",
        "\n",
        "            for next_tag in range(self.tagset_size):\n",
        "                # next_tag_var[i] holds the viterbi variable for tag i at the\n",
        "                # previous step, plus the score of transitioning\n",
        "                # from tag i to next_tag.\n",
        "                # We don't include the emission scores here because the max\n",
        "                # does not depend on them (we add them in below)\n",
        "                next_tag_var = forward_var + self.transitions[next_tag]\n",
        "                best_tag_id = argmax(next_tag_var)\n",
        "                bptrs_t.append(best_tag_id)\n",
        "                viterbivars_t.append(next_tag_var[0][best_tag_id].view(1))\n",
        "            # Now add in the emission scores, and assign forward_var to the set\n",
        "            # of viterbi variables we just computed\n",
        "            forward_var = (torch.cat(viterbivars_t) + feat).view(1, -1)\n",
        "            backpointers.append(bptrs_t)\n",
        "\n",
        "        # Transition to STOP_TAG\n",
        "        terminal_var = forward_var + self.transitions[self.tag_to_ix[STOP_TAG]]\n",
        "        best_tag_id = argmax(terminal_var)\n",
        "        path_score = terminal_var[0][best_tag_id]\n",
        "\n",
        "        # Follow the back pointers to decode the best path.\n",
        "        best_path = [best_tag_id]\n",
        "        for bptrs_t in reversed(backpointers):\n",
        "            best_tag_id = bptrs_t[best_tag_id]\n",
        "            best_path.append(best_tag_id)\n",
        "        # Pop off the start tag (we dont want to return that to the caller)\n",
        "        start = best_path.pop()\n",
        "        assert start == self.tag_to_ix[START_TAG]  # Sanity check\n",
        "        best_path.reverse()\n",
        "        return path_score, best_path\n",
        "\n",
        "    def neg_log_likelihood(self, sentence, tags):\n",
        "        feats = self._get_lstm_features(sentence)\n",
        "        forward_score = self._forward_alg(feats)\n",
        "        gold_score = self._score_sentence(feats, tags)\n",
        "        return forward_score - gold_score\n",
        "\n",
        "    def forward(self, sentence):  # dont confuse this with _forward_alg above.\n",
        "        # Get the emission scores from the BiLSTM\n",
        "        lstm_feats = self._get_lstm_features(sentence)\n",
        "\n",
        "        # Find the best path, given the features.\n",
        "        score, tag_seq = self._viterbi_decode(lstm_feats)\n",
        "        return score, tag_seq"
      ],
      "execution_count": 0,
      "outputs": []
    },
    {
      "cell_type": "code",
      "metadata": {
        "id": "u1WZBC7OHoTd",
        "colab_type": "code",
        "colab": {}
      },
      "source": [
        "import numpy as np\n",
        "from sklearn.metrics import accuracy_score\n",
        "\n",
        "def cal_acc(model, input_index, output_index):\n",
        "    predicted=[]\n",
        "    ground_truth=[]\n",
        "    for i in range(len(input_index)):\n",
        "\n",
        "      sentence_in = torch.tensor(input_index[i], dtype=torch.long).to(device)\n",
        "      pre_sentence = model(sentence_in)\n",
        "\n",
        "      ground_truth += output_index[i]\n",
        "      predicted += pre_sentence[1]\n",
        "\n",
        "    accuracy = accuracy_score(predicted,ground_truth)\n",
        "        \n",
        "    return ground_truth, predicted, accuracy"
      ],
      "execution_count": 0,
      "outputs": []
    },
    {
      "cell_type": "markdown",
      "metadata": {
        "id": "F0Fps548o92y",
        "colab_type": "text"
      },
      "source": [
        "### 4.2 Train and Evaluate"
      ]
    },
    {
      "cell_type": "code",
      "metadata": {
        "id": "a0CMFVSwlLru",
        "colab_type": "code",
        "colab": {}
      },
      "source": [
        "import datetime\n",
        "from sklearn.metrics import classification_report\n",
        "\n",
        "\n",
        "def decode_output(output_list):\n",
        "    ix_to_tag = {v:k for k,v in tag_to_ix.items()}\n",
        "    return [ix_to_tag[output] for output in output_list]\n",
        "\n",
        "\n",
        "def train_evaluate(model, optimizer):\n",
        "  \"\"\"Train for 20 epochs and evaluate accuracy.\"\"\"\n",
        "  loss_train = []\n",
        "  loss_val = []\n",
        "  acc_train = []\n",
        "  acc_val = []\n",
        "\n",
        "  for epoch in tqdm(range(20)):  \n",
        "      time1 = datetime.datetime.now()\n",
        "      train_loss = 0\n",
        "\n",
        "      model.train()\n",
        "      for i, idxs in enumerate(train_input_index):\n",
        "          tags_index = train_output_index[i]\n",
        "\n",
        "          # Step 1. Remember that Pytorch accumulates gradients.\n",
        "          # We need to clear them out before each instance\n",
        "          model.zero_grad()\n",
        "\n",
        "          # Step 2. Get our inputs ready for the network, that is,\n",
        "          # turn them into Tensors of word indices.\n",
        "          sentence_in = torch.tensor(idxs, dtype=torch.long).to(device)\n",
        "          targets = torch.tensor(tags_index, dtype=torch.long).to(device)\n",
        "\n",
        "          # Step 3. Run our forward pass.\n",
        "          loss = model.neg_log_likelihood(sentence_in, targets)\n",
        "\n",
        "          # Step 4. Compute the loss, gradients, and update the parameters by\n",
        "          # calling optimizer.step()\n",
        "          loss.backward()\n",
        "          optimizer.step()\n",
        "\n",
        "          train_loss+=loss.item()\n",
        "\n",
        "      model.eval()\n",
        "      _, _, train_acc = cal_acc(model,train_input_index,train_output_index)\n",
        "      _, _, val_acc = cal_acc(model,val_input_index,val_output_index)\n",
        "\n",
        "      # append accuracy for later visulisation\n",
        "      acc_train.append(train_acc)\n",
        "      acc_val.append(val_acc)\n",
        "\n",
        "      # compute validation loss\n",
        "      val_loss = 0\n",
        "      for i, idxs in enumerate(val_input_index):\n",
        "          tags_index = val_output_index[i]\n",
        "          sentence_in = torch.tensor(idxs, dtype=torch.long).to(device)\n",
        "          targets = torch.tensor(tags_index, dtype=torch.long).to(device)\n",
        "          loss = model.neg_log_likelihood(sentence_in, targets)\n",
        "          val_loss+=loss.item()\n",
        "      time2 = datetime.datetime.now()\n",
        "\n",
        "      # append loss for later visualisation\n",
        "      loss_train.append(train_loss)\n",
        "      loss_val.append(val_loss)\n",
        "      print(\"Epoch:%d, Training loss: %.2f, train acc: %.4f, val loss: %.2f, val acc: %.4f, time: %.2fs\" %(epoch+1, train_loss,train_acc, val_loss, val_acc, (time2-time1).total_seconds()))\n",
        "\n",
        "  y_true,y_pred,_ = cal_acc(model, val_input_index, val_output_index)\n",
        "  y_true_decode = decode_output(y_true)\n",
        "  y_pred_decode = decode_output(y_pred)\n",
        "\n",
        "  print(classification_report(y_true_decode,y_pred_decode,digits=4))\n",
        "  return model, loss_train, loss_val, acc_train, acc_val"
      ],
      "execution_count": 0,
      "outputs": []
    },
    {
      "cell_type": "code",
      "metadata": {
        "id": "FBnBMzNM-5SV",
        "colab_type": "code",
        "colab": {}
      },
      "source": [
        "def evaluate(model):\n",
        "  \"\"\"Evaluate on validation set.\"\"\"\n",
        "  y_true,y_pred,_ = cal_acc(model, val_input_index, val_output_index)\n",
        "  y_true_decode = decode_output(y_true)\n",
        "  y_pred_decode = decode_output(y_pred)\n",
        "  result = classification_report(y_true_decode,y_pred_decode,digits=4, output_dict=True)\n",
        "  return result"
      ],
      "execution_count": 0,
      "outputs": []
    },
    {
      "cell_type": "code",
      "metadata": {
        "id": "u_9JimEUr9Np",
        "colab_type": "code",
        "colab": {
          "base_uri": "https://localhost:8080/",
          "height": 615,
          "referenced_widgets": [
            "0d930e894e7141099de46d4a5d123429",
            "cc3602d485264acfb619f10f0280ee62",
            "c167ae95b0d44a36ba94dd6e120a4055",
            "d9bcfdeb0d0d4b49a3c5903868c32547",
            "1dfa4fd1cebc458da083d81261451271",
            "4d78edaef970479dafe4ba3a7637df7c",
            "b21f432e8bef4a8588c33e22c89ce7a2",
            "09aaebc02e1f4950ac91a30e4b8e4db3"
          ]
        },
        "outputId": "fde25be3-4ad7-41fc-cb27-6a029aee202f"
      },
      "source": [
        "device = torch.device(\"cuda\" if torch.cuda.is_available() else \"cpu\")\n",
        "HIDDEN_DIM = 50\n",
        "\n",
        "model = BiLSTM_CRF(len(word_to_ix), tag_to_ix, embedding_dim, embedding_matrix, HIDDEN_DIM).to(device)\n",
        "optimizer = optim.SGD(model.parameters(), lr=0.01, weight_decay=1e-4)\n",
        "\n",
        "model, loss_train, loss_val, acc_train, acc_val = train_evaluate(model, optimizer)"
      ],
      "execution_count": 25,
      "outputs": [
        {
          "output_type": "display_data",
          "data": {
            "application/vnd.jupyter.widget-view+json": {
              "model_id": "0d930e894e7141099de46d4a5d123429",
              "version_minor": 0,
              "version_major": 2
            },
            "text/plain": [
              "HBox(children=(FloatProgress(value=0.0, max=20.0), HTML(value='')))"
            ]
          },
          "metadata": {
            "tags": []
          }
        },
        {
          "output_type": "stream",
          "text": [
            "Epoch:1, Training loss: 12405.80, train acc: 0.9007, val loss: 2342.44, val acc: 0.8818, time: 195.09s\n",
            "Epoch:2, Training loss: 8218.42, train acc: 0.9173, val loss: 1964.19, val acc: 0.9088, time: 191.33s\n",
            "Epoch:3, Training loss: 6815.64, train acc: 0.9247, val loss: 1753.49, val acc: 0.9103, time: 190.06s\n",
            "Epoch:4, Training loss: 5790.55, train acc: 0.9322, val loss: 1653.11, val acc: 0.9189, time: 194.03s\n",
            "Epoch:5, Training loss: 5113.17, train acc: 0.9338, val loss: 1636.54, val acc: 0.9172, time: 192.27s\n",
            "Epoch:6, Training loss: 4549.54, train acc: 0.9404, val loss: 1581.25, val acc: 0.9186, time: 191.98s\n",
            "Epoch:7, Training loss: 4202.10, train acc: 0.9460, val loss: 1487.22, val acc: 0.9220, time: 194.73s\n",
            "Epoch:8, Training loss: 3675.44, train acc: 0.9450, val loss: 1703.68, val acc: 0.9193, time: 196.64s\n",
            "Epoch:9, Training loss: 3270.53, train acc: 0.9480, val loss: 1647.86, val acc: 0.9209, time: 193.53s\n",
            "Epoch:10, Training loss: 2994.31, train acc: 0.9503, val loss: 1677.31, val acc: 0.9224, time: 193.27s\n",
            "Epoch:11, Training loss: 2746.97, train acc: 0.9520, val loss: 1763.71, val acc: 0.9232, time: 190.26s\n",
            "Epoch:12, Training loss: 2518.57, train acc: 0.9544, val loss: 1734.32, val acc: 0.9224, time: 190.28s\n",
            "Epoch:13, Training loss: 2379.91, train acc: 0.9577, val loss: 1789.08, val acc: 0.9267, time: 188.46s\n",
            "Epoch:14, Training loss: 2108.40, train acc: 0.9601, val loss: 1827.67, val acc: 0.9251, time: 189.64s\n",
            "Epoch:15, Training loss: 1973.63, train acc: 0.9610, val loss: 1923.08, val acc: 0.9254, time: 190.61s\n",
            "Epoch:16, Training loss: 1835.85, train acc: 0.9595, val loss: 1985.17, val acc: 0.9244, time: 193.48s\n",
            "Epoch:17, Training loss: 1815.59, train acc: 0.9604, val loss: 2222.90, val acc: 0.9226, time: 197.70s\n",
            "Epoch:18, Training loss: 1580.60, train acc: 0.9566, val loss: 2552.32, val acc: 0.9152, time: 198.06s\n",
            "Epoch:19, Training loss: 1450.51, train acc: 0.9662, val loss: 2209.04, val acc: 0.9263, time: 195.39s\n",
            "Epoch:20, Training loss: 1350.24, train acc: 0.9640, val loss: 2252.38, val acc: 0.9247, time: 193.06s\n",
            "\n",
            "              precision    recall  f1-score   support\n",
            "\n",
            "       I-LOC     0.6672    0.9475    0.7830       419\n",
            "      I-MISC     0.7959    0.6257    0.7006       187\n",
            "       I-ORG     0.7632    0.2035    0.3213       285\n",
            "       I-PER     0.9752    0.7646    0.8571       875\n",
            "           O     0.9493    0.9922    0.9703      5790\n",
            "\n",
            "    accuracy                         0.9246      7556\n",
            "   macro avg     0.8302    0.7067    0.7265      7556\n",
            "weighted avg     0.9258    0.9246    0.9156      7556\n",
            "\n"
          ],
          "name": "stdout"
        }
      ]
    },
    {
      "cell_type": "code",
      "metadata": {
        "id": "wpHK97-AG6QY",
        "colab_type": "code",
        "colab": {
          "base_uri": "https://localhost:8080/",
          "height": 441
        },
        "outputId": "88f42a91-31e3-4fbf-a282-62cfdfa81a1a"
      },
      "source": [
        "def draw_loss(loss_train, loss_val, acc_train, acc_val, save_path=None):\n",
        "  \"\"\"Draw train loss and validation loss versus epochs.\"\"\"\n",
        "  pl.figure(figsize=(15, 6))\n",
        "  epochs = range(len(loss_train))\n",
        "  # draw loss\n",
        "  pl.subplot(1, 2, 1)\n",
        "  pl.plot(epochs, loss_train, label='Train')\n",
        "  pl.plot(epochs, loss_val, label='Validation')\n",
        "  pl.xlabel('Epoch')\n",
        "  pl.ylabel('Loss')\n",
        "  pl.title('Train & Validation Loss versus Epochs')\n",
        "  pl.legend()\n",
        "  pl.grid()\n",
        "  # draw accuracy\n",
        "  pl.subplot(1, 2, 2)\n",
        "  pl.plot(epochs, acc_train, label='Train')\n",
        "  pl.plot(epochs, acc_val, label='Validation')\n",
        "  pl.xlabel('Epoch')\n",
        "  pl.ylabel('Accuracy')\n",
        "  pl.title('Train & Validation Accuracy versus Epochs')\n",
        "  pl.grid()\n",
        "  pl.legend()\n",
        "  pl.tight_layout()\n",
        "  if not save_path:\n",
        "    pl.show()\n",
        "  else:\n",
        "    print('Saving to', save_path)\n",
        "    pl.savefig(save_path)\n",
        "\n",
        "draw_loss(loss_train, loss_val, acc_train, acc_val)"
      ],
      "execution_count": 66,
      "outputs": [
        {
          "output_type": "display_data",
          "data": {
            "image/png": "[encoded data removed]",
            "text/plain": [
              "<Figure size 1080x432 with 2 Axes>"
            ]
          },
          "metadata": {
            "tags": [],
            "needs_background": "light"
          }
        }
      ]
    },
    {
      "cell_type": "markdown",
      "metadata": {
        "id": "8w7YjYTs9Eok",
        "colab_type": "text"
      },
      "source": [
        "## 5.Evaluation\n",
        "\n",
        "In this section, we conduct different experiments to justify our final decisions on choices of input embedding, NER layers and NER attentions.\n"
      ]
    },
    {
      "cell_type": "markdown",
      "metadata": {
        "id": "kPV95c2o9Z1h",
        "colab_type": "text"
      },
      "source": [
        "### 5.1 Evaluation Setup\n",
        "\n",
        "In this section, we modulise the train, evaluation and visualisation so that we can try different settings and conduct comparison experiments."
      ]
    },
    {
      "cell_type": "code",
      "metadata": {
        "id": "O0h_eVjhG6Tc",
        "colab_type": "code",
        "colab": {}
      },
      "source": [
        "def conduct_one_experiment(model, optimizer, expr_name):\n",
        "  \"\"\"Conduct 1 experiment - Train, evaluate and visualise results.\n",
        "  \n",
        "  Parameters\n",
        "  ----------\n",
        "  model: a sequence to sequence model \n",
        "  expr_name: the experiment name - e.g. Input Embedding=Word2Vec, NER=Bi-LSTM CRF, Layer=Single, Attention=None\n",
        "\n",
        "  Return\n",
        "  ------\n",
        "  result: dict\n",
        "    Evaluation result for final comparison\n",
        "\n",
        "  \"\"\"\n",
        "  model, loss_train, loss_val, acc_train, acc_val = train_evaluate(model, optimizer)\n",
        "  result = evaluate(model)\n",
        "  draw_loss(loss_train, loss_val, acc_train, acc_val, save_path=f'drive/My Drive/comp5046/{expr_name}.pdf')\n",
        "\n",
        "  return result"
      ],
      "execution_count": 0,
      "outputs": []
    },
    {
      "cell_type": "markdown",
      "metadata": {
        "id": "1MlDiKR7ANDq",
        "colab_type": "text"
      },
      "source": [
        "### 5.2 Input Embedding Experiments\n",
        "\n",
        "In this section, we try different combination of input embedding and fix a sequence to sequence model - BiLSTM CRF to get the best input embedding.\n",
        "\n",
        "1. Word2Vec\n",
        "2. Word2Vec + POS-Tag\n",
        "3. Word2Vec + TFIDF\n",
        "4. Word2Vec + POS-Tag + TFIDF\n"
      ]
    },
    {
      "cell_type": "code",
      "metadata": {
        "id": "gATw5gztG6Wh",
        "colab_type": "code",
        "colab": {
          "base_uri": "https://localhost:8080/",
          "height": 1000,
          "referenced_widgets": [
            "017c74e634b7489e8f4c9cd916519878",
            "7ea4fa854c7a4d49a7f93fd8cc1c0ece",
            "5334dffa563743b2b47e50329f32655a",
            "0bb3765452dd40f58c61eaf9ac895a83",
            "b9bd533c6a3f4a51ab0bb8508ab42e08",
            "1a38be26bc8b47a7bb5f5e95e9207cd9",
            "eb21638aad334514ba9a433b2f05dfe1",
            "eb4834829b074e67842c212b59d23049",
            "38ec8b5762604c4aaddb74d2cfa68ebe",
            "ca058aa92f6a4afaa3cd9d15bfd387bc",
            "3ea4bbdf64ab45f8babe0e0dd560dce0",
            "dd84fc2fb31e40b4a4af0548917b86e9",
            "433fcb855a7a4845a932101e0be1474b",
            "ee674a6c79f24b7b8e3d449e2f770597",
            "732609450c064a599f27ff996c1fb1f0",
            "de1085c5ea4a45ecbb90f06a918ade54",
            "c100f3d7a7fe4a31ab6e3f123057dfa7",
            "741226a2e9cd4289a278f744d5b4ebf6",
            "4046c1a2d821452ab82fb147d52e6b8e",
            "eb654d694aeb4af38cd75eaf6dcf300c",
            "3ce242d95a9748cbbb33b427050a1cbf",
            "108e3f04bd8e4b07a208c59ffdb3be8d",
            "e09092de595b4279a957f50d2c99890b",
            "e9173e9936fe458787c7b9ef9d5e102e",
            "030beeeb77284441bc90a54e07e47324",
            "ac8839f73d554e2fa1173f4ef4fb8068",
            "a235297fc2d14a6f8dcd2c20e29908eb",
            "3fd16ef6739947048ab4bd9aeebccfab",
            "68400eda768e430aa7e4467e53acee82",
            "a523df743778479d940d51191c33a02f",
            "ba1ea95f03e147cbad0dfdc4fbf5cad0",
            "44029e4e2d704ee2ad8139458c0b60eb",
            "5a037b1f50c54a76a8576ee63abe9504",
            "00dab0258cd14ce9849274498f1cfec7",
            "4f446e621e0e4bcf99ecceba0b0abeba",
            "97a236e9f4ec44e7adddb84639a5e3c0",
            "41f1dde4739f4d5f98ec7c5b329aff92",
            "8538be8026944d0faed369b5762f38f6",
            "d3562acfec6c40aa8953fccd594a8e72",
            "9a24475d2cc741cfa1ba3b9682d11959"
          ]
        },
        "outputId": "d4d7013e-b954-435c-bd28-00e2abae7e79"
      },
      "source": [
        "embeddings = {\n",
        "    'Word2Vec': Embedding(use_word2vec=True, use_pos=False, use_tfidf=False),\n",
        "    'Word2Vec + POS-Tag': Embedding(use_word2vec=True, use_pos=True, use_tfidf=False),\n",
        "    'Word2Vec + TFIDF': Embedding(use_word2vec=True, use_pos=False, use_tfidf=True),\n",
        "    'Word2Vec + POS-Tag + TFIDF': Embedding(use_word2vec=True, use_pos=True, use_tfidf=True)\n",
        "}\n",
        "\n",
        "# mount to my drive\n",
        "from google.colab import drive\n",
        "drive.mount('/content/drive')\n",
        "\n",
        "\n",
        "# loop through all embedding combinations and do experiment\n",
        "input_embedding_evaluation_results = {}\n",
        "for name, embedding in tqdm(embeddings.items()):\n",
        "  # log\n",
        "  expr_name = f'Input Embedding={name} NER=Bi-LSTM CRF Layer=Single Attention=None'\n",
        "  print('=' * 100)\n",
        "  print('Start Experiment:', expr_name)\n",
        "\n",
        "  # build Bi-LSTM CRF model\n",
        "  device = torch.device(\"cuda\" if torch.cuda.is_available() else \"cpu\")\n",
        "  HIDDEN_DIM = 50\n",
        "  model = BiLSTM_CRF(len(word_to_ix), tag_to_ix, embedding_dim, embedding_matrix, HIDDEN_DIM).to(device)\n",
        "  optimizer = optim.SGD(model.parameters(), lr=0.01, weight_decay=1e-4)\n",
        "\n",
        "  # start experiment\n",
        "  input_embedding_evaluation_results[name] = conduct_one_experiment(model, optimizer, expr_name)"
      ],
      "execution_count": 69,
      "outputs": [
        {
          "output_type": "stream",
          "text": [
            "Drive already mounted at /content/drive; to attempt to forcibly remount, call drive.mount(\"/content/drive\", force_remount=True).\n"
          ],
          "name": "stdout"
        },
        {
          "output_type": "display_data",
          "data": {
            "application/vnd.jupyter.widget-view+json": {
              "model_id": "017c74e634b7489e8f4c9cd916519878",
              "version_minor": 0,
              "version_major": 2
            },
            "text/plain": [
              "HBox(children=(FloatProgress(value=0.0, max=4.0), HTML(value='')))"
            ]
          },
          "metadata": {
            "tags": []
          }
        },
        {
          "output_type": "stream",
          "text": [
            "====================================================================================================\n",
            "Start Experiment: Input Embedding=Word2Vec NER=Bi-LSTM CRF Layer=Single Attention=None\n"
          ],
          "name": "stdout"
        },
        {
          "output_type": "display_data",
          "data": {
            "application/vnd.jupyter.widget-view+json": {
              "model_id": "38ec8b5762604c4aaddb74d2cfa68ebe",
              "version_minor": 0,
              "version_major": 2
            },
            "text/plain": [
              "HBox(children=(FloatProgress(value=0.0, max=20.0), HTML(value='')))"
            ]
          },
          "metadata": {
            "tags": []
          }
        },
        {
          "output_type": "stream",
          "text": [
            "Epoch:1, Training loss: 11843.91, train acc: 0.9066, val loss: 2368.94, val acc: 0.8919, time: 193.88s\n",
            "Epoch:2, Training loss: 8171.58, train acc: 0.9133, val loss: 2162.27, val acc: 0.8989, time: 191.25s\n",
            "Epoch:3, Training loss: 7087.06, train acc: 0.9203, val loss: 2032.22, val acc: 0.9039, time: 191.91s\n",
            "Epoch:4, Training loss: 6134.52, train acc: 0.9287, val loss: 1732.62, val acc: 0.9148, time: 192.49s\n",
            "Epoch:5, Training loss: 5413.11, train acc: 0.9333, val loss: 1704.57, val acc: 0.9117, time: 193.43s\n",
            "Epoch:6, Training loss: 4829.59, train acc: 0.9394, val loss: 1694.48, val acc: 0.9183, time: 194.23s\n",
            "Epoch:7, Training loss: 4220.40, train acc: 0.9409, val loss: 1730.97, val acc: 0.9214, time: 194.39s\n",
            "Epoch:8, Training loss: 3722.66, train acc: 0.9483, val loss: 1590.35, val acc: 0.9271, time: 193.23s\n",
            "Epoch:9, Training loss: 3349.53, train acc: 0.9511, val loss: 1621.35, val acc: 0.9235, time: 192.99s\n",
            "Epoch:10, Training loss: 3026.51, train acc: 0.9529, val loss: 1674.31, val acc: 0.9254, time: 194.38s\n",
            "Epoch:11, Training loss: 2740.63, train acc: 0.9536, val loss: 1733.85, val acc: 0.9247, time: 187.22s\n",
            "Epoch:12, Training loss: 2609.31, train acc: 0.9588, val loss: 1697.88, val acc: 0.9288, time: 186.90s\n",
            "Epoch:13, Training loss: 2350.81, train acc: 0.9560, val loss: 1845.21, val acc: 0.9252, time: 180.80s\n",
            "Epoch:14, Training loss: 2119.52, train acc: 0.9627, val loss: 1731.42, val acc: 0.9313, time: 180.13s\n",
            "Epoch:15, Training loss: 1956.72, train acc: 0.9612, val loss: 2021.70, val acc: 0.9277, time: 183.36s\n",
            "Epoch:16, Training loss: 1809.66, train acc: 0.9624, val loss: 1814.90, val acc: 0.9318, time: 187.23s\n",
            "Epoch:17, Training loss: 1713.56, train acc: 0.9630, val loss: 2099.60, val acc: 0.9279, time: 188.97s\n",
            "Epoch:18, Training loss: 1578.55, train acc: 0.9666, val loss: 1809.37, val acc: 0.9313, time: 188.85s\n",
            "Epoch:19, Training loss: 1455.48, train acc: 0.9687, val loss: 2115.01, val acc: 0.9350, time: 189.78s\n",
            "Epoch:20, Training loss: 1299.90, train acc: 0.9707, val loss: 1843.61, val acc: 0.9373, time: 191.91s\n",
            "\n",
            "              precision    recall  f1-score   support\n",
            "\n",
            "       I-LOC     0.7224    0.9379    0.8162       419\n",
            "      I-MISC     0.8099    0.6150    0.6991       187\n",
            "       I-ORG     0.9355    0.3053    0.4603       285\n",
            "       I-PER     0.9549    0.8709    0.9109       875\n",
            "           O     0.9594    0.9907    0.9748      5790\n",
            "\n",
            "    accuracy                         0.9387      7556\n",
            "   macro avg     0.8764    0.7439    0.7723      7556\n",
            "weighted avg     0.9411    0.9387    0.9324      7556\n",
            "\n",
            "Saving to drive/My Drive/comp5046/Input Embedding=Word2Vec NER=Bi-LSTM CRF Layer=Single Attention=None.pdf\n",
            "====================================================================================================\n",
            "Start Experiment: Input Embedding=Word2Vec + POS-Tag NER=Bi-LSTM CRF Layer=Single Attention=None\n"
          ],
          "name": "stdout"
        },
        {
          "output_type": "display_data",
          "data": {
            "application/vnd.jupyter.widget-view+json": {
              "model_id": "c100f3d7a7fe4a31ab6e3f123057dfa7",
              "version_minor": 0,
              "version_major": 2
            },
            "text/plain": [
              "HBox(children=(FloatProgress(value=0.0, max=20.0), HTML(value='')))"
            ]
          },
          "metadata": {
            "tags": []
          }
        },
        {
          "output_type": "stream",
          "text": [
            "Epoch:1, Training loss: 12378.92, train acc: 0.8978, val loss: 2490.66, val acc: 0.8891, time: 194.07s\n",
            "Epoch:2, Training loss: 8435.85, train acc: 0.9129, val loss: 2130.34, val acc: 0.8981, time: 193.99s\n",
            "Epoch:3, Training loss: 7063.95, train acc: 0.9167, val loss: 2017.79, val acc: 0.9029, time: 193.33s\n",
            "Epoch:4, Training loss: 6119.52, train acc: 0.9158, val loss: 2154.10, val acc: 0.8962, time: 192.42s\n",
            "Epoch:5, Training loss: 5270.68, train acc: 0.9295, val loss: 1869.65, val acc: 0.9108, time: 192.05s\n",
            "Epoch:6, Training loss: 4620.01, train acc: 0.9367, val loss: 1745.02, val acc: 0.9156, time: 191.48s\n",
            "Epoch:7, Training loss: 4167.68, train acc: 0.9392, val loss: 1716.82, val acc: 0.9157, time: 192.62s\n",
            "Epoch:8, Training loss: 3678.60, train acc: 0.9463, val loss: 1714.57, val acc: 0.9213, time: 192.85s\n",
            "Epoch:9, Training loss: 3412.80, train acc: 0.9462, val loss: 1834.75, val acc: 0.9197, time: 193.42s\n",
            "Epoch:10, Training loss: 3046.72, train acc: 0.9498, val loss: 1847.91, val acc: 0.9209, time: 199.32s\n",
            "Epoch:11, Training loss: 2753.09, train acc: 0.9533, val loss: 1868.18, val acc: 0.9223, time: 195.84s\n",
            "Epoch:12, Training loss: 2467.34, train acc: 0.9514, val loss: 2119.02, val acc: 0.9190, time: 187.41s\n",
            "Epoch:13, Training loss: 2285.18, train acc: 0.9567, val loss: 2067.14, val acc: 0.9242, time: 182.71s\n",
            "Epoch:14, Training loss: 2049.98, train acc: 0.9569, val loss: 2177.46, val acc: 0.9222, time: 180.87s\n",
            "Epoch:15, Training loss: 1923.90, train acc: 0.9593, val loss: 2166.43, val acc: 0.9238, time: 180.52s\n",
            "Epoch:16, Training loss: 1756.22, train acc: 0.9593, val loss: 2104.92, val acc: 0.9219, time: 180.31s\n",
            "Epoch:17, Training loss: 1689.57, train acc: 0.9621, val loss: 2062.03, val acc: 0.9227, time: 180.56s\n",
            "Epoch:18, Training loss: 1520.22, train acc: 0.9629, val loss: 2172.93, val acc: 0.9244, time: 179.48s\n",
            "Epoch:19, Training loss: 1415.22, train acc: 0.9642, val loss: 2157.63, val acc: 0.9287, time: 180.41s\n",
            "Epoch:20, Training loss: 1324.89, train acc: 0.9671, val loss: 2082.99, val acc: 0.9303, time: 180.73s\n",
            "\n",
            "              precision    recall  f1-score   support\n",
            "\n",
            "       I-LOC     0.6368    0.9332    0.7570       419\n",
            "      I-MISC     0.7546    0.6578    0.7029       187\n",
            "       I-ORG     0.7895    0.1579    0.2632       285\n",
            "       I-PER     0.9569    0.8377    0.8934       875\n",
            "           O     0.9621    0.9896    0.9757      5790\n",
            "\n",
            "    accuracy                         0.9293      7556\n",
            "   macro avg     0.8200    0.7152    0.7184      7556\n",
            "weighted avg     0.9318    0.9293    0.9204      7556\n",
            "\n",
            "Saving to drive/My Drive/comp5046/Input Embedding=Word2Vec + POS-Tag NER=Bi-LSTM CRF Layer=Single Attention=None.pdf\n",
            "====================================================================================================\n",
            "Start Experiment: Input Embedding=Word2Vec + TFIDF NER=Bi-LSTM CRF Layer=Single Attention=None\n"
          ],
          "name": "stdout"
        },
        {
          "output_type": "display_data",
          "data": {
            "application/vnd.jupyter.widget-view+json": {
              "model_id": "030beeeb77284441bc90a54e07e47324",
              "version_minor": 0,
              "version_major": 2
            },
            "text/plain": [
              "HBox(children=(FloatProgress(value=0.0, max=20.0), HTML(value='')))"
            ]
          },
          "metadata": {
            "tags": []
          }
        },
        {
          "output_type": "stream",
          "text": [
            "Epoch:1, Training loss: 13071.45, train acc: 0.9045, val loss: 2423.80, val acc: 0.8962, time: 182.07s\n",
            "Epoch:2, Training loss: 8247.54, train acc: 0.9165, val loss: 2006.83, val acc: 0.9056, time: 185.28s\n",
            "Epoch:3, Training loss: 6900.26, train acc: 0.9217, val loss: 1902.20, val acc: 0.9078, time: 186.86s\n",
            "Epoch:4, Training loss: 5841.83, train acc: 0.9296, val loss: 1737.31, val acc: 0.9145, time: 188.80s\n",
            "Epoch:5, Training loss: 5085.86, train acc: 0.9325, val loss: 1771.75, val acc: 0.9130, time: 191.65s\n",
            "Epoch:6, Training loss: 4519.02, train acc: 0.9390, val loss: 1663.30, val acc: 0.9182, time: 192.29s\n",
            "Epoch:7, Training loss: 3965.72, train acc: 0.9440, val loss: 1667.76, val acc: 0.9191, time: 190.57s\n",
            "Epoch:8, Training loss: 3688.51, train acc: 0.9466, val loss: 1718.79, val acc: 0.9201, time: 192.90s\n",
            "Epoch:9, Training loss: 3335.44, train acc: 0.9475, val loss: 1806.78, val acc: 0.9187, time: 194.62s\n",
            "Epoch:10, Training loss: 3018.24, train acc: 0.9489, val loss: 1845.70, val acc: 0.9190, time: 194.44s\n",
            "Epoch:11, Training loss: 2757.04, train acc: 0.9486, val loss: 1916.42, val acc: 0.9190, time: 192.19s\n",
            "Epoch:12, Training loss: 2453.06, train acc: 0.9515, val loss: 1972.12, val acc: 0.9190, time: 193.42s\n",
            "Epoch:13, Training loss: 2260.19, train acc: 0.9525, val loss: 1963.99, val acc: 0.9201, time: 191.96s\n",
            "Epoch:14, Training loss: 2073.92, train acc: 0.9514, val loss: 2266.00, val acc: 0.9166, time: 191.10s\n",
            "Epoch:15, Training loss: 1942.68, train acc: 0.9593, val loss: 2088.42, val acc: 0.9246, time: 189.55s\n",
            "Epoch:16, Training loss: 1774.58, train acc: 0.9594, val loss: 2095.27, val acc: 0.9228, time: 188.64s\n",
            "Epoch:17, Training loss: 1613.16, train acc: 0.9580, val loss: 2361.77, val acc: 0.9181, time: 189.64s\n",
            "Epoch:18, Training loss: 1478.99, train acc: 0.9591, val loss: 2468.95, val acc: 0.9190, time: 190.76s\n",
            "Epoch:19, Training loss: 1360.33, train acc: 0.9632, val loss: 2352.16, val acc: 0.9238, time: 190.60s\n",
            "Epoch:20, Training loss: 1257.38, train acc: 0.9621, val loss: 2485.04, val acc: 0.9206, time: 191.48s\n",
            "\n",
            "              precision    recall  f1-score   support\n",
            "\n",
            "       I-LOC     0.6399    0.9332    0.7592       419\n",
            "      I-MISC     0.7920    0.5294    0.6346       187\n",
            "       I-ORG     0.6481    0.1228    0.2065       285\n",
            "       I-PER     0.9821    0.7543    0.8533       875\n",
            "           O     0.9458    0.9955    0.9700      5790\n",
            "\n",
            "    accuracy                         0.9197      7556\n",
            "   macro avg     0.8016    0.6670    0.6847      7556\n",
            "weighted avg     0.9181    0.9197    0.9077      7556\n",
            "\n",
            "Saving to drive/My Drive/comp5046/Input Embedding=Word2Vec + TFIDF NER=Bi-LSTM CRF Layer=Single Attention=None.pdf\n",
            "====================================================================================================\n",
            "Start Experiment: Input Embedding=Word2Vec + POS-Tag + TFIDF NER=Bi-LSTM CRF Layer=Single Attention=None\n"
          ],
          "name": "stdout"
        },
        {
          "output_type": "display_data",
          "data": {
            "application/vnd.jupyter.widget-view+json": {
              "model_id": "5a037b1f50c54a76a8576ee63abe9504",
              "version_minor": 0,
              "version_major": 2
            },
            "text/plain": [
              "HBox(children=(FloatProgress(value=0.0, max=20.0), HTML(value='')))"
            ]
          },
          "metadata": {
            "tags": []
          }
        },
        {
          "output_type": "stream",
          "text": [
            "Epoch:1, Training loss: 12680.67, train acc: 0.9055, val loss: 2416.66, val acc: 0.8928, time: 191.94s\n",
            "Epoch:2, Training loss: 8383.95, train acc: 0.9154, val loss: 2071.72, val acc: 0.9038, time: 191.31s\n",
            "Epoch:3, Training loss: 7126.99, train acc: 0.9219, val loss: 1965.64, val acc: 0.9083, time: 193.06s\n",
            "Epoch:4, Training loss: 6236.17, train acc: 0.9294, val loss: 1725.64, val acc: 0.9170, time: 192.47s\n",
            "Epoch:5, Training loss: 5555.51, train acc: 0.9316, val loss: 1699.65, val acc: 0.9179, time: 193.28s\n",
            "Epoch:6, Training loss: 4949.74, train acc: 0.9364, val loss: 1583.59, val acc: 0.9246, time: 190.28s\n",
            "Epoch:7, Training loss: 4378.00, train acc: 0.9441, val loss: 1614.43, val acc: 0.9256, time: 193.23s\n",
            "Epoch:8, Training loss: 3889.20, train acc: 0.9496, val loss: 1626.79, val acc: 0.9280, time: 195.81s\n",
            "Epoch:9, Training loss: 3501.32, train acc: 0.9516, val loss: 1689.79, val acc: 0.9235, time: 192.70s\n",
            "Epoch:10, Training loss: 3129.21, train acc: 0.9532, val loss: 1704.90, val acc: 0.9279, time: 191.63s\n",
            "Epoch:11, Training loss: 2855.76, train acc: 0.9542, val loss: 1690.76, val acc: 0.9259, time: 185.81s\n",
            "Epoch:12, Training loss: 2536.15, train acc: 0.9573, val loss: 1748.33, val acc: 0.9264, time: 187.14s\n",
            "Epoch:13, Training loss: 2234.55, train acc: 0.9568, val loss: 1872.50, val acc: 0.9264, time: 191.29s\n",
            "Epoch:14, Training loss: 2036.34, train acc: 0.9580, val loss: 1929.62, val acc: 0.9273, time: 185.44s\n",
            "Epoch:15, Training loss: 1851.24, train acc: 0.9615, val loss: 1926.69, val acc: 0.9291, time: 186.84s\n",
            "Epoch:16, Training loss: 1708.98, train acc: 0.9640, val loss: 1897.92, val acc: 0.9277, time: 195.25s\n",
            "Epoch:17, Training loss: 1557.94, train acc: 0.9661, val loss: 1960.82, val acc: 0.9277, time: 188.98s\n",
            "Epoch:18, Training loss: 1401.57, train acc: 0.9662, val loss: 2052.22, val acc: 0.9296, time: 189.77s\n",
            "Epoch:19, Training loss: 1293.43, train acc: 0.9709, val loss: 2067.72, val acc: 0.9312, time: 194.99s\n",
            "Epoch:20, Training loss: 1159.40, train acc: 0.9716, val loss: 1997.67, val acc: 0.9322, time: 198.43s\n",
            "\n",
            "              precision    recall  f1-score   support\n",
            "\n",
            "       I-LOC     0.6950    0.9356    0.7976       419\n",
            "      I-MISC     0.7400    0.5936    0.6588       187\n",
            "       I-ORG     0.6667    0.1965    0.3035       285\n",
            "       I-PER     0.9513    0.8480    0.8967       875\n",
            "           O     0.9570    0.9881    0.9723      5790\n",
            "\n",
            "    accuracy                         0.9293      7556\n",
            "   macro avg     0.8020    0.7123    0.7258      7556\n",
            "weighted avg     0.9255    0.9293    0.9209      7556\n",
            "\n",
            "Saving to drive/My Drive/comp5046/Input Embedding=Word2Vec + POS-Tag + TFIDF NER=Bi-LSTM CRF Layer=Single Attention=None.pdf\n",
            "\n"
          ],
          "name": "stdout"
        },
        {
          "output_type": "display_data",
          "data": {
            "image/png": "[encoded data removed]",
            "text/plain": [
              "<Figure size 1080x432 with 2 Axes>"
            ]
          },
          "metadata": {
            "tags": [],
            "needs_background": "light"
          }
        },
        {
          "output_type": "display_data",
          "data": {
            "image/png": "[encoded data removed]",
            "text/plain": [
              "<Figure size 1080x432 with 2 Axes>"
            ]
          },
          "metadata": {
            "tags": [],
            "needs_background": "light"
          }
        },
        {
          "output_type": "display_data",
          "data": {
            "image/png": "[encoded data removed]",
            "text/plain": [
              "<Figure size 1080x432 with 2 Axes>"
            ]
          },
          "metadata": {
            "tags": [],
            "needs_background": "light"
          }
        },
        {
          "output_type": "display_data",
          "data": {
            "image/png": "[encoded data removed]",
            "text/plain": [
              "<Figure size 1080x432 with 2 Axes>"
            ]
          },
          "metadata": {
            "tags": [],
            "needs_background": "light"
          }
        }
      ]
    },
    {
      "cell_type": "code",
      "metadata": {
        "id": "DSOUWWJaS6S5",
        "colab_type": "code",
        "colab": {}
      },
      "source": [
        "import pickle\n",
        "\n",
        "# mount to my drive\n",
        "from google.colab import drive\n",
        "drive.mount('/content/drive')\n",
        "\n",
        "# save results\n",
        "input_embedding_file_name = f'drive/My Drive/input_embedding_exprs.pkl'\n",
        "print('Saving to', input_embedding_file_name)\n",
        "with open(input_embedding_file_name, 'w') as f:\n",
        "  pickle.dump(input_embedding_evaluation_results, f)"
      ],
      "execution_count": 0,
      "outputs": []
    }
  ]
}