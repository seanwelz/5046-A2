{
  "nbformat": 4,
  "nbformat_minor": 0,
  "metadata": {
    "kernelspec": {
      "display_name": "Python 3",
      "language": "python",
      "name": "python3"
    },
    "language_info": {
      "codemirror_mode": {
        "name": "ipython",
        "version": 3
      },
      "file_extension": ".py",
      "mimetype": "text/x-python",
      "name": "python",
      "nbconvert_exporter": "python",
      "pygments_lexer": "ipython3",
      "version": "3.7.3"
    },
    "colab": {
      "name": "Assignment2_xzho7240_xwan8513.ipynb",
      "provenance": [],
      "collapsed_sections": [],
      "toc_visible": true
    },
    "accelerator": "GPU",
    "widgets": {
      "application/vnd.jupyter.widget-state+json": {
        "2f2c2803eef64944bb96e653d352face": {
          "model_module": "@jupyter-widgets/controls",
          "model_name": "HBoxModel",
          "state": {
            "_view_name": "HBoxView",
            "_dom_classes": [],
            "_model_name": "HBoxModel",
            "_view_module": "@jupyter-widgets/controls",
            "_model_module_version": "1.5.0",
            "_view_count": null,
            "_view_module_version": "1.5.0",
            "box_style": "",
            "layout": "IPY_MODEL_1fe6a5a3333c4be9b53666e74da08b1e",
            "_model_module": "@jupyter-widgets/controls",
            "children": [
              "IPY_MODEL_ce184ae10ab244c3878cbc4271ba8a01",
              "IPY_MODEL_415d894a9c3247d68844d59e7cb1391b"
            ]
          }
        },
        "1fe6a5a3333c4be9b53666e74da08b1e": {
          "model_module": "@jupyter-widgets/base",
          "model_name": "LayoutModel",
          "state": {
            "_view_name": "LayoutView",
            "grid_template_rows": null,
            "right": null,
            "justify_content": null,
            "_view_module": "@jupyter-widgets/base",
            "overflow": null,
            "_model_module_version": "1.2.0",
            "_view_count": null,
            "flex_flow": null,
            "width": null,
            "min_width": null,
            "border": null,
            "align_items": null,
            "bottom": null,
            "_model_module": "@jupyter-widgets/base",
            "top": null,
            "grid_column": null,
            "overflow_y": null,
            "overflow_x": null,
            "grid_auto_flow": null,
            "grid_area": null,
            "grid_template_columns": null,
            "flex": null,
            "_model_name": "LayoutModel",
            "justify_items": null,
            "grid_row": null,
            "max_height": null,
            "align_content": null,
            "visibility": null,
            "align_self": null,
            "height": null,
            "min_height": null,
            "padding": null,
            "grid_auto_rows": null,
            "grid_gap": null,
            "max_width": null,
            "order": null,
            "_view_module_version": "1.2.0",
            "grid_template_areas": null,
            "object_position": null,
            "object_fit": null,
            "grid_auto_columns": null,
            "margin": null,
            "display": null,
            "left": null
          }
        },
        "ce184ae10ab244c3878cbc4271ba8a01": {
          "model_module": "@jupyter-widgets/controls",
          "model_name": "FloatProgressModel",
          "state": {
            "_view_name": "ProgressView",
            "style": "IPY_MODEL_fedc2eda064a4357bc4767c46e0b0a31",
            "_dom_classes": [],
            "description": "100%",
            "_model_name": "FloatProgressModel",
            "bar_style": "success",
            "max": 13972,
            "_view_module": "@jupyter-widgets/controls",
            "_model_module_version": "1.5.0",
            "value": 13972,
            "_view_count": null,
            "_view_module_version": "1.5.0",
            "orientation": "horizontal",
            "min": 0,
            "description_tooltip": null,
            "_model_module": "@jupyter-widgets/controls",
            "layout": "IPY_MODEL_a53dc3a473344fb5a2cbfe5cd45b7f44"
          }
        },
        "415d894a9c3247d68844d59e7cb1391b": {
          "model_module": "@jupyter-widgets/controls",
          "model_name": "HTMLModel",
          "state": {
            "_view_name": "HTMLView",
            "style": "IPY_MODEL_baa8ead4b7284f99979a601d216ee143",
            "_dom_classes": [],
            "description": "",
            "_model_name": "HTMLModel",
            "placeholder": "​",
            "_view_module": "@jupyter-widgets/controls",
            "_model_module_version": "1.5.0",
            "value": " 13972/13972 [00:00&lt;00:00, 125961.19it/s]",
            "_view_count": null,
            "_view_module_version": "1.5.0",
            "description_tooltip": null,
            "_model_module": "@jupyter-widgets/controls",
            "layout": "IPY_MODEL_110a03428cd34154a50ba29c0c6c4b36"
          }
        },
        "fedc2eda064a4357bc4767c46e0b0a31": {
          "model_module": "@jupyter-widgets/controls",
          "model_name": "ProgressStyleModel",
          "state": {
            "_view_name": "StyleView",
            "_model_name": "ProgressStyleModel",
            "description_width": "initial",
            "_view_module": "@jupyter-widgets/base",
            "_model_module_version": "1.5.0",
            "_view_count": null,
            "_view_module_version": "1.2.0",
            "bar_color": null,
            "_model_module": "@jupyter-widgets/controls"
          }
        },
        "a53dc3a473344fb5a2cbfe5cd45b7f44": {
          "model_module": "@jupyter-widgets/base",
          "model_name": "LayoutModel",
          "state": {
            "_view_name": "LayoutView",
            "grid_template_rows": null,
            "right": null,
            "justify_content": null,
            "_view_module": "@jupyter-widgets/base",
            "overflow": null,
            "_model_module_version": "1.2.0",
            "_view_count": null,
            "flex_flow": null,
            "width": null,
            "min_width": null,
            "border": null,
            "align_items": null,
            "bottom": null,
            "_model_module": "@jupyter-widgets/base",
            "top": null,
            "grid_column": null,
            "overflow_y": null,
            "overflow_x": null,
            "grid_auto_flow": null,
            "grid_area": null,
            "grid_template_columns": null,
            "flex": null,
            "_model_name": "LayoutModel",
            "justify_items": null,
            "grid_row": null,
            "max_height": null,
            "align_content": null,
            "visibility": null,
            "align_self": null,
            "height": null,
            "min_height": null,
            "padding": null,
            "grid_auto_rows": null,
            "grid_gap": null,
            "max_width": null,
            "order": null,
            "_view_module_version": "1.2.0",
            "grid_template_areas": null,
            "object_position": null,
            "object_fit": null,
            "grid_auto_columns": null,
            "margin": null,
            "display": null,
            "left": null
          }
        },
        "baa8ead4b7284f99979a601d216ee143": {
          "model_module": "@jupyter-widgets/controls",
          "model_name": "DescriptionStyleModel",
          "state": {
            "_view_name": "StyleView",
            "_model_name": "DescriptionStyleModel",
            "description_width": "",
            "_view_module": "@jupyter-widgets/base",
            "_model_module_version": "1.5.0",
            "_view_count": null,
            "_view_module_version": "1.2.0",
            "_model_module": "@jupyter-widgets/controls"
          }
        },
        "110a03428cd34154a50ba29c0c6c4b36": {
          "model_module": "@jupyter-widgets/base",
          "model_name": "LayoutModel",
          "state": {
            "_view_name": "LayoutView",
            "grid_template_rows": null,
            "right": null,
            "justify_content": null,
            "_view_module": "@jupyter-widgets/base",
            "overflow": null,
            "_model_module_version": "1.2.0",
            "_view_count": null,
            "flex_flow": null,
            "width": null,
            "min_width": null,
            "border": null,
            "align_items": null,
            "bottom": null,
            "_model_module": "@jupyter-widgets/base",
            "top": null,
            "grid_column": null,
            "overflow_y": null,
            "overflow_x": null,
            "grid_auto_flow": null,
            "grid_area": null,
            "grid_template_columns": null,
            "flex": null,
            "_model_name": "LayoutModel",
            "justify_items": null,
            "grid_row": null,
            "max_height": null,
            "align_content": null,
            "visibility": null,
            "align_self": null,
            "height": null,
            "min_height": null,
            "padding": null,
            "grid_auto_rows": null,
            "grid_gap": null,
            "max_width": null,
            "order": null,
            "_view_module_version": "1.2.0",
            "grid_template_areas": null,
            "object_position": null,
            "object_fit": null,
            "grid_auto_columns": null,
            "margin": null,
            "display": null,
            "left": null
          }
        },
        "5b85500f7f2b45d38c784479fe5f0701": {
          "model_module": "@jupyter-widgets/controls",
          "model_name": "HBoxModel",
          "state": {
            "_view_name": "HBoxView",
            "_dom_classes": [],
            "_model_name": "HBoxModel",
            "_view_module": "@jupyter-widgets/controls",
            "_model_module_version": "1.5.0",
            "_view_count": null,
            "_view_module_version": "1.5.0",
            "box_style": "",
            "layout": "IPY_MODEL_04f19724779342e889bf8ba9f0f2f59c",
            "_model_module": "@jupyter-widgets/controls",
            "children": [
              "IPY_MODEL_795a4785c5214537baa8d462860dd068",
              "IPY_MODEL_2aa59a4cd5344cf1a93081c7b731b5e9"
            ]
          }
        },
        "04f19724779342e889bf8ba9f0f2f59c": {
          "model_module": "@jupyter-widgets/base",
          "model_name": "LayoutModel",
          "state": {
            "_view_name": "LayoutView",
            "grid_template_rows": null,
            "right": null,
            "justify_content": null,
            "_view_module": "@jupyter-widgets/base",
            "overflow": null,
            "_model_module_version": "1.2.0",
            "_view_count": null,
            "flex_flow": null,
            "width": null,
            "min_width": null,
            "border": null,
            "align_items": null,
            "bottom": null,
            "_model_module": "@jupyter-widgets/base",
            "top": null,
            "grid_column": null,
            "overflow_y": null,
            "overflow_x": null,
            "grid_auto_flow": null,
            "grid_area": null,
            "grid_template_columns": null,
            "flex": null,
            "_model_name": "LayoutModel",
            "justify_items": null,
            "grid_row": null,
            "max_height": null,
            "align_content": null,
            "visibility": null,
            "align_self": null,
            "height": null,
            "min_height": null,
            "padding": null,
            "grid_auto_rows": null,
            "grid_gap": null,
            "max_width": null,
            "order": null,
            "_view_module_version": "1.2.0",
            "grid_template_areas": null,
            "object_position": null,
            "object_fit": null,
            "grid_auto_columns": null,
            "margin": null,
            "display": null,
            "left": null
          }
        },
        "795a4785c5214537baa8d462860dd068": {
          "model_module": "@jupyter-widgets/controls",
          "model_name": "FloatProgressModel",
          "state": {
            "_view_name": "ProgressView",
            "style": "IPY_MODEL_ae73205e6d1b43ae8282c4ca8052c1d5",
            "_dom_classes": [],
            "description": "100%",
            "_model_name": "FloatProgressModel",
            "bar_style": "success",
            "max": 13972,
            "_view_module": "@jupyter-widgets/controls",
            "_model_module_version": "1.5.0",
            "value": 13972,
            "_view_count": null,
            "_view_module_version": "1.5.0",
            "orientation": "horizontal",
            "min": 0,
            "description_tooltip": null,
            "_model_module": "@jupyter-widgets/controls",
            "layout": "IPY_MODEL_a0d3b58ed7aa47e89328ef4107a863b4"
          }
        },
        "2aa59a4cd5344cf1a93081c7b731b5e9": {
          "model_module": "@jupyter-widgets/controls",
          "model_name": "HTMLModel",
          "state": {
            "_view_name": "HTMLView",
            "style": "IPY_MODEL_356b1e94577842e2949e86d7384a97bd",
            "_dom_classes": [],
            "description": "",
            "_model_name": "HTMLModel",
            "placeholder": "​",
            "_view_module": "@jupyter-widgets/controls",
            "_model_module_version": "1.5.0",
            "value": " 13972/13972 [00:05&lt;00:00, 2475.27it/s]",
            "_view_count": null,
            "_view_module_version": "1.5.0",
            "description_tooltip": null,
            "_model_module": "@jupyter-widgets/controls",
            "layout": "IPY_MODEL_115bb8e388ed46558a07effd4fae179b"
          }
        },
        "ae73205e6d1b43ae8282c4ca8052c1d5": {
          "model_module": "@jupyter-widgets/controls",
          "model_name": "ProgressStyleModel",
          "state": {
            "_view_name": "StyleView",
            "_model_name": "ProgressStyleModel",
            "description_width": "initial",
            "_view_module": "@jupyter-widgets/base",
            "_model_module_version": "1.5.0",
            "_view_count": null,
            "_view_module_version": "1.2.0",
            "bar_color": null,
            "_model_module": "@jupyter-widgets/controls"
          }
        },
        "a0d3b58ed7aa47e89328ef4107a863b4": {
          "model_module": "@jupyter-widgets/base",
          "model_name": "LayoutModel",
          "state": {
            "_view_name": "LayoutView",
            "grid_template_rows": null,
            "right": null,
            "justify_content": null,
            "_view_module": "@jupyter-widgets/base",
            "overflow": null,
            "_model_module_version": "1.2.0",
            "_view_count": null,
            "flex_flow": null,
            "width": null,
            "min_width": null,
            "border": null,
            "align_items": null,
            "bottom": null,
            "_model_module": "@jupyter-widgets/base",
            "top": null,
            "grid_column": null,
            "overflow_y": null,
            "overflow_x": null,
            "grid_auto_flow": null,
            "grid_area": null,
            "grid_template_columns": null,
            "flex": null,
            "_model_name": "LayoutModel",
            "justify_items": null,
            "grid_row": null,
            "max_height": null,
            "align_content": null,
            "visibility": null,
            "align_self": null,
            "height": null,
            "min_height": null,
            "padding": null,
            "grid_auto_rows": null,
            "grid_gap": null,
            "max_width": null,
            "order": null,
            "_view_module_version": "1.2.0",
            "grid_template_areas": null,
            "object_position": null,
            "object_fit": null,
            "grid_auto_columns": null,
            "margin": null,
            "display": null,
            "left": null
          }
        },
        "356b1e94577842e2949e86d7384a97bd": {
          "model_module": "@jupyter-widgets/controls",
          "model_name": "DescriptionStyleModel",
          "state": {
            "_view_name": "StyleView",
            "_model_name": "DescriptionStyleModel",
            "description_width": "",
            "_view_module": "@jupyter-widgets/base",
            "_model_module_version": "1.5.0",
            "_view_count": null,
            "_view_module_version": "1.2.0",
            "_model_module": "@jupyter-widgets/controls"
          }
        },
        "115bb8e388ed46558a07effd4fae179b": {
          "model_module": "@jupyter-widgets/base",
          "model_name": "LayoutModel",
          "state": {
            "_view_name": "LayoutView",
            "grid_template_rows": null,
            "right": null,
            "justify_content": null,
            "_view_module": "@jupyter-widgets/base",
            "overflow": null,
            "_model_module_version": "1.2.0",
            "_view_count": null,
            "flex_flow": null,
            "width": null,
            "min_width": null,
            "border": null,
            "align_items": null,
            "bottom": null,
            "_model_module": "@jupyter-widgets/base",
            "top": null,
            "grid_column": null,
            "overflow_y": null,
            "overflow_x": null,
            "grid_auto_flow": null,
            "grid_area": null,
            "grid_template_columns": null,
            "flex": null,
            "_model_name": "LayoutModel",
            "justify_items": null,
            "grid_row": null,
            "max_height": null,
            "align_content": null,
            "visibility": null,
            "align_self": null,
            "height": null,
            "min_height": null,
            "padding": null,
            "grid_auto_rows": null,
            "grid_gap": null,
            "max_width": null,
            "order": null,
            "_view_module_version": "1.2.0",
            "grid_template_areas": null,
            "object_position": null,
            "object_fit": null,
            "grid_auto_columns": null,
            "margin": null,
            "display": null,
            "left": null
          }
        },
        "1686d2c704174515b4b94fdfa4f969d1": {
          "model_module": "@jupyter-widgets/controls",
          "model_name": "HBoxModel",
          "state": {
            "_view_name": "HBoxView",
            "_dom_classes": [],
            "_model_name": "HBoxModel",
            "_view_module": "@jupyter-widgets/controls",
            "_model_module_version": "1.5.0",
            "_view_count": null,
            "_view_module_version": "1.5.0",
            "box_style": "",
            "layout": "IPY_MODEL_326a60baffff49408c7b5a6cde80588d",
            "_model_module": "@jupyter-widgets/controls",
            "children": [
              "IPY_MODEL_f24beac2258541789d7778c2e70cf6ab",
              "IPY_MODEL_30f1ef328dba4af7848e550539c60659"
            ]
          }
        },
        "326a60baffff49408c7b5a6cde80588d": {
          "model_module": "@jupyter-widgets/base",
          "model_name": "LayoutModel",
          "state": {
            "_view_name": "LayoutView",
            "grid_template_rows": null,
            "right": null,
            "justify_content": null,
            "_view_module": "@jupyter-widgets/base",
            "overflow": null,
            "_model_module_version": "1.2.0",
            "_view_count": null,
            "flex_flow": null,
            "width": null,
            "min_width": null,
            "border": null,
            "align_items": null,
            "bottom": null,
            "_model_module": "@jupyter-widgets/base",
            "top": null,
            "grid_column": null,
            "overflow_y": null,
            "overflow_x": null,
            "grid_auto_flow": null,
            "grid_area": null,
            "grid_template_columns": null,
            "flex": null,
            "_model_name": "LayoutModel",
            "justify_items": null,
            "grid_row": null,
            "max_height": null,
            "align_content": null,
            "visibility": null,
            "align_self": null,
            "height": null,
            "min_height": null,
            "padding": null,
            "grid_auto_rows": null,
            "grid_gap": null,
            "max_width": null,
            "order": null,
            "_view_module_version": "1.2.0",
            "grid_template_areas": null,
            "object_position": null,
            "object_fit": null,
            "grid_auto_columns": null,
            "margin": null,
            "display": null,
            "left": null
          }
        },
        "f24beac2258541789d7778c2e70cf6ab": {
          "model_module": "@jupyter-widgets/controls",
          "model_name": "FloatProgressModel",
          "state": {
            "_view_name": "ProgressView",
            "style": "IPY_MODEL_98398849ed5e427e87ec0c4803fa1dc9",
            "_dom_classes": [],
            "description": "100%",
            "_model_name": "FloatProgressModel",
            "bar_style": "success",
            "max": 13972,
            "_view_module": "@jupyter-widgets/controls",
            "_model_module_version": "1.5.0",
            "value": 13972,
            "_view_count": null,
            "_view_module_version": "1.5.0",
            "orientation": "horizontal",
            "min": 0,
            "description_tooltip": null,
            "_model_module": "@jupyter-widgets/controls",
            "layout": "IPY_MODEL_af7d7a0158584b9f93471bdb8950fa79"
          }
        },
        "30f1ef328dba4af7848e550539c60659": {
          "model_module": "@jupyter-widgets/controls",
          "model_name": "HTMLModel",
          "state": {
            "_view_name": "HTMLView",
            "style": "IPY_MODEL_114d91f3626941ada3c509840f4e92aa",
            "_dom_classes": [],
            "description": "",
            "_model_name": "HTMLModel",
            "placeholder": "​",
            "_view_module": "@jupyter-widgets/controls",
            "_model_module_version": "1.5.0",
            "value": " 13972/13972 [00:05&lt;00:00, 2408.13it/s]",
            "_view_count": null,
            "_view_module_version": "1.5.0",
            "description_tooltip": null,
            "_model_module": "@jupyter-widgets/controls",
            "layout": "IPY_MODEL_ff7c934621f54540abbe38e5bb8db21c"
          }
        },
        "98398849ed5e427e87ec0c4803fa1dc9": {
          "model_module": "@jupyter-widgets/controls",
          "model_name": "ProgressStyleModel",
          "state": {
            "_view_name": "StyleView",
            "_model_name": "ProgressStyleModel",
            "description_width": "initial",
            "_view_module": "@jupyter-widgets/base",
            "_model_module_version": "1.5.0",
            "_view_count": null,
            "_view_module_version": "1.2.0",
            "bar_color": null,
            "_model_module": "@jupyter-widgets/controls"
          }
        },
        "af7d7a0158584b9f93471bdb8950fa79": {
          "model_module": "@jupyter-widgets/base",
          "model_name": "LayoutModel",
          "state": {
            "_view_name": "LayoutView",
            "grid_template_rows": null,
            "right": null,
            "justify_content": null,
            "_view_module": "@jupyter-widgets/base",
            "overflow": null,
            "_model_module_version": "1.2.0",
            "_view_count": null,
            "flex_flow": null,
            "width": null,
            "min_width": null,
            "border": null,
            "align_items": null,
            "bottom": null,
            "_model_module": "@jupyter-widgets/base",
            "top": null,
            "grid_column": null,
            "overflow_y": null,
            "overflow_x": null,
            "grid_auto_flow": null,
            "grid_area": null,
            "grid_template_columns": null,
            "flex": null,
            "_model_name": "LayoutModel",
            "justify_items": null,
            "grid_row": null,
            "max_height": null,
            "align_content": null,
            "visibility": null,
            "align_self": null,
            "height": null,
            "min_height": null,
            "padding": null,
            "grid_auto_rows": null,
            "grid_gap": null,
            "max_width": null,
            "order": null,
            "_view_module_version": "1.2.0",
            "grid_template_areas": null,
            "object_position": null,
            "object_fit": null,
            "grid_auto_columns": null,
            "margin": null,
            "display": null,
            "left": null
          }
        },
        "114d91f3626941ada3c509840f4e92aa": {
          "model_module": "@jupyter-widgets/controls",
          "model_name": "DescriptionStyleModel",
          "state": {
            "_view_name": "StyleView",
            "_model_name": "DescriptionStyleModel",
            "description_width": "",
            "_view_module": "@jupyter-widgets/base",
            "_model_module_version": "1.5.0",
            "_view_count": null,
            "_view_module_version": "1.2.0",
            "_model_module": "@jupyter-widgets/controls"
          }
        },
        "ff7c934621f54540abbe38e5bb8db21c": {
          "model_module": "@jupyter-widgets/base",
          "model_name": "LayoutModel",
          "state": {
            "_view_name": "LayoutView",
            "grid_template_rows": null,
            "right": null,
            "justify_content": null,
            "_view_module": "@jupyter-widgets/base",
            "overflow": null,
            "_model_module_version": "1.2.0",
            "_view_count": null,
            "flex_flow": null,
            "width": null,
            "min_width": null,
            "border": null,
            "align_items": null,
            "bottom": null,
            "_model_module": "@jupyter-widgets/base",
            "top": null,
            "grid_column": null,
            "overflow_y": null,
            "overflow_x": null,
            "grid_auto_flow": null,
            "grid_area": null,
            "grid_template_columns": null,
            "flex": null,
            "_model_name": "LayoutModel",
            "justify_items": null,
            "grid_row": null,
            "max_height": null,
            "align_content": null,
            "visibility": null,
            "align_self": null,
            "height": null,
            "min_height": null,
            "padding": null,
            "grid_auto_rows": null,
            "grid_gap": null,
            "max_width": null,
            "order": null,
            "_view_module_version": "1.2.0",
            "grid_template_areas": null,
            "object_position": null,
            "object_fit": null,
            "grid_auto_columns": null,
            "margin": null,
            "display": null,
            "left": null
          }
        },
        "939b0b2d70c541088ab013c40f049762": {
          "model_module": "@jupyter-widgets/controls",
          "model_name": "HBoxModel",
          "state": {
            "_view_name": "HBoxView",
            "_dom_classes": [],
            "_model_name": "HBoxModel",
            "_view_module": "@jupyter-widgets/controls",
            "_model_module_version": "1.5.0",
            "_view_count": null,
            "_view_module_version": "1.5.0",
            "box_style": "",
            "layout": "IPY_MODEL_d45e14b6466247dcb20dbfe3bef46d50",
            "_model_module": "@jupyter-widgets/controls",
            "children": [
              "IPY_MODEL_f694cf1ac4454e2fa9cd4b94fd5531c0",
              "IPY_MODEL_31573746f2e54d95823fa3cbfc152cf6"
            ]
          }
        },
        "d45e14b6466247dcb20dbfe3bef46d50": {
          "model_module": "@jupyter-widgets/base",
          "model_name": "LayoutModel",
          "state": {
            "_view_name": "LayoutView",
            "grid_template_rows": null,
            "right": null,
            "justify_content": null,
            "_view_module": "@jupyter-widgets/base",
            "overflow": null,
            "_model_module_version": "1.2.0",
            "_view_count": null,
            "flex_flow": null,
            "width": null,
            "min_width": null,
            "border": null,
            "align_items": null,
            "bottom": null,
            "_model_module": "@jupyter-widgets/base",
            "top": null,
            "grid_column": null,
            "overflow_y": null,
            "overflow_x": null,
            "grid_auto_flow": null,
            "grid_area": null,
            "grid_template_columns": null,
            "flex": null,
            "_model_name": "LayoutModel",
            "justify_items": null,
            "grid_row": null,
            "max_height": null,
            "align_content": null,
            "visibility": null,
            "align_self": null,
            "height": null,
            "min_height": null,
            "padding": null,
            "grid_auto_rows": null,
            "grid_gap": null,
            "max_width": null,
            "order": null,
            "_view_module_version": "1.2.0",
            "grid_template_areas": null,
            "object_position": null,
            "object_fit": null,
            "grid_auto_columns": null,
            "margin": null,
            "display": null,
            "left": null
          }
        },
        "f694cf1ac4454e2fa9cd4b94fd5531c0": {
          "model_module": "@jupyter-widgets/controls",
          "model_name": "FloatProgressModel",
          "state": {
            "_view_name": "ProgressView",
            "style": "IPY_MODEL_82812e8589d348b098baeefec47eeab4",
            "_dom_classes": [],
            "description": "100%",
            "_model_name": "FloatProgressModel",
            "bar_style": "success",
            "max": 13972,
            "_view_module": "@jupyter-widgets/controls",
            "_model_module_version": "1.5.0",
            "value": 13972,
            "_view_count": null,
            "_view_module_version": "1.5.0",
            "orientation": "horizontal",
            "min": 0,
            "description_tooltip": null,
            "_model_module": "@jupyter-widgets/controls",
            "layout": "IPY_MODEL_a6060b265535414681db80c9c5ccbf4c"
          }
        },
        "31573746f2e54d95823fa3cbfc152cf6": {
          "model_module": "@jupyter-widgets/controls",
          "model_name": "HTMLModel",
          "state": {
            "_view_name": "HTMLView",
            "style": "IPY_MODEL_439745e42374488f9fd158372495555e",
            "_dom_classes": [],
            "description": "",
            "_model_name": "HTMLModel",
            "placeholder": "​",
            "_view_module": "@jupyter-widgets/controls",
            "_model_module_version": "1.5.0",
            "value": " 13972/13972 [00:00&lt;00:00, 252313.40it/s]",
            "_view_count": null,
            "_view_module_version": "1.5.0",
            "description_tooltip": null,
            "_model_module": "@jupyter-widgets/controls",
            "layout": "IPY_MODEL_9864fe40eed94a588938349096a9b083"
          }
        },
        "82812e8589d348b098baeefec47eeab4": {
          "model_module": "@jupyter-widgets/controls",
          "model_name": "ProgressStyleModel",
          "state": {
            "_view_name": "StyleView",
            "_model_name": "ProgressStyleModel",
            "description_width": "initial",
            "_view_module": "@jupyter-widgets/base",
            "_model_module_version": "1.5.0",
            "_view_count": null,
            "_view_module_version": "1.2.0",
            "bar_color": null,
            "_model_module": "@jupyter-widgets/controls"
          }
        },
        "a6060b265535414681db80c9c5ccbf4c": {
          "model_module": "@jupyter-widgets/base",
          "model_name": "LayoutModel",
          "state": {
            "_view_name": "LayoutView",
            "grid_template_rows": null,
            "right": null,
            "justify_content": null,
            "_view_module": "@jupyter-widgets/base",
            "overflow": null,
            "_model_module_version": "1.2.0",
            "_view_count": null,
            "flex_flow": null,
            "width": null,
            "min_width": null,
            "border": null,
            "align_items": null,
            "bottom": null,
            "_model_module": "@jupyter-widgets/base",
            "top": null,
            "grid_column": null,
            "overflow_y": null,
            "overflow_x": null,
            "grid_auto_flow": null,
            "grid_area": null,
            "grid_template_columns": null,
            "flex": null,
            "_model_name": "LayoutModel",
            "justify_items": null,
            "grid_row": null,
            "max_height": null,
            "align_content": null,
            "visibility": null,
            "align_self": null,
            "height": null,
            "min_height": null,
            "padding": null,
            "grid_auto_rows": null,
            "grid_gap": null,
            "max_width": null,
            "order": null,
            "_view_module_version": "1.2.0",
            "grid_template_areas": null,
            "object_position": null,
            "object_fit": null,
            "grid_auto_columns": null,
            "margin": null,
            "display": null,
            "left": null
          }
        },
        "439745e42374488f9fd158372495555e": {
          "model_module": "@jupyter-widgets/controls",
          "model_name": "DescriptionStyleModel",
          "state": {
            "_view_name": "StyleView",
            "_model_name": "DescriptionStyleModel",
            "description_width": "",
            "_view_module": "@jupyter-widgets/base",
            "_model_module_version": "1.5.0",
            "_view_count": null,
            "_view_module_version": "1.2.0",
            "_model_module": "@jupyter-widgets/controls"
          }
        },
        "9864fe40eed94a588938349096a9b083": {
          "model_module": "@jupyter-widgets/base",
          "model_name": "LayoutModel",
          "state": {
            "_view_name": "LayoutView",
            "grid_template_rows": null,
            "right": null,
            "justify_content": null,
            "_view_module": "@jupyter-widgets/base",
            "overflow": null,
            "_model_module_version": "1.2.0",
            "_view_count": null,
            "flex_flow": null,
            "width": null,
            "min_width": null,
            "border": null,
            "align_items": null,
            "bottom": null,
            "_model_module": "@jupyter-widgets/base",
            "top": null,
            "grid_column": null,
            "overflow_y": null,
            "overflow_x": null,
            "grid_auto_flow": null,
            "grid_area": null,
            "grid_template_columns": null,
            "flex": null,
            "_model_name": "LayoutModel",
            "justify_items": null,
            "grid_row": null,
            "max_height": null,
            "align_content": null,
            "visibility": null,
            "align_self": null,
            "height": null,
            "min_height": null,
            "padding": null,
            "grid_auto_rows": null,
            "grid_gap": null,
            "max_width": null,
            "order": null,
            "_view_module_version": "1.2.0",
            "grid_template_areas": null,
            "object_position": null,
            "object_fit": null,
            "grid_auto_columns": null,
            "margin": null,
            "display": null,
            "left": null
          }
        },
        "657894a47a1e4641873323c2d97e1376": {
          "model_module": "@jupyter-widgets/controls",
          "model_name": "HBoxModel",
          "state": {
            "_view_name": "HBoxView",
            "_dom_classes": [],
            "_model_name": "HBoxModel",
            "_view_module": "@jupyter-widgets/controls",
            "_model_module_version": "1.5.0",
            "_view_count": null,
            "_view_module_version": "1.5.0",
            "box_style": "",
            "layout": "IPY_MODEL_745caed0eb7b4c5ab7af0fab1ceec132",
            "_model_module": "@jupyter-widgets/controls",
            "children": [
              "IPY_MODEL_fbeed76599ad463b86b3af50f3c36ac8",
              "IPY_MODEL_fa63b99db865476a8157b7a39d64dd3e"
            ]
          }
        },
        "745caed0eb7b4c5ab7af0fab1ceec132": {
          "model_module": "@jupyter-widgets/base",
          "model_name": "LayoutModel",
          "state": {
            "_view_name": "LayoutView",
            "grid_template_rows": null,
            "right": null,
            "justify_content": null,
            "_view_module": "@jupyter-widgets/base",
            "overflow": null,
            "_model_module_version": "1.2.0",
            "_view_count": null,
            "flex_flow": null,
            "width": null,
            "min_width": null,
            "border": null,
            "align_items": null,
            "bottom": null,
            "_model_module": "@jupyter-widgets/base",
            "top": null,
            "grid_column": null,
            "overflow_y": null,
            "overflow_x": null,
            "grid_auto_flow": null,
            "grid_area": null,
            "grid_template_columns": null,
            "flex": null,
            "_model_name": "LayoutModel",
            "justify_items": null,
            "grid_row": null,
            "max_height": null,
            "align_content": null,
            "visibility": null,
            "align_self": null,
            "height": null,
            "min_height": null,
            "padding": null,
            "grid_auto_rows": null,
            "grid_gap": null,
            "max_width": null,
            "order": null,
            "_view_module_version": "1.2.0",
            "grid_template_areas": null,
            "object_position": null,
            "object_fit": null,
            "grid_auto_columns": null,
            "margin": null,
            "display": null,
            "left": null
          }
        },
        "fbeed76599ad463b86b3af50f3c36ac8": {
          "model_module": "@jupyter-widgets/controls",
          "model_name": "FloatProgressModel",
          "state": {
            "_view_name": "ProgressView",
            "style": "IPY_MODEL_30bda7f4d4c54ac4a0bbe0a2271efdc5",
            "_dom_classes": [],
            "description": "100%",
            "_model_name": "FloatProgressModel",
            "bar_style": "success",
            "max": 4,
            "_view_module": "@jupyter-widgets/controls",
            "_model_module_version": "1.5.0",
            "value": 4,
            "_view_count": null,
            "_view_module_version": "1.5.0",
            "orientation": "horizontal",
            "min": 0,
            "description_tooltip": null,
            "_model_module": "@jupyter-widgets/controls",
            "layout": "IPY_MODEL_ec3adfb2818d49839e96d270bb485a6a"
          }
        },
        "fa63b99db865476a8157b7a39d64dd3e": {
          "model_module": "@jupyter-widgets/controls",
          "model_name": "HTMLModel",
          "state": {
            "_view_name": "HTMLView",
            "style": "IPY_MODEL_6b5c04e4ec264574be7d68fc5f282e0c",
            "_dom_classes": [],
            "description": "",
            "_model_name": "HTMLModel",
            "placeholder": "​",
            "_view_module": "@jupyter-widgets/controls",
            "_model_module_version": "1.5.0",
            "value": " 4/4 [4:07:01&lt;00:00, 3705.36s/it]",
            "_view_count": null,
            "_view_module_version": "1.5.0",
            "description_tooltip": null,
            "_model_module": "@jupyter-widgets/controls",
            "layout": "IPY_MODEL_73bb8c3db9f04cd58d0f0d2aea217136"
          }
        },
        "30bda7f4d4c54ac4a0bbe0a2271efdc5": {
          "model_module": "@jupyter-widgets/controls",
          "model_name": "ProgressStyleModel",
          "state": {
            "_view_name": "StyleView",
            "_model_name": "ProgressStyleModel",
            "description_width": "initial",
            "_view_module": "@jupyter-widgets/base",
            "_model_module_version": "1.5.0",
            "_view_count": null,
            "_view_module_version": "1.2.0",
            "bar_color": null,
            "_model_module": "@jupyter-widgets/controls"
          }
        },
        "ec3adfb2818d49839e96d270bb485a6a": {
          "model_module": "@jupyter-widgets/base",
          "model_name": "LayoutModel",
          "state": {
            "_view_name": "LayoutView",
            "grid_template_rows": null,
            "right": null,
            "justify_content": null,
            "_view_module": "@jupyter-widgets/base",
            "overflow": null,
            "_model_module_version": "1.2.0",
            "_view_count": null,
            "flex_flow": null,
            "width": null,
            "min_width": null,
            "border": null,
            "align_items": null,
            "bottom": null,
            "_model_module": "@jupyter-widgets/base",
            "top": null,
            "grid_column": null,
            "overflow_y": null,
            "overflow_x": null,
            "grid_auto_flow": null,
            "grid_area": null,
            "grid_template_columns": null,
            "flex": null,
            "_model_name": "LayoutModel",
            "justify_items": null,
            "grid_row": null,
            "max_height": null,
            "align_content": null,
            "visibility": null,
            "align_self": null,
            "height": null,
            "min_height": null,
            "padding": null,
            "grid_auto_rows": null,
            "grid_gap": null,
            "max_width": null,
            "order": null,
            "_view_module_version": "1.2.0",
            "grid_template_areas": null,
            "object_position": null,
            "object_fit": null,
            "grid_auto_columns": null,
            "margin": null,
            "display": null,
            "left": null
          }
        },
        "6b5c04e4ec264574be7d68fc5f282e0c": {
          "model_module": "@jupyter-widgets/controls",
          "model_name": "DescriptionStyleModel",
          "state": {
            "_view_name": "StyleView",
            "_model_name": "DescriptionStyleModel",
            "description_width": "",
            "_view_module": "@jupyter-widgets/base",
            "_model_module_version": "1.5.0",
            "_view_count": null,
            "_view_module_version": "1.2.0",
            "_model_module": "@jupyter-widgets/controls"
          }
        },
        "73bb8c3db9f04cd58d0f0d2aea217136": {
          "model_module": "@jupyter-widgets/base",
          "model_name": "LayoutModel",
          "state": {
            "_view_name": "LayoutView",
            "grid_template_rows": null,
            "right": null,
            "justify_content": null,
            "_view_module": "@jupyter-widgets/base",
            "overflow": null,
            "_model_module_version": "1.2.0",
            "_view_count": null,
            "flex_flow": null,
            "width": null,
            "min_width": null,
            "border": null,
            "align_items": null,
            "bottom": null,
            "_model_module": "@jupyter-widgets/base",
            "top": null,
            "grid_column": null,
            "overflow_y": null,
            "overflow_x": null,
            "grid_auto_flow": null,
            "grid_area": null,
            "grid_template_columns": null,
            "flex": null,
            "_model_name": "LayoutModel",
            "justify_items": null,
            "grid_row": null,
            "max_height": null,
            "align_content": null,
            "visibility": null,
            "align_self": null,
            "height": null,
            "min_height": null,
            "padding": null,
            "grid_auto_rows": null,
            "grid_gap": null,
            "max_width": null,
            "order": null,
            "_view_module_version": "1.2.0",
            "grid_template_areas": null,
            "object_position": null,
            "object_fit": null,
            "grid_auto_columns": null,
            "margin": null,
            "display": null,
            "left": null
          }
        },
        "91ec92053e8b4c168ccabb9a315daeba": {
          "model_module": "@jupyter-widgets/controls",
          "model_name": "HBoxModel",
          "state": {
            "_view_name": "HBoxView",
            "_dom_classes": [],
            "_model_name": "HBoxModel",
            "_view_module": "@jupyter-widgets/controls",
            "_model_module_version": "1.5.0",
            "_view_count": null,
            "_view_module_version": "1.5.0",
            "box_style": "",
            "layout": "IPY_MODEL_d4a8ad3b630e488caacb088484b4eb9f",
            "_model_module": "@jupyter-widgets/controls",
            "children": [
              "IPY_MODEL_94a5c83d5d584e1e8520f57775446d72",
              "IPY_MODEL_913df2102dfe438681aa9363fad24669"
            ]
          }
        },
        "d4a8ad3b630e488caacb088484b4eb9f": {
          "model_module": "@jupyter-widgets/base",
          "model_name": "LayoutModel",
          "state": {
            "_view_name": "LayoutView",
            "grid_template_rows": null,
            "right": null,
            "justify_content": null,
            "_view_module": "@jupyter-widgets/base",
            "overflow": null,
            "_model_module_version": "1.2.0",
            "_view_count": null,
            "flex_flow": null,
            "width": null,
            "min_width": null,
            "border": null,
            "align_items": null,
            "bottom": null,
            "_model_module": "@jupyter-widgets/base",
            "top": null,
            "grid_column": null,
            "overflow_y": null,
            "overflow_x": null,
            "grid_auto_flow": null,
            "grid_area": null,
            "grid_template_columns": null,
            "flex": null,
            "_model_name": "LayoutModel",
            "justify_items": null,
            "grid_row": null,
            "max_height": null,
            "align_content": null,
            "visibility": null,
            "align_self": null,
            "height": null,
            "min_height": null,
            "padding": null,
            "grid_auto_rows": null,
            "grid_gap": null,
            "max_width": null,
            "order": null,
            "_view_module_version": "1.2.0",
            "grid_template_areas": null,
            "object_position": null,
            "object_fit": null,
            "grid_auto_columns": null,
            "margin": null,
            "display": null,
            "left": null
          }
        },
        "94a5c83d5d584e1e8520f57775446d72": {
          "model_module": "@jupyter-widgets/controls",
          "model_name": "FloatProgressModel",
          "state": {
            "_view_name": "ProgressView",
            "style": "IPY_MODEL_1bbccb32a86e42518b2b7e6a7dde9502",
            "_dom_classes": [],
            "description": "100%",
            "_model_name": "FloatProgressModel",
            "bar_style": "success",
            "max": 20,
            "_view_module": "@jupyter-widgets/controls",
            "_model_module_version": "1.5.0",
            "value": 20,
            "_view_count": null,
            "_view_module_version": "1.5.0",
            "orientation": "horizontal",
            "min": 0,
            "description_tooltip": null,
            "_model_module": "@jupyter-widgets/controls",
            "layout": "IPY_MODEL_157616684cd44942892cc5b1b3499090"
          }
        },
        "913df2102dfe438681aa9363fad24669": {
          "model_module": "@jupyter-widgets/controls",
          "model_name": "HTMLModel",
          "state": {
            "_view_name": "HTMLView",
            "style": "IPY_MODEL_8ab8b8399e15448994f787405054121e",
            "_dom_classes": [],
            "description": "",
            "_model_name": "HTMLModel",
            "placeholder": "​",
            "_view_module": "@jupyter-widgets/controls",
            "_model_module_version": "1.5.0",
            "value": " 20/20 [1:01:32&lt;00:00, 184.63s/it]",
            "_view_count": null,
            "_view_module_version": "1.5.0",
            "description_tooltip": null,
            "_model_module": "@jupyter-widgets/controls",
            "layout": "IPY_MODEL_b974d2dac9f04289b7dabb0c92c22e2c"
          }
        },
        "1bbccb32a86e42518b2b7e6a7dde9502": {
          "model_module": "@jupyter-widgets/controls",
          "model_name": "ProgressStyleModel",
          "state": {
            "_view_name": "StyleView",
            "_model_name": "ProgressStyleModel",
            "description_width": "initial",
            "_view_module": "@jupyter-widgets/base",
            "_model_module_version": "1.5.0",
            "_view_count": null,
            "_view_module_version": "1.2.0",
            "bar_color": null,
            "_model_module": "@jupyter-widgets/controls"
          }
        },
        "157616684cd44942892cc5b1b3499090": {
          "model_module": "@jupyter-widgets/base",
          "model_name": "LayoutModel",
          "state": {
            "_view_name": "LayoutView",
            "grid_template_rows": null,
            "right": null,
            "justify_content": null,
            "_view_module": "@jupyter-widgets/base",
            "overflow": null,
            "_model_module_version": "1.2.0",
            "_view_count": null,
            "flex_flow": null,
            "width": null,
            "min_width": null,
            "border": null,
            "align_items": null,
            "bottom": null,
            "_model_module": "@jupyter-widgets/base",
            "top": null,
            "grid_column": null,
            "overflow_y": null,
            "overflow_x": null,
            "grid_auto_flow": null,
            "grid_area": null,
            "grid_template_columns": null,
            "flex": null,
            "_model_name": "LayoutModel",
            "justify_items": null,
            "grid_row": null,
            "max_height": null,
            "align_content": null,
            "visibility": null,
            "align_self": null,
            "height": null,
            "min_height": null,
            "padding": null,
            "grid_auto_rows": null,
            "grid_gap": null,
            "max_width": null,
            "order": null,
            "_view_module_version": "1.2.0",
            "grid_template_areas": null,
            "object_position": null,
            "object_fit": null,
            "grid_auto_columns": null,
            "margin": null,
            "display": null,
            "left": null
          }
        },
        "8ab8b8399e15448994f787405054121e": {
          "model_module": "@jupyter-widgets/controls",
          "model_name": "DescriptionStyleModel",
          "state": {
            "_view_name": "StyleView",
            "_model_name": "DescriptionStyleModel",
            "description_width": "",
            "_view_module": "@jupyter-widgets/base",
            "_model_module_version": "1.5.0",
            "_view_count": null,
            "_view_module_version": "1.2.0",
            "_model_module": "@jupyter-widgets/controls"
          }
        },
        "b974d2dac9f04289b7dabb0c92c22e2c": {
          "model_module": "@jupyter-widgets/base",
          "model_name": "LayoutModel",
          "state": {
            "_view_name": "LayoutView",
            "grid_template_rows": null,
            "right": null,
            "justify_content": null,
            "_view_module": "@jupyter-widgets/base",
            "overflow": null,
            "_model_module_version": "1.2.0",
            "_view_count": null,
            "flex_flow": null,
            "width": null,
            "min_width": null,
            "border": null,
            "align_items": null,
            "bottom": null,
            "_model_module": "@jupyter-widgets/base",
            "top": null,
            "grid_column": null,
            "overflow_y": null,
            "overflow_x": null,
            "grid_auto_flow": null,
            "grid_area": null,
            "grid_template_columns": null,
            "flex": null,
            "_model_name": "LayoutModel",
            "justify_items": null,
            "grid_row": null,
            "max_height": null,
            "align_content": null,
            "visibility": null,
            "align_self": null,
            "height": null,
            "min_height": null,
            "padding": null,
            "grid_auto_rows": null,
            "grid_gap": null,
            "max_width": null,
            "order": null,
            "_view_module_version": "1.2.0",
            "grid_template_areas": null,
            "object_position": null,
            "object_fit": null,
            "grid_auto_columns": null,
            "margin": null,
            "display": null,
            "left": null
          }
        },
        "acd3fbb87cfb44a5b976e059b2da0a77": {
          "model_module": "@jupyter-widgets/controls",
          "model_name": "HBoxModel",
          "state": {
            "_view_name": "HBoxView",
            "_dom_classes": [],
            "_model_name": "HBoxModel",
            "_view_module": "@jupyter-widgets/controls",
            "_model_module_version": "1.5.0",
            "_view_count": null,
            "_view_module_version": "1.5.0",
            "box_style": "",
            "layout": "IPY_MODEL_1a2bea399fef49a6a10f78a071d8c243",
            "_model_module": "@jupyter-widgets/controls",
            "children": [
              "IPY_MODEL_084f75d5f10b4284997bc02af287eedc",
              "IPY_MODEL_59be291b12c8459a828d88eee68c78fd"
            ]
          }
        },
        "1a2bea399fef49a6a10f78a071d8c243": {
          "model_module": "@jupyter-widgets/base",
          "model_name": "LayoutModel",
          "state": {
            "_view_name": "LayoutView",
            "grid_template_rows": null,
            "right": null,
            "justify_content": null,
            "_view_module": "@jupyter-widgets/base",
            "overflow": null,
            "_model_module_version": "1.2.0",
            "_view_count": null,
            "flex_flow": null,
            "width": null,
            "min_width": null,
            "border": null,
            "align_items": null,
            "bottom": null,
            "_model_module": "@jupyter-widgets/base",
            "top": null,
            "grid_column": null,
            "overflow_y": null,
            "overflow_x": null,
            "grid_auto_flow": null,
            "grid_area": null,
            "grid_template_columns": null,
            "flex": null,
            "_model_name": "LayoutModel",
            "justify_items": null,
            "grid_row": null,
            "max_height": null,
            "align_content": null,
            "visibility": null,
            "align_self": null,
            "height": null,
            "min_height": null,
            "padding": null,
            "grid_auto_rows": null,
            "grid_gap": null,
            "max_width": null,
            "order": null,
            "_view_module_version": "1.2.0",
            "grid_template_areas": null,
            "object_position": null,
            "object_fit": null,
            "grid_auto_columns": null,
            "margin": null,
            "display": null,
            "left": null
          }
        },
        "084f75d5f10b4284997bc02af287eedc": {
          "model_module": "@jupyter-widgets/controls",
          "model_name": "FloatProgressModel",
          "state": {
            "_view_name": "ProgressView",
            "style": "IPY_MODEL_da031009402a4291a4ac0192826aab6c",
            "_dom_classes": [],
            "description": "100%",
            "_model_name": "FloatProgressModel",
            "bar_style": "success",
            "max": 20,
            "_view_module": "@jupyter-widgets/controls",
            "_model_module_version": "1.5.0",
            "value": 20,
            "_view_count": null,
            "_view_module_version": "1.5.0",
            "orientation": "horizontal",
            "min": 0,
            "description_tooltip": null,
            "_model_module": "@jupyter-widgets/controls",
            "layout": "IPY_MODEL_9a381d9608d44945b500601f744f9964"
          }
        },
        "59be291b12c8459a828d88eee68c78fd": {
          "model_module": "@jupyter-widgets/controls",
          "model_name": "HTMLModel",
          "state": {
            "_view_name": "HTMLView",
            "style": "IPY_MODEL_74e3f74cc1b44a54bb93eac069c4713f",
            "_dom_classes": [],
            "description": "",
            "_model_name": "HTMLModel",
            "placeholder": "​",
            "_view_module": "@jupyter-widgets/controls",
            "_model_module_version": "1.5.0",
            "value": " 20/20 [1:02:01&lt;00:00, 186.08s/it]",
            "_view_count": null,
            "_view_module_version": "1.5.0",
            "description_tooltip": null,
            "_model_module": "@jupyter-widgets/controls",
            "layout": "IPY_MODEL_9a35e3735b664cec96e47813c87755c8"
          }
        },
        "da031009402a4291a4ac0192826aab6c": {
          "model_module": "@jupyter-widgets/controls",
          "model_name": "ProgressStyleModel",
          "state": {
            "_view_name": "StyleView",
            "_model_name": "ProgressStyleModel",
            "description_width": "initial",
            "_view_module": "@jupyter-widgets/base",
            "_model_module_version": "1.5.0",
            "_view_count": null,
            "_view_module_version": "1.2.0",
            "bar_color": null,
            "_model_module": "@jupyter-widgets/controls"
          }
        },
        "9a381d9608d44945b500601f744f9964": {
          "model_module": "@jupyter-widgets/base",
          "model_name": "LayoutModel",
          "state": {
            "_view_name": "LayoutView",
            "grid_template_rows": null,
            "right": null,
            "justify_content": null,
            "_view_module": "@jupyter-widgets/base",
            "overflow": null,
            "_model_module_version": "1.2.0",
            "_view_count": null,
            "flex_flow": null,
            "width": null,
            "min_width": null,
            "border": null,
            "align_items": null,
            "bottom": null,
            "_model_module": "@jupyter-widgets/base",
            "top": null,
            "grid_column": null,
            "overflow_y": null,
            "overflow_x": null,
            "grid_auto_flow": null,
            "grid_area": null,
            "grid_template_columns": null,
            "flex": null,
            "_model_name": "LayoutModel",
            "justify_items": null,
            "grid_row": null,
            "max_height": null,
            "align_content": null,
            "visibility": null,
            "align_self": null,
            "height": null,
            "min_height": null,
            "padding": null,
            "grid_auto_rows": null,
            "grid_gap": null,
            "max_width": null,
            "order": null,
            "_view_module_version": "1.2.0",
            "grid_template_areas": null,
            "object_position": null,
            "object_fit": null,
            "grid_auto_columns": null,
            "margin": null,
            "display": null,
            "left": null
          }
        },
        "74e3f74cc1b44a54bb93eac069c4713f": {
          "model_module": "@jupyter-widgets/controls",
          "model_name": "DescriptionStyleModel",
          "state": {
            "_view_name": "StyleView",
            "_model_name": "DescriptionStyleModel",
            "description_width": "",
            "_view_module": "@jupyter-widgets/base",
            "_model_module_version": "1.5.0",
            "_view_count": null,
            "_view_module_version": "1.2.0",
            "_model_module": "@jupyter-widgets/controls"
          }
        },
        "9a35e3735b664cec96e47813c87755c8": {
          "model_module": "@jupyter-widgets/base",
          "model_name": "LayoutModel",
          "state": {
            "_view_name": "LayoutView",
            "grid_template_rows": null,
            "right": null,
            "justify_content": null,
            "_view_module": "@jupyter-widgets/base",
            "overflow": null,
            "_model_module_version": "1.2.0",
            "_view_count": null,
            "flex_flow": null,
            "width": null,
            "min_width": null,
            "border": null,
            "align_items": null,
            "bottom": null,
            "_model_module": "@jupyter-widgets/base",
            "top": null,
            "grid_column": null,
            "overflow_y": null,
            "overflow_x": null,
            "grid_auto_flow": null,
            "grid_area": null,
            "grid_template_columns": null,
            "flex": null,
            "_model_name": "LayoutModel",
            "justify_items": null,
            "grid_row": null,
            "max_height": null,
            "align_content": null,
            "visibility": null,
            "align_self": null,
            "height": null,
            "min_height": null,
            "padding": null,
            "grid_auto_rows": null,
            "grid_gap": null,
            "max_width": null,
            "order": null,
            "_view_module_version": "1.2.0",
            "grid_template_areas": null,
            "object_position": null,
            "object_fit": null,
            "grid_auto_columns": null,
            "margin": null,
            "display": null,
            "left": null
          }
        },
        "4eff9a7861bc4fdeb395066f508b3e70": {
          "model_module": "@jupyter-widgets/controls",
          "model_name": "HBoxModel",
          "state": {
            "_view_name": "HBoxView",
            "_dom_classes": [],
            "_model_name": "HBoxModel",
            "_view_module": "@jupyter-widgets/controls",
            "_model_module_version": "1.5.0",
            "_view_count": null,
            "_view_module_version": "1.5.0",
            "box_style": "",
            "layout": "IPY_MODEL_75c78eba909c425a8bccad0e93374d2e",
            "_model_module": "@jupyter-widgets/controls",
            "children": [
              "IPY_MODEL_27422bce8a4d42fc8dc54a62015062d4",
              "IPY_MODEL_5743de4bf05440829b6f1a4322f694b2"
            ]
          }
        },
        "75c78eba909c425a8bccad0e93374d2e": {
          "model_module": "@jupyter-widgets/base",
          "model_name": "LayoutModel",
          "state": {
            "_view_name": "LayoutView",
            "grid_template_rows": null,
            "right": null,
            "justify_content": null,
            "_view_module": "@jupyter-widgets/base",
            "overflow": null,
            "_model_module_version": "1.2.0",
            "_view_count": null,
            "flex_flow": null,
            "width": null,
            "min_width": null,
            "border": null,
            "align_items": null,
            "bottom": null,
            "_model_module": "@jupyter-widgets/base",
            "top": null,
            "grid_column": null,
            "overflow_y": null,
            "overflow_x": null,
            "grid_auto_flow": null,
            "grid_area": null,
            "grid_template_columns": null,
            "flex": null,
            "_model_name": "LayoutModel",
            "justify_items": null,
            "grid_row": null,
            "max_height": null,
            "align_content": null,
            "visibility": null,
            "align_self": null,
            "height": null,
            "min_height": null,
            "padding": null,
            "grid_auto_rows": null,
            "grid_gap": null,
            "max_width": null,
            "order": null,
            "_view_module_version": "1.2.0",
            "grid_template_areas": null,
            "object_position": null,
            "object_fit": null,
            "grid_auto_columns": null,
            "margin": null,
            "display": null,
            "left": null
          }
        },
        "27422bce8a4d42fc8dc54a62015062d4": {
          "model_module": "@jupyter-widgets/controls",
          "model_name": "FloatProgressModel",
          "state": {
            "_view_name": "ProgressView",
            "style": "IPY_MODEL_e499ff2690854295baa2fef850044932",
            "_dom_classes": [],
            "description": "100%",
            "_model_name": "FloatProgressModel",
            "bar_style": "success",
            "max": 20,
            "_view_module": "@jupyter-widgets/controls",
            "_model_module_version": "1.5.0",
            "value": 20,
            "_view_count": null,
            "_view_module_version": "1.5.0",
            "orientation": "horizontal",
            "min": 0,
            "description_tooltip": null,
            "_model_module": "@jupyter-widgets/controls",
            "layout": "IPY_MODEL_d5846b86864f4b41ac8638825f5d34a8"
          }
        },
        "5743de4bf05440829b6f1a4322f694b2": {
          "model_module": "@jupyter-widgets/controls",
          "model_name": "HTMLModel",
          "state": {
            "_view_name": "HTMLView",
            "style": "IPY_MODEL_5afe4fd5994e4018abe88dc00589ad5b",
            "_dom_classes": [],
            "description": "",
            "_model_name": "HTMLModel",
            "placeholder": "​",
            "_view_module": "@jupyter-widgets/controls",
            "_model_module_version": "1.5.0",
            "value": " 20/20 [1:02:09&lt;00:00, 186.46s/it]",
            "_view_count": null,
            "_view_module_version": "1.5.0",
            "description_tooltip": null,
            "_model_module": "@jupyter-widgets/controls",
            "layout": "IPY_MODEL_bc82a834faf74589a2bbca4cca1957cf"
          }
        },
        "e499ff2690854295baa2fef850044932": {
          "model_module": "@jupyter-widgets/controls",
          "model_name": "ProgressStyleModel",
          "state": {
            "_view_name": "StyleView",
            "_model_name": "ProgressStyleModel",
            "description_width": "initial",
            "_view_module": "@jupyter-widgets/base",
            "_model_module_version": "1.5.0",
            "_view_count": null,
            "_view_module_version": "1.2.0",
            "bar_color": null,
            "_model_module": "@jupyter-widgets/controls"
          }
        },
        "d5846b86864f4b41ac8638825f5d34a8": {
          "model_module": "@jupyter-widgets/base",
          "model_name": "LayoutModel",
          "state": {
            "_view_name": "LayoutView",
            "grid_template_rows": null,
            "right": null,
            "justify_content": null,
            "_view_module": "@jupyter-widgets/base",
            "overflow": null,
            "_model_module_version": "1.2.0",
            "_view_count": null,
            "flex_flow": null,
            "width": null,
            "min_width": null,
            "border": null,
            "align_items": null,
            "bottom": null,
            "_model_module": "@jupyter-widgets/base",
            "top": null,
            "grid_column": null,
            "overflow_y": null,
            "overflow_x": null,
            "grid_auto_flow": null,
            "grid_area": null,
            "grid_template_columns": null,
            "flex": null,
            "_model_name": "LayoutModel",
            "justify_items": null,
            "grid_row": null,
            "max_height": null,
            "align_content": null,
            "visibility": null,
            "align_self": null,
            "height": null,
            "min_height": null,
            "padding": null,
            "grid_auto_rows": null,
            "grid_gap": null,
            "max_width": null,
            "order": null,
            "_view_module_version": "1.2.0",
            "grid_template_areas": null,
            "object_position": null,
            "object_fit": null,
            "grid_auto_columns": null,
            "margin": null,
            "display": null,
            "left": null
          }
        },
        "5afe4fd5994e4018abe88dc00589ad5b": {
          "model_module": "@jupyter-widgets/controls",
          "model_name": "DescriptionStyleModel",
          "state": {
            "_view_name": "StyleView",
            "_model_name": "DescriptionStyleModel",
            "description_width": "",
            "_view_module": "@jupyter-widgets/base",
            "_model_module_version": "1.5.0",
            "_view_count": null,
            "_view_module_version": "1.2.0",
            "_model_module": "@jupyter-widgets/controls"
          }
        },
        "bc82a834faf74589a2bbca4cca1957cf": {
          "model_module": "@jupyter-widgets/base",
          "model_name": "LayoutModel",
          "state": {
            "_view_name": "LayoutView",
            "grid_template_rows": null,
            "right": null,
            "justify_content": null,
            "_view_module": "@jupyter-widgets/base",
            "overflow": null,
            "_model_module_version": "1.2.0",
            "_view_count": null,
            "flex_flow": null,
            "width": null,
            "min_width": null,
            "border": null,
            "align_items": null,
            "bottom": null,
            "_model_module": "@jupyter-widgets/base",
            "top": null,
            "grid_column": null,
            "overflow_y": null,
            "overflow_x": null,
            "grid_auto_flow": null,
            "grid_area": null,
            "grid_template_columns": null,
            "flex": null,
            "_model_name": "LayoutModel",
            "justify_items": null,
            "grid_row": null,
            "max_height": null,
            "align_content": null,
            "visibility": null,
            "align_self": null,
            "height": null,
            "min_height": null,
            "padding": null,
            "grid_auto_rows": null,
            "grid_gap": null,
            "max_width": null,
            "order": null,
            "_view_module_version": "1.2.0",
            "grid_template_areas": null,
            "object_position": null,
            "object_fit": null,
            "grid_auto_columns": null,
            "margin": null,
            "display": null,
            "left": null
          }
        },
        "3877db554b2d4c508e47165fd5eaa8c6": {
          "model_module": "@jupyter-widgets/controls",
          "model_name": "HBoxModel",
          "state": {
            "_view_name": "HBoxView",
            "_dom_classes": [],
            "_model_name": "HBoxModel",
            "_view_module": "@jupyter-widgets/controls",
            "_model_module_version": "1.5.0",
            "_view_count": null,
            "_view_module_version": "1.5.0",
            "box_style": "",
            "layout": "IPY_MODEL_e22f10df75924c83bc65c995225a7c4b",
            "_model_module": "@jupyter-widgets/controls",
            "children": [
              "IPY_MODEL_b1affa05050b4d2fac791afe738ac8a6",
              "IPY_MODEL_aa13519b5e3a4a7d97548f463df2bd42"
            ]
          }
        },
        "e22f10df75924c83bc65c995225a7c4b": {
          "model_module": "@jupyter-widgets/base",
          "model_name": "LayoutModel",
          "state": {
            "_view_name": "LayoutView",
            "grid_template_rows": null,
            "right": null,
            "justify_content": null,
            "_view_module": "@jupyter-widgets/base",
            "overflow": null,
            "_model_module_version": "1.2.0",
            "_view_count": null,
            "flex_flow": null,
            "width": null,
            "min_width": null,
            "border": null,
            "align_items": null,
            "bottom": null,
            "_model_module": "@jupyter-widgets/base",
            "top": null,
            "grid_column": null,
            "overflow_y": null,
            "overflow_x": null,
            "grid_auto_flow": null,
            "grid_area": null,
            "grid_template_columns": null,
            "flex": null,
            "_model_name": "LayoutModel",
            "justify_items": null,
            "grid_row": null,
            "max_height": null,
            "align_content": null,
            "visibility": null,
            "align_self": null,
            "height": null,
            "min_height": null,
            "padding": null,
            "grid_auto_rows": null,
            "grid_gap": null,
            "max_width": null,
            "order": null,
            "_view_module_version": "1.2.0",
            "grid_template_areas": null,
            "object_position": null,
            "object_fit": null,
            "grid_auto_columns": null,
            "margin": null,
            "display": null,
            "left": null
          }
        },
        "b1affa05050b4d2fac791afe738ac8a6": {
          "model_module": "@jupyter-widgets/controls",
          "model_name": "FloatProgressModel",
          "state": {
            "_view_name": "ProgressView",
            "style": "IPY_MODEL_3042b753fd6544e493cb6a25acd68625",
            "_dom_classes": [],
            "description": "100%",
            "_model_name": "FloatProgressModel",
            "bar_style": "success",
            "max": 20,
            "_view_module": "@jupyter-widgets/controls",
            "_model_module_version": "1.5.0",
            "value": 20,
            "_view_count": null,
            "_view_module_version": "1.5.0",
            "orientation": "horizontal",
            "min": 0,
            "description_tooltip": null,
            "_model_module": "@jupyter-widgets/controls",
            "layout": "IPY_MODEL_be77980c3dfc469e839bdf83983e0214"
          }
        },
        "aa13519b5e3a4a7d97548f463df2bd42": {
          "model_module": "@jupyter-widgets/controls",
          "model_name": "HTMLModel",
          "state": {
            "_view_name": "HTMLView",
            "style": "IPY_MODEL_968ff011b01d42c480b3393fe11e49c7",
            "_dom_classes": [],
            "description": "",
            "_model_name": "HTMLModel",
            "placeholder": "​",
            "_view_module": "@jupyter-widgets/controls",
            "_model_module_version": "1.5.0",
            "value": " 20/20 [1:01:04&lt;00:00, 183.21s/it]",
            "_view_count": null,
            "_view_module_version": "1.5.0",
            "description_tooltip": null,
            "_model_module": "@jupyter-widgets/controls",
            "layout": "IPY_MODEL_aa8f22c70d394f3f93bcaba7f3118e59"
          }
        },
        "3042b753fd6544e493cb6a25acd68625": {
          "model_module": "@jupyter-widgets/controls",
          "model_name": "ProgressStyleModel",
          "state": {
            "_view_name": "StyleView",
            "_model_name": "ProgressStyleModel",
            "description_width": "initial",
            "_view_module": "@jupyter-widgets/base",
            "_model_module_version": "1.5.0",
            "_view_count": null,
            "_view_module_version": "1.2.0",
            "bar_color": null,
            "_model_module": "@jupyter-widgets/controls"
          }
        },
        "be77980c3dfc469e839bdf83983e0214": {
          "model_module": "@jupyter-widgets/base",
          "model_name": "LayoutModel",
          "state": {
            "_view_name": "LayoutView",
            "grid_template_rows": null,
            "right": null,
            "justify_content": null,
            "_view_module": "@jupyter-widgets/base",
            "overflow": null,
            "_model_module_version": "1.2.0",
            "_view_count": null,
            "flex_flow": null,
            "width": null,
            "min_width": null,
            "border": null,
            "align_items": null,
            "bottom": null,
            "_model_module": "@jupyter-widgets/base",
            "top": null,
            "grid_column": null,
            "overflow_y": null,
            "overflow_x": null,
            "grid_auto_flow": null,
            "grid_area": null,
            "grid_template_columns": null,
            "flex": null,
            "_model_name": "LayoutModel",
            "justify_items": null,
            "grid_row": null,
            "max_height": null,
            "align_content": null,
            "visibility": null,
            "align_self": null,
            "height": null,
            "min_height": null,
            "padding": null,
            "grid_auto_rows": null,
            "grid_gap": null,
            "max_width": null,
            "order": null,
            "_view_module_version": "1.2.0",
            "grid_template_areas": null,
            "object_position": null,
            "object_fit": null,
            "grid_auto_columns": null,
            "margin": null,
            "display": null,
            "left": null
          }
        },
        "968ff011b01d42c480b3393fe11e49c7": {
          "model_module": "@jupyter-widgets/controls",
          "model_name": "DescriptionStyleModel",
          "state": {
            "_view_name": "StyleView",
            "_model_name": "DescriptionStyleModel",
            "description_width": "",
            "_view_module": "@jupyter-widgets/base",
            "_model_module_version": "1.5.0",
            "_view_count": null,
            "_view_module_version": "1.2.0",
            "_model_module": "@jupyter-widgets/controls"
          }
        },
        "aa8f22c70d394f3f93bcaba7f3118e59": {
          "model_module": "@jupyter-widgets/base",
          "model_name": "LayoutModel",
          "state": {
            "_view_name": "LayoutView",
            "grid_template_rows": null,
            "right": null,
            "justify_content": null,
            "_view_module": "@jupyter-widgets/base",
            "overflow": null,
            "_model_module_version": "1.2.0",
            "_view_count": null,
            "flex_flow": null,
            "width": null,
            "min_width": null,
            "border": null,
            "align_items": null,
            "bottom": null,
            "_model_module": "@jupyter-widgets/base",
            "top": null,
            "grid_column": null,
            "overflow_y": null,
            "overflow_x": null,
            "grid_auto_flow": null,
            "grid_area": null,
            "grid_template_columns": null,
            "flex": null,
            "_model_name": "LayoutModel",
            "justify_items": null,
            "grid_row": null,
            "max_height": null,
            "align_content": null,
            "visibility": null,
            "align_self": null,
            "height": null,
            "min_height": null,
            "padding": null,
            "grid_auto_rows": null,
            "grid_gap": null,
            "max_width": null,
            "order": null,
            "_view_module_version": "1.2.0",
            "grid_template_areas": null,
            "object_position": null,
            "object_fit": null,
            "grid_auto_columns": null,
            "margin": null,
            "display": null,
            "left": null
          }
        }
      }
    }
  },
  "cells": [
    {
      "cell_type": "markdown",
      "metadata": {
        "id": "MY5vLjwPDT7y",
        "colab_type": "text"
      },
      "source": [
        "# COMP5046 Assignment2 \n",
        "\n",
        "Authors:\n",
        "- Xinyue Wang (440359463)\n",
        "- Xiang Zhou ()\n",
        "\n",
        "Both authors made equal contribution to this assignment.\n",
        "\n",
        "## Read ME\n"
      ]
    },
    {
      "cell_type": "markdown",
      "metadata": {
        "id": "TT6hNaFtFhPp",
        "colab_type": "text"
      },
      "source": [
        "## 1.Load Data\n",
        "\n",
        "In this section, we load train, validation and test data from Google Drive."
      ]
    },
    {
      "cell_type": "code",
      "metadata": {
        "id": "W3osDDD-A5Bm",
        "colab_type": "code",
        "outputId": "31a7ef35-847b-4af1-aea2-a4ac075ff787",
        "colab": {
          "base_uri": "https://localhost:8080/",
          "height": 463
        }
      },
      "source": [
        "import numpy as np\n",
        "import pandas as pd\n",
        "from sklearn.model_selection import train_test_split\n",
        "import matplotlib.pyplot as plt\n",
        "import matplotlib\n",
        "\n",
        "from google.colab import drive\n",
        "drive.mount('/content/drive')\n",
        "df_train = pd.read_csv('/content/drive/My Drive/train.csv')\n",
        "df_test= pd.read_csv('/content/drive/My Drive/test.csv')\n",
        "df_val= pd.read_csv('/content/drive/My Drive/val.csv')\n",
        "df_train.head(10)"
      ],
      "execution_count": 1,
      "outputs": [
        {
          "output_type": "stream",
          "text": [
            "Go to this URL in a browser: https://accounts.google.com/o/oauth2/auth?client_id=947318989803-6bn6qk8qdgf4n4g3pfee6491hc0brc4i.apps.googleusercontent.com&redirect_uri=urn%3aietf%3awg%3aoauth%3a2.0%3aoob&response_type=code&scope=email%20https%3a%2f%2fwww.googleapis.com%2fauth%2fdocs.test%20https%3a%2f%2fwww.googleapis.com%2fauth%2fdrive%20https%3a%2f%2fwww.googleapis.com%2fauth%2fdrive.photos.readonly%20https%3a%2f%2fwww.googleapis.com%2fauth%2fpeopleapi.readonly\n",
            "\n",
            "Enter your authorization code:\n",
            "··········\n",
            "Mounted at /content/drive\n"
          ],
          "name": "stdout"
        },
        {
          "output_type": "execute_result",
          "data": {
            "text/html": [
              "<div>\n",
              "<style scoped>\n",
              "    .dataframe tbody tr th:only-of-type {\n",
              "        vertical-align: middle;\n",
              "    }\n",
              "\n",
              "    .dataframe tbody tr th {\n",
              "        vertical-align: top;\n",
              "    }\n",
              "\n",
              "    .dataframe thead th {\n",
              "        text-align: right;\n",
              "    }\n",
              "</style>\n",
              "<table border=\"1\" class=\"dataframe\">\n",
              "  <thead>\n",
              "    <tr style=\"text-align: right;\">\n",
              "      <th></th>\n",
              "      <th>Sentence</th>\n",
              "      <th>NER</th>\n",
              "    </tr>\n",
              "  </thead>\n",
              "  <tbody>\n",
              "    <tr>\n",
              "      <th>0</th>\n",
              "      <td>-docstart-</td>\n",
              "      <td>O</td>\n",
              "    </tr>\n",
              "    <tr>\n",
              "      <th>1</th>\n",
              "      <td>eu rejects german call to boycott british lamb .</td>\n",
              "      <td>I-ORG O I-MISC O O O I-MISC O O</td>\n",
              "    </tr>\n",
              "    <tr>\n",
              "      <th>2</th>\n",
              "      <td>peter blackburn</td>\n",
              "      <td>I-PER I-PER</td>\n",
              "    </tr>\n",
              "    <tr>\n",
              "      <th>3</th>\n",
              "      <td>brussels 1996-08-22</td>\n",
              "      <td>I-LOC O</td>\n",
              "    </tr>\n",
              "    <tr>\n",
              "      <th>4</th>\n",
              "      <td>the european commission said on thursday it di...</td>\n",
              "      <td>O I-ORG I-ORG O O O O O O I-MISC O O O O O I-M...</td>\n",
              "    </tr>\n",
              "    <tr>\n",
              "      <th>5</th>\n",
              "      <td>germany 's representative to the european unio...</td>\n",
              "      <td>I-LOC O O O O I-ORG I-ORG O O O I-PER I-PER O ...</td>\n",
              "    </tr>\n",
              "    <tr>\n",
              "      <th>6</th>\n",
              "      <td>\" we do n't support any such recommendation be...</td>\n",
              "      <td>O O O O O O O O O O O O O O O O O O O O I-ORG ...</td>\n",
              "    </tr>\n",
              "    <tr>\n",
              "      <th>7</th>\n",
              "      <td>he said further scientific study was required ...</td>\n",
              "      <td>O O O O O O O O O O O O O O O O O O O O O O I-...</td>\n",
              "    </tr>\n",
              "    <tr>\n",
              "      <th>8</th>\n",
              "      <td>he said a proposal last month by eu farm commi...</td>\n",
              "      <td>O O O O O O O I-ORG O O I-PER I-PER O O O O O ...</td>\n",
              "    </tr>\n",
              "    <tr>\n",
              "      <th>9</th>\n",
              "      <td>fischler proposed eu-wide measures after repor...</td>\n",
              "      <td>I-PER O I-MISC O O O O I-LOC O I-LOC O O O O O...</td>\n",
              "    </tr>\n",
              "  </tbody>\n",
              "</table>\n",
              "</div>"
            ],
            "text/plain": [
              "                                            Sentence                                                NER\n",
              "0                                         -docstart-                                                  O\n",
              "1   eu rejects german call to boycott british lamb .                    I-ORG O I-MISC O O O I-MISC O O\n",
              "2                                    peter blackburn                                        I-PER I-PER\n",
              "3                                brussels 1996-08-22                                            I-LOC O\n",
              "4  the european commission said on thursday it di...  O I-ORG I-ORG O O O O O O I-MISC O O O O O I-M...\n",
              "5  germany 's representative to the european unio...  I-LOC O O O O I-ORG I-ORG O O O I-PER I-PER O ...\n",
              "6  \" we do n't support any such recommendation be...  O O O O O O O O O O O O O O O O O O O O I-ORG ...\n",
              "7  he said further scientific study was required ...  O O O O O O O O O O O O O O O O O O O O O O I-...\n",
              "8  he said a proposal last month by eu farm commi...  O O O O O O O I-ORG O O I-PER I-PER O O O O O ...\n",
              "9  fischler proposed eu-wide measures after repor...  I-PER O I-MISC O O O O I-LOC O I-LOC O O O O O..."
            ]
          },
          "metadata": {
            "tags": []
          },
          "execution_count": 1
        }
      ]
    },
    {
      "cell_type": "markdown",
      "metadata": {
        "id": "_6Jo5H8aEOb8",
        "colab_type": "text"
      },
      "source": [
        "## 2.Data Processing and Insight Analysis\n",
        "\n",
        "In this section, we do some processing to dataset including:\n",
        "\n",
        "1. Split sentence and NER by space\n",
        "2. Build a vocabulary - `word_to_ix` which assigns all words in train, validation and test integer indices for later input embedding construction\n",
        "\n",
        "Also some insight analysis is conducted including:\n",
        "\n",
        "1. NER tag distrbution\n"
      ]
    },
    {
      "cell_type": "code",
      "metadata": {
        "id": "UAac3HOCL69W",
        "colab_type": "code",
        "colab": {}
      },
      "source": [
        "train_data=[sentence.split() for sentence in df_train.Sentence]\n",
        "target_y_train=[sentence.split() for sentence in df_train.NER]\n",
        "\n",
        "test_data=[sentence.split() for sentence in df_test.Sentence]\n",
        "# target_y_test=[sentence.split() for sentence in df_test.NER]  # all NANs\n",
        "\n",
        "validation_data=[sentence.split() for sentence in df_val.Sentence]\n",
        "target_y_validation=[sentence.split() for sentence in df_val.NER]"
      ],
      "execution_count": 0,
      "outputs": []
    },
    {
      "cell_type": "code",
      "metadata": {
        "id": "Utn-5_tSKSQw",
        "colab_type": "code",
        "outputId": "9f9a0a22-2d6e-4dad-ded4-1e9d905bb237",
        "colab": {
          "base_uri": "https://localhost:8080/",
          "height": 240
        }
      },
      "source": [
        "word_to_ix = {}\n",
        "for sentence in train_data+validation_data+test_data:\n",
        "    for word in sentence:\n",
        "        word = word.lower()\n",
        "        if word not in word_to_ix:\n",
        "            word_to_ix[word] = len(word_to_ix)\n",
        "word_list = list(word_to_ix.keys())\n",
        "\n",
        "START_TAG = \"<START>\"\n",
        "STOP_TAG = \"<STOP>\"\n",
        "tag_to_ix = {START_TAG:0, STOP_TAG:1}\n",
        "for tags in target_y_train+target_y_validation:\n",
        "    for tag in tags:\n",
        "        if tag not in tag_to_ix:\n",
        "            tag_to_ix[tag] = len(tag_to_ix)\n",
        "\n",
        "# quick check\n",
        "print('Word list length: ',len(word_list))\n",
        "print(tag_to_ix)\n",
        "for i, (key, val) in enumerate(word_to_ix.items()):\n",
        "  if i > 10:\n",
        "    break\n",
        "  print(key, val)"
      ],
      "execution_count": 3,
      "outputs": [
        {
          "output_type": "stream",
          "text": [
            "Word list length:  13972\n",
            "{'<START>': 0, '<STOP>': 1, 'O': 2, 'I-ORG': 3, 'I-MISC': 4, 'I-PER': 5, 'I-LOC': 6}\n",
            "-docstart- 0\n",
            "eu 1\n",
            "rejects 2\n",
            "german 3\n",
            "call 4\n",
            "to 5\n",
            "boycott 6\n",
            "british 7\n",
            "lamb 8\n",
            ". 9\n",
            "peter 10\n"
          ],
          "name": "stdout"
        }
      ]
    },
    {
      "cell_type": "code",
      "metadata": {
        "id": "iNskLGvAHZV2",
        "colab_type": "code",
        "outputId": "e2d8eb83-89f0-4e08-ac80-06c84707d749",
        "colab": {
          "base_uri": "https://localhost:8080/",
          "height": 51
        }
      },
      "source": [
        "def to_index(data, to_ix):\n",
        "    input_index_list = []\n",
        "    for sent in data:\n",
        "        input_index_list.append([to_ix[w] for w in sent])\n",
        "    return input_index_list\n",
        "\n",
        "train_input_index =  to_index(train_data,word_to_ix)\n",
        "train_output_index = to_index(target_y_train,tag_to_ix)\n",
        "val_input_index = to_index(validation_data,word_to_ix)\n",
        "val_output_index = to_index(target_y_validation,tag_to_ix)\n",
        "test_input_index = to_index(test_data,word_to_ix)\n",
        "\n",
        "# quick check\n",
        "print(train_input_index[1])\n",
        "print(train_output_index[1])"
      ],
      "execution_count": 4,
      "outputs": [
        {
          "output_type": "stream",
          "text": [
            "[1, 2, 3, 4, 5, 6, 7, 8, 9]\n",
            "[3, 2, 4, 2, 2, 2, 4, 2, 2]\n"
          ],
          "name": "stdout"
        }
      ]
    },
    {
      "cell_type": "code",
      "metadata": {
        "id": "dWWGOerI9Bry",
        "colab_type": "code",
        "outputId": "1d84b7f5-918a-487e-ab3b-aa76be09ef74",
        "colab": {
          "base_uri": "https://localhost:8080/",
          "height": 281
        }
      },
      "source": [
        "# distribution of labels\n",
        "import matplotlib.pyplot as pl\n",
        "from collections import Counter\n",
        "\n",
        "all_tags = []\n",
        "for tags in target_y_train+target_y_validation:\n",
        "  for tag in tags:\n",
        "    all_tags.append(tag)\n",
        "\n",
        "counter = Counter(all_tags)\n",
        "tag_types = list(counter.keys())\n",
        "tag_counts = list(counter.values())\n",
        "\n",
        "pl.bar(range(len(tag_types)), tag_counts)\n",
        "pl.xticks(range(len(tag_types)), tag_types)\n",
        "pl.ylabel('Counts')\n",
        "pl.title('NER Tag Type Distribution')\n",
        "pl.show()"
      ],
      "execution_count": 5,
      "outputs": [
        {
          "output_type": "display_data",
          "data": {
            "image/png": "[encoded data removed]",
            "text/plain": [
              "<Figure size 432x288 with 1 Axes>"
            ]
          },
          "metadata": {
            "tags": [],
            "needs_background": "light"
          }
        }
      ]
    },
    {
      "cell_type": "markdown",
      "metadata": {
        "id": "Q2b-oIc1FWxC",
        "colab_type": "text"
      },
      "source": [
        "We found there are 5 unique NER tags in the dataset and that the distribution of NER tags are not uniform. Majority of NER tags are \"Others\". This can create challenges in the model training since the classes are not balanced.\n"
      ]
    },
    {
      "cell_type": "markdown",
      "metadata": {
        "id": "C1jbsuRFA5B-",
        "colab_type": "text"
      },
      "source": [
        "## 3.Input Embeddings\n",
        "\n",
        "In this section, we implement 3 different types of input embeddings:\n",
        "\n",
        "1. Word to vec embedding\n",
        "2. POS tag embedding\n",
        "3. TF-IDF embedding\n",
        "\n",
        "The embeddings help project each words into a rich feature space for NER model to learn to best predict the NER tags as accurately as possible. \n",
        "\n",
        "We will experiment different combinations of input embeddings and adopt the one gives best result.\n"
      ]
    },
    {
      "cell_type": "markdown",
      "metadata": {
        "id": "gggA7Y4eHI-J",
        "colab_type": "text"
      },
      "source": [
        "### 3.1 Word2Vec Embedding\n",
        "\n",
        "Here we use the pre-trained word embedding: `glove-twitter-25`.\n"
      ]
    },
    {
      "cell_type": "code",
      "metadata": {
        "id": "l2_S5twPHgKY",
        "colab_type": "code",
        "outputId": "83a7f9bd-ed81-4ba1-cba2-8ac0b00e46d5",
        "colab": {
          "base_uri": "https://localhost:8080/",
          "height": 135,
          "referenced_widgets": [
            "2f2c2803eef64944bb96e653d352face",
            "1fe6a5a3333c4be9b53666e74da08b1e",
            "ce184ae10ab244c3878cbc4271ba8a01",
            "415d894a9c3247d68844d59e7cb1391b",
            "fedc2eda064a4357bc4767c46e0b0a31",
            "a53dc3a473344fb5a2cbfe5cd45b7f44",
            "baa8ead4b7284f99979a601d216ee143",
            "110a03428cd34154a50ba29c0c6c4b36"
          ]
        }
      },
      "source": [
        "import gensim.downloader as api\n",
        "from tqdm.notebook import tqdm\n",
        "\n",
        "word_emb_model = api.load(\"glove-twitter-25\") \n",
        "\n",
        "WORD_EMBEDDING_DIM = 25\n",
        "\n",
        "word_embedding_matrix = []\n",
        "for word in tqdm(word_list):\n",
        "    try:\n",
        "        word_embedding_matrix.append(word_emb_model.wv[word])\n",
        "    except:\n",
        "        word_embedding_matrix.append([0]*WORD_EMBEDDING_DIM)\n",
        "word_embedding_matrix = np.array(word_embedding_matrix)\n",
        "\n",
        "# quick check embedding size\n",
        "print(f'Word embedding matrix shape = {word_embedding_matrix.shape}')"
      ],
      "execution_count": 6,
      "outputs": [
        {
          "output_type": "stream",
          "text": [
            "[=============================---------------------] 59.4% 62.2/104.8MB downloaded"
          ],
          "name": "stdout"
        },
        {
          "output_type": "display_data",
          "data": {
            "application/vnd.jupyter.widget-view+json": {
              "model_id": "2f2c2803eef64944bb96e653d352face",
              "version_minor": 0,
              "version_major": 2
            },
            "text/plain": [
              "HBox(children=(FloatProgress(value=0.0, max=13972.0), HTML(value='')))"
            ]
          },
          "metadata": {
            "tags": []
          }
        },
        {
          "output_type": "stream",
          "text": [
            "\n",
            "Word embedding matrix shape = (13972, 25)\n"
          ],
          "name": "stdout"
        },
        {
          "output_type": "stream",
          "text": [
            "/usr/local/lib/python3.6/dist-packages/ipykernel_launcher.py:11: DeprecationWarning: Call to deprecated `wv` (Attribute will be removed in 4.0.0, use self instead).\n",
            "  # This is added back by InteractiveShellApp.init_path()\n"
          ],
          "name": "stderr"
        }
      ]
    },
    {
      "cell_type": "markdown",
      "metadata": {
        "id": "Yo3uhS76IaOj",
        "colab_type": "text"
      },
      "source": [
        "### 3.2 POS Tag Embedding\n",
        "\n",
        "Part-of-Speech (POS) is a class of words based on the word's function, they way it works in a sentence.\n",
        "\n",
        "Having this tag might help the NER model to predict the labels accurately. In this section, we will create POST tag embedding for our vocabulary. \n",
        "\n",
        "Note that the final POS tag embedding would be a matrix of size \n",
        "\n",
        "```\n",
        "(vocabulary_size, num_pos_tags)\n",
        "```\n",
        "\n",
        "i.e. the POS tag of each word will be one-hot encoded so that each vector is 0-1 vector where 1 refers to the index of the pos tag and all zeros elsewhere."
      ]
    },
    {
      "cell_type": "code",
      "metadata": {
        "id": "6g5qaQsXaVzB",
        "colab_type": "code",
        "outputId": "3bdbf2a6-7321-43e7-cc38-faa872917f05",
        "colab": {
          "base_uri": "https://localhost:8080/",
          "height": 86
        }
      },
      "source": [
        "import nltk\n",
        "from nltk.tokenize import word_tokenize\n",
        "nltk.download('averaged_perceptron_tagger')"
      ],
      "execution_count": 7,
      "outputs": [
        {
          "output_type": "stream",
          "text": [
            "[nltk_data] Downloading package averaged_perceptron_tagger to\n",
            "[nltk_data]     /root/nltk_data...\n",
            "[nltk_data]   Unzipping taggers/averaged_perceptron_tagger.zip.\n"
          ],
          "name": "stdout"
        },
        {
          "output_type": "execute_result",
          "data": {
            "text/plain": [
              "True"
            ]
          },
          "metadata": {
            "tags": []
          },
          "execution_count": 7
        }
      ]
    },
    {
      "cell_type": "code",
      "metadata": {
        "id": "9UA5qjnLaffH",
        "colab_type": "code",
        "outputId": "b7dcb131-ed11-4724-d00a-d8988905e8c7",
        "colab": {
          "base_uri": "https://localhost:8080/",
          "height": 66,
          "referenced_widgets": [
            "5b85500f7f2b45d38c784479fe5f0701",
            "04f19724779342e889bf8ba9f0f2f59c",
            "795a4785c5214537baa8d462860dd068",
            "2aa59a4cd5344cf1a93081c7b731b5e9",
            "ae73205e6d1b43ae8282c4ca8052c1d5",
            "a0d3b58ed7aa47e89328ef4107a863b4",
            "356b1e94577842e2949e86d7384a97bd",
            "115bb8e388ed46558a07effd4fae179b"
          ]
        }
      },
      "source": [
        "word_pos_tag = {}\n",
        "for word in tqdm(word_list):\n",
        "  word_pos_tag[word] = nltk.pos_tag(word)[0][-1]\n"
      ],
      "execution_count": 8,
      "outputs": [
        {
          "output_type": "display_data",
          "data": {
            "application/vnd.jupyter.widget-view+json": {
              "model_id": "5b85500f7f2b45d38c784479fe5f0701",
              "version_minor": 0,
              "version_major": 2
            },
            "text/plain": [
              "HBox(children=(FloatProgress(value=0.0, max=13972.0), HTML(value='')))"
            ]
          },
          "metadata": {
            "tags": []
          }
        },
        {
          "output_type": "stream",
          "text": [
            "\n"
          ],
          "name": "stdout"
        }
      ]
    },
    {
      "cell_type": "code",
      "metadata": {
        "id": "RpqFGQJecyWs",
        "colab_type": "code",
        "outputId": "4a7b54a9-24d5-4bb9-86af-7dd9b9906148",
        "colab": {
          "base_uri": "https://localhost:8080/",
          "height": 298
        }
      },
      "source": [
        "def draw_pos_barchart(word_pos_tag):\n",
        "  \"\"\"Visualize the POS tag distribution.\"\"\"\n",
        "  all_pos_tags = list(word_pos_tag.values())\n",
        "  counter = Counter(all_pos_tags)\n",
        "\n",
        "  tag_types = list(counter.keys())\n",
        "  tag_counts = list(counter.values())\n",
        "  print(f'There are {len(tag_types)} kinds of POS tags')\n",
        "  pl.bar(range(len(tag_types)), tag_counts)\n",
        "  pl.xticks(range(len(tag_types)), tag_types)\n",
        "  pl.ylabel('Counts')\n",
        "  pl.title('POS Tag Type Distribution')\n",
        "  pl.show()\n",
        "\n",
        "draw_pos_barchart(word_pos_tag)"
      ],
      "execution_count": 9,
      "outputs": [
        {
          "output_type": "stream",
          "text": [
            "There are 20 kinds of POS tags\n"
          ],
          "name": "stdout"
        },
        {
          "output_type": "display_data",
          "data": {
            "image/png": "[encoded data removed]",
            "text/plain": [
              "<Figure size 432x288 with 1 Axes>"
            ]
          },
          "metadata": {
            "tags": [],
            "needs_background": "light"
          }
        }
      ]
    },
    {
      "cell_type": "markdown",
      "metadata": {
        "id": "kexN9hvddx_R",
        "colab_type": "text"
      },
      "source": [
        "#### 3.2.1 Clean POS tags\n",
        "\n",
        "From the bar chart above we can see there are some invalid pos tags such as following symbols:\n",
        "```\n",
        "'$', \"''\", '(', ')', ',', '.', ':', '``'\n",
        "```\n",
        "We need to clean the POS tags a bit to build a good POS tag embedding."
      ]
    },
    {
      "cell_type": "code",
      "metadata": {
        "id": "OfYqazBadjYW",
        "colab_type": "code",
        "outputId": "872421ec-368e-4315-d626-525f71fcb78e",
        "colab": {
          "base_uri": "https://localhost:8080/",
          "height": 347,
          "referenced_widgets": [
            "1686d2c704174515b4b94fdfa4f969d1",
            "326a60baffff49408c7b5a6cde80588d",
            "f24beac2258541789d7778c2e70cf6ab",
            "30f1ef328dba4af7848e550539c60659",
            "98398849ed5e427e87ec0c4803fa1dc9",
            "af7d7a0158584b9f93471bdb8950fa79",
            "114d91f3626941ada3c509840f4e92aa",
            "ff7c934621f54540abbe38e5bb8db21c"
          ]
        }
      },
      "source": [
        "invalid_pos_tags = ['$', \"''\", '(', ')', ',', '.', ':', '``']\n",
        "word_pos_tag = {}\n",
        "for word in tqdm(word_list):\n",
        "  tag = nltk.pos_tag(word)[0][-1]\n",
        "  if tag in invalid_pos_tags:\n",
        "    tag = 'symbols'\n",
        "  word_pos_tag[word] = tag\n",
        "draw_pos_barchart(word_pos_tag)"
      ],
      "execution_count": 10,
      "outputs": [
        {
          "output_type": "display_data",
          "data": {
            "application/vnd.jupyter.widget-view+json": {
              "model_id": "1686d2c704174515b4b94fdfa4f969d1",
              "version_minor": 0,
              "version_major": 2
            },
            "text/plain": [
              "HBox(children=(FloatProgress(value=0.0, max=13972.0), HTML(value='')))"
            ]
          },
          "metadata": {
            "tags": []
          }
        },
        {
          "output_type": "stream",
          "text": [
            "\n",
            "There are 13 kinds of POS tags\n"
          ],
          "name": "stdout"
        },
        {
          "output_type": "display_data",
          "data": {
            "image/png": "[encoded data removed]",
            "text/plain": [
              "<Figure size 432x288 with 1 Axes>"
            ]
          },
          "metadata": {
            "tags": [],
            "needs_background": "light"
          }
        }
      ]
    },
    {
      "cell_type": "markdown",
      "metadata": {
        "id": "0_PcgbFIfZNF",
        "colab_type": "text"
      },
      "source": [
        "#### 3.2.2 Onehot Encode POS Tag "
      ]
    },
    {
      "cell_type": "code",
      "metadata": {
        "id": "_ks0s4yJdMqj",
        "colab_type": "code",
        "outputId": "ea7aa0f9-4143-480c-f040-c496efd683c6",
        "colab": {
          "base_uri": "https://localhost:8080/",
          "height": 240
        }
      },
      "source": [
        "pos_tag_to_index = {}\n",
        "for i, tag in enumerate(set(word_pos_tag.values())):\n",
        "  pos_tag_to_index[tag] = i\n",
        "pos_tag_size = len(pos_tag_to_index)\n",
        "pos_tag_to_index"
      ],
      "execution_count": 11,
      "outputs": [
        {
          "output_type": "execute_result",
          "data": {
            "text/plain": [
              "{'CC': 8,\n",
              " 'CD': 4,\n",
              " 'DT': 7,\n",
              " 'IN': 12,\n",
              " 'JJ': 1,\n",
              " 'LS': 3,\n",
              " 'NN': 5,\n",
              " 'NNS': 9,\n",
              " 'POS': 11,\n",
              " 'RB': 2,\n",
              " 'SYM': 6,\n",
              " 'VB': 0,\n",
              " 'symbols': 10}"
            ]
          },
          "metadata": {
            "tags": []
          },
          "execution_count": 11
        }
      ]
    },
    {
      "cell_type": "code",
      "metadata": {
        "id": "FBnC23YCf64-",
        "colab_type": "code",
        "outputId": "161f0160-44be-481f-91e7-3f19cd460a93",
        "colab": {
          "base_uri": "https://localhost:8080/",
          "height": 83,
          "referenced_widgets": [
            "939b0b2d70c541088ab013c40f049762",
            "d45e14b6466247dcb20dbfe3bef46d50",
            "f694cf1ac4454e2fa9cd4b94fd5531c0",
            "31573746f2e54d95823fa3cbfc152cf6",
            "82812e8589d348b098baeefec47eeab4",
            "a6060b265535414681db80c9c5ccbf4c",
            "439745e42374488f9fd158372495555e",
            "9864fe40eed94a588938349096a9b083"
          ]
        }
      },
      "source": [
        "pos_embedding_matrix = []\n",
        "for word in tqdm(word_list):\n",
        "  pos_vector = [0] * pos_tag_size\n",
        "  pos_tag = word_pos_tag[word]\n",
        "  pos_tag_index = pos_tag_to_index[pos_tag]\n",
        "  pos_vector[pos_tag_index] = 1\n",
        "  pos_embedding_matrix.append(pos_vector)\n",
        "pos_embedding_matrix = np.array(pos_embedding_matrix)\n",
        "print(f'POS Tag Embedding dimension={pos_embedding_matrix.shape}')"
      ],
      "execution_count": 12,
      "outputs": [
        {
          "output_type": "display_data",
          "data": {
            "application/vnd.jupyter.widget-view+json": {
              "model_id": "939b0b2d70c541088ab013c40f049762",
              "version_minor": 0,
              "version_major": 2
            },
            "text/plain": [
              "HBox(children=(FloatProgress(value=0.0, max=13972.0), HTML(value='')))"
            ]
          },
          "metadata": {
            "tags": []
          }
        },
        {
          "output_type": "stream",
          "text": [
            "\n",
            "POS Tag Embedding dimension=(13972, 13)\n"
          ],
          "name": "stdout"
        }
      ]
    },
    {
      "cell_type": "markdown",
      "metadata": {
        "id": "0mEnYIXVg2kI",
        "colab_type": "text"
      },
      "source": [
        "### 3.3 TF-IDF Embedding\n",
        "Tf means term-frequency while tf-idf means term-frequency times inverse document-frequency. This is a common term weighting scheme in information retrieval, that has also found good use in document classification.\n",
        "\n",
        "Note that the final POS tag embedding would be a matrix of size\n",
        "\n",
        "```\n",
        "(vocabulary_size, 1)\n",
        "```"
      ]
    },
    {
      "cell_type": "code",
      "metadata": {
        "id": "UulF3PxgA5B_",
        "colab_type": "code",
        "outputId": "548b2aa2-4b0e-42e0-b3aa-c017bfa2146f",
        "colab": {
          "base_uri": "https://localhost:8080/",
          "height": 34
        }
      },
      "source": [
        "from sklearn.feature_extraction.text import CountVectorizer  \n",
        "from sklearn.feature_extraction.text import TfidfTransformer \n",
        "from sklearn.pipeline import Pipeline\n",
        "\n",
        "# get corpus\n",
        "corpus = df_train['Sentence'].tolist() + df_test['Sentence'].tolist() \\\n",
        "  + df_val['Sentence'].tolist()\n",
        "\n",
        "# get tfidf score\n",
        "pipe = Pipeline([('count', CountVectorizer(vocabulary=word_list)),\n",
        "                 ('tfid', TfidfTransformer())]).fit(corpus)\n",
        "\n",
        "tfidf_embedding = pipe['tfid'].idf_.reshape(-1, 1)\n",
        "print(f'TF-IDF Embedding dimension={tfidf_embedding.shape}')"
      ],
      "execution_count": 13,
      "outputs": [
        {
          "output_type": "stream",
          "text": [
            "TF-IDF Embedding dimension=(13972, 1)\n"
          ],
          "name": "stdout"
        }
      ]
    },
    {
      "cell_type": "markdown",
      "metadata": {
        "id": "4eBs93orjW-W",
        "colab_type": "text"
      },
      "source": [
        "### 3.4 Modulise Input Embedding\n",
        "\n",
        "In this section, we modulise the construction of input embedding where the selection of above 3 input embedding is decided when initalise this embedding object."
      ]
    },
    {
      "cell_type": "code",
      "metadata": {
        "id": "j_HU106yjokK",
        "colab_type": "code",
        "outputId": "4060c955-2dc1-4ec2-ec25-465be37ad3b5",
        "colab": {
          "base_uri": "https://localhost:8080/",
          "height": 34
        }
      },
      "source": [
        "class Embedding:\n",
        "\n",
        "  def __init__(self, use_word2vec, use_pos, use_tfidf):\n",
        "    \"\"\"Initialise an input embedding given selections of embedding types\n",
        "\n",
        "    Parameter\n",
        "    ---------\n",
        "    use_word2vec: bool\n",
        "    use_pos: bool\n",
        "    use_tfidf: bool\n",
        "    \"\"\"\n",
        "    assert any([use_word2vec, use_pos, use_tfidf])\n",
        "    self.dim = 0\n",
        "    self.matrix = []\n",
        "\n",
        "    if use_word2vec:\n",
        "      self.dim += word_embedding_matrix.shape[-1]\n",
        "      self.matrix.append(word_embedding_matrix)\n",
        "    if use_pos:\n",
        "      self.dim += pos_embedding_matrix.shape[-1]\n",
        "      self.matrix.append(pos_embedding_matrix)\n",
        "    if use_tfidf:\n",
        "      self.dim += tfidf_embedding.shape[-1]\n",
        "      self.matrix.append(tfidf_embedding)    \n",
        "\n",
        "    self.matrix = np.concatenate(self.matrix, axis=-1)\n",
        "    assert self.dim == self.matrix.shape[-1]\n",
        "\n",
        "# here we use 1 types of input embeddings\n",
        "embedding = Embedding(use_word2vec=True, use_pos=False, use_tfidf=False)\n",
        "embedding_dim = embedding.dim\n",
        "embedding_matrix = embedding.matrix\n",
        "print(f'Input Embedding Dimension={embedding_matrix.shape}')"
      ],
      "execution_count": 14,
      "outputs": [
        {
          "output_type": "stream",
          "text": [
            "Input Embedding Dimension=(13972, 25)\n"
          ],
          "name": "stdout"
        }
      ]
    },
    {
      "cell_type": "markdown",
      "metadata": {
        "id": "QnL3gPY4Q-tW",
        "colab_type": "text"
      },
      "source": [
        "## 4.NER Model"
      ]
    },
    {
      "cell_type": "markdown",
      "metadata": {
        "id": "-WB90afaolZp",
        "colab_type": "text"
      },
      "source": [
        "### 4.1 Bi-LSTM CRF "
      ]
    },
    {
      "cell_type": "code",
      "metadata": {
        "id": "a5AgRWakkfmT",
        "colab_type": "code",
        "colab": {}
      },
      "source": [
        "import torch\n",
        "import torch.autograd as autograd\n",
        "import torch.nn as nn\n",
        "import torch.optim as optim\n",
        "\n",
        "torch.manual_seed(1)\n",
        "\n",
        "def argmax(vec):\n",
        "    # return the argmax as a python int\n",
        "    _, idx = torch.max(vec, 1)\n",
        "    return idx.item()\n",
        "\n",
        "\n",
        "# Compute log sum exp in a numerically stable way for the forward algorithm\n",
        "def log_sum_exp(vec):\n",
        "    max_score = vec[0, argmax(vec)]\n",
        "    max_score_broadcast = max_score.view(1, -1).expand(1, vec.size()[1])\n",
        "    return max_score + \\\n",
        "        torch.log(torch.sum(torch.exp(vec - max_score_broadcast)))\n",
        "\n",
        "\n",
        "class BiLSTM_CRF(nn.Module):\n",
        "\n",
        "    def __init__(self, vocab_size, tag_to_ix, embedding_dim, embedding_matrix, hidden_dim, num_layers):\n",
        "        super(BiLSTM_CRF, self).__init__()\n",
        "        self.embedding_dim = embedding_dim\n",
        "        self.hidden_dim = hidden_dim\n",
        "        self.vocab_size = vocab_size\n",
        "        self.tag_to_ix = tag_to_ix\n",
        "        self.tagset_size = len(tag_to_ix)\n",
        "\n",
        "        self.word_embeds = nn.Embedding(vocab_size, embedding_dim)\n",
        "\n",
        "        \"\"\"Here we use the embedding matrix as the initial weights of nn.Embedding\"\"\"\n",
        "        self.word_embeds.weight.data.copy_(torch.from_numpy(embedding_matrix))\n",
        "        \n",
        "        self.num_layers = num_layers\n",
        "        self.lstm = nn.LSTM(embedding_dim, hidden_dim // 2,\n",
        "                            num_layers=1, bidirectional=True)\n",
        "\n",
        "        # Maps the output of the LSTM into tag space.\n",
        "        self.hidden2tag = nn.Linear(hidden_dim, self.tagset_size)\n",
        "\n",
        "        # Matrix of transition parameters.  Entry i,j is the score of\n",
        "        # transitioning *to* i *from* j.\n",
        "        self.transitions = nn.Parameter(\n",
        "            torch.randn(self.tagset_size, self.tagset_size))\n",
        "\n",
        "        # These two statements enforce the constraint that we never transfer\n",
        "        # to the start tag and we never transfer from the stop tag\n",
        "        self.transitions.data[tag_to_ix[START_TAG], :] = -10000\n",
        "        self.transitions.data[:, tag_to_ix[STOP_TAG]] = -10000\n",
        "\n",
        "        self.hidden = self.init_hidden()\n",
        "\n",
        "    def init_hidden(self):\n",
        "        return (torch.randn(2 * self.num_layers, 1, self.hidden_dim // 2).to(device),\n",
        "                torch.randn(2 * self.num_layers, 1, self.hidden_dim // 2).to(device))\n",
        "\n",
        "    def _forward_alg(self, feats):\n",
        "        # Do the forward algorithm to compute the partition function\n",
        "        init_alphas = torch.full((1, self.tagset_size), -10000.).to(device)\n",
        "        # START_TAG has all of the score.\n",
        "        init_alphas[0][self.tag_to_ix[START_TAG]] = 0.\n",
        "\n",
        "        # Wrap in a variable so that we will get automatic backprop\n",
        "        forward_var = init_alphas\n",
        "\n",
        "        # Iterate through the sentence\n",
        "        for feat in feats:\n",
        "            alphas_t = []  # The forward tensors at this timestep\n",
        "            for next_tag in range(self.tagset_size):\n",
        "                # broadcast the emission score: it is the same regardless of\n",
        "                # the previous tag\n",
        "                emit_score = feat[next_tag].view(\n",
        "                    1, -1).expand(1, self.tagset_size)\n",
        "                # the ith entry of trans_score is the score of transitioning to\n",
        "                # next_tag from i\n",
        "                trans_score = self.transitions[next_tag].view(1, -1)\n",
        "                # The ith entry of next_tag_var is the value for the\n",
        "                # edge (i -> next_tag) before we do log-sum-exp\n",
        "                next_tag_var = forward_var + trans_score + emit_score\n",
        "                # The forward variable for this tag is log-sum-exp of all the\n",
        "                # scores.\n",
        "                alphas_t.append(log_sum_exp(next_tag_var).view(1))\n",
        "            forward_var = torch.cat(alphas_t).view(1, -1)\n",
        "        terminal_var = forward_var + self.transitions[self.tag_to_ix[STOP_TAG]]\n",
        "        alpha = log_sum_exp(terminal_var)\n",
        "        return alpha\n",
        "\n",
        "    def _get_lstm_features(self, sentence):\n",
        "        self.hidden = self.init_hidden()\n",
        "        embeds = self.word_embeds(sentence).view(len(sentence), 1, -1)\n",
        "        lstm_out, self.hidden = self.lstm(embeds, self.hidden)\n",
        "        lstm_out = lstm_out.view(len(sentence), self.hidden_dim)\n",
        "        lstm_feats = self.hidden2tag(lstm_out)\n",
        "        return lstm_feats\n",
        "\n",
        "    def _score_sentence(self, feats, tags):\n",
        "        # Gives the score of a provided tag sequence\n",
        "        score = torch.zeros(1).to(device)\n",
        "        tags = torch.cat([torch.tensor([self.tag_to_ix[START_TAG]], dtype=torch.long).to(device), tags])\n",
        "        for i, feat in enumerate(feats):\n",
        "            score = score + \\\n",
        "                self.transitions[tags[i + 1], tags[i]] + feat[tags[i + 1]]\n",
        "        score = score + self.transitions[self.tag_to_ix[STOP_TAG], tags[-1]]\n",
        "        return score\n",
        "\n",
        "    def _viterbi_decode(self, feats):\n",
        "        backpointers = []\n",
        "\n",
        "        # Initialize the viterbi variables in log space\n",
        "        init_vvars = torch.full((1, self.tagset_size), -10000.).to(device)\n",
        "        init_vvars[0][self.tag_to_ix[START_TAG]] = 0\n",
        "\n",
        "        # forward_var at step i holds the viterbi variables for step i-1\n",
        "        forward_var = init_vvars\n",
        "        for feat in feats:\n",
        "            bptrs_t = []  # holds the backpointers for this step\n",
        "            viterbivars_t = []  # holds the viterbi variables for this step\n",
        "\n",
        "            for next_tag in range(self.tagset_size):\n",
        "                # next_tag_var[i] holds the viterbi variable for tag i at the\n",
        "                # previous step, plus the score of transitioning\n",
        "                # from tag i to next_tag.\n",
        "                # We don't include the emission scores here because the max\n",
        "                # does not depend on them (we add them in below)\n",
        "                next_tag_var = forward_var + self.transitions[next_tag]\n",
        "                best_tag_id = argmax(next_tag_var)\n",
        "                bptrs_t.append(best_tag_id)\n",
        "                viterbivars_t.append(next_tag_var[0][best_tag_id].view(1))\n",
        "            # Now add in the emission scores, and assign forward_var to the set\n",
        "            # of viterbi variables we just computed\n",
        "            forward_var = (torch.cat(viterbivars_t) + feat).view(1, -1)\n",
        "            backpointers.append(bptrs_t)\n",
        "\n",
        "        # Transition to STOP_TAG\n",
        "        terminal_var = forward_var + self.transitions[self.tag_to_ix[STOP_TAG]]\n",
        "        best_tag_id = argmax(terminal_var)\n",
        "        path_score = terminal_var[0][best_tag_id]\n",
        "\n",
        "        # Follow the back pointers to decode the best path.\n",
        "        best_path = [best_tag_id]\n",
        "        for bptrs_t in reversed(backpointers):\n",
        "            best_tag_id = bptrs_t[best_tag_id]\n",
        "            best_path.append(best_tag_id)\n",
        "        # Pop off the start tag (we dont want to return that to the caller)\n",
        "        start = best_path.pop()\n",
        "        assert start == self.tag_to_ix[START_TAG]  # Sanity check\n",
        "        best_path.reverse()\n",
        "        return path_score, best_path\n",
        "\n",
        "    def neg_log_likelihood(self, sentence, tags):\n",
        "        feats = self._get_lstm_features(sentence)\n",
        "        forward_score = self._forward_alg(feats)\n",
        "        gold_score = self._score_sentence(feats, tags)\n",
        "        return forward_score - gold_score\n",
        "\n",
        "    def forward(self, sentence):  # dont confuse this with _forward_alg above.\n",
        "        # Get the emission scores from the BiLSTM\n",
        "        lstm_feats = self._get_lstm_features(sentence)\n",
        "\n",
        "        # Find the best path, given the features.\n",
        "        score, tag_seq = self._viterbi_decode(lstm_feats)\n",
        "        return score, tag_seq"
      ],
      "execution_count": 0,
      "outputs": []
    },
    {
      "cell_type": "code",
      "metadata": {
        "id": "u1WZBC7OHoTd",
        "colab_type": "code",
        "colab": {}
      },
      "source": [
        "import numpy as np\n",
        "from sklearn.metrics import accuracy_score\n",
        "\n",
        "def cal_acc(model, input_index, output_index):\n",
        "    predicted=[]\n",
        "    ground_truth=[]\n",
        "    for i in range(len(input_index)):\n",
        "\n",
        "      sentence_in = torch.tensor(input_index[i], dtype=torch.long).to(device)\n",
        "      pre_sentence = model(sentence_in)\n",
        "\n",
        "      ground_truth += output_index[i]\n",
        "      predicted += pre_sentence[1]\n",
        "\n",
        "    accuracy = accuracy_score(predicted,ground_truth)\n",
        "        \n",
        "    return ground_truth, predicted, accuracy"
      ],
      "execution_count": 0,
      "outputs": []
    },
    {
      "cell_type": "markdown",
      "metadata": {
        "id": "F0Fps548o92y",
        "colab_type": "text"
      },
      "source": [
        "### 4.2 Train and Evaluate"
      ]
    },
    {
      "cell_type": "code",
      "metadata": {
        "id": "a0CMFVSwlLru",
        "colab_type": "code",
        "colab": {}
      },
      "source": [
        "import datetime\n",
        "from sklearn.metrics import classification_report\n",
        "\n",
        "\n",
        "def decode_output(output_list):\n",
        "    ix_to_tag = {v:k for k,v in tag_to_ix.items()}\n",
        "    return [ix_to_tag[output] for output in output_list]\n",
        "\n",
        "\n",
        "def train_evaluate(model, optimizer):\n",
        "  \"\"\"Train for 20 epochs and evaluate accuracy.\"\"\"\n",
        "  loss_train = []\n",
        "  loss_val = []\n",
        "  acc_train = []\n",
        "  acc_val = []\n",
        "\n",
        "  for epoch in tqdm(range(20)):  \n",
        "      time1 = datetime.datetime.now()\n",
        "      train_loss = 0\n",
        "\n",
        "      model.train()\n",
        "      for i, idxs in enumerate(train_input_index):\n",
        "          tags_index = train_output_index[i]\n",
        "\n",
        "          # Step 1. Remember that Pytorch accumulates gradients.\n",
        "          # We need to clear them out before each instance\n",
        "          model.zero_grad()\n",
        "\n",
        "          # Step 2. Get our inputs ready for the network, that is,\n",
        "          # turn them into Tensors of word indices.\n",
        "          sentence_in = torch.tensor(idxs, dtype=torch.long).to(device)\n",
        "          targets = torch.tensor(tags_index, dtype=torch.long).to(device)\n",
        "\n",
        "          # Step 3. Run our forward pass.\n",
        "          loss = model.neg_log_likelihood(sentence_in, targets)\n",
        "\n",
        "          # Step 4. Compute the loss, gradients, and update the parameters by\n",
        "          # calling optimizer.step()\n",
        "          loss.backward()\n",
        "          optimizer.step()\n",
        "\n",
        "          train_loss+=loss.item()\n",
        "\n",
        "      model.eval()\n",
        "      _, _, train_acc = cal_acc(model,train_input_index,train_output_index)\n",
        "      _, _, val_acc = cal_acc(model,val_input_index,val_output_index)\n",
        "\n",
        "      # append accuracy for later visulisation\n",
        "      acc_train.append(train_acc)\n",
        "      acc_val.append(val_acc)\n",
        "\n",
        "      # compute validation loss\n",
        "      val_loss = 0\n",
        "      for i, idxs in enumerate(val_input_index):\n",
        "          tags_index = val_output_index[i]\n",
        "          sentence_in = torch.tensor(idxs, dtype=torch.long).to(device)\n",
        "          targets = torch.tensor(tags_index, dtype=torch.long).to(device)\n",
        "          loss = model.neg_log_likelihood(sentence_in, targets)\n",
        "          val_loss+=loss.item()\n",
        "      time2 = datetime.datetime.now()\n",
        "\n",
        "      # append loss for later visualisation\n",
        "      loss_train.append(train_loss)\n",
        "      loss_val.append(val_loss)\n",
        "      print(\"Epoch:%d, Training loss: %.2f, train acc: %.4f, val loss: %.2f, val acc: %.4f, time: %.2fs\" %(epoch+1, train_loss,train_acc, val_loss, val_acc, (time2-time1).total_seconds()))\n",
        "\n",
        "  y_true,y_pred,_ = cal_acc(model, val_input_index, val_output_index)\n",
        "  y_true_decode = decode_output(y_true)\n",
        "  y_pred_decode = decode_output(y_pred)\n",
        "\n",
        "  print(classification_report(y_true_decode,y_pred_decode,digits=4))\n",
        "  return model, loss_train, loss_val, acc_train, acc_val"
      ],
      "execution_count": 0,
      "outputs": []
    },
    {
      "cell_type": "code",
      "metadata": {
        "id": "FBnBMzNM-5SV",
        "colab_type": "code",
        "colab": {}
      },
      "source": [
        "def evaluate(model):\n",
        "  \"\"\"Evaluate on validation set.\"\"\"\n",
        "  y_true,y_pred,_ = cal_acc(model, val_input_index, val_output_index)\n",
        "  y_true_decode = decode_output(y_true)\n",
        "  y_pred_decode = decode_output(y_pred)\n",
        "  result = classification_report(y_true_decode,y_pred_decode,digits=4, output_dict=True)\n",
        "  return result"
      ],
      "execution_count": 0,
      "outputs": []
    },
    {
      "cell_type": "code",
      "metadata": {
        "id": "u_9JimEUr9Np",
        "colab_type": "code",
        "colab": {}
      },
      "source": [
        "device = torch.device(\"cuda\" if torch.cuda.is_available() else \"cpu\")\n",
        "HIDDEN_DIM = 50\n",
        "NUM_LAYERS = 1\n",
        "model = BiLSTM_CRF(len(word_to_ix), tag_to_ix, embedding_dim, embedding_matrix, HIDDEN_DIM, NUM_LAYERS).to(device)\n",
        "optimizer = optim.SGD(model.parameters(), lr=0.01, weight_decay=1e-4)\n",
        "\n",
        "model, loss_train, loss_val, acc_train, acc_val = train_evaluate(model, optimizer)"
      ],
      "execution_count": 0,
      "outputs": []
    },
    {
      "cell_type": "code",
      "metadata": {
        "id": "wpHK97-AG6QY",
        "colab_type": "code",
        "colab": {}
      },
      "source": [
        "def draw_loss(loss_train, loss_val, acc_train, acc_val, save_path=None):\n",
        "  \"\"\"Draw train loss and validation loss versus epochs.\"\"\"\n",
        "  pl.figure(figsize=(15, 6))\n",
        "  epochs = range(len(loss_train))\n",
        "  # draw loss\n",
        "  pl.subplot(1, 2, 1)\n",
        "  pl.plot(epochs, loss_train, label='Train')\n",
        "  pl.plot(epochs, loss_val, label='Validation')\n",
        "  pl.xlabel('Epoch')\n",
        "  pl.ylabel('Loss')\n",
        "  pl.title('Train & Validation Loss versus Epochs')\n",
        "  pl.legend()\n",
        "  pl.grid()\n",
        "  # draw accuracy\n",
        "  pl.subplot(1, 2, 2)\n",
        "  pl.plot(epochs, acc_train, label='Train')\n",
        "  pl.plot(epochs, acc_val, label='Validation')\n",
        "  pl.xlabel('Epoch')\n",
        "  pl.ylabel('Accuracy')\n",
        "  pl.title('Train & Validation Accuracy versus Epochs')\n",
        "  pl.grid()\n",
        "  pl.legend()\n",
        "  pl.tight_layout()\n",
        "  if not save_path:\n",
        "    pl.show()\n",
        "  else:\n",
        "    print('Saving to', save_path)\n",
        "    pl.savefig(save_path)\n",
        "\n",
        "# draw_loss(loss_train, loss_val, acc_train, acc_val)"
      ],
      "execution_count": 0,
      "outputs": []
    },
    {
      "cell_type": "markdown",
      "metadata": {
        "id": "8w7YjYTs9Eok",
        "colab_type": "text"
      },
      "source": [
        "## 5.Evaluation\n",
        "\n",
        "In this section, we conduct different experiments to justify our final decisions on choices of input embedding, NER layers and NER attentions.\n"
      ]
    },
    {
      "cell_type": "markdown",
      "metadata": {
        "id": "kPV95c2o9Z1h",
        "colab_type": "text"
      },
      "source": [
        "### 5.1 Evaluation Setup\n",
        "\n",
        "In this section, we modulise the train, evaluation and visualisation so that we can try different settings and conduct comparison experiments."
      ]
    },
    {
      "cell_type": "code",
      "metadata": {
        "id": "O0h_eVjhG6Tc",
        "colab_type": "code",
        "colab": {}
      },
      "source": [
        "def conduct_one_experiment(model, optimizer, expr_name):\n",
        "  \"\"\"Conduct 1 experiment - Train, evaluate and visualise results.\n",
        "  \n",
        "  Parameters\n",
        "  ----------\n",
        "  model: a sequence to sequence model \n",
        "  expr_name: the experiment name - e.g. Input Embedding=Word2Vec, NER=Bi-LSTM CRF, Layer=Single, Attention=None\n",
        "\n",
        "  Return\n",
        "  ------\n",
        "  result: dict\n",
        "    Evaluation result for final comparison\n",
        "\n",
        "  \"\"\"\n",
        "  model, loss_train, loss_val, acc_train, acc_val = train_evaluate(model, optimizer)\n",
        "  result = evaluate(model)\n",
        "  draw_loss(loss_train, loss_val, acc_train, acc_val, save_path=f'drive/My Drive/comp5046/{expr_name}.pdf')\n",
        "\n",
        "  return result"
      ],
      "execution_count": 0,
      "outputs": []
    },
    {
      "cell_type": "markdown",
      "metadata": {
        "id": "1MlDiKR7ANDq",
        "colab_type": "text"
      },
      "source": [
        "### 5.2 Input Embedding Experiments\n",
        "\n",
        "In this section, we try different combination of input embedding and fix a sequence to sequence model - BiLSTM CRF to get the best input embedding.\n",
        "\n",
        "1. Word2Vec\n",
        "2. Word2Vec + POS-Tag\n",
        "3. Word2Vec + TFIDF\n",
        "4. Word2Vec + POS-Tag + TFIDF\n"
      ]
    },
    {
      "cell_type": "code",
      "metadata": {
        "id": "gATw5gztG6Wh",
        "colab_type": "code",
        "outputId": "65d50223-3638-48f2-a930-802780743abb",
        "colab": {
          "base_uri": "https://localhost:8080/",
          "height": 1000,
          "referenced_widgets": [
            "657894a47a1e4641873323c2d97e1376",
            "745caed0eb7b4c5ab7af0fab1ceec132",
            "fbeed76599ad463b86b3af50f3c36ac8",
            "fa63b99db865476a8157b7a39d64dd3e",
            "30bda7f4d4c54ac4a0bbe0a2271efdc5",
            "ec3adfb2818d49839e96d270bb485a6a",
            "6b5c04e4ec264574be7d68fc5f282e0c",
            "73bb8c3db9f04cd58d0f0d2aea217136",
            "91ec92053e8b4c168ccabb9a315daeba",
            "d4a8ad3b630e488caacb088484b4eb9f",
            "94a5c83d5d584e1e8520f57775446d72",
            "913df2102dfe438681aa9363fad24669",
            "1bbccb32a86e42518b2b7e6a7dde9502",
            "157616684cd44942892cc5b1b3499090",
            "8ab8b8399e15448994f787405054121e",
            "b974d2dac9f04289b7dabb0c92c22e2c",
            "acd3fbb87cfb44a5b976e059b2da0a77",
            "1a2bea399fef49a6a10f78a071d8c243",
            "084f75d5f10b4284997bc02af287eedc",
            "59be291b12c8459a828d88eee68c78fd",
            "da031009402a4291a4ac0192826aab6c",
            "9a381d9608d44945b500601f744f9964",
            "74e3f74cc1b44a54bb93eac069c4713f",
            "9a35e3735b664cec96e47813c87755c8",
            "4eff9a7861bc4fdeb395066f508b3e70",
            "75c78eba909c425a8bccad0e93374d2e",
            "27422bce8a4d42fc8dc54a62015062d4",
            "5743de4bf05440829b6f1a4322f694b2",
            "e499ff2690854295baa2fef850044932",
            "d5846b86864f4b41ac8638825f5d34a8",
            "5afe4fd5994e4018abe88dc00589ad5b",
            "bc82a834faf74589a2bbca4cca1957cf",
            "3877db554b2d4c508e47165fd5eaa8c6",
            "e22f10df75924c83bc65c995225a7c4b",
            "b1affa05050b4d2fac791afe738ac8a6",
            "aa13519b5e3a4a7d97548f463df2bd42",
            "3042b753fd6544e493cb6a25acd68625",
            "be77980c3dfc469e839bdf83983e0214",
            "968ff011b01d42c480b3393fe11e49c7",
            "aa8f22c70d394f3f93bcaba7f3118e59"
          ]
        }
      },
      "source": [
        "embeddings = {\n",
        "    'Word2Vec': Embedding(use_word2vec=True, use_pos=False, use_tfidf=False),\n",
        "    'Word2Vec + POS-Tag': Embedding(use_word2vec=True, use_pos=True, use_tfidf=False),\n",
        "    'Word2Vec + TFIDF': Embedding(use_word2vec=True, use_pos=False, use_tfidf=True),\n",
        "    'Word2Vec + POS-Tag + TFIDF': Embedding(use_word2vec=True, use_pos=True, use_tfidf=True)\n",
        "}\n",
        "\n",
        "# mount to my drive\n",
        "from google.colab import drive\n",
        "drive.mount('/content/drive')\n",
        "\n",
        "\n",
        "# loop through all embedding combinations and do experiment\n",
        "input_embedding_evaluation_results = {}\n",
        "for name, embedding in tqdm(embeddings.items()):\n",
        "  # log\n",
        "  expr_name = f'Input Embedding={name} NER=Bi-LSTM CRF Layer=Single Attention=None'\n",
        "  print('\\n\\n' + '=' * 100)\n",
        "  print('Start Experiment:', expr_name)\n",
        "\n",
        "  # build Bi-LSTM CRF model\n",
        "  device = torch.device(\"cuda\" if torch.cuda.is_available() else \"cpu\")\n",
        "  HIDDEN_DIM = 50\n",
        "  NUM_LAYER = 1\n",
        "  model = BiLSTM_CRF(len(word_to_ix), tag_to_ix, embedding_dim, embedding_matrix, HIDDEN_DIM, NUM_LAYER).to(device)\n",
        "  optimizer = optim.SGD(model.parameters(), lr=0.01, weight_decay=1e-4)\n",
        "\n",
        "  # start experiment\n",
        "  input_embedding_evaluation_results[name] = conduct_one_experiment(model, optimizer, expr_name)"
      ],
      "execution_count": 22,
      "outputs": [
        {
          "output_type": "stream",
          "text": [
            "Drive already mounted at /content/drive; to attempt to forcibly remount, call drive.mount(\"/content/drive\", force_remount=True).\n"
          ],
          "name": "stdout"
        },
        {
          "output_type": "display_data",
          "data": {
            "application/vnd.jupyter.widget-view+json": {
              "model_id": "657894a47a1e4641873323c2d97e1376",
              "version_minor": 0,
              "version_major": 2
            },
            "text/plain": [
              "HBox(children=(FloatProgress(value=0.0, max=4.0), HTML(value='')))"
            ]
          },
          "metadata": {
            "tags": []
          }
        },
        {
          "output_type": "stream",
          "text": [
            "\n",
            "\n",
            "====================================================================================================\n",
            "Start Experiment: Input Embedding=Word2Vec NER=Bi-LSTM CRF Layer=Single Attention=None\n"
          ],
          "name": "stdout"
        },
        {
          "output_type": "display_data",
          "data": {
            "application/vnd.jupyter.widget-view+json": {
              "model_id": "91ec92053e8b4c168ccabb9a315daeba",
              "version_minor": 0,
              "version_major": 2
            },
            "text/plain": [
              "HBox(children=(FloatProgress(value=0.0, max=20.0), HTML(value='')))"
            ]
          },
          "metadata": {
            "tags": []
          }
        },
        {
          "output_type": "stream",
          "text": [
            "Epoch:1, Training loss: 11741.78, train acc: 0.9088, val loss: 2206.82, val acc: 0.8966, time: 184.42s\n",
            "Epoch:2, Training loss: 7465.51, train acc: 0.9239, val loss: 1951.40, val acc: 0.9074, time: 184.63s\n",
            "Epoch:3, Training loss: 5942.07, train acc: 0.9374, val loss: 1774.48, val acc: 0.9191, time: 184.43s\n",
            "Epoch:4, Training loss: 4861.94, train acc: 0.9443, val loss: 1742.47, val acc: 0.9202, time: 184.63s\n",
            "Epoch:5, Training loss: 4111.24, train acc: 0.9491, val loss: 1758.11, val acc: 0.9226, time: 184.31s\n",
            "Epoch:6, Training loss: 3468.52, train acc: 0.9545, val loss: 1705.31, val acc: 0.9235, time: 184.68s\n",
            "Epoch:7, Training loss: 3011.64, train acc: 0.9574, val loss: 1749.91, val acc: 0.9239, time: 184.00s\n",
            "Epoch:8, Training loss: 2638.91, train acc: 0.9626, val loss: 1696.77, val acc: 0.9275, time: 183.24s\n",
            "Epoch:9, Training loss: 2310.59, train acc: 0.9640, val loss: 1771.80, val acc: 0.9287, time: 183.41s\n",
            "Epoch:10, Training loss: 2025.04, train acc: 0.9665, val loss: 1811.41, val acc: 0.9273, time: 183.03s\n",
            "Epoch:11, Training loss: 1796.94, train acc: 0.9708, val loss: 1735.98, val acc: 0.9328, time: 183.22s\n",
            "Epoch:12, Training loss: 1591.75, train acc: 0.9743, val loss: 1718.34, val acc: 0.9348, time: 182.98s\n",
            "Epoch:13, Training loss: 1371.46, train acc: 0.9726, val loss: 1824.46, val acc: 0.9353, time: 183.24s\n",
            "Epoch:14, Training loss: 1236.94, train acc: 0.9778, val loss: 1802.63, val acc: 0.9369, time: 183.98s\n",
            "Epoch:15, Training loss: 1114.25, train acc: 0.9781, val loss: 1816.49, val acc: 0.9377, time: 183.24s\n",
            "Epoch:16, Training loss: 953.58, train acc: 0.9817, val loss: 1787.04, val acc: 0.9398, time: 183.60s\n",
            "Epoch:17, Training loss: 881.93, train acc: 0.9845, val loss: 1808.57, val acc: 0.9415, time: 184.06s\n",
            "Epoch:18, Training loss: 771.26, train acc: 0.9881, val loss: 1689.25, val acc: 0.9427, time: 183.65s\n",
            "Epoch:19, Training loss: 687.68, train acc: 0.9864, val loss: 1730.18, val acc: 0.9431, time: 188.24s\n",
            "Epoch:20, Training loss: 656.75, train acc: 0.9866, val loss: 1806.93, val acc: 0.9423, time: 185.51s\n",
            "\n",
            "              precision    recall  f1-score   support\n",
            "\n",
            "       I-LOC     0.7405    0.9332    0.8258       419\n",
            "      I-MISC     0.8478    0.6257    0.7200       187\n",
            "       I-ORG     0.8052    0.4351    0.5649       285\n",
            "       I-PER     0.9596    0.8697    0.9125       875\n",
            "           O     0.9643    0.9898    0.9769      5790\n",
            "\n",
            "    accuracy                         0.9428      7556\n",
            "   macro avg     0.8635    0.7707    0.8000      7556\n",
            "weighted avg     0.9425    0.9428    0.9392      7556\n",
            "\n",
            "Saving to drive/My Drive/comp5046/Input Embedding=Word2Vec NER=Bi-LSTM CRF Layer=Single Attention=None.pdf\n",
            "\n",
            "\n",
            "====================================================================================================\n",
            "Start Experiment: Input Embedding=Word2Vec + POS-Tag NER=Bi-LSTM CRF Layer=Single Attention=None\n"
          ],
          "name": "stdout"
        },
        {
          "output_type": "display_data",
          "data": {
            "application/vnd.jupyter.widget-view+json": {
              "model_id": "acd3fbb87cfb44a5b976e059b2da0a77",
              "version_minor": 0,
              "version_major": 2
            },
            "text/plain": [
              "HBox(children=(FloatProgress(value=0.0, max=20.0), HTML(value='')))"
            ]
          },
          "metadata": {
            "tags": []
          }
        },
        {
          "output_type": "stream",
          "text": [
            "Epoch:1, Training loss: 12179.13, train acc: 0.9094, val loss: 2144.05, val acc: 0.8986, time: 185.59s\n",
            "Epoch:2, Training loss: 7352.69, train acc: 0.9254, val loss: 1781.83, val acc: 0.9128, time: 185.29s\n",
            "Epoch:3, Training loss: 5921.54, train acc: 0.9355, val loss: 1650.20, val acc: 0.9193, time: 185.07s\n",
            "Epoch:4, Training loss: 4854.25, train acc: 0.9447, val loss: 1587.66, val acc: 0.9220, time: 185.49s\n",
            "Epoch:5, Training loss: 4038.49, train acc: 0.9514, val loss: 1626.79, val acc: 0.9256, time: 184.39s\n",
            "Epoch:6, Training loss: 3343.50, train acc: 0.9553, val loss: 1688.70, val acc: 0.9247, time: 184.76s\n",
            "Epoch:7, Training loss: 2889.51, train acc: 0.9587, val loss: 1700.17, val acc: 0.9267, time: 184.88s\n",
            "Epoch:8, Training loss: 2493.31, train acc: 0.9605, val loss: 1729.01, val acc: 0.9251, time: 184.79s\n",
            "Epoch:9, Training loss: 2168.25, train acc: 0.9635, val loss: 1784.73, val acc: 0.9283, time: 184.98s\n",
            "Epoch:10, Training loss: 1916.69, train acc: 0.9684, val loss: 1719.27, val acc: 0.9313, time: 184.52s\n",
            "Epoch:11, Training loss: 1652.66, train acc: 0.9725, val loss: 1743.35, val acc: 0.9330, time: 184.63s\n",
            "Epoch:12, Training loss: 1457.86, train acc: 0.9749, val loss: 1750.57, val acc: 0.9355, time: 184.28s\n",
            "Epoch:13, Training loss: 1278.09, train acc: 0.9762, val loss: 1791.74, val acc: 0.9381, time: 184.43s\n",
            "Epoch:14, Training loss: 1142.54, train acc: 0.9796, val loss: 1800.96, val acc: 0.9386, time: 184.84s\n",
            "Epoch:15, Training loss: 964.33, train acc: 0.9813, val loss: 1772.29, val acc: 0.9406, time: 185.12s\n",
            "Epoch:16, Training loss: 923.86, train acc: 0.9831, val loss: 1764.22, val acc: 0.9402, time: 185.88s\n",
            "Epoch:17, Training loss: 785.49, train acc: 0.9848, val loss: 1766.01, val acc: 0.9438, time: 185.66s\n",
            "Epoch:18, Training loss: 707.59, train acc: 0.9855, val loss: 1811.92, val acc: 0.9443, time: 190.16s\n",
            "Epoch:19, Training loss: 618.19, train acc: 0.9886, val loss: 1776.53, val acc: 0.9479, time: 187.67s\n",
            "Epoch:20, Training loss: 576.18, train acc: 0.9908, val loss: 1667.85, val acc: 0.9498, time: 188.97s\n",
            "\n",
            "              precision    recall  f1-score   support\n",
            "\n",
            "       I-LOC     0.7840    0.9356    0.8531       419\n",
            "      I-MISC     0.8312    0.6845    0.7507       187\n",
            "       I-ORG     0.8544    0.4737    0.6095       285\n",
            "       I-PER     0.9745    0.8731    0.9210       875\n",
            "           O     0.9643    0.9926    0.9782      5790\n",
            "\n",
            "    accuracy                         0.9484      7556\n",
            "   macro avg     0.8817    0.7919    0.8225      7556\n",
            "weighted avg     0.9480    0.9484    0.9451      7556\n",
            "\n",
            "Saving to drive/My Drive/comp5046/Input Embedding=Word2Vec + POS-Tag NER=Bi-LSTM CRF Layer=Single Attention=None.pdf\n",
            "\n",
            "\n",
            "====================================================================================================\n",
            "Start Experiment: Input Embedding=Word2Vec + TFIDF NER=Bi-LSTM CRF Layer=Single Attention=None\n"
          ],
          "name": "stdout"
        },
        {
          "output_type": "display_data",
          "data": {
            "application/vnd.jupyter.widget-view+json": {
              "model_id": "4eff9a7861bc4fdeb395066f508b3e70",
              "version_minor": 0,
              "version_major": 2
            },
            "text/plain": [
              "HBox(children=(FloatProgress(value=0.0, max=20.0), HTML(value='')))"
            ]
          },
          "metadata": {
            "tags": []
          }
        },
        {
          "output_type": "stream",
          "text": [
            "Epoch:1, Training loss: 11571.87, train acc: 0.9126, val loss: 2100.82, val acc: 0.9029, time: 190.54s\n",
            "Epoch:2, Training loss: 7481.76, train acc: 0.9255, val loss: 1829.71, val acc: 0.9103, time: 189.35s\n",
            "Epoch:3, Training loss: 6043.19, train acc: 0.9377, val loss: 1739.66, val acc: 0.9179, time: 186.14s\n",
            "Epoch:4, Training loss: 4910.65, train acc: 0.9453, val loss: 1641.60, val acc: 0.9209, time: 185.92s\n",
            "Epoch:5, Training loss: 4089.67, train acc: 0.9511, val loss: 1653.76, val acc: 0.9243, time: 185.86s\n",
            "Epoch:6, Training loss: 3423.06, train acc: 0.9551, val loss: 1713.04, val acc: 0.9248, time: 186.39s\n",
            "Epoch:7, Training loss: 2953.84, train acc: 0.9608, val loss: 1644.75, val acc: 0.9263, time: 186.28s\n",
            "Epoch:8, Training loss: 2601.64, train acc: 0.9641, val loss: 1634.13, val acc: 0.9307, time: 184.65s\n",
            "Epoch:9, Training loss: 2253.40, train acc: 0.9685, val loss: 1635.58, val acc: 0.9310, time: 185.29s\n",
            "Epoch:10, Training loss: 1972.80, train acc: 0.9702, val loss: 1673.81, val acc: 0.9328, time: 185.18s\n",
            "Epoch:11, Training loss: 1768.26, train acc: 0.9741, val loss: 1572.78, val acc: 0.9366, time: 184.85s\n",
            "Epoch:12, Training loss: 1497.10, train acc: 0.9780, val loss: 1619.62, val acc: 0.9389, time: 184.18s\n",
            "Epoch:13, Training loss: 1333.38, train acc: 0.9814, val loss: 1568.19, val acc: 0.9403, time: 184.62s\n",
            "Epoch:14, Training loss: 1205.78, train acc: 0.9821, val loss: 1647.47, val acc: 0.9420, time: 185.62s\n",
            "Epoch:15, Training loss: 1025.09, train acc: 0.9851, val loss: 1587.81, val acc: 0.9418, time: 184.48s\n",
            "Epoch:16, Training loss: 957.57, train acc: 0.9869, val loss: 1604.82, val acc: 0.9440, time: 184.88s\n",
            "Epoch:17, Training loss: 854.61, train acc: 0.9875, val loss: 1620.02, val acc: 0.9447, time: 186.91s\n",
            "Epoch:18, Training loss: 702.84, train acc: 0.9881, val loss: 1688.61, val acc: 0.9408, time: 187.00s\n",
            "Epoch:19, Training loss: 631.96, train acc: 0.9879, val loss: 1765.14, val acc: 0.9449, time: 186.84s\n",
            "Epoch:20, Training loss: 624.24, train acc: 0.9914, val loss: 1629.43, val acc: 0.9477, time: 184.24s\n",
            "\n",
            "              precision    recall  f1-score   support\n",
            "\n",
            "       I-LOC     0.8004    0.9189    0.8556       419\n",
            "      I-MISC     0.8243    0.6524    0.7284       187\n",
            "       I-ORG     0.7903    0.5158    0.6242       285\n",
            "       I-PER     0.9622    0.8731    0.9155       875\n",
            "           O     0.9637    0.9898    0.9766      5790\n",
            "\n",
            "    accuracy                         0.9461      7556\n",
            "   macro avg     0.8682    0.7900    0.8200      7556\n",
            "weighted avg     0.9445    0.9461    0.9434      7556\n",
            "\n",
            "Saving to drive/My Drive/comp5046/Input Embedding=Word2Vec + TFIDF NER=Bi-LSTM CRF Layer=Single Attention=None.pdf\n",
            "\n",
            "\n",
            "====================================================================================================\n",
            "Start Experiment: Input Embedding=Word2Vec + POS-Tag + TFIDF NER=Bi-LSTM CRF Layer=Single Attention=None\n"
          ],
          "name": "stdout"
        },
        {
          "output_type": "display_data",
          "data": {
            "application/vnd.jupyter.widget-view+json": {
              "model_id": "3877db554b2d4c508e47165fd5eaa8c6",
              "version_minor": 0,
              "version_major": 2
            },
            "text/plain": [
              "HBox(children=(FloatProgress(value=0.0, max=20.0), HTML(value='')))"
            ]
          },
          "metadata": {
            "tags": []
          }
        },
        {
          "output_type": "stream",
          "text": [
            "Epoch:1, Training loss: 11859.08, train acc: 0.9119, val loss: 2070.54, val acc: 0.9019, time: 184.20s\n",
            "Epoch:2, Training loss: 7400.08, train acc: 0.9278, val loss: 1776.24, val acc: 0.9165, time: 184.11s\n",
            "Epoch:3, Training loss: 5779.35, train acc: 0.9388, val loss: 1686.62, val acc: 0.9214, time: 183.18s\n",
            "Epoch:4, Training loss: 4755.42, train acc: 0.9462, val loss: 1627.43, val acc: 0.9239, time: 183.34s\n",
            "Epoch:5, Training loss: 3914.01, train acc: 0.9535, val loss: 1633.27, val acc: 0.9268, time: 182.61s\n",
            "Epoch:6, Training loss: 3358.54, train acc: 0.9577, val loss: 1630.34, val acc: 0.9273, time: 182.90s\n",
            "Epoch:7, Training loss: 2853.59, train acc: 0.9616, val loss: 1666.07, val acc: 0.9299, time: 182.16s\n",
            "Epoch:8, Training loss: 2482.00, train acc: 0.9652, val loss: 1685.37, val acc: 0.9317, time: 182.51s\n",
            "Epoch:9, Training loss: 2148.91, train acc: 0.9687, val loss: 1682.53, val acc: 0.9345, time: 182.62s\n",
            "Epoch:10, Training loss: 1888.83, train acc: 0.9723, val loss: 1669.28, val acc: 0.9350, time: 182.00s\n",
            "Epoch:11, Training loss: 1653.26, train acc: 0.9750, val loss: 1668.80, val acc: 0.9357, time: 181.81s\n",
            "Epoch:12, Training loss: 1415.07, train acc: 0.9773, val loss: 1709.30, val acc: 0.9371, time: 181.66s\n",
            "Epoch:13, Training loss: 1248.68, train acc: 0.9789, val loss: 1712.32, val acc: 0.9387, time: 181.38s\n",
            "Epoch:14, Training loss: 1132.72, train acc: 0.9821, val loss: 1715.47, val acc: 0.9419, time: 182.02s\n",
            "Epoch:15, Training loss: 985.20, train acc: 0.9849, val loss: 1678.32, val acc: 0.9435, time: 182.32s\n",
            "Epoch:16, Training loss: 873.47, train acc: 0.9868, val loss: 1672.63, val acc: 0.9483, time: 183.26s\n",
            "Epoch:17, Training loss: 761.35, train acc: 0.9858, val loss: 1742.24, val acc: 0.9471, time: 186.37s\n",
            "Epoch:18, Training loss: 689.01, train acc: 0.9885, val loss: 1713.45, val acc: 0.9509, time: 182.90s\n",
            "Epoch:19, Training loss: 619.45, train acc: 0.9896, val loss: 1706.72, val acc: 0.9508, time: 181.91s\n",
            "Epoch:20, Training loss: 546.46, train acc: 0.9910, val loss: 1714.96, val acc: 0.9508, time: 181.19s\n",
            "\n",
            "              precision    recall  f1-score   support\n",
            "\n",
            "       I-LOC     0.7959    0.9212    0.8540       419\n",
            "      I-MISC     0.8839    0.7326    0.8012       187\n",
            "       I-ORG     0.8639    0.5123    0.6432       285\n",
            "       I-PER     0.9757    0.8731    0.9216       875\n",
            "           O     0.9646    0.9936    0.9789      5790\n",
            "\n",
            "    accuracy                         0.9510      7556\n",
            "   macro avg     0.8968    0.8066    0.8398      7556\n",
            "weighted avg     0.9508    0.9510    0.9483      7556\n",
            "\n",
            "Saving to drive/My Drive/comp5046/Input Embedding=Word2Vec + POS-Tag + TFIDF NER=Bi-LSTM CRF Layer=Single Attention=None.pdf\n",
            "\n"
          ],
          "name": "stdout"
        },
        {
          "output_type": "display_data",
          "data": {
            "image/png": "[encoded data removed]",
            "text/plain": [
              "<Figure size 1080x432 with 2 Axes>"
            ]
          },
          "metadata": {
            "tags": [],
            "needs_background": "light"
          }
        },
        {
          "output_type": "display_data",
          "data": {
            "image/png": "[encoded data removed]",
            "text/plain": [
              "<Figure size 1080x432 with 2 Axes>"
            ]
          },
          "metadata": {
            "tags": [],
            "needs_background": "light"
          }
        },
        {
          "output_type": "display_data",
          "data": {
            "image/png": "[encoded data removed]",
            "text/plain": [
              "<Figure size 1080x432 with 2 Axes>"
            ]
          },
          "metadata": {
            "tags": [],
            "needs_background": "light"
          }
        },
        {
          "output_type": "display_data",
          "data": {
            "image/png": "[encoded data removed]",
            "text/plain": [
              "<Figure size 1080x432 with 2 Axes>"
            ]
          },
          "metadata": {
            "tags": [],
            "needs_background": "light"
          }
        }
      ]
    },
    {
      "cell_type": "code",
      "metadata": {
        "id": "DSOUWWJaS6S5",
        "colab_type": "code",
        "colab": {
          "base_uri": "https://localhost:8080/",
          "height": 51
        },
        "outputId": "ff23c118-47f9-4a48-90c0-d3962cbff495"
      },
      "source": [
        "import pickle\n",
        "\n",
        "# mount to my drive\n",
        "from google.colab import drive\n",
        "drive.mount('/content/drive')\n",
        "\n",
        "# save results\n",
        "input_embedding_file_name = 'drive/My Drive/input_embedding_exprs.pkl'\n",
        "print('Saving to', input_embedding_file_name)\n",
        "with open(input_embedding_file_name, 'wb') as f:\n",
        "  pickle.dump(input_embedding_evaluation_results, f)"
      ],
      "execution_count": 26,
      "outputs": [
        {
          "output_type": "stream",
          "text": [
            "Drive already mounted at /content/drive; to attempt to forcibly remount, call drive.mount(\"/content/drive\", force_remount=True).\n",
            "Saving to drive/My Drive/input_embedding_exprs.pkl\n"
          ],
          "name": "stdout"
        }
      ]
    },
    {
      "cell_type": "markdown",
      "metadata": {
        "id": "nXjZFaQIwHtB",
        "colab_type": "text"
      },
      "source": [
        "#### 5.2.1 Analysis\n"
      ]
    },
    {
      "cell_type": "code",
      "metadata": {
        "id": "ZQnrIVfTqsh7",
        "colab_type": "code",
        "colab": {}
      },
      "source": [
        "from collections import defaultdict\n",
        "\n",
        "ner_tags = ['I-LOC', 'I-MISC', 'I-ORG', 'I-PER', 'O']\n",
        "df_result = defaultdict(list)\n",
        "for embed_type, result in input_embedding_evaluation_results.items():\n",
        "  for tag_name in ner_tags:\n",
        "    df_result[tag_name].append(result[tag_name]['f1-score'])\n",
        "  df_result['accuracy'].append(result['accuracy'])\n",
        "  df_result['macro_avg_f1'].append(result['macro avg']['f1-score'])\n",
        "  df_result['weighted_avg_f1'].append(result['weighted avg']['f1-score'])\n",
        "\n",
        "df = pd.DataFrame.from_dict(df_result)\n",
        "df['Embed_type'] = list(input_embedding_evaluation_results.keys())\n",
        "df.set_index('Embed_type', inplace=True)\n"
      ],
      "execution_count": 0,
      "outputs": []
    },
    {
      "cell_type": "markdown",
      "metadata": {
        "id": "V1rBvnNqyhHw",
        "colab_type": "text"
      },
      "source": [
        "##### 5.2.1.1 F1 Score Break Down by NER Tags"
      ]
    },
    {
      "cell_type": "code",
      "metadata": {
        "id": "qY3L21SJwFcu",
        "colab_type": "code",
        "colab": {
          "base_uri": "https://localhost:8080/",
          "height": 441
        },
        "outputId": "bc836455-ce41-4be7-ef89-3330f35a00c5"
      },
      "source": [
        "df[ner_tags].T.plot(figsize=(8, 6))\n",
        "pl.grid()\n",
        "pl.xlabel('NER Tags')\n",
        "pl.ylabel('F1 Score')\n",
        "pl.title('F1 Score break down by NER Tags')\n",
        "pl.tight_layout()\n",
        "pl.savefig('drive/My Drive/comp5046/input_embedding_f1_breakdown_by_NER.pdf')\n",
        "# pl.show()"
      ],
      "execution_count": 70,
      "outputs": [
        {
          "output_type": "display_data",
          "data": {
            "image/png": "[encoded data removed]",
            "text/plain": [
              "<Figure size 576x432 with 1 Axes>"
            ]
          },
          "metadata": {
            "tags": [],
            "needs_background": "light"
          }
        }
      ]
    },
    {
      "cell_type": "markdown",
      "metadata": {
        "id": "71WfRANnymJp",
        "colab_type": "text"
      },
      "source": [
        "##### 5.2.1.2 Accuracy and Weighted F1 versus Embedding Type"
      ]
    },
    {
      "cell_type": "code",
      "metadata": {
        "id": "eWX5JOKzwO9_",
        "colab_type": "code",
        "colab": {
          "base_uri": "https://localhost:8080/",
          "height": 441
        },
        "outputId": "eb80a9eb-4c2d-4389-ef8c-efa899b35dfd"
      },
      "source": [
        "df[['accuracy', 'weighted_avg_f1']].plot(style='o-', figsize=(8, 6))\n",
        "pl.grid()\n",
        "pl.ylabel('Score')\n",
        "pl.title('Accuracy and Weighted Avg F1 on Validation Set')\n",
        "pl.tight_layout()\n",
        "pl.savefig('drive/My Drive/comp5046/input_embedding_accuracy_f1.pdf')"
      ],
      "execution_count": 75,
      "outputs": [
        {
          "output_type": "display_data",
          "data": {
            "image/png": "[encoded data removed]",
            "text/plain": [
              "<Figure size 576x432 with 1 Axes>"
            ]
          },
          "metadata": {
            "tags": [],
            "needs_background": "light"
          }
        }
      ]
    },
    {
      "cell_type": "markdown",
      "metadata": {
        "id": "xZ06MVtIVXGK",
        "colab_type": "text"
      },
      "source": [
        "### 5.3 Number of Layers in Bi-LSTM CRF Experiments\n",
        "\n",
        "In this section, we experiment the Bi_LSTM CRF model with different layers:\n",
        "\n",
        "1. Single Layer\n",
        "2. Double Layer\n",
        "3. Tripple Layer\n",
        "\n",
        "and compare the results of validation."
      ]
    },
    {
      "cell_type": "code",
      "metadata": {
        "id": "S8KTi4wlVqH5",
        "colab_type": "code",
        "colab": {}
      },
      "source": [
        "# mount to my drive\n",
        "from google.colab import drive\n",
        "drive.mount('/content/drive')\n",
        "\n",
        "# create embedding\n",
        "embedding = Embedding(use_word2vec=True, use_pos=False, use_tfidf=False)\n",
        "\n",
        "layers = {\n",
        "    'Single': 1,\n",
        "    'Double': 2,\n",
        "    'Tripple': 3\n",
        "}\n",
        "\n",
        "HIDDEN_DIM = 50\n",
        "num_layers_evaluation_results = {}\n",
        "\n",
        "# loop through all possible number of layers and do experiment\n",
        "for name, num_layer in tqdm(layers.items()):\n",
        "  # log\n",
        "  expr_name = f'Input Embedding=Word2Vec NER=Bi-LSTM CRF Layer={name} Attention=None'\n",
        "  print('\\n\\n' + '=' * 100)\n",
        "  print('Start Experiment:', expr_name)\n",
        "\n",
        "  # build Bi-LSTM CRF model\n",
        "  device = torch.device(\"cuda\" if torch.cuda.is_available() else \"cpu\")\n",
        "  HIDDEN_DIM = 50\n",
        "  model = BiLSTM_CRF(len(word_to_ix), tag_to_ix, embedding_dim, embedding_matrix, HIDDEN_DIM, num_layer).to(device)\n",
        "  optimizer = optim.SGD(model.parameters(), lr=0.01, weight_decay=1e-4)\n",
        "\n",
        "  # start experiment\n",
        "  num_layers_evaluation_results[name] = conduct_one_experiment(model, optimizer, expr_name)\n",
        "\n",
        "\n",
        "import pickle\n",
        "\n",
        "# mount to my drive\n",
        "from google.colab import drive\n",
        "drive.mount('/content/drive')\n",
        "\n",
        "# save results\n",
        "num_layers_file_name = 'drive/My Drive/num_layers_exprs.pkl'\n",
        "print('Saving to', num_layers_file_name)\n",
        "with open(num_layers_file_name, 'w') as f:\n",
        "  pickle.dump(num_layers_evaluation_results, f)"
      ],
      "execution_count": 0,
      "outputs": []
    }
  ]
}